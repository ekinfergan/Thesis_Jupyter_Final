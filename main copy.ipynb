{
 "cells": [
  {
   "cell_type": "code",
   "execution_count": 2,
   "id": "35b6a575",
   "metadata": {},
   "outputs": [],
   "source": [
    "import os\n",
    "import pandas as pd\n",
    "import numpy as np\n",
    "import matplotlib.pyplot as plt"
   ]
  },
  {
   "cell_type": "code",
   "execution_count": 3,
   "id": "ea063ed7",
   "metadata": {},
   "outputs": [],
   "source": [
    "# DATASET\n",
    "DATASET_COLUMNS = ['Id', 'Review', 'Sentiment']\n",
    "# Define a dictionary to map sentiment values to category names\n",
    "sentiment_labels = {1: 'Negative', 2: 'Neutral', 3: 'Positive'}\n",
    "\n",
    "\n",
    "# PROCESSING\n",
    "MIN_FREQ = 2\n",
    "EMBEDDING_DIM = 100"
   ]
  },
  {
   "attachments": {},
   "cell_type": "markdown",
   "id": "b7a0eb01",
   "metadata": {},
   "source": [
    "Goal of project: \n",
    "\n",
    "This notebook includes: (steps)"
   ]
  },
  {
   "attachments": {},
   "cell_type": "markdown",
   "id": "b5416c0b",
   "metadata": {},
   "source": [
    "### Load Dataset\n",
    "\n",
    "First, we load and explore the dataset and apply some initial processing such as setting the '*Id*' column as index and removing any empty rows."
   ]
  },
  {
   "cell_type": "code",
   "execution_count": 4,
   "id": "b1152d78",
   "metadata": {},
   "outputs": [],
   "source": [
    "def drop_missing(data):\n",
    "    # Remove any rows with missing values and reset the index\n",
    "    data.replace('', np.nan, inplace=True)\n",
    "    data = data.dropna()\n",
    "    data.reset_index(drop=True, inplace=True)\n",
    "    return data"
   ]
  },
  {
   "cell_type": "code",
   "execution_count": 87,
   "id": "a97b6f9e",
   "metadata": {},
   "outputs": [
    {
     "name": "stdout",
     "output_type": "stream",
     "text": [
      "<class 'pandas.core.frame.DataFrame'>\n",
      "RangeIndex: 10000 entries, 0 to 9999\n",
      "Data columns (total 2 columns):\n",
      " #   Column     Non-Null Count  Dtype \n",
      "---  ------     --------------  ----- \n",
      " 0   Review     10000 non-null  object\n",
      " 1   Sentiment  10000 non-null  int64 \n",
      "dtypes: int64(1), object(1)\n",
      "memory usage: 156.4+ KB\n",
      "None\n",
      "\n",
      "Dataset shape: (10000, 2)\n",
      "\n"
     ]
    },
    {
     "data": {
      "text/html": [
       "<div>\n",
       "<style scoped>\n",
       "    .dataframe tbody tr th:only-of-type {\n",
       "        vertical-align: middle;\n",
       "    }\n",
       "\n",
       "    .dataframe tbody tr th {\n",
       "        vertical-align: top;\n",
       "    }\n",
       "\n",
       "    .dataframe thead th {\n",
       "        text-align: right;\n",
       "    }\n",
       "</style>\n",
       "<table border=\"1\" class=\"dataframe\">\n",
       "  <thead>\n",
       "    <tr style=\"text-align: right;\">\n",
       "      <th></th>\n",
       "      <th>Review</th>\n",
       "      <th>Sentiment</th>\n",
       "    </tr>\n",
       "  </thead>\n",
       "  <tbody>\n",
       "    <tr>\n",
       "      <th>0</th>\n",
       "      <td>good and interesting</td>\n",
       "      <td>3</td>\n",
       "    </tr>\n",
       "    <tr>\n",
       "      <th>1</th>\n",
       "      <td>This class is very helpful to me. Currently, I...</td>\n",
       "      <td>3</td>\n",
       "    </tr>\n",
       "    <tr>\n",
       "      <th>2</th>\n",
       "      <td>like!Prof and TAs are helpful and the discussi...</td>\n",
       "      <td>3</td>\n",
       "    </tr>\n",
       "    <tr>\n",
       "      <th>3</th>\n",
       "      <td>Easy to follow and includes a lot basic and im...</td>\n",
       "      <td>3</td>\n",
       "    </tr>\n",
       "    <tr>\n",
       "      <th>4</th>\n",
       "      <td>Really nice teacher!I could got the point eazl...</td>\n",
       "      <td>3</td>\n",
       "    </tr>\n",
       "    <tr>\n",
       "      <th>5</th>\n",
       "      <td>Great course - I recommend it for all, especia...</td>\n",
       "      <td>3</td>\n",
       "    </tr>\n",
       "    <tr>\n",
       "      <th>6</th>\n",
       "      <td>One of the most useful course on IT Management!</td>\n",
       "      <td>3</td>\n",
       "    </tr>\n",
       "    <tr>\n",
       "      <th>7</th>\n",
       "      <td>I was disappointed because the name is mislead...</td>\n",
       "      <td>2</td>\n",
       "    </tr>\n",
       "    <tr>\n",
       "      <th>8</th>\n",
       "      <td>Super content. I'll definitely re-do the course</td>\n",
       "      <td>3</td>\n",
       "    </tr>\n",
       "    <tr>\n",
       "      <th>9</th>\n",
       "      <td>One of the excellent courses at Coursera for i...</td>\n",
       "      <td>3</td>\n",
       "    </tr>\n",
       "  </tbody>\n",
       "</table>\n",
       "</div>"
      ],
      "text/plain": [
       "                                              Review  Sentiment\n",
       "0                               good and interesting          3\n",
       "1  This class is very helpful to me. Currently, I...          3\n",
       "2  like!Prof and TAs are helpful and the discussi...          3\n",
       "3  Easy to follow and includes a lot basic and im...          3\n",
       "4  Really nice teacher!I could got the point eazl...          3\n",
       "5  Great course - I recommend it for all, especia...          3\n",
       "6    One of the most useful course on IT Management!          3\n",
       "7  I was disappointed because the name is mislead...          2\n",
       "8    Super content. I'll definitely re-do the course          3\n",
       "9  One of the excellent courses at Coursera for i...          3"
      ]
     },
     "execution_count": 87,
     "metadata": {},
     "output_type": "execute_result"
    }
   ],
   "source": [
    "# Load dataset\n",
    "input_folder_path = \"./pls/Thesis_Jupyter_Final/input/\"\n",
    "data_filename = \"reviews_data.csv\"\n",
    "data_file_path = os.path.join(input_folder_path, data_filename)\n",
    "\n",
    "df_raw = pd.read_csv(data_file_path)\n",
    "df_raw = df_raw[:10000]\n",
    "\n",
    "# Set ID as index\n",
    "df_raw.set_index('Id', inplace=True, drop=True)\n",
    "\n",
    "# Remove NaN rows, before cleaning text\n",
    "df_raw = drop_missing(df_raw)\n",
    "\n",
    "# Create a copy of the original DataFrame to preserve the original data\n",
    "df = df_raw.copy()\n",
    "\n",
    "print(df_raw.info())\n",
    "print(f'\\nDataset shape: {df_raw.shape}\\n')\n",
    "df_raw.head(10)"
   ]
  },
  {
   "attachments": {},
   "cell_type": "markdown",
   "id": "622a91fc",
   "metadata": {},
   "source": [
    "### Analysing Data (TODO)\n",
    "We then analyse the dataset by observing the distribution of review per sentiment."
   ]
  },
  {
   "cell_type": "code",
   "execution_count": 88,
   "id": "bbb16161",
   "metadata": {},
   "outputs": [
    {
     "name": "stdout",
     "output_type": "stream",
     "text": [
      "3 (Positive): 8917 reviews\n",
      "1 (Negative): 588 reviews\n",
      "2 (Neutral): 495 reviews\n"
     ]
    },
    {
     "data": {
      "image/png": "[encoded data removed]",
      "text/plain": [
       "<Figure size 640x480 with 1 Axes>"
      ]
     },
     "metadata": {},
     "output_type": "display_data"
    }
   ],
   "source": [
    "# Count the number of reviews per sentiment\n",
    "sentiment_counts = df['Sentiment'].value_counts()\n",
    "\n",
    "# Print the counts for each category\n",
    "for sentiment_value, count in sentiment_counts.items():\n",
    "    sentiment_name = sentiment_labels[sentiment_value]\n",
    "    print(f\"{sentiment_value} ({sentiment_name}): {count} reviews\")\n",
    "\n",
    "# Define labels and colors for the pie chart\n",
    "labels = ['Positive', 'Neutral', 'Negative']\n",
    "colors = ['limegreen', 'dodgerblue', 'red']\n",
    "\n",
    "# Plot the pie chart\n",
    "plt.pie(sentiment_counts, colors=colors, autopct='%1.1f%%',  pctdistance=0.8, textprops={'fontsize': 10, 'color': 'black'}, startangle=90)\n",
    "plt.axis('equal')  # pie as a circle\n",
    "plt.legend(labels=labels, loc='lower left')\n",
    "plt.title('Distribution of Reviews per Sentiment')\n",
    "plt.show()"
   ]
  },
  {
   "attachments": {},
   "cell_type": "markdown",
   "id": "dc1bd547",
   "metadata": {},
   "source": [
    "## Clean Text"
   ]
  },
  {
   "attachments": {},
   "cell_type": "markdown",
   "id": "675d3d0f",
   "metadata": {},
   "source": [
    "Next, we clean the data applying the following techniques (TODO: add info):"
   ]
  },
  {
   "cell_type": "code",
   "execution_count": 89,
   "id": "7094e489",
   "metadata": {},
   "outputs": [],
   "source": [
    "import re\n",
    "import emoji\n",
    "import nltk\n",
    "import numpy as np\n",
    "from nltk.tokenize.casual import EMOTICON_RE\n",
    "#nltk.download('wordnet')\n",
    "#nltk.download('words')\n",
    "from nltk.sentiment.util import mark_negation\n",
    "from nltk.tokenize import TweetTokenizer\n",
    "from nltk.corpus import stopwords\n",
    "from nltk.stem import WordNetLemmatizer\n",
    "#from spellchecker import SpellChecker #TODO"
   ]
  },
  {
   "cell_type": "code",
   "execution_count": 90,
   "id": "a3edfe26",
   "metadata": {},
   "outputs": [],
   "source": [
    "# Text Cleaning\n",
    "#spell_checker = SpellChecker()\n",
    "#english_words = set(nltk.corpus.words.words())\n",
    "emojis = [\n",
    "        #HAPPY\n",
    "        \":-)\",\n",
    "        \":)\",\n",
    "        \";)\",\n",
    "        \":o)\",\n",
    "        \":]\",\n",
    "        \":3\",\n",
    "        \":c)\",\n",
    "        \":>\",\n",
    "        \"=]\",\n",
    "        \"8)\",\n",
    "        \"=)\",\n",
    "        \":}\",\n",
    "        \":^)\",\n",
    "        \":-D\",\n",
    "        \":D\",\n",
    "        \"8-D\",\n",
    "        \"8D\",\n",
    "        \"x-D\",\n",
    "        \"xD\",\n",
    "        \"X-D\",\n",
    "        \"XD\",\n",
    "        \"=-D\",\n",
    "        \"=D\",\n",
    "        \"=-3\",\n",
    "        \"=3\",\n",
    "        \":-))\",\n",
    "        \":'-)\",\n",
    "        \":')\",\n",
    "        \":*\",\n",
    "        \":^*\",\n",
    "        \">:P\",\n",
    "        \":-P\",\n",
    "        \":P\",\n",
    "        \"X-P\",\n",
    "        \"x-p\",\n",
    "        \"xp\",\n",
    "        \"XP\",\n",
    "        \":-p\",\n",
    "        \":p\",\n",
    "        \"=p\",\n",
    "        \":-b\",\n",
    "        \":b\",\n",
    "        \">:)\",\n",
    "        \">;)\",\n",
    "        \">:-)\",\n",
    "        \"<3\",\n",
    "        # SAD\n",
    "        \":L\",\n",
    "        \":-/\",\n",
    "        \">:/\",\n",
    "        \":S\",\n",
    "        \">:[\",\n",
    "        \":@\",\n",
    "        \":-(\",\n",
    "        \":[\",\n",
    "        \":-||\",\n",
    "        \"=L\",\n",
    "        \":<\",\n",
    "        \":-[\",\n",
    "        \":-<\",\n",
    "        \"=\\\\\",\n",
    "        \"=/\",\n",
    "        \">:(\",\n",
    "        \":(\",\n",
    "        \">.<\",\n",
    "        \":'-(\",\n",
    "        \":'(\",\n",
    "        \":\\\\\",\n",
    "        \":-c\",\n",
    "        \":c\",\n",
    "        \":{\",\n",
    "        \">:\\\\\",\n",
    "        \";(\",\n",
    "    ]"
   ]
  },
  {
   "cell_type": "code",
   "execution_count": 91,
   "id": "7d1f5731",
   "metadata": {},
   "outputs": [
    {
     "name": "stdout",
     "output_type": "stream",
     "text": [
      "                                                 Review  Sentiment\n",
      "0                                  good and interesting          3\n",
      "1     this class is very helpful to me. currently, i...          3\n",
      "2     like!prof and tas are helpful and the discussi...          3\n",
      "3     easy to follow and includes a lot basic and im...          3\n",
      "4     really nice teacher!i could got the point eazl...          3\n",
      "...                                                 ...        ...\n",
      "9995  great content and great teacher, thanks so muc...          3\n",
      "9996  great course to learn the wonders of the unive...          3\n",
      "9997  very exciting, strong structured course, the m...          3\n",
      "9998  easy to follow. anyone who is interested in as...          3\n",
      "9999    very easy to follow, and immensely interesting.          3\n",
      "\n",
      "[10000 rows x 2 columns]\n"
     ]
    }
   ],
   "source": [
    "# 1) Lowercase\n",
    "df['Review'] = df['Review'].str.lower()\n",
    "#pd.set_option('display.max_rows', df.shape[0]+1)\n",
    "print(df)"
   ]
  },
  {
   "cell_type": "code",
   "execution_count": 92,
   "id": "3c4e83c3",
   "metadata": {},
   "outputs": [
    {
     "name": "stdout",
     "output_type": "stream",
     "text": [
      "                                                 Review  Sentiment\n",
      "0                                  good and interesting          3\n",
      "1     this class is very helpful to me. currently, i...          3\n",
      "2     like!prof and tas are helpful and the discussi...          3\n",
      "3     easy to follow and includes a lot basic and im...          3\n",
      "4     really nice teacher!i could got the point eazl...          3\n",
      "...                                                 ...        ...\n",
      "9995  great content and great teacher, thanks so muc...          3\n",
      "9996  great course to learn the wonders of the unive...          3\n",
      "9997  very exciting, strong structured course, the m...          3\n",
      "9998  easy to follow. anyone who is interested in as...          3\n",
      "9999    very easy to follow, and immensely interesting.          3\n",
      "\n",
      "[10000 rows x 2 columns]\n"
     ]
    }
   ],
   "source": [
    "# 2) Replace contractions with their standard full forms\n",
    "contraction_mapping = {\n",
    "        \"isn't\": \"is not\",\n",
    "        \"aren't\": \"are not\",\n",
    "        \"don't\": \"do not\",\n",
    "        \"doesn't\": \"does not\",\n",
    "        \"wasn't\": \"was not\",\n",
    "        \"weren't\": \"were not\",\n",
    "        \"didn't\": \"did not\",\n",
    "        \"haven't\": \"have not\",\n",
    "        \"hasn't\": \"has not\",\n",
    "        \"hadn't\": \"had not\",\n",
    "        \"won't\": \"will not\",\n",
    "        \"can't\": \"cannot\",\n",
    "        \"couldn't\": \"could not\",\n",
    "        \"shouldn't\": \"should not\",\n",
    "        \"wouldn't\": \"would not\",\n",
    "        \"mightn't\": \"might not\",\n",
    "        \"mustn't\": \"must not\",\n",
    "        }\n",
    "\n",
    "for contraction, standard in contraction_mapping.items():\n",
    "    df['Review'] = df['Review'].str.replace(contraction, standard)\n",
    "\n",
    "print(df)"
   ]
  },
  {
   "cell_type": "code",
   "execution_count": 93,
   "id": "8492481d",
   "metadata": {},
   "outputs": [
    {
     "name": "stdout",
     "output_type": "stream",
     "text": [
      "                                                 Review  Sentiment\n",
      "0                                  good and interesting          3\n",
      "1     this class is very helpful to me. currently, i...          3\n",
      "2     like prof and tas are helpful and the discussi...          3\n",
      "3     easy to follow and includes a lot basic and im...          3\n",
      "4     really nice teacher i could got the point eazl...          3\n",
      "...                                                 ...        ...\n",
      "9995  great content and great teacher, thanks so muc...          3\n",
      "9996  great course to learn the wonders of the unive...          3\n",
      "9997  very exciting, strong structured course, the m...          3\n",
      "9998  easy to follow. anyone who is interested in as...          3\n",
      "9999    very easy to follow, and immensely interesting.          3\n",
      "\n",
      "[10000 rows x 2 columns]\n"
     ]
    },
    {
     "name": "stderr",
     "output_type": "stream",
     "text": [
      "/tmp/ipykernel_364715/603766481.py:4: FutureWarning: The default value of regex will change from True to False in a future version.\n",
      "  df['Review'] = df['Review'].str.replace(pattern, ' ')\n"
     ]
    }
   ],
   "source": [
    "# 3) Remove punctuation in between words e.g. \"course.sometimes\" \n",
    "# and replace with space\n",
    "pattern = r'(?<=\\w)[^\\w\\s]+(?=\\w)'\n",
    "df['Review'] = df['Review'].str.replace(pattern, ' ')\n",
    "print(df)"
   ]
  },
  {
   "cell_type": "code",
   "execution_count": 94,
   "id": "bdd5d78a",
   "metadata": {},
   "outputs": [
    {
     "data": {
      "text/html": [
       "<div>\n",
       "<style scoped>\n",
       "    .dataframe tbody tr th:only-of-type {\n",
       "        vertical-align: middle;\n",
       "    }\n",
       "\n",
       "    .dataframe tbody tr th {\n",
       "        vertical-align: top;\n",
       "    }\n",
       "\n",
       "    .dataframe thead th {\n",
       "        text-align: right;\n",
       "    }\n",
       "</style>\n",
       "<table border=\"1\" class=\"dataframe\">\n",
       "  <thead>\n",
       "    <tr style=\"text-align: right;\">\n",
       "      <th></th>\n",
       "      <th>Review</th>\n",
       "      <th>Sentiment</th>\n",
       "    </tr>\n",
       "  </thead>\n",
       "  <tbody>\n",
       "    <tr>\n",
       "      <th>0</th>\n",
       "      <td>[good, and, interesting]</td>\n",
       "      <td>3</td>\n",
       "    </tr>\n",
       "    <tr>\n",
       "      <th>1</th>\n",
       "      <td>[this, class, is, very, helpful, to, me, ., cu...</td>\n",
       "      <td>3</td>\n",
       "    </tr>\n",
       "    <tr>\n",
       "      <th>2</th>\n",
       "      <td>[like, prof, and, tas, are, helpful, and, the,...</td>\n",
       "      <td>3</td>\n",
       "    </tr>\n",
       "    <tr>\n",
       "      <th>3</th>\n",
       "      <td>[easy, to, follow, and, includes, a, lot, basi...</td>\n",
       "      <td>3</td>\n",
       "    </tr>\n",
       "    <tr>\n",
       "      <th>4</th>\n",
       "      <td>[really, nice, teacher, i, could, got, the, po...</td>\n",
       "      <td>3</td>\n",
       "    </tr>\n",
       "  </tbody>\n",
       "</table>\n",
       "</div>"
      ],
      "text/plain": [
       "                                              Review  Sentiment\n",
       "0                           [good, and, interesting]          3\n",
       "1  [this, class, is, very, helpful, to, me, ., cu...          3\n",
       "2  [like, prof, and, tas, are, helpful, and, the,...          3\n",
       "3  [easy, to, follow, and, includes, a, lot, basi...          3\n",
       "4  [really, nice, teacher, i, could, got, the, po...          3"
      ]
     },
     "execution_count": 94,
     "metadata": {},
     "output_type": "execute_result"
    }
   ],
   "source": [
    "# 4) Tokenize text into individual words (removes all extra spaces \\s)\n",
    "tokenizer = TweetTokenizer()\n",
    "df['Review'] = df['Review'].apply(tokenizer.tokenize)\n",
    "df.head()"
   ]
  },
  {
   "cell_type": "code",
   "execution_count": 95,
   "id": "05647ca7",
   "metadata": {},
   "outputs": [
    {
     "name": "stdout",
     "output_type": "stream",
     "text": [
      "                                                 Review  Sentiment\n",
      "0                              [good, and, interesting]          3\n",
      "1     [this, class, is, very, helpful, to, me, ., cu...          3\n",
      "2     [like, prof, and, tas, are, helpful, and, the,...          3\n",
      "3     [easy, to, follow, and, includes, a, lot, basi...          3\n",
      "4     [really, nice, teacher, i, could, got, the, po...          3\n",
      "...                                                 ...        ...\n",
      "9995  [great, content, and, great, teacher, thanks, ...          3\n",
      "9996  [great, course, to, learn, the, wonders, of, t...          3\n",
      "9997  [very, exciting, strong, structured, course, t...          3\n",
      "9998  [easy, to, follow, ., anyone, who, is, interes...          3\n",
      "9999  [very, easy, to, follow, and, immensely, inter...          3\n",
      "\n",
      "[10000 rows x 2 columns]\n"
     ]
    }
   ],
   "source": [
    "# TODO: three dots i.e. ... not removed\n",
    "# 5) Remove punctuation first in between words (typo),\n",
    "# and then all punctuation and numerals except for tokenized emojis\n",
    "pattern = r\"[^\\w\\s\" + \"\".join(re.escape(e) for e in emojis + list(emoji.EMOJI_DATA.keys())) + \"]|[\\d]+\" # match non-emoji special characters\n",
    "df['Review'] = df['Review'].apply(lambda tokens: [token for token in tokens if not re.match(pattern, token)])\n",
    "print(df)"
   ]
  },
  {
   "cell_type": "code",
   "execution_count": 96,
   "id": "34ca98a1",
   "metadata": {},
   "outputs": [
    {
     "name": "stdout",
     "output_type": "stream",
     "text": [
      "                                                 Review  Sentiment\n",
      "0                              [good, and, interesting]          3\n",
      "1     [this, class, is, very, helpful, to, me, curre...          3\n",
      "2     [like, prof, and, tas, are, helpful, and, the,...          3\n",
      "3     [easy, to, follow, and, includes, lot, basic, ...          3\n",
      "4     [really, nice, teacher, could, got, the, point...          3\n",
      "...                                                 ...        ...\n",
      "9995  [great, content, and, great, teacher, thanks, ...          3\n",
      "9996  [great, course, to, learn, the, wonders, of, t...          3\n",
      "9997  [very, exciting, strong, structured, course, t...          3\n",
      "9998  [easy, to, follow, anyone, who, is, interested...          3\n",
      "9999  [very, easy, to, follow, and, immensely, inter...          3\n",
      "\n",
      "[10000 rows x 2 columns]\n"
     ]
    }
   ],
   "source": [
    "# 6) Remove single characters\n",
    "df['Review'] = df['Review'].apply(lambda tokens: [word for word in tokens if len(word) > 1])\n",
    "print(df)"
   ]
  },
  {
   "cell_type": "code",
   "execution_count": 97,
   "id": "e249e600",
   "metadata": {},
   "outputs": [
    {
     "data": {
      "text/plain": [
       "\"\\n# 7) Correct Spelling\\ncorrected_tokens = []\\nfor token in filtered_tokens:\\n    if token in emojis or token in emoji.EMOJI_DATA.keys():\\n        corrected_tokens.append(token)  # If token is an emoji, add it to the corrected tokens\\n    else:\\n        corrected_token = spell_checker.correction(token)\\n        if corrected_token is not None:\\n            corrected_tokens.append(corrected_token)\\n#print('spell-check: '+str(corrected_tokens))\\n\""
      ]
     },
     "execution_count": 97,
     "metadata": {},
     "output_type": "execute_result"
    }
   ],
   "source": [
    "# TODO: package not loading\n",
    "'''\n",
    "# 7) Correct Spelling\n",
    "corrected_tokens = []\n",
    "for token in filtered_tokens:\n",
    "    if token in emojis or token in emoji.EMOJI_DATA.keys():\n",
    "        corrected_tokens.append(token)  # If token is an emoji, add it to the corrected tokens\n",
    "    else:\n",
    "        corrected_token = spell_checker.correction(token)\n",
    "        if corrected_token is not None:\n",
    "            corrected_tokens.append(corrected_token)\n",
    "#print('spell-check: '+str(corrected_tokens))\n",
    "'''"
   ]
  },
  {
   "cell_type": "code",
   "execution_count": 98,
   "id": "db373fe4",
   "metadata": {},
   "outputs": [],
   "source": [
    "# TODO: note to self (to be added to word-doc): If you check token by token, it also removes english words"
   ]
  },
  {
   "cell_type": "code",
   "execution_count": 99,
   "id": "ab8a4a3c",
   "metadata": {},
   "outputs": [
    {
     "name": "stdout",
     "output_type": "stream",
     "text": [
      "                                                 Review  Sentiment\n",
      "0                              [good, and, interesting]          3\n",
      "1     [this, class, is, very, helpful, to, me, curre...          3\n",
      "2     [like, prof, and, tas, are, helpful, and, the,...          3\n",
      "3     [easy, to, follow, and, includes, lot, basic, ...          3\n",
      "4     [really, nice, teacher, could, got, the, point...          3\n",
      "...                                                 ...        ...\n",
      "9995  [great, content, and, great, teacher, thanks, ...          3\n",
      "9996  [great, course, to, learn, the, wonders, of, t...          3\n",
      "9997  [very, exciting, strong, structured, course, t...          3\n",
      "9998  [easy, to, follow, anyone, who, is, interested...          3\n",
      "9999  [very, easy, to, follow, and, immensely, inter...          3\n",
      "\n",
      "[10000 rows x 2 columns]\n"
     ]
    }
   ],
   "source": [
    "# 8) Perform negation tagging\n",
    "df['Review'] = df['Review'].apply(mark_negation)\n",
    "print(df)"
   ]
  },
  {
   "cell_type": "code",
   "execution_count": 100,
   "id": "02fce956",
   "metadata": {},
   "outputs": [
    {
     "name": "stdout",
     "output_type": "stream",
     "text": [
      "                                                 Review  Sentiment\n",
      "0                                   [good, interesting]          3\n",
      "1     [class, helpful, currently, still, learning, c...          3\n",
      "2     [like, prof, tas, helpful, discussion, among, ...          3\n",
      "3     [easy, follow, includes, lot, basic, important...          3\n",
      "4     [really, nice, teacher, could, got, point, eaz...          3\n",
      "...                                                 ...        ...\n",
      "9995  [great, content, great, teacher, thanks, much,...          3\n",
      "9996  [great, course, learn, wonders, universe, unde...          3\n",
      "9997  [exciting, strong, structured, course, difficu...          3\n",
      "9998  [easy, follow, anyone, interested, astronomy, ...          3\n",
      "9999             [easy, follow, immensely, interesting]          3\n",
      "\n",
      "[10000 rows x 2 columns]\n"
     ]
    }
   ],
   "source": [
    "# 9) Remove stopwords --> also removes words like 'not'\n",
    "stop_words = set(stopwords.words('english'))\n",
    "df['Review'] = df['Review'].apply(lambda tokens: [token for token in tokens if token not in stop_words])\n",
    "df['Review'] = df['Review'].apply(lambda tokens: [token for token in tokens if token.split('_')[0] not in stop_words])\n",
    "print(df)"
   ]
  },
  {
   "cell_type": "code",
   "execution_count": 101,
   "id": "71dbcde1",
   "metadata": {},
   "outputs": [
    {
     "name": "stdout",
     "output_type": "stream",
     "text": [
      "                                                 Review  Sentiment\n",
      "0                                   [good, interesting]          3\n",
      "1     [class, helpful, currently, still, learning, c...          3\n",
      "2     [like, prof, ta, helpful, discussion, among, s...          3\n",
      "3     [easy, follow, includes, lot, basic, important...          3\n",
      "4     [really, nice, teacher, could, got, point, eaz...          3\n",
      "...                                                 ...        ...\n",
      "9995  [great, content, great, teacher, thanks, much,...          3\n",
      "9996  [great, course, learn, wonder, universe, under...          3\n",
      "9997  [exciting, strong, structured, course, difficu...          3\n",
      "9998  [easy, follow, anyone, interested, astronomy, ...          3\n",
      "9999             [easy, follow, immensely, interesting]          3\n",
      "\n",
      "[10000 rows x 2 columns]\n"
     ]
    }
   ],
   "source": [
    "# TODO: also lemmatize word removing _NEG\n",
    "# 10) Lemmatize words using WordNetLemmatizer\n",
    "lemmatizer = WordNetLemmatizer()\n",
    "df['Review'] = df['Review'].apply(lambda tokens: [lemmatizer.lemmatize(token) for token in tokens])\n",
    "print(df)"
   ]
  },
  {
   "cell_type": "code",
   "execution_count": 102,
   "id": "e25a06a2",
   "metadata": {},
   "outputs": [
    {
     "data": {
      "text/html": [
       "<div>\n",
       "<style scoped>\n",
       "    .dataframe tbody tr th:only-of-type {\n",
       "        vertical-align: middle;\n",
       "    }\n",
       "\n",
       "    .dataframe tbody tr th {\n",
       "        vertical-align: top;\n",
       "    }\n",
       "\n",
       "    .dataframe thead th {\n",
       "        text-align: right;\n",
       "    }\n",
       "</style>\n",
       "<table border=\"1\" class=\"dataframe\">\n",
       "  <thead>\n",
       "    <tr style=\"text-align: right;\">\n",
       "      <th></th>\n",
       "      <th>Review</th>\n",
       "      <th>Sentiment</th>\n",
       "    </tr>\n",
       "  </thead>\n",
       "  <tbody>\n",
       "    <tr>\n",
       "      <th>0</th>\n",
       "      <td>good interesting</td>\n",
       "      <td>3</td>\n",
       "    </tr>\n",
       "    <tr>\n",
       "      <th>1</th>\n",
       "      <td>class helpful currently still learning class m...</td>\n",
       "      <td>3</td>\n",
       "    </tr>\n",
       "    <tr>\n",
       "      <th>2</th>\n",
       "      <td>like prof ta helpful discussion among student ...</td>\n",
       "      <td>3</td>\n",
       "    </tr>\n",
       "    <tr>\n",
       "      <th>3</th>\n",
       "      <td>easy follow includes lot basic important techn...</td>\n",
       "      <td>3</td>\n",
       "    </tr>\n",
       "    <tr>\n",
       "      <th>4</th>\n",
       "      <td>really nice teacher could got point eazliy</td>\n",
       "      <td>3</td>\n",
       "    </tr>\n",
       "  </tbody>\n",
       "</table>\n",
       "</div>"
      ],
      "text/plain": [
       "                                              Review  Sentiment\n",
       "0                                   good interesting          3\n",
       "1  class helpful currently still learning class m...          3\n",
       "2  like prof ta helpful discussion among student ...          3\n",
       "3  easy follow includes lot basic important techn...          3\n",
       "4         really nice teacher could got point eazliy          3"
      ]
     },
     "execution_count": 102,
     "metadata": {},
     "output_type": "execute_result"
    }
   ],
   "source": [
    "# Convert preprocessed tokens back to string\n",
    "df['Review'] = df['Review'].apply(' '.join)\n",
    "df.head()"
   ]
  },
  {
   "cell_type": "code",
   "execution_count": 103,
   "id": "25434a1c",
   "metadata": {},
   "outputs": [
    {
     "name": "stdout",
     "output_type": "stream",
     "text": [
      "Shape before: (10000, 2)\n",
      "Shape after preprocessing, before removing empty rows: (10000, 2)\n",
      "Shape after preprocessing, after removing empty rows: (9996, 2)\n",
      "\n"
     ]
    }
   ],
   "source": [
    "print(f'Shape before: {df_raw.shape}')\n",
    "print(f'Shape after preprocessing, before removing empty rows: {df.shape}')\n",
    "\n",
    "# Remove NaN rows, after cleaning text\n",
    "df = drop_missing(df) \n",
    "print(f'Shape after preprocessing, after removing empty rows: {df.shape}\\n')"
   ]
  },
  {
   "cell_type": "code",
   "execution_count": 104,
   "id": "b120f716",
   "metadata": {},
   "outputs": [],
   "source": [
    "cleaned_data_filename = \"cleaned_data.csv\"\n",
    "data_file_path = os.path.join(input_folder_path, cleaned_data_filename)\n",
    "df.to_csv(data_file_path, sep=',', index_label='Id')"
   ]
  },
  {
   "cell_type": "code",
   "execution_count": 105,
   "id": "eecf627d",
   "metadata": {},
   "outputs": [],
   "source": [
    "# TODO: create word clouds"
   ]
  },
  {
   "attachments": {},
   "cell_type": "markdown",
   "id": "5f18328f",
   "metadata": {},
   "source": [
    "# Preprocess Data"
   ]
  },
  {
   "cell_type": "code",
   "execution_count": 106,
   "id": "5de5ce08",
   "metadata": {},
   "outputs": [],
   "source": [
    "import multiprocessing\n",
    "import pickle\n",
    "from numpy import asarray\n",
    "import gensim.downloader as api\n",
    "from collections import Counter\n",
    "from keras.preprocessing.text import Tokenizer\n",
    "from sklearn.model_selection import train_test_split\n",
    "from sklearn.feature_extraction.text import TfidfVectorizer\n",
    "from keras.utils import pad_sequences"
   ]
  },
  {
   "attachments": {},
   "cell_type": "markdown",
   "id": "8f65f114",
   "metadata": {},
   "source": [
    "### Split train and test"
   ]
  },
  {
   "cell_type": "code",
   "execution_count": 107,
   "id": "73f09fce",
   "metadata": {
    "scrolled": true
   },
   "outputs": [
    {
     "name": "stdout",
     "output_type": "stream",
     "text": [
      "Data Distribution:\n",
      "* train: 6396\n",
      "* validation: 1600\n",
      "* test: 2000\n",
      "\n",
      "x_train: 9465    interesting course done_NEG calculus_NEG years...\n",
      "4793    interesting course focus social political aspe...\n",
      "938                             enriching content coupled\n",
      "9461                 started looking real interesting far\n",
      "4142    great loved fact could watch video follow step...\n",
      "Name: Review, dtype: object\n"
     ]
    }
   ],
   "source": [
    "# Split dataset into training and test sets\n",
    "x_train, x_test, y_train, y_test = train_test_split(df['Review'], df['Sentiment'],\n",
    "                                                    test_size=0.2, random_state=42)\n",
    "# Split the training dataset further into training and validation sets\n",
    "x_train, x_val, y_train, y_val = train_test_split(x_train, y_train, test_size=0.2, random_state=42)\n",
    "\n",
    "print(\"Data Distribution:\\n* train: {}\\n* validation: {}\\n* test: {}\\n\".format(len(x_train), len(x_val), len(x_test)))\n",
    "print(f\"x_train: {x_train.head()}\")"
   ]
  },
  {
   "attachments": {},
   "cell_type": "markdown",
   "id": "ceb8e8d3",
   "metadata": {},
   "source": [
    "### Create vocabulary"
   ]
  },
  {
   "cell_type": "code",
   "execution_count": 108,
   "id": "25b30607",
   "metadata": {},
   "outputs": [
    {
     "name": "stdout",
     "output_type": "stream",
     "text": [
      "[('course', 4490), ('great', 1348), ('good', 1147), ('really', 673), ('course_NEG', 637), ('well', 590), ('lot', 587), ('interesting', 548), ('excellent', 544), ('much', 418), ('thank', 415), ('useful', 372), ('learn', 359), ('would', 348), ('easy', 344), ('understand', 339), ('professor', 335), ('way', 330), ('time', 329), ('lecture', 326), ('one', 322), ('material', 321), ('like', 320), ('video', 307), ('thanks', 303), ('content', 301), ('class', 299), ('information', 294), ('teacher', 291), ('data', 291)]\n"
     ]
    }
   ],
   "source": [
    "# Count words to create vocabulary\n",
    "word_counter = Counter()\n",
    "for review in x_train:\n",
    "    word_counter.update(review.split())\n",
    "\n",
    "print(word_counter.most_common(30))"
   ]
  },
  {
   "cell_type": "code",
   "execution_count": 109,
   "id": "0aa7a58b",
   "metadata": {},
   "outputs": [
    {
     "name": "stdout",
     "output_type": "stream",
     "text": [
      "Vocabulary size of 10552 reduced to 5305.\n",
      "\n",
      "Vocabulary (first 50 tokens):\n",
      "['interesting', 'course', 'done_NEG', 'calculus_NEG', 'years_NEG', 'wonderful_NEG', 'get_NEG', 'back_NEG', 'really_NEG', 'enjoyed_NEG', 'jim_NEG', 'enthusiasm_NEG', 'explanation_NEG', 'fundamentals_NEG', '.', '._NEG', 'would_NEG', 'helpful_NEG', 'errors_NEG', 'marking_NEG', 'quizzes_NEG', 'corrected_NEG', 'pointed_NEG', 'months_NEG', 'ago_NEG', 'focus', 'social', 'political', 'aspect', 'well', 'known', 'historical', 'information', 'provided', 'different', 'country', 'around', 'world', 'highlighted', 'various', 'president', 'dealt', 'epidemic', 'amazing', 'big', 'influence', 'disease', 'would', 'preferred', 'bio']\n"
     ]
    }
   ],
   "source": [
    "# Filter vocabulary by removing words with frequency less than a set minimum frequency\n",
    "vocab = [word for word, count in word_counter.items() if count >= MIN_FREQ]\n",
    "vocab_size = len(vocab)\n",
    "print(\"Vocabulary size of {} reduced to {}.\\n\".format(len(word_counter), vocab_size))\n",
    "print(\"Vocabulary (first 50 tokens):\\n{}\".format(vocab[:50]))"
   ]
  },
  {
   "cell_type": "code",
   "execution_count": 110,
   "id": "bbbd96ef",
   "metadata": {},
   "outputs": [],
   "source": [
    "processed_folder_path = \"./pls/Thesis_Jupyter_Final/processed\"\n",
    "# Create the folder if it doesn't exist\n",
    "if not os.path.exists(processed_folder_path):\n",
    "    os.makedirs(processed_folder_path)\n",
    "\n",
    "vocab_filename = 'vocab.txt'\n",
    "file_path = os.path.join(processed_folder_path, vocab_filename)\n",
    "with open(file_path, 'w') as file:\n",
    "    file.write('\\n'.join(vocab))"
   ]
  },
  {
   "attachments": {},
   "cell_type": "markdown",
   "id": "83fc4550",
   "metadata": {},
   "source": [
    "### Filter data with vocabulary"
   ]
  },
  {
   "cell_type": "code",
   "execution_count": 111,
   "id": "31b1e29b",
   "metadata": {},
   "outputs": [],
   "source": [
    "def freq_filter_dataset(docs, filename, vocab):\n",
    "    filtered_dataset = []\n",
    "    for doc in docs:\n",
    "        filtered_text = ' '.join([word for word in doc.split() if word in vocab])\n",
    "        filtered_dataset.append(filtered_text)\n",
    "\n",
    "    # Save filtered dataset to a txt file\n",
    "    filtered_filename = f'filtered_{str(filename)}.txt'\n",
    "    file_path = os.path.join(processed_folder_path, filtered_filename)\n",
    "    with open(file_path, 'w') as file:\n",
    "        file.write('\\n'.join(filtered_dataset))\n",
    "\n",
    "    # Convert the processed documents back to pandas.Series\n",
    "    filtered_dataset = pd.Series(filtered_dataset, index=docs.index)\n",
    "\n",
    "    # Convert empty rows to '<empty>'\n",
    "    placeholder = \"<empty>\"\n",
    "    filtered_dataset.replace('', placeholder, inplace=True)\n",
    "    \n",
    "    # Count the number of rows with '<empty>' #TODO: remove empty rows\n",
    "    num_empty_rows = filtered_dataset.str.count('<empty>').sum()\n",
    "    print(f'Number of rows with <empty> for {filename}: {num_empty_rows}')\n",
    "\n",
    "    # TODO: instead of saving, print?\n",
    "    # Save filled dataset to a txt file\n",
    "    filled_filename = f'filled_{str(filename)}.txt'\n",
    "    file_path = os.path.join(processed_folder_path, filled_filename)\n",
    "    with open(file_path, 'w') as file:\n",
    "        file.write('\\n'.join(filtered_dataset))\n",
    "    \n",
    "    return filtered_dataset"
   ]
  },
  {
   "cell_type": "code",
   "execution_count": 112,
   "id": "e136714f",
   "metadata": {
    "scrolled": true
   },
   "outputs": [
    {
     "name": "stdout",
     "output_type": "stream",
     "text": [
      "Number of rows with <empty> for x_train: 7\n",
      "Number of rows with <empty> for x_val: 3\n",
      "Number of rows with <empty> for x_test: 1\n",
      "\n",
      "Data Distribution:\n",
      "* train: 6396\n",
      "* validation: 1600\n",
      "* test: 2000\n",
      "\n",
      "x_train - updated: 9465    interesting course done_NEG calculus_NEG years...\n",
      "4793    interesting course focus social political aspe...\n",
      "938                             enriching content coupled\n",
      "9461                 started looking real interesting far\n",
      "4142    great loved fact could watch video follow step...\n",
      "dtype: object\n"
     ]
    }
   ],
   "source": [
    "# Filter dataset based on vocabulary\n",
    "x_train = freq_filter_dataset(x_train, \"x_train\", vocab)\n",
    "x_val = freq_filter_dataset(x_val, \"x_val\", vocab)\n",
    "x_test = freq_filter_dataset(x_test, \"x_test\", vocab)\n",
    "\n",
    "print(\"\\nData Distribution:\\n* train: {}\\n* validation: {}\\n* test: {}\\n\".format(len(x_train), len(x_val), len(x_test)))\n",
    "print(f\"x_train - updated: {x_train.head()}\")"
   ]
  },
  {
   "attachments": {},
   "cell_type": "markdown",
   "id": "e8c6d509",
   "metadata": {},
   "source": [
    "## TF-IDF"
   ]
  },
  {
   "cell_type": "code",
   "execution_count": null,
   "id": "e938d848",
   "metadata": {},
   "outputs": [],
   "source": [
    "from sklearn.feature_extraction.text import TfidfVectorizer"
   ]
  },
  {
   "cell_type": "code",
   "execution_count": 113,
   "id": "b739f38c",
   "metadata": {},
   "outputs": [],
   "source": [
    "# PARAMS \n",
    "\n",
    "# TF-IDF\n",
    "MAX_FEATURES = 10000\n",
    "MAX_DF = 0.95\n",
    "MIN_DF = 5"
   ]
  },
  {
   "cell_type": "code",
   "execution_count": 114,
   "id": "4ccee997",
   "metadata": {},
   "outputs": [],
   "source": [
    "# Initialize TfidfVectorizer with the filtered vocabulary\n",
    "tfidf_vectorizer = TfidfVectorizer(\n",
    "    max_features=MAX_FEATURES, # maximum number of features to keep, check unique vocabs and determine based on that, high causes saprse metrics and low value causes loss in important words/vocab\n",
    "    vocabulary=vocab,\n",
    "    lowercase=False,\n",
    "    ngram_range=(1, 1),  # range of n-grams, only unigrams now\n",
    "    max_df=MAX_DF,  # ignore terms that have a document frequency strictly higher than the threshold\n",
    "    min_df=MIN_DF,  # ignore terms that have a document frequency strictly lower than the threshold.\n",
    "    use_idf=True,  # enable IDF weighting\n",
    "    smooth_idf=True,  # smooth IDF weights --> provides stability, reduces run time errors\n",
    "    sublinear_tf=True  # apply sublinear scaling to term frequencies\n",
    ")\n",
    "\n",
    "# Fit and transform the training set\n",
    "x_train_tfidf = tfidf_vectorizer.fit_transform(x_train)\n",
    "\n",
    "# Transform the validation and testing set\n",
    "x_val_tfidf = tfidf_vectorizer.transform(x_val)\n",
    "x_test_tfidf = tfidf_vectorizer.transform(x_test)"
   ]
  },
  {
   "cell_type": "code",
   "execution_count": 115,
   "id": "3afdbb5d",
   "metadata": {},
   "outputs": [],
   "source": [
    "def save_tfidf_data(data, data_name, feature_names):\n",
    "    # Save the matrix with feature names as a DataFrame\n",
    "    data = pd.DataFrame(data.toarray(), columns=feature_names)\n",
    "    tfidf_filename = f'{data_name}.csv'\n",
    "    file_path = os.path.join(processed_folder_path, tfidf_filename)\n",
    "    data.to_csv(file_path, index=False)"
   ]
  },
  {
   "cell_type": "code",
   "execution_count": 116,
   "id": "40d62af4",
   "metadata": {},
   "outputs": [],
   "source": [
    "# Get feature names\n",
    "feature_names = tfidf_vectorizer.get_feature_names_out()\n",
    "\n",
    "# Save vectorized data\n",
    "save_tfidf_data(x_train_tfidf, \"train_tfidf\", feature_names)\n",
    "save_tfidf_data(x_train_tfidf, \"val_tfidf\", feature_names)\n",
    "save_tfidf_data(x_test_tfidf, \"test_tfidf\", feature_names)"
   ]
  },
  {
   "cell_type": "code",
   "execution_count": 117,
   "id": "daad3bbf",
   "metadata": {},
   "outputs": [
    {
     "name": "stdout",
     "output_type": "stream",
     "text": [
      "Given vocabulary-size : 5305,\n",
      "\n",
      "Data Shape:\n",
      "* train: (6396, 5305)\n",
      "* validation: (1600, 5305)\n",
      "* test: (2000, 5305)\n",
      "\n",
      "x_train_tfidf:\n",
      "  (0, 24)\t0.222595054069153\n",
      "  (0, 23)\t0.24267421407303155\n",
      "  (0, 22)\t0.2510078184286611\n",
      "  (0, 21)\t0.24267421407303155\n",
      "  (0, 20)\t0.1725607370417893\n",
      "  (0, 19)\t0.2510078184286611\n",
      "  (0, 18)\t0.22646320541311804\n",
      "  (0, 17)\t0.18154533743556625\n",
      "  (0, 16)\t0.14538084404291787\n",
      "  (0, 13)\t0.2510078184286611\n",
      "  (0, 12)\t0.20438545269391686\n",
      "  (0, 11)\t0.23621016834604439\n",
      "  (0, 10)\t0.21613100834216586\n",
      "  (0, 9)\t0.19077033841702548\n",
      "  (0, 8)\t0.14614656539760387\n",
      "  (0, 7)\t0.20251589406527448\n",
      "  (0, 6)\t0.15001471674156888\n",
      "  (0, 5)\t0.222595054069153\n",
      "  (0, 4)\t0.21084949842090403\n",
      "  (0, 3)\t0.32300226062525333\n",
      "  (0, 2)\t0.1798408396783738\n",
      "  (0, 1)\t0.04556545911289766\n",
      "  (0, 0)\t0.10095566896569971\n",
      "  (1, 61)\t0.1589808655755073\n",
      "  (1, 60)\t0.14607716544780977\n",
      "  :\t:\n",
      "  (6393, 215)\t0.2960348794114244\n",
      "  (6393, 203)\t0.14117342675667546\n",
      "  (6393, 143)\t0.10866791302379811\n",
      "  (6393, 128)\t0.10911215829486592\n",
      "  (6393, 123)\t0.1087561765743259\n",
      "  (6393, 117)\t0.16536046130267182\n",
      "  (6393, 106)\t0.17119905925442805\n",
      "  (6393, 85)\t0.13097417754703983\n",
      "  (6393, 79)\t0.07511190616982731\n",
      "  (6393, 69)\t0.07095086402133934\n",
      "  (6393, 55)\t0.13264145479420703\n",
      "  (6393, 32)\t0.1112559396925171\n",
      "  (6393, 16)\t0.22837581933930443\n",
      "  (6393, 1)\t0.07157785557640324\n",
      "  (6394, 604)\t0.5167593192779814\n",
      "  (6394, 603)\t0.43261448870735064\n",
      "  (6394, 369)\t0.3486815218230552\n",
      "  (6394, 365)\t0.35172120281055197\n",
      "  (6394, 304)\t0.2822876046534488\n",
      "  (6394, 265)\t0.28147653418875235\n",
      "  (6394, 79)\t0.1847358699498358\n",
      "  (6394, 44)\t0.3278341489937793\n",
      "  (6395, 1370)\t0.7316405243067894\n",
      "  (6395, 128)\t0.48062850306286414\n",
      "  (6395, 92)\t0.4834236084798057\n"
     ]
    }
   ],
   "source": [
    "print(\"Given vocabulary-size : {},\".format(vocab_size))\n",
    "print(\"\\nData Shape:\\n* train: {}\\n* validation: {}\\n* test: {}\\n\".format(x_train_tfidf.shape, x_val_tfidf.shape, x_test_tfidf.shape))\n",
    "print(\"x_train_tfidf:\\n{}\".format(x_train_tfidf))"
   ]
  },
  {
   "cell_type": "code",
   "execution_count": 118,
   "id": "199b0d3d",
   "metadata": {},
   "outputs": [
    {
     "name": "stdout",
     "output_type": "stream",
     "text": [
      "\n",
      "Data Types:\n",
      "x_train_tfidf - type: <class 'scipy.sparse._csr.csr_matrix'>\n",
      "x_val_tfidf - type: <class 'scipy.sparse._csr.csr_matrix'>\n",
      "y-train - type: <class 'pandas.core.series.Series'>\n"
     ]
    }
   ],
   "source": [
    "print(f'\\nData Types:\\nx_train_tfidf - type: {type(x_train_tfidf)}\\nx_val_tfidf - type: {type(x_val_tfidf)}\\ny-train - type: {type(y_train)}')"
   ]
  },
  {
   "attachments": {},
   "cell_type": "markdown",
   "id": "0ca1595c",
   "metadata": {},
   "source": [
    "# Classical ML"
   ]
  },
  {
   "cell_type": "code",
   "execution_count": 194,
   "id": "b9cc3361",
   "metadata": {},
   "outputs": [],
   "source": [
    "from sklearn.ensemble import RandomForestClassifier\n",
    "from sklearn.naive_bayes import MultinomialNB\n",
    "from sklearn.svm import SVC\n",
    "from sklearn.model_selection import GridSearchCV\n",
    "from sklearn.pipeline import Pipeline\n",
    "from keras.callbacks import EarlyStopping\n",
    "\n",
    "from sklearn.metrics import ConfusionMatrixDisplay\n",
    "from sklearn.metrics import accuracy_score, precision_score, recall_score, f1_score, confusion_matrix, classification_report"
   ]
  },
  {
   "cell_type": "code",
   "execution_count": 208,
   "id": "08c72e5a",
   "metadata": {},
   "outputs": [],
   "source": [
    "def calculate_metrics(y_true, y_pred, model_name):\n",
    "    accuracy = accuracy_score(y_true, y_pred)\n",
    "    # TODO: not anymore?? Handle the zero-division error when there are no predicted samples for a label\n",
    "    # only interested in labels that were predicted at least once\n",
    "    precision = precision_score(y_true, y_pred, average='weighted', labels=np.unique(y_pred))\n",
    "    recall = recall_score(y_true, y_pred, average='weighted')\n",
    "    f1 = f1_score(y_true, y_pred, average='weighted', labels=np.unique(y_pred))\n",
    "    \n",
    "    # Print results\n",
    "    print(f\"*{model_name}\")\n",
    "    print(f\"Accuracy: {(accuracy * 100):.2f}\")\n",
    "    print(f\"Precision: {precision:.2f}\")\n",
    "    print(f\"Recall: {recall:.2f}\")\n",
    "    print(f\"f1-score: {f1:.2f}\")\n",
    "    \n",
    "    return accuracy, precision, recall, f1"
   ]
  },
  {
   "cell_type": "code",
   "execution_count": 209,
   "id": "efa6a4f2",
   "metadata": {},
   "outputs": [],
   "source": [
    "def calculate_classification_report(y_true, y_pred):\n",
    "    # Calculate classification report\n",
    "    report = classification_report(y_true, y_pred)\n",
    "    print(\"Classification Report:\\n\", report)\n",
    "    \n",
    "    return report"
   ]
  },
  {
   "cell_type": "code",
   "execution_count": 232,
   "id": "4aeea9ba",
   "metadata": {},
   "outputs": [],
   "source": [
    "def save_results(model_name, res_file_path, params, accuracy, precision, recall, f1_score, report):\n",
    "    with open(res_file_path, 'a') as file:\n",
    "        file.write(f\"*{model_name}---->{params}\\n\")\n",
    "        file.write(f\"Accuracy: {(accuracy * 100):.2f}\\n\")\n",
    "        file.write(f\"Precision: {precision:.2f}\\n\")\n",
    "        file.write(f\"Recall: {recall:.2f}\\n\")\n",
    "        file.write(f\"f1-score: {f1_score:.2f}\\n\\n\")\n",
    "        file.write(f\"{report}\\n\")"
   ]
  },
  {
   "cell_type": "code",
   "execution_count": 253,
   "id": "30335352",
   "metadata": {},
   "outputs": [],
   "source": [
    "def plot_confusion_matrix(y_true, y_pred, labels, model_name, file_path):\n",
    "    \n",
    "    cnf_mat = confusion_matrix(y_true, y_pred)\n",
    "    mat_disp = ConfusionMatrixDisplay(confusion_matrix=cnf_mat,\n",
    "                              display_labels=labels)\n",
    "    \n",
    "    mat_disp = mat_disp.plot(cmap='Blues', xticks_rotation='vertical')\n",
    "    plt.title(f'Confusion Matrix {model_name}')\n",
    "    plt.savefig(file_path)\n",
    "    plt.show()"
   ]
  },
  {
   "cell_type": "code",
   "execution_count": 213,
   "id": "3811bf72",
   "metadata": {},
   "outputs": [],
   "source": [
    "# TODO\n",
    "def plot(history, save_dir, model_name):\n",
    "    accuracy_plot = f'{save_dir}/{model_name}_plot.png'\n",
    "    loss_plot = f'{save_dir}/{model_name}_loss_plot.png'\n",
    "    \n",
    "    accuracy = history.history['accuracy']\n",
    "    #val_accuracy = history.history['val_accuracy']\n",
    "\n",
    "    epochs = range(len(accuracy))\n",
    "    plt.plot(epochs, accuracy, 'r', label='Training acc')\n",
    "    #plt.plot(epochs, val_accuracy, 'b', label='Validation acc')\n",
    "\n",
    "    plt.title(f'{model_name} Model Accuracy')\n",
    "    plt.ylabel('Accuracy')\n",
    "    plt.xlabel('Epoch')\n",
    "    plt.legend(['Train', 'Validation'], loc='upper left')\n",
    "    plt.savefig(save_dir)\n",
    "    plt.close()\n",
    "    \n",
    "    loss = history.history['loss']\n",
    "    #val_loss = history.history['val_loss']\n",
    "\n",
    "    epochs = range(len(loss))\n",
    "    plt.plot(epochs, loss, 'r', label='Training acc')\n",
    "    #plt.plot(epochs, val_loss, 'b', label='Validation acc')\n",
    "\n",
    "    plt.title(f'{model_name} Model Loss')\n",
    "    plt.ylabel('Loss')\n",
    "    plt.xlabel('Epoch')\n",
    "    plt.legend(['Train', 'Validation'], loc='upper left')\n",
    "    plt.savefig(save_dir)\n",
    "    plt.close()"
   ]
  },
  {
   "cell_type": "code",
   "execution_count": 242,
   "id": "7a080769",
   "metadata": {},
   "outputs": [],
   "source": [
    "def plot_feature_imp(model, file_path):\n",
    "    importances = model.feature_importances_\n",
    "    feature_names = tfidf_vectorizer.get_feature_names_out()\n",
    "    feature_importances = pd.Series(importances, index=feature_names)\n",
    "\n",
    "    fig, ax = plt.subplots()\n",
    "    feature_importances.nlargest(20).plot.bar(ax=ax)\n",
    "    ax.set_title(\"Top 20 Most Predictive Features\")\n",
    "    ax.set_xlabel('Feature')\n",
    "    ax.set_ylabel('Importance')\n",
    "    fig.tight_layout()\n",
    "    fig.savefig(file_path)"
   ]
  },
  {
   "cell_type": "code",
   "execution_count": 241,
   "id": "7aefe79a",
   "metadata": {},
   "outputs": [],
   "source": [
    "def evaluate_model(model, model_name, x, y_true, params, results_filename, only_metrics):\n",
    "    results_folder_path = \"./pls/Thesis_Jupyter_Final/results\"\n",
    "    # Create the folder if it doesn't exist\n",
    "    if not os.path.exists(results_folder_path):\n",
    "        os.makedirs(results_folder_path)\n",
    "    res_file_path = os.path.join(results_folder_path, results_filename + \".txt\")\n",
    "    \n",
    "    y_pred = model.predict(x)\n",
    "\n",
    "    # Calculate and save metrics\n",
    "    accuracy, precision, recall, f1 = calculate_metrics(y_true, y_pred, model_name)\n",
    "    print(f\"Params: {params}\\n\")\n",
    "    report = ''\n",
    "    \n",
    "    if not only_metrics:\n",
    "        # Calculate classification report\n",
    "        report = calculate_classification_report(y_true, y_pred)\n",
    "    \n",
    "        # Plot confusion matrix\n",
    "        senti_labels = ['negative', 'neutral', 'positive']\n",
    "        cnf_res_file_path = os.path.join(results_folder_path, f\"{results_filename}_cnf.png\")\n",
    "        plot_confusion_matrix(y_test, y_pred, senti_labels, model_name, cnf_res_file_path)\n",
    "\n",
    "         # Plot accuracy # TODO?\n",
    "        #plot(history, model_name)\n",
    "        f_imp_res_file_path = os.path.join(results_folder_path, f\"{results_filename}_feat_imp.png\")\n",
    "        plot_feature_imp(model, f_imp_res_file_path) # for especially RF\n",
    "        \n",
    "    save_results(model_name, res_file_path, params, accuracy, precision, recall, f1, report)"
   ]
  },
  {
   "cell_type": "code",
   "execution_count": 221,
   "id": "10848f8f",
   "metadata": {},
   "outputs": [],
   "source": [
    "def print_top3_models(top3_models):    \n",
    "    # Print the sorted list of mean test scores and standard deviation of test scores\n",
    "    print(\"\\nTop 3 parameter combinations ranked by performance (from best to worst):\")\n",
    "    for index, row in top3_models.iterrows():\n",
    "        mean_score = row['mean_test_score']\n",
    "        std_score = row['std_test_score']\n",
    "        params = row['params']\n",
    "        print(f\"Mean Test Score: {mean_score:.4f} (±{std_score:.4f}) for {params}\")"
   ]
  },
  {
   "attachments": {},
   "cell_type": "markdown",
   "id": "7b616c18",
   "metadata": {},
   "source": [
    "## 1. Random Forest"
   ]
  },
  {
   "attachments": {},
   "cell_type": "markdown",
   "id": "b6e69ba1",
   "metadata": {},
   "source": [
    "### Training & Tuning"
   ]
  },
  {
   "cell_type": "code",
   "execution_count": 222,
   "id": "681b15f2",
   "metadata": {},
   "outputs": [],
   "source": [
    "# Create instances of the Random Forest model\n",
    "rf_classifier = RandomForestClassifier()"
   ]
  },
  {
   "cell_type": "code",
   "execution_count": 223,
   "id": "be257e35",
   "metadata": {},
   "outputs": [],
   "source": [
    "# Define the parameter grid for grid search\n",
    "rf_param_grid = {\n",
    "    'n_estimators': [50, 100, 200, 300],\n",
    "    'max_depth': [None, 5, 10],\n",
    "    #'min_samples_split': [2, 5, 10],\n",
    "    #'min_samples_leaf': [1, 2, 4],  # Minimum number of samples required to be at a leaf node\n",
    "    #'max_features': ['auto', 'sqrt'],  # Number of features to consider when looking for the best split\n",
    "}"
   ]
  },
  {
   "cell_type": "code",
   "execution_count": 224,
   "id": "740e75e5",
   "metadata": {},
   "outputs": [
    {
     "name": "stdout",
     "output_type": "stream",
     "text": [
      "\n",
      "Top 3 parameter combinations ranked by performance (from best to worst):\n",
      "Mean Test Score: 0.8979 (±0.0013) for {'max_depth': None, 'n_estimators': 50}\n",
      "Mean Test Score: 0.8976 (±0.0022) for {'max_depth': None, 'n_estimators': 300}\n",
      "Mean Test Score: 0.8971 (±0.0022) for {'max_depth': None, 'n_estimators': 100}\n",
      "Mean Test Score: 0.8968 (±0.0011) for {'max_depth': None, 'n_estimators': 200}\n",
      "Mean Test Score: 0.8913 (±0.0000) for {'max_depth': 5, 'n_estimators': 50}\n"
     ]
    }
   ],
   "source": [
    "# Perform grid search\n",
    "grid_search = GridSearchCV(estimator=rf_classifier, param_grid=rf_param_grid, cv=5)\n",
    "grid_search.fit(x_train_tfidf, y_train)\n",
    "\n",
    "# Get the mean test scores and standard deviations of test scores for all parameter combinations\n",
    "results_df = pd.DataFrame(grid_search.cv_results_)\n",
    "sorted_results = results_df.sort_values(by=['mean_test_score', 'std_test_score'], ascending=[False, True])\n",
    "top3_models = sorted_results[:5] # TODO: update to 3\n",
    "print_top3_models(top3_models)\n",
    "\n",
    "top3_models = sorted_results[:3] # TODO: and delete this"
   ]
  },
  {
   "attachments": {},
   "cell_type": "markdown",
   "id": "159c13c0",
   "metadata": {},
   "source": [
    "### Evaluation"
   ]
  },
  {
   "attachments": {},
   "cell_type": "markdown",
   "id": "26126294",
   "metadata": {},
   "source": [
    "#### Validation Set"
   ]
  },
  {
   "cell_type": "code",
   "execution_count": 245,
   "id": "17d1f15c",
   "metadata": {},
   "outputs": [
    {
     "name": "stdout",
     "output_type": "stream",
     "text": [
      "Training-RF-0\n",
      "Accuracy: 99.92\n",
      "Precision: 1.00\n",
      "Recall: 1.00\n",
      "f1-score: 1.00\n",
      "Params: {'max_depth': None, 'n_estimators': 50}\n",
      "\n",
      "Validation-RF-0\n",
      "Accuracy: 89.81\n",
      "Precision: 0.85\n",
      "Recall: 0.90\n",
      "f1-score: 0.86\n",
      "Params: {'max_depth': None, 'n_estimators': 50}\n",
      "\n",
      "Training-RF-1\n",
      "Accuracy: 99.95\n",
      "Precision: 1.00\n",
      "Recall: 1.00\n",
      "f1-score: 1.00\n",
      "Params: {'max_depth': None, 'n_estimators': 300}\n",
      "\n",
      "Validation-RF-1\n",
      "Accuracy: 89.56\n",
      "Precision: 0.84\n",
      "Recall: 0.90\n",
      "f1-score: 0.85\n",
      "Params: {'max_depth': None, 'n_estimators': 300}\n",
      "\n",
      "Training-RF-2\n",
      "Accuracy: 99.95\n",
      "Precision: 1.00\n",
      "Recall: 1.00\n",
      "f1-score: 1.00\n",
      "Params: {'max_depth': None, 'n_estimators': 100}\n",
      "\n",
      "Validation-RF-2\n",
      "Accuracy: 89.75\n",
      "Precision: 0.85\n",
      "Recall: 0.90\n",
      "f1-score: 0.86\n",
      "Params: {'max_depth': None, 'n_estimators': 100}\n",
      "\n"
     ]
    }
   ],
   "source": [
    "top3_params = top3_models['params'].values\n",
    "res_filename = \"rf_results\"\n",
    "\n",
    "# Evaluate the top 3 models on the validation set\n",
    "rf_cand_0 = RandomForestClassifier(**top3_params[0])\n",
    "rf_cand_0.fit(x_train_tfidf, y_train)\n",
    "evaluate_model(rf_cand_0, \"Training-RF-0\", x_train_tfidf, y_train, top3_params[0], res_filename, only_metrics=True)\n",
    "evaluate_model(rf_cand_0, \"Validation-RF-0\", x_val_tfidf, y_val, top3_params[0], res_filename, only_metrics=True)\n",
    "\n",
    "rf_cand_1 = RandomForestClassifier(**top3_params[1])\n",
    "rf_cand_1.fit(x_train_tfidf, y_train)\n",
    "evaluate_model(rf_cand_1, \"Training-RF-1\", x_train_tfidf, y_train, top3_params[1], res_filename, only_metrics=True)\n",
    "evaluate_model(rf_cand_1, \"Validation-RF-1\", x_val_tfidf, y_val, top3_params[1], res_filename, only_metrics=True)\n",
    "\n",
    "rf_cand_2 = RandomForestClassifier(**top3_params[2])\n",
    "rf_cand_2.fit(x_train_tfidf, y_train)\n",
    "evaluate_model(rf_cand_2, \"Training-RF-2\", x_train_tfidf, y_train, top3_params[2], res_filename, only_metrics=True)\n",
    "evaluate_model(rf_cand_2, \"Validation-RF-2\", x_val_tfidf, y_val, top3_params[2], res_filename, only_metrics=True)"
   ]
  },
  {
   "attachments": {},
   "cell_type": "markdown",
   "id": "fdaaf668",
   "metadata": {},
   "source": [
    "#### Test Set"
   ]
  },
  {
   "cell_type": "code",
   "execution_count": 254,
   "id": "7f7d1211",
   "metadata": {},
   "outputs": [
    {
     "name": "stdout",
     "output_type": "stream",
     "text": [
      "RF-best\n",
      "Accuracy: 89.70\n",
      "Precision: 0.86\n",
      "Recall: 0.90\n",
      "f1-score: 0.86\n",
      "Params: {'bootstrap': True, 'ccp_alpha': 0.0, 'class_weight': None, 'criterion': 'gini', 'max_depth': None, 'max_features': 'sqrt', 'max_leaf_nodes': None, 'max_samples': None, 'min_impurity_decrease': 0.0, 'min_samples_leaf': 1, 'min_samples_split': 2, 'min_weight_fraction_leaf': 0.0, 'n_estimators': 50, 'n_jobs': None, 'oob_score': False, 'random_state': None, 'verbose': 0, 'warm_start': False}\n",
      "\n",
      "Classification Report:\n",
      "               precision    recall  f1-score   support\n",
      "\n",
      "           1       0.67      0.15      0.25       105\n",
      "           2       0.40      0.02      0.03       114\n",
      "           3       0.90      1.00      0.95      1781\n",
      "\n",
      "    accuracy                           0.90      2000\n",
      "   macro avg       0.66      0.39      0.41      2000\n",
      "weighted avg       0.86      0.90      0.86      2000\n",
      "\n"
     ]
    },
    {
     "data": {
      "image/png": "[encoded data removed]",
      "text/plain": [
       "<Figure size 640x480 with 2 Axes>"
      ]
     },
     "metadata": {},
     "output_type": "display_data"
    },
    {
     "data": {
      "image/png": "[encoded data removed]",
      "text/plain": [
       "<Figure size 640x480 with 1 Axes>"
      ]
     },
     "metadata": {},
     "output_type": "display_data"
    }
   ],
   "source": [
    "# Set the best model and evaluate the models on the test data #TODO\n",
    "rf_best = rf_cand_0\n",
    "y_pred = rf_best.predict(x_test_tfidf)\n",
    "evaluate_model(rf_best, \"RF-best\", x_test_tfidf, y_test, rf_best.get_params(), res_filename, only_metrics=False)"
   ]
  },
  {
   "attachments": {},
   "cell_type": "markdown",
   "id": "b1790120",
   "metadata": {},
   "source": [
    "## 2. Naive Bayes"
   ]
  },
  {
   "attachments": {},
   "cell_type": "markdown",
   "id": "214966ae",
   "metadata": {},
   "source": [
    "### Training & Tuning"
   ]
  },
  {
   "cell_type": "code",
   "execution_count": 247,
   "id": "2f6e4707",
   "metadata": {},
   "outputs": [],
   "source": [
    "# Create instances of the Naive Bayes model & fit on training data\n",
    "nb_model = MultinomialNB()"
   ]
  },
  {
   "cell_type": "code",
   "execution_count": 248,
   "id": "5a7cbdcc",
   "metadata": {},
   "outputs": [],
   "source": [
    "# Create a pipeline with TF-IDF vectorizer and multinomial Naive Bayes classifier\n",
    "pipeline = Pipeline([\n",
    "    ('tfidf', tfidf_vectorizer),  # Replace tfidf_vectorizer with your existing TF-IDF vectorizer\n",
    "    ('nb_clf', MultinomialNB())\n",
    "])\n",
    "\n",
    "# Define the parameter grid for grid search\n",
    "nb_param_grid = {\n",
    "    'tfidf__max_features': [1000, 5000, 10000],  # Maximum number of features\n",
    "    'tfidf__ngram_range': [(1, 1), (1, 2)],  # Range of n-grams\n",
    "    'nb_clf__alpha': [0.1, 0.5, 1.0],  # Smoothing parameter for MultinomialNB\n",
    "}"
   ]
  },
  {
   "cell_type": "code",
   "execution_count": 249,
   "id": "dfb8d9bb",
   "metadata": {},
   "outputs": [
    {
     "data": {
      "text/plain": [
       "'\\nprint(\"type of x_train_tfidf: \", type(x_train_tfidf))\\nprint(\"type of x_train_tfidf: \", type(y_train))\\nprint(\"shape of x_train_tfidf: \", x_train_tfidf.shape)\\nprint(\"shape of x_train_tfidf: \", y_train.shape)\\n\\n# Perform grid search\\ngrid_search = GridSearchCV(pipeline, param_grid=nb_param_grid, cv=5, error_score=\\'raise\\')\\ngrid_search.fit(x_train_tfidf, y_train)\\n\\n# Get the best parameters and best score from grid search\\nbest_params = grid_search.best_params_\\nbest_score = grid_search.best_score_\\nprint(\"Best Parameters: \", best_params)\\nprint(\"Best Score: \", best_score)\\n\\n# Get the mean test scores and standard deviations of test scores for all parameter combinations\\nresults_df = pd.DataFrame(grid_search.cv_results_)\\nsorted_results = results_df.sort_values(by=\\'mean_test_score\\', ascending=False)\\ntop3_models = sorted_results[:5] # TODO: update 10 to 3\\nprint_top3_models(top3_models)\\ntop3_models = sorted_results[:3] # TODO: and delete this\\ntop3_params = top3_models[\\'params\\'].values\\n'"
      ]
     },
     "execution_count": 249,
     "metadata": {},
     "output_type": "execute_result"
    }
   ],
   "source": [
    "'''\n",
    "print(\"type of x_train_tfidf: \", type(x_train_tfidf))\n",
    "print(\"type of x_train_tfidf: \", type(y_train))\n",
    "print(\"shape of x_train_tfidf: \", x_train_tfidf.shape)\n",
    "print(\"shape of x_train_tfidf: \", y_train.shape)\n",
    "\n",
    "# Perform grid search\n",
    "grid_search = GridSearchCV(pipeline, param_grid=nb_param_grid, cv=5, error_score='raise')\n",
    "grid_search.fit(x_train_tfidf, y_train)\n",
    "\n",
    "# Get the best parameters and best score from grid search\n",
    "best_params = grid_search.best_params_\n",
    "best_score = grid_search.best_score_\n",
    "print(\"Best Parameters: \", best_params)\n",
    "print(\"Best Score: \", best_score)\n",
    "\n",
    "# Get the mean test scores and standard deviations of test scores for all parameter combinations\n",
    "results_df = pd.DataFrame(grid_search.cv_results_)\n",
    "sorted_results = results_df.sort_values(by='mean_test_score', ascending=False)\n",
    "top3_models = sorted_results[:5] # TODO: update 10 to 3\n",
    "print_top3_models(top3_models)\n",
    "top3_models = sorted_results[:3] # TODO: and delete this\n",
    "top3_params = top3_models['params'].values\n",
    "'''"
   ]
  },
  {
   "attachments": {},
   "cell_type": "markdown",
   "id": "fae5d8b7",
   "metadata": {},
   "source": [
    "### Evaluation"
   ]
  },
  {
   "attachments": {},
   "cell_type": "markdown",
   "id": "1dd270a0",
   "metadata": {},
   "source": [
    "#### Validation Set"
   ]
  },
  {
   "cell_type": "code",
   "execution_count": null,
   "id": "0d223208",
   "metadata": {},
   "outputs": [],
   "source": []
  },
  {
   "attachments": {},
   "cell_type": "markdown",
   "id": "6d7f0cd9",
   "metadata": {},
   "source": [
    "#### Test Set"
   ]
  },
  {
   "cell_type": "code",
   "execution_count": null,
   "id": "88bad5c9",
   "metadata": {},
   "outputs": [],
   "source": []
  },
  {
   "attachments": {},
   "cell_type": "markdown",
   "id": "d3287aee",
   "metadata": {},
   "source": [
    "## 3. SVM"
   ]
  },
  {
   "attachments": {},
   "cell_type": "markdown",
   "id": "9f34d76f",
   "metadata": {},
   "source": [
    "### Training &  Tuning"
   ]
  },
  {
   "cell_type": "code",
   "execution_count": 250,
   "id": "ccbbc59b",
   "metadata": {},
   "outputs": [],
   "source": [
    "# Create instances of the SVM model\n",
    "svm_model = SVC()"
   ]
  },
  {
   "cell_type": "code",
   "execution_count": 251,
   "id": "9ade86ca",
   "metadata": {},
   "outputs": [],
   "source": [
    "# Define the parameter grid for grid search\n",
    "svm_param_grid = {\n",
    "    'C': [0.1, 1, 10],\n",
    "    'kernel': ['linear', 'rbf'],\n",
    "    'gamma': [0.1, 1, 'scale']\n",
    "}"
   ]
  },
  {
   "cell_type": "code",
   "execution_count": 252,
   "id": "ecf8968b",
   "metadata": {},
   "outputs": [
    {
     "ename": "KeyboardInterrupt",
     "evalue": "",
     "output_type": "error",
     "traceback": [
      "\u001b[0;31m---------------------------------------------------------------------------\u001b[0m",
      "\u001b[0;31mKeyboardInterrupt\u001b[0m                         Traceback (most recent call last)",
      "Cell \u001b[0;32mIn[252], line 3\u001b[0m\n\u001b[1;32m      1\u001b[0m \u001b[39m# Perform grid search\u001b[39;00m\n\u001b[1;32m      2\u001b[0m grid_search \u001b[39m=\u001b[39m GridSearchCV(svm_model, param_grid\u001b[39m=\u001b[39msvm_param_grid, cv\u001b[39m=\u001b[39m\u001b[39m5\u001b[39m)\n\u001b[0;32m----> 3\u001b[0m grid_search\u001b[39m.\u001b[39;49mfit(x_train_tfidf, y_train)\n\u001b[1;32m      5\u001b[0m \u001b[39m# Get the mean test scores and standard deviations of test scores for all parameter combinations\u001b[39;00m\n\u001b[1;32m      6\u001b[0m results_df \u001b[39m=\u001b[39m pd\u001b[39m.\u001b[39mDataFrame(grid_search\u001b[39m.\u001b[39mcv_results_)\n",
      "File \u001b[0;32m~/venv/thesis/lib/python3.10/site-packages/sklearn/model_selection/_search.py:874\u001b[0m, in \u001b[0;36mBaseSearchCV.fit\u001b[0;34m(self, X, y, groups, **fit_params)\u001b[0m\n\u001b[1;32m    868\u001b[0m     results \u001b[39m=\u001b[39m \u001b[39mself\u001b[39m\u001b[39m.\u001b[39m_format_results(\n\u001b[1;32m    869\u001b[0m         all_candidate_params, n_splits, all_out, all_more_results\n\u001b[1;32m    870\u001b[0m     )\n\u001b[1;32m    872\u001b[0m     \u001b[39mreturn\u001b[39;00m results\n\u001b[0;32m--> 874\u001b[0m \u001b[39mself\u001b[39;49m\u001b[39m.\u001b[39;49m_run_search(evaluate_candidates)\n\u001b[1;32m    876\u001b[0m \u001b[39m# multimetric is determined here because in the case of a callable\u001b[39;00m\n\u001b[1;32m    877\u001b[0m \u001b[39m# self.scoring the return type is only known after calling\u001b[39;00m\n\u001b[1;32m    878\u001b[0m first_test_score \u001b[39m=\u001b[39m all_out[\u001b[39m0\u001b[39m][\u001b[39m\"\u001b[39m\u001b[39mtest_scores\u001b[39m\u001b[39m\"\u001b[39m]\n",
      "File \u001b[0;32m~/venv/thesis/lib/python3.10/site-packages/sklearn/model_selection/_search.py:1388\u001b[0m, in \u001b[0;36mGridSearchCV._run_search\u001b[0;34m(self, evaluate_candidates)\u001b[0m\n\u001b[1;32m   1386\u001b[0m \u001b[39mdef\u001b[39;00m \u001b[39m_run_search\u001b[39m(\u001b[39mself\u001b[39m, evaluate_candidates):\n\u001b[1;32m   1387\u001b[0m \u001b[39m    \u001b[39m\u001b[39m\"\"\"Search all candidates in param_grid\"\"\"\u001b[39;00m\n\u001b[0;32m-> 1388\u001b[0m     evaluate_candidates(ParameterGrid(\u001b[39mself\u001b[39;49m\u001b[39m.\u001b[39;49mparam_grid))\n",
      "File \u001b[0;32m~/venv/thesis/lib/python3.10/site-packages/sklearn/model_selection/_search.py:821\u001b[0m, in \u001b[0;36mBaseSearchCV.fit.<locals>.evaluate_candidates\u001b[0;34m(candidate_params, cv, more_results)\u001b[0m\n\u001b[1;32m    813\u001b[0m \u001b[39mif\u001b[39;00m \u001b[39mself\u001b[39m\u001b[39m.\u001b[39mverbose \u001b[39m>\u001b[39m \u001b[39m0\u001b[39m:\n\u001b[1;32m    814\u001b[0m     \u001b[39mprint\u001b[39m(\n\u001b[1;32m    815\u001b[0m         \u001b[39m\"\u001b[39m\u001b[39mFitting \u001b[39m\u001b[39m{0}\u001b[39;00m\u001b[39m folds for each of \u001b[39m\u001b[39m{1}\u001b[39;00m\u001b[39m candidates,\u001b[39m\u001b[39m\"\u001b[39m\n\u001b[1;32m    816\u001b[0m         \u001b[39m\"\u001b[39m\u001b[39m totalling \u001b[39m\u001b[39m{2}\u001b[39;00m\u001b[39m fits\u001b[39m\u001b[39m\"\u001b[39m\u001b[39m.\u001b[39mformat(\n\u001b[1;32m    817\u001b[0m             n_splits, n_candidates, n_candidates \u001b[39m*\u001b[39m n_splits\n\u001b[1;32m    818\u001b[0m         )\n\u001b[1;32m    819\u001b[0m     )\n\u001b[0;32m--> 821\u001b[0m out \u001b[39m=\u001b[39m parallel(\n\u001b[1;32m    822\u001b[0m     delayed(_fit_and_score)(\n\u001b[1;32m    823\u001b[0m         clone(base_estimator),\n\u001b[1;32m    824\u001b[0m         X,\n\u001b[1;32m    825\u001b[0m         y,\n\u001b[1;32m    826\u001b[0m         train\u001b[39m=\u001b[39;49mtrain,\n\u001b[1;32m    827\u001b[0m         test\u001b[39m=\u001b[39;49mtest,\n\u001b[1;32m    828\u001b[0m         parameters\u001b[39m=\u001b[39;49mparameters,\n\u001b[1;32m    829\u001b[0m         split_progress\u001b[39m=\u001b[39;49m(split_idx, n_splits),\n\u001b[1;32m    830\u001b[0m         candidate_progress\u001b[39m=\u001b[39;49m(cand_idx, n_candidates),\n\u001b[1;32m    831\u001b[0m         \u001b[39m*\u001b[39;49m\u001b[39m*\u001b[39;49mfit_and_score_kwargs,\n\u001b[1;32m    832\u001b[0m     )\n\u001b[1;32m    833\u001b[0m     \u001b[39mfor\u001b[39;49;00m (cand_idx, parameters), (split_idx, (train, test)) \u001b[39min\u001b[39;49;00m product(\n\u001b[1;32m    834\u001b[0m         \u001b[39menumerate\u001b[39;49m(candidate_params), \u001b[39menumerate\u001b[39;49m(cv\u001b[39m.\u001b[39;49msplit(X, y, groups))\n\u001b[1;32m    835\u001b[0m     )\n\u001b[1;32m    836\u001b[0m )\n\u001b[1;32m    838\u001b[0m \u001b[39mif\u001b[39;00m \u001b[39mlen\u001b[39m(out) \u001b[39m<\u001b[39m \u001b[39m1\u001b[39m:\n\u001b[1;32m    839\u001b[0m     \u001b[39mraise\u001b[39;00m \u001b[39mValueError\u001b[39;00m(\n\u001b[1;32m    840\u001b[0m         \u001b[39m\"\u001b[39m\u001b[39mNo fits were performed. \u001b[39m\u001b[39m\"\u001b[39m\n\u001b[1;32m    841\u001b[0m         \u001b[39m\"\u001b[39m\u001b[39mWas the CV iterator empty? \u001b[39m\u001b[39m\"\u001b[39m\n\u001b[1;32m    842\u001b[0m         \u001b[39m\"\u001b[39m\u001b[39mWere there no candidates?\u001b[39m\u001b[39m\"\u001b[39m\n\u001b[1;32m    843\u001b[0m     )\n",
      "File \u001b[0;32m~/venv/thesis/lib/python3.10/site-packages/sklearn/utils/parallel.py:63\u001b[0m, in \u001b[0;36mParallel.__call__\u001b[0;34m(self, iterable)\u001b[0m\n\u001b[1;32m     58\u001b[0m config \u001b[39m=\u001b[39m get_config()\n\u001b[1;32m     59\u001b[0m iterable_with_config \u001b[39m=\u001b[39m (\n\u001b[1;32m     60\u001b[0m     (_with_config(delayed_func, config), args, kwargs)\n\u001b[1;32m     61\u001b[0m     \u001b[39mfor\u001b[39;00m delayed_func, args, kwargs \u001b[39min\u001b[39;00m iterable\n\u001b[1;32m     62\u001b[0m )\n\u001b[0;32m---> 63\u001b[0m \u001b[39mreturn\u001b[39;00m \u001b[39msuper\u001b[39;49m()\u001b[39m.\u001b[39;49m\u001b[39m__call__\u001b[39;49m(iterable_with_config)\n",
      "File \u001b[0;32m~/venv/thesis/lib/python3.10/site-packages/joblib/parallel.py:1088\u001b[0m, in \u001b[0;36mParallel.__call__\u001b[0;34m(self, iterable)\u001b[0m\n\u001b[1;32m   1085\u001b[0m \u001b[39mif\u001b[39;00m \u001b[39mself\u001b[39m\u001b[39m.\u001b[39mdispatch_one_batch(iterator):\n\u001b[1;32m   1086\u001b[0m     \u001b[39mself\u001b[39m\u001b[39m.\u001b[39m_iterating \u001b[39m=\u001b[39m \u001b[39mself\u001b[39m\u001b[39m.\u001b[39m_original_iterator \u001b[39mis\u001b[39;00m \u001b[39mnot\u001b[39;00m \u001b[39mNone\u001b[39;00m\n\u001b[0;32m-> 1088\u001b[0m \u001b[39mwhile\u001b[39;00m \u001b[39mself\u001b[39;49m\u001b[39m.\u001b[39;49mdispatch_one_batch(iterator):\n\u001b[1;32m   1089\u001b[0m     \u001b[39mpass\u001b[39;00m\n\u001b[1;32m   1091\u001b[0m \u001b[39mif\u001b[39;00m pre_dispatch \u001b[39m==\u001b[39m \u001b[39m\"\u001b[39m\u001b[39mall\u001b[39m\u001b[39m\"\u001b[39m \u001b[39mor\u001b[39;00m n_jobs \u001b[39m==\u001b[39m \u001b[39m1\u001b[39m:\n\u001b[1;32m   1092\u001b[0m     \u001b[39m# The iterable was consumed all at once by the above for loop.\u001b[39;00m\n\u001b[1;32m   1093\u001b[0m     \u001b[39m# No need to wait for async callbacks to trigger to\u001b[39;00m\n\u001b[1;32m   1094\u001b[0m     \u001b[39m# consumption.\u001b[39;00m\n",
      "File \u001b[0;32m~/venv/thesis/lib/python3.10/site-packages/joblib/parallel.py:901\u001b[0m, in \u001b[0;36mParallel.dispatch_one_batch\u001b[0;34m(self, iterator)\u001b[0m\n\u001b[1;32m    899\u001b[0m     \u001b[39mreturn\u001b[39;00m \u001b[39mFalse\u001b[39;00m\n\u001b[1;32m    900\u001b[0m \u001b[39melse\u001b[39;00m:\n\u001b[0;32m--> 901\u001b[0m     \u001b[39mself\u001b[39;49m\u001b[39m.\u001b[39;49m_dispatch(tasks)\n\u001b[1;32m    902\u001b[0m     \u001b[39mreturn\u001b[39;00m \u001b[39mTrue\u001b[39;00m\n",
      "File \u001b[0;32m~/venv/thesis/lib/python3.10/site-packages/joblib/parallel.py:819\u001b[0m, in \u001b[0;36mParallel._dispatch\u001b[0;34m(self, batch)\u001b[0m\n\u001b[1;32m    817\u001b[0m \u001b[39mwith\u001b[39;00m \u001b[39mself\u001b[39m\u001b[39m.\u001b[39m_lock:\n\u001b[1;32m    818\u001b[0m     job_idx \u001b[39m=\u001b[39m \u001b[39mlen\u001b[39m(\u001b[39mself\u001b[39m\u001b[39m.\u001b[39m_jobs)\n\u001b[0;32m--> 819\u001b[0m     job \u001b[39m=\u001b[39m \u001b[39mself\u001b[39;49m\u001b[39m.\u001b[39;49m_backend\u001b[39m.\u001b[39;49mapply_async(batch, callback\u001b[39m=\u001b[39;49mcb)\n\u001b[1;32m    820\u001b[0m     \u001b[39m# A job can complete so quickly than its callback is\u001b[39;00m\n\u001b[1;32m    821\u001b[0m     \u001b[39m# called before we get here, causing self._jobs to\u001b[39;00m\n\u001b[1;32m    822\u001b[0m     \u001b[39m# grow. To ensure correct results ordering, .insert is\u001b[39;00m\n\u001b[1;32m    823\u001b[0m     \u001b[39m# used (rather than .append) in the following line\u001b[39;00m\n\u001b[1;32m    824\u001b[0m     \u001b[39mself\u001b[39m\u001b[39m.\u001b[39m_jobs\u001b[39m.\u001b[39minsert(job_idx, job)\n",
      "File \u001b[0;32m~/venv/thesis/lib/python3.10/site-packages/joblib/_parallel_backends.py:208\u001b[0m, in \u001b[0;36mSequentialBackend.apply_async\u001b[0;34m(self, func, callback)\u001b[0m\n\u001b[1;32m    206\u001b[0m \u001b[39mdef\u001b[39;00m \u001b[39mapply_async\u001b[39m(\u001b[39mself\u001b[39m, func, callback\u001b[39m=\u001b[39m\u001b[39mNone\u001b[39;00m):\n\u001b[1;32m    207\u001b[0m \u001b[39m    \u001b[39m\u001b[39m\"\"\"Schedule a func to be run\"\"\"\u001b[39;00m\n\u001b[0;32m--> 208\u001b[0m     result \u001b[39m=\u001b[39m ImmediateResult(func)\n\u001b[1;32m    209\u001b[0m     \u001b[39mif\u001b[39;00m callback:\n\u001b[1;32m    210\u001b[0m         callback(result)\n",
      "File \u001b[0;32m~/venv/thesis/lib/python3.10/site-packages/joblib/_parallel_backends.py:597\u001b[0m, in \u001b[0;36mImmediateResult.__init__\u001b[0;34m(self, batch)\u001b[0m\n\u001b[1;32m    594\u001b[0m \u001b[39mdef\u001b[39;00m \u001b[39m__init__\u001b[39m(\u001b[39mself\u001b[39m, batch):\n\u001b[1;32m    595\u001b[0m     \u001b[39m# Don't delay the application, to avoid keeping the input\u001b[39;00m\n\u001b[1;32m    596\u001b[0m     \u001b[39m# arguments in memory\u001b[39;00m\n\u001b[0;32m--> 597\u001b[0m     \u001b[39mself\u001b[39m\u001b[39m.\u001b[39mresults \u001b[39m=\u001b[39m batch()\n",
      "File \u001b[0;32m~/venv/thesis/lib/python3.10/site-packages/joblib/parallel.py:288\u001b[0m, in \u001b[0;36mBatchedCalls.__call__\u001b[0;34m(self)\u001b[0m\n\u001b[1;32m    284\u001b[0m \u001b[39mdef\u001b[39;00m \u001b[39m__call__\u001b[39m(\u001b[39mself\u001b[39m):\n\u001b[1;32m    285\u001b[0m     \u001b[39m# Set the default nested backend to self._backend but do not set the\u001b[39;00m\n\u001b[1;32m    286\u001b[0m     \u001b[39m# change the default number of processes to -1\u001b[39;00m\n\u001b[1;32m    287\u001b[0m     \u001b[39mwith\u001b[39;00m parallel_backend(\u001b[39mself\u001b[39m\u001b[39m.\u001b[39m_backend, n_jobs\u001b[39m=\u001b[39m\u001b[39mself\u001b[39m\u001b[39m.\u001b[39m_n_jobs):\n\u001b[0;32m--> 288\u001b[0m         \u001b[39mreturn\u001b[39;00m [func(\u001b[39m*\u001b[39margs, \u001b[39m*\u001b[39m\u001b[39m*\u001b[39mkwargs)\n\u001b[1;32m    289\u001b[0m                 \u001b[39mfor\u001b[39;00m func, args, kwargs \u001b[39min\u001b[39;00m \u001b[39mself\u001b[39m\u001b[39m.\u001b[39mitems]\n",
      "File \u001b[0;32m~/venv/thesis/lib/python3.10/site-packages/joblib/parallel.py:288\u001b[0m, in \u001b[0;36m<listcomp>\u001b[0;34m(.0)\u001b[0m\n\u001b[1;32m    284\u001b[0m \u001b[39mdef\u001b[39;00m \u001b[39m__call__\u001b[39m(\u001b[39mself\u001b[39m):\n\u001b[1;32m    285\u001b[0m     \u001b[39m# Set the default nested backend to self._backend but do not set the\u001b[39;00m\n\u001b[1;32m    286\u001b[0m     \u001b[39m# change the default number of processes to -1\u001b[39;00m\n\u001b[1;32m    287\u001b[0m     \u001b[39mwith\u001b[39;00m parallel_backend(\u001b[39mself\u001b[39m\u001b[39m.\u001b[39m_backend, n_jobs\u001b[39m=\u001b[39m\u001b[39mself\u001b[39m\u001b[39m.\u001b[39m_n_jobs):\n\u001b[0;32m--> 288\u001b[0m         \u001b[39mreturn\u001b[39;00m [func(\u001b[39m*\u001b[39;49margs, \u001b[39m*\u001b[39;49m\u001b[39m*\u001b[39;49mkwargs)\n\u001b[1;32m    289\u001b[0m                 \u001b[39mfor\u001b[39;00m func, args, kwargs \u001b[39min\u001b[39;00m \u001b[39mself\u001b[39m\u001b[39m.\u001b[39mitems]\n",
      "File \u001b[0;32m~/venv/thesis/lib/python3.10/site-packages/sklearn/utils/parallel.py:123\u001b[0m, in \u001b[0;36m_FuncWrapper.__call__\u001b[0;34m(self, *args, **kwargs)\u001b[0m\n\u001b[1;32m    121\u001b[0m     config \u001b[39m=\u001b[39m {}\n\u001b[1;32m    122\u001b[0m \u001b[39mwith\u001b[39;00m config_context(\u001b[39m*\u001b[39m\u001b[39m*\u001b[39mconfig):\n\u001b[0;32m--> 123\u001b[0m     \u001b[39mreturn\u001b[39;00m \u001b[39mself\u001b[39;49m\u001b[39m.\u001b[39;49mfunction(\u001b[39m*\u001b[39;49margs, \u001b[39m*\u001b[39;49m\u001b[39m*\u001b[39;49mkwargs)\n",
      "File \u001b[0;32m~/venv/thesis/lib/python3.10/site-packages/sklearn/model_selection/_validation.py:686\u001b[0m, in \u001b[0;36m_fit_and_score\u001b[0;34m(estimator, X, y, scorer, train, test, verbose, parameters, fit_params, return_train_score, return_parameters, return_n_test_samples, return_times, return_estimator, split_progress, candidate_progress, error_score)\u001b[0m\n\u001b[1;32m    684\u001b[0m         estimator\u001b[39m.\u001b[39mfit(X_train, \u001b[39m*\u001b[39m\u001b[39m*\u001b[39mfit_params)\n\u001b[1;32m    685\u001b[0m     \u001b[39melse\u001b[39;00m:\n\u001b[0;32m--> 686\u001b[0m         estimator\u001b[39m.\u001b[39;49mfit(X_train, y_train, \u001b[39m*\u001b[39;49m\u001b[39m*\u001b[39;49mfit_params)\n\u001b[1;32m    688\u001b[0m \u001b[39mexcept\u001b[39;00m \u001b[39mException\u001b[39;00m:\n\u001b[1;32m    689\u001b[0m     \u001b[39m# Note fit time as time until error\u001b[39;00m\n\u001b[1;32m    690\u001b[0m     fit_time \u001b[39m=\u001b[39m time\u001b[39m.\u001b[39mtime() \u001b[39m-\u001b[39m start_time\n",
      "File \u001b[0;32m~/venv/thesis/lib/python3.10/site-packages/sklearn/svm/_base.py:252\u001b[0m, in \u001b[0;36mBaseLibSVM.fit\u001b[0;34m(self, X, y, sample_weight)\u001b[0m\n\u001b[1;32m    249\u001b[0m     \u001b[39mprint\u001b[39m(\u001b[39m\"\u001b[39m\u001b[39m[LibSVM]\u001b[39m\u001b[39m\"\u001b[39m, end\u001b[39m=\u001b[39m\u001b[39m\"\u001b[39m\u001b[39m\"\u001b[39m)\n\u001b[1;32m    251\u001b[0m seed \u001b[39m=\u001b[39m rnd\u001b[39m.\u001b[39mrandint(np\u001b[39m.\u001b[39miinfo(\u001b[39m\"\u001b[39m\u001b[39mi\u001b[39m\u001b[39m\"\u001b[39m)\u001b[39m.\u001b[39mmax)\n\u001b[0;32m--> 252\u001b[0m fit(X, y, sample_weight, solver_type, kernel, random_seed\u001b[39m=\u001b[39;49mseed)\n\u001b[1;32m    253\u001b[0m \u001b[39m# see comment on the other call to np.iinfo in this file\u001b[39;00m\n\u001b[1;32m    255\u001b[0m \u001b[39mself\u001b[39m\u001b[39m.\u001b[39mshape_fit_ \u001b[39m=\u001b[39m X\u001b[39m.\u001b[39mshape \u001b[39mif\u001b[39;00m \u001b[39mhasattr\u001b[39m(X, \u001b[39m\"\u001b[39m\u001b[39mshape\u001b[39m\u001b[39m\"\u001b[39m) \u001b[39melse\u001b[39;00m (n_samples,)\n",
      "File \u001b[0;32m~/venv/thesis/lib/python3.10/site-packages/sklearn/svm/_base.py:373\u001b[0m, in \u001b[0;36mBaseLibSVM._sparse_fit\u001b[0;34m(self, X, y, sample_weight, solver_type, kernel, random_seed)\u001b[0m\n\u001b[1;32m    359\u001b[0m kernel_type \u001b[39m=\u001b[39m \u001b[39mself\u001b[39m\u001b[39m.\u001b[39m_sparse_kernels\u001b[39m.\u001b[39mindex(kernel)\n\u001b[1;32m    361\u001b[0m libsvm_sparse\u001b[39m.\u001b[39mset_verbosity_wrap(\u001b[39mself\u001b[39m\u001b[39m.\u001b[39mverbose)\n\u001b[1;32m    363\u001b[0m (\n\u001b[1;32m    364\u001b[0m     \u001b[39mself\u001b[39m\u001b[39m.\u001b[39msupport_,\n\u001b[1;32m    365\u001b[0m     \u001b[39mself\u001b[39m\u001b[39m.\u001b[39msupport_vectors_,\n\u001b[1;32m    366\u001b[0m     dual_coef_data,\n\u001b[1;32m    367\u001b[0m     \u001b[39mself\u001b[39m\u001b[39m.\u001b[39mintercept_,\n\u001b[1;32m    368\u001b[0m     \u001b[39mself\u001b[39m\u001b[39m.\u001b[39m_n_support,\n\u001b[1;32m    369\u001b[0m     \u001b[39mself\u001b[39m\u001b[39m.\u001b[39m_probA,\n\u001b[1;32m    370\u001b[0m     \u001b[39mself\u001b[39m\u001b[39m.\u001b[39m_probB,\n\u001b[1;32m    371\u001b[0m     \u001b[39mself\u001b[39m\u001b[39m.\u001b[39mfit_status_,\n\u001b[1;32m    372\u001b[0m     \u001b[39mself\u001b[39m\u001b[39m.\u001b[39m_num_iter,\n\u001b[0;32m--> 373\u001b[0m ) \u001b[39m=\u001b[39m libsvm_sparse\u001b[39m.\u001b[39;49mlibsvm_sparse_train(\n\u001b[1;32m    374\u001b[0m     X\u001b[39m.\u001b[39;49mshape[\u001b[39m1\u001b[39;49m],\n\u001b[1;32m    375\u001b[0m     X\u001b[39m.\u001b[39;49mdata,\n\u001b[1;32m    376\u001b[0m     X\u001b[39m.\u001b[39;49mindices,\n\u001b[1;32m    377\u001b[0m     X\u001b[39m.\u001b[39;49mindptr,\n\u001b[1;32m    378\u001b[0m     y,\n\u001b[1;32m    379\u001b[0m     solver_type,\n\u001b[1;32m    380\u001b[0m     kernel_type,\n\u001b[1;32m    381\u001b[0m     \u001b[39mself\u001b[39;49m\u001b[39m.\u001b[39;49mdegree,\n\u001b[1;32m    382\u001b[0m     \u001b[39mself\u001b[39;49m\u001b[39m.\u001b[39;49m_gamma,\n\u001b[1;32m    383\u001b[0m     \u001b[39mself\u001b[39;49m\u001b[39m.\u001b[39;49mcoef0,\n\u001b[1;32m    384\u001b[0m     \u001b[39mself\u001b[39;49m\u001b[39m.\u001b[39;49mtol,\n\u001b[1;32m    385\u001b[0m     \u001b[39mself\u001b[39;49m\u001b[39m.\u001b[39;49mC,\n\u001b[1;32m    386\u001b[0m     \u001b[39m# TODO(1.4): Replace \"_class_weight\" with \"class_weight_\"\u001b[39;49;00m\n\u001b[1;32m    387\u001b[0m     \u001b[39mgetattr\u001b[39;49m(\u001b[39mself\u001b[39;49m, \u001b[39m\"\u001b[39;49m\u001b[39m_class_weight\u001b[39;49m\u001b[39m\"\u001b[39;49m, np\u001b[39m.\u001b[39;49mempty(\u001b[39m0\u001b[39;49m)),\n\u001b[1;32m    388\u001b[0m     sample_weight,\n\u001b[1;32m    389\u001b[0m     \u001b[39mself\u001b[39;49m\u001b[39m.\u001b[39;49mnu,\n\u001b[1;32m    390\u001b[0m     \u001b[39mself\u001b[39;49m\u001b[39m.\u001b[39;49mcache_size,\n\u001b[1;32m    391\u001b[0m     \u001b[39mself\u001b[39;49m\u001b[39m.\u001b[39;49mepsilon,\n\u001b[1;32m    392\u001b[0m     \u001b[39mint\u001b[39;49m(\u001b[39mself\u001b[39;49m\u001b[39m.\u001b[39;49mshrinking),\n\u001b[1;32m    393\u001b[0m     \u001b[39mint\u001b[39;49m(\u001b[39mself\u001b[39;49m\u001b[39m.\u001b[39;49mprobability),\n\u001b[1;32m    394\u001b[0m     \u001b[39mself\u001b[39;49m\u001b[39m.\u001b[39;49mmax_iter,\n\u001b[1;32m    395\u001b[0m     random_seed,\n\u001b[1;32m    396\u001b[0m )\n\u001b[1;32m    398\u001b[0m \u001b[39mself\u001b[39m\u001b[39m.\u001b[39m_warn_from_fit_status()\n\u001b[1;32m    400\u001b[0m \u001b[39mif\u001b[39;00m \u001b[39mhasattr\u001b[39m(\u001b[39mself\u001b[39m, \u001b[39m\"\u001b[39m\u001b[39mclasses_\u001b[39m\u001b[39m\"\u001b[39m):\n",
      "File \u001b[0;32msklearn/svm/_libsvm_sparse.pyx:191\u001b[0m, in \u001b[0;36msklearn.svm._libsvm_sparse.libsvm_sparse_train\u001b[0;34m()\u001b[0m\n",
      "File \u001b[0;32m/cvmfs/hpc.rug.nl/versions/2023.01/rocky8/x86_64/amd/zen3/software/SciPy-bundle/2022.05-foss-2022a/lib/python3.10/site-packages/scipy/sparse/_compressed.py:26\u001b[0m, in \u001b[0;36m_cs_matrix.__init__\u001b[0;34m(self, arg1, shape, dtype, copy)\u001b[0m\n\u001b[1;32m     23\u001b[0m \u001b[39mclass\u001b[39;00m \u001b[39m_cs_matrix\u001b[39;00m(_data_matrix, _minmax_mixin, IndexMixin):\n\u001b[1;32m     24\u001b[0m \u001b[39m    \u001b[39m\u001b[39m\"\"\"base matrix class for compressed row- and column-oriented matrices\"\"\"\u001b[39;00m\n\u001b[0;32m---> 26\u001b[0m     \u001b[39mdef\u001b[39;00m \u001b[39m__init__\u001b[39m(\u001b[39mself\u001b[39m, arg1, shape\u001b[39m=\u001b[39m\u001b[39mNone\u001b[39;00m, dtype\u001b[39m=\u001b[39m\u001b[39mNone\u001b[39;00m, copy\u001b[39m=\u001b[39m\u001b[39mFalse\u001b[39;00m):\n\u001b[1;32m     27\u001b[0m         _data_matrix\u001b[39m.\u001b[39m\u001b[39m__init__\u001b[39m(\u001b[39mself\u001b[39m)\n\u001b[1;32m     29\u001b[0m         \u001b[39mif\u001b[39;00m isspmatrix(arg1):\n",
      "\u001b[0;31mKeyboardInterrupt\u001b[0m: "
     ]
    }
   ],
   "source": [
    "# Perform grid search\n",
    "grid_search = GridSearchCV(svm_model, param_grid=svm_param_grid, cv=5)\n",
    "grid_search.fit(x_train_tfidf, y_train)\n",
    "\n",
    "# Get the mean test scores and standard deviations of test scores for all parameter combinations\n",
    "results_df = pd.DataFrame(grid_search.cv_results_)\n",
    "sorted_results = results_df.sort_values(by=['mean_test_score', 'std_test_score'], ascending=[False, True])\n",
    "top3_models = sorted_results[:5] # TODO: update to 3\n",
    "print_top3_models(top3_models)\n",
    "\n",
    "top3_models = sorted_results[:3] # TODO: and delete this"
   ]
  },
  {
   "attachments": {},
   "cell_type": "markdown",
   "id": "ceb654f8",
   "metadata": {},
   "source": [
    "### Evaluation"
   ]
  },
  {
   "attachments": {},
   "cell_type": "markdown",
   "id": "525c68dd",
   "metadata": {},
   "source": [
    "#### Validation set"
   ]
  },
  {
   "cell_type": "code",
   "execution_count": null,
   "id": "94f4da28",
   "metadata": {
    "scrolled": true
   },
   "outputs": [],
   "source": [
    "top3_params = top3_models['params'].values\n",
    "res_filename = \"svm_results.txt\"\n",
    "\n",
    "# Evaluate the top 3 models on the validation set\n",
    "svm_cand_0 = SVC(**top3_params[0])\n",
    "svm_cand_0.fit(x_train_tfidf, y_train)\n",
    "evaluate_model(rf_cand_0, \"Training-SVM-0\", x_train_tfidf, y_train, top3_params[0], res_filename, only_metrics=True)\n",
    "evaluate_model(rf_cand_0, \"Validation-SVM-0\", x_val_tfidf, y_val, top3_params[0], res_filename, only_metrics=True)\n",
    "\n",
    "svm_cand_1 = SVC(**top3_params[1])\n",
    "svm_cand_1.fit(x_train_tfidf, y_train)\n",
    "evaluate_model(rf_cand_1, \"Training-SVM-1\", x_train_tfidf, y_train, top3_params[1], res_filename, only_metrics=True)\n",
    "evaluate_model(rf_cand_1, \"Validation-SVM-1\", x_val_tfidf, y_val, top3_params[1], res_filename, only_metrics=True)\n",
    "\n",
    "\n",
    "svm_cand_2 = SVC(**top3_params[2])\n",
    "svm_cand_2.fit(x_train_tfidf, y_train)\n",
    "evaluate_model(rf_cand_2, \"Training-SVM-2\", x_train_tfidf, y_train, top3_params[2], res_filename, only_metrics=True)\n",
    "evaluate_model(rf_cand_2, \"Validation-SVM-2\", x_val_tfidf, y_val, top3_params[2], res_filename, only_metrics=True)"
   ]
  },
  {
   "attachments": {},
   "cell_type": "markdown",
   "id": "0071c488",
   "metadata": {},
   "source": [
    "#### Test Set"
   ]
  },
  {
   "cell_type": "code",
   "execution_count": null,
   "id": "d2f8eb48",
   "metadata": {},
   "outputs": [],
   "source": [
    "# Set the best model and evaluate the models on the test data #TODO\n",
    "svm_best = svm_cand_0\n",
    "y_pred = svm_best.predict(x_test_tfidf)\n",
    "evaluate_model(svm_best, \"SVM-best\", x_test_tfidf, y_test, only_metrics=False)"
   ]
  },
  {
   "attachments": {},
   "cell_type": "markdown",
   "id": "9982ae27",
   "metadata": {},
   "source": [
    "# Encode Data"
   ]
  },
  {
   "cell_type": "code",
   "execution_count": null,
   "id": "b5d99acb",
   "metadata": {},
   "outputs": [],
   "source": [
    "# Find maximum sequence length\n",
    "max_seq_length = max([len(doc.split()) for doc in x_train])\n",
    "print(f'\\nMaximum review length: {max_seq_length}')"
   ]
  },
  {
   "cell_type": "code",
   "execution_count": null,
   "id": "9b12065e",
   "metadata": {},
   "outputs": [],
   "source": [
    "# Fit tokenizer (on training data)\n",
    "tokenizer = Tokenizer()\n",
    "# Remove default filters, including punctuation\n",
    "tokenizer.filters = \"\"  \n",
    "# Disable lowercase conversion\n",
    "tokenizer.lower = False  \n",
    "tokenizer.fit_on_texts(x_train) "
   ]
  },
  {
   "cell_type": "code",
   "execution_count": null,
   "id": "dbb76b88",
   "metadata": {},
   "outputs": [],
   "source": [
    "def encode_text(lines, tokenizer, max_length):\n",
    "    # Integer encode\n",
    "    encoded_seq = tokenizer.texts_to_sequences(lines)\n",
    "    # Pad the encoded sequences\n",
    "    padded = pad_sequences(encoded_seq, maxlen=max_length, padding='post')\n",
    "\n",
    "    return padded"
   ]
  },
  {
   "cell_type": "code",
   "execution_count": null,
   "id": "7655e1b1",
   "metadata": {},
   "outputs": [],
   "source": [
    "# Encode Data\n",
    "x_train_encoded = encode_text(x_train, tokenizer, max_seq_length)\n",
    "x_val_encoded = encode_text(x_val, tokenizer, max_seq_length)\n",
    "x_test_encoded = encode_text(x_test, tokenizer, max_seq_length)\n",
    "\n",
    "print(\"Encoded-data shapes:\\n* train: {}\\n* validation: {}\\n* test: {}\\n\".format(x_train_encoded.shape, x_val_encoded.shape, x_test_encoded.shape))\n",
    "print(f\"x_train_encoded[:3]:\\n{x_val_encoded[:3]}\")"
   ]
  },
  {
   "cell_type": "code",
   "execution_count": null,
   "id": "e193568e",
   "metadata": {},
   "outputs": [],
   "source": [
    "# Restructure labels\n",
    "y_train = y_train.values\n",
    "y_val = y_val.values\n",
    "y_test = y_test.values\n",
    "print(\"target-data shapes:\\n* train: {}\\n* validation: {}\\n* test: {}\\n\".format(y_train.shape, y_val.shape, y_test.shape))"
   ]
  },
  {
   "attachments": {},
   "cell_type": "markdown",
   "id": "527d5290",
   "metadata": {},
   "source": [
    "# Word2Vec"
   ]
  },
  {
   "cell_type": "code",
   "execution_count": null,
   "id": "80ad4aec",
   "metadata": {},
   "outputs": [],
   "source": [
    "# Total vocabulary size plus 0 for unknown words\n",
    "embedding_vocab_size = len(tokenizer.word_index) + 1\n",
    "print(\"embedding_vocab_size: \", embedding_vocab_size)"
   ]
  },
  {
   "attachments": {},
   "cell_type": "markdown",
   "id": "6a3248ef",
   "metadata": {},
   "source": [
    "Checking why embedding vocab_size is 2 greater than original vocab size due to <empty> \n",
    "    #TODO: remove rows?"
   ]
  },
  {
   "cell_type": "code",
   "execution_count": null,
   "id": "16e71425",
   "metadata": {},
   "outputs": [],
   "source": [
    "# Convert the tokenizer word index into a set\n",
    "tokenizer_words = set(tokenizer.word_index.keys())\n",
    "\n",
    "# Convert the manual vocabulary into a set\n",
    "vocab_set = set(vocab)\n",
    "\n",
    "# Find the words in tokenizer but not in vocab\n",
    "tokenizer_only_words = tokenizer_words.difference(vocab_set)\n",
    "\n",
    "print(\"Words in tokenizer but not in vocab:\")\n",
    "print(tokenizer_only_words)"
   ]
  },
  {
   "cell_type": "code",
   "execution_count": null,
   "id": "9b891123",
   "metadata": {},
   "outputs": [],
   "source": [
    "# TODO: gigaword or twitter?\n",
    "def load_embedding():\n",
    "    # Check if the pre-trained Word2Vec model is already downloaded\n",
    "    #w2v_pretrained_model = \"glove-twitter-100\"\n",
    "    w2v_pretrained_model = \"glove-wiki-gigaword-100\"\n",
    "    w2v_pretrained_model_filename = str(w2v_pretrained_model) + \"-word2vec.txt\"\n",
    "    if not os.path.exists(w2v_pretrained_model_filename):\n",
    "        print(\"\\nw2v model doesn't exist\")\n",
    "        # If the model does not exist, download it\n",
    "        model = api.load(\"glove-twitter-100\")\n",
    "        # Save the word2vec embeddings in the appropriate format\n",
    "        model.save_word2vec_format(w2v_pretrained_model_filename, binary=False)\n",
    "\n",
    "    # load embedding into memory, skip first line\n",
    "    print(\"Loading w2v model...\")\n",
    "    file = open(w2v_pretrained_model_filename, 'r', encoding='utf8')\n",
    "    lines = file.readlines()[1:]\n",
    "    file.close()\n",
    "    # create a map of words to vectors\n",
    "    embedding = dict()\n",
    "    for line in lines:\n",
    "        parts = line.split()\n",
    "        # key is string word, value is numpy array for vector\n",
    "        embedding[parts[0]] = asarray(parts[1:], dtype='float32')\n",
    "    return embedding"
   ]
  },
  {
   "cell_type": "code",
   "execution_count": null,
   "id": "b2010e9d",
   "metadata": {},
   "outputs": [],
   "source": [
    "raw_embedding = load_embedding()"
   ]
  },
  {
   "cell_type": "code",
   "execution_count": null,
   "id": "6f8aec82",
   "metadata": {},
   "outputs": [],
   "source": [
    "def get_weight_matrix(embedding, tokenizer):\n",
    "    # create a weight matrix for the Embedding layer from a loaded embedding\n",
    "\n",
    "    # define weight matrix dimensions with all 0\n",
    "    weight_matrix = np.zeros((embedding_vocab_size, EMBEDDING_DIM))\n",
    "    # step vocab, store vectors using the Tokenizer's integer mapping\n",
    "    count_all = 0\n",
    "    count_na = 0\n",
    "    for word, i in tokenizer.word_index.items():\n",
    "        # TODO: important note, pretrained word2vec model removes all neg_ and emojis (also other words) that are\n",
    "        #  not defined in the model it These values should prob? also be removed from the vocab (and update vocab size) to avoid mismatch in the embedding layer\n",
    "        if word in embedding.keys():\n",
    "            # print(embedding.get(word)[:3])\n",
    "            weight_matrix[i] = embedding.get(word)\n",
    "        else:\n",
    "            #print(word)\n",
    "            count_na += 1\n",
    "        count_all += 1\n",
    "    print(f'count_na/count_all: {str(count_na)}/{count_all}')\n",
    "    print(f\"embedding matrix shape: {weight_matrix.shape}\")\n",
    "\n",
    "    # save model in ASCII (word2vec) format\n",
    "    w2v_filename =  'processed/weight_matrix_word2vec.txt'\n",
    "    file_path = os.path.join(processed_folder_path, w2v_filename)\n",
    "    with open(w2v_filename, 'w') as file:\n",
    "        file.write('\\n'.join(' '.join(str(x) for x in row) for row in weight_matrix))\n",
    "    \n",
    "    return weight_matrix"
   ]
  },
  {
   "cell_type": "code",
   "execution_count": null,
   "id": "b3a6844c",
   "metadata": {},
   "outputs": [],
   "source": [
    "w2v_embedding_vectors = get_weight_matrix(raw_embedding, tokenizer)"
   ]
  },
  {
   "attachments": {},
   "cell_type": "markdown",
   "id": "0fa517b2",
   "metadata": {},
   "source": [
    "# Neural Networks"
   ]
  },
  {
   "cell_type": "code",
   "execution_count": null,
   "id": "15dc440a",
   "metadata": {},
   "outputs": [],
   "source": [
    "from tensorflow.keras.models import Sequential, Model\n",
    "from tensorflow.keras.layers import Input, Embedding, concatenate, LSTM, Dense, Conv1D, Dropout, MaxPooling1D, Flatten"
   ]
  },
  {
   "cell_type": "code",
   "execution_count": null,
   "id": "62ebef08",
   "metadata": {},
   "outputs": [],
   "source": [
    "# Convert sentiment labels to one-hot encoding\n",
    "num_classes = 3  # Number of sentiment classes [pos, neg, neut]\n",
    "y_train_encoded = np.zeros((len(y_train), num_classes))\n",
    "for i, label in enumerate(y_train):\n",
    "    y_train_encoded[i, label - 1] = 1\n",
    "\n",
    "y_val_encoded = np.zeros((len(y_val), num_classes))\n",
    "for i, label in enumerate(y_val):\n",
    "    y_val_encoded[i, label - 1] = 1\n",
    "\n",
    "y_test_encoded = np.zeros((len(y_test), num_classes))\n",
    "for i, label in enumerate(y_test):\n",
    "    y_test_encoded[i, label - 1] = 1\n",
    "\n",
    "    \n",
    "print(\"Check one-hot encoding:\\n\", y_train_encoded[:3])    \n",
    "print(\"\\ny-encoded Data Shape:\\n* train: {}\\n* validation: {}\\n* test: {}\\n\".format(y_train_encoded.shape, y_val_encoded.shape, y_test_encoded.shape))\n",
    "print(\"\\nx_train_encoded - type:\", type(x_train_encoded))\n",
    "print(\"y_train_encoded - type:\", type(y_train_encoded))"
   ]
  },
  {
   "attachments": {},
   "cell_type": "markdown",
   "id": "f0b1edcd",
   "metadata": {},
   "source": [
    "## LSTM"
   ]
  },
  {
   "cell_type": "code",
   "execution_count": null,
   "id": "e4958c92",
   "metadata": {},
   "outputs": [],
   "source": [
    "# TODO: reorganize?\n",
    "# TODO: early stopping?\n",
    "# TODO: evaluation from the general functions\n",
    "# TODO: model architecture aspects (dropout) etc.\n",
    "# TODO: add train accuracy where necessary"
   ]
  },
  {
   "cell_type": "code",
   "execution_count": null,
   "id": "69975c41",
   "metadata": {},
   "outputs": [],
   "source": [
    "from tensorflow.keras.models import Sequential\n",
    "from tensorflow.keras.layers import Embedding, Dropout, LSTM, Dense\n",
    "from tensorflow.keras.wrappers.scikit_learn import KerasClassifier\n",
    "from tensorflow.keras.optimizers import Adam, SGD, RMSprop, Adagrad\n",
    "from itertools import product"
   ]
  },
  {
   "cell_type": "code",
   "execution_count": null,
   "id": "ebeefe88",
   "metadata": {},
   "outputs": [],
   "source": [
    "def calculate_metrics(score, model_name):\n",
    "    acc =  (score[1] * 100)\n",
    "    loss = score[0]\n",
    "    print(\"{} Accuracy: {}\".format(model_name, acc))\n",
    "    print(\"{} Loss: {}\".format(model_name, loss))\n",
    "    \n",
    "    return acc, loss"
   ]
  },
  {
   "cell_type": "code",
   "execution_count": null,
   "id": "7df1bc9a",
   "metadata": {},
   "outputs": [],
   "source": [
    "def save_results(accuracy, loss, report, model_name):\n",
    "        # Save results\n",
    "    save_dir = f'results/{model_name}_results.txt'\n",
    "    with open(save_dir, 'w') as file:\n",
    "        file.write(f'{model_name} Accuracy: {accuracy}\\n')\n",
    "        file.write(f'{model_name} Loss: {loss}\\n')\n",
    "        file.write(\"\\n\\n\")\n",
    "        file.write(report)"
   ]
  },
  {
   "cell_type": "code",
   "execution_count": null,
   "id": "5f0f987b",
   "metadata": {},
   "outputs": [],
   "source": [
    "def evaluate_model(model, model_name, x_test_encoded, y_test_encoded, y_test_true, params):\n",
    "    print(f'{model_name} Testing complete!\\n')\n",
    "    \n",
    "    score = model.evaluate(x_test_encoded, y_test_encoded, verbose=0)\n",
    "    # Calculate and save metrics\n",
    "    loss, accuracy = calculate_metrics(score, model_name)\n",
    "    \n",
    "    # Predict labels for the validation set\n",
    "    y_pred = model.predict(x_test_encoded)\n",
    "    # Convert one-hot encoded labels back to original format\n",
    "    y_pred = np.argmax(y_pred, axis=1)     \n",
    "    # Calculate classification report\n",
    "    report = calculate_classification_report(y_test_true, y_pred)\n",
    "    \n",
    "    # Save results\n",
    "    save_results(accuracy, loss, report, model_name)\n",
    "\n",
    "    # Plot accuracy # TODO\n",
    "    #plot(history, model_name)\n",
    "\n",
    "    # Plot confusion matrix # TODO\n",
    "    senti_labels = ['negative', 'neutral', 'positive']\n",
    "    #plot_confusion_matrix(y_test, y_pred, senti_labels, model_name)\n",
    "    \n",
    "    print(\"Params: {}\\n\".format(params))"
   ]
  },
  {
   "cell_type": "code",
   "execution_count": null,
   "id": "2a97d5c1",
   "metadata": {},
   "outputs": [],
   "source": [
    "def predict_data(x_val_encoded, y_val_encoded, model, model_name, params):\n",
    "    score = model.evaluate(x_val_encoded, y_val_encoded, verbose=0)\n",
    "    \n",
    "    # Calculate metrics\n",
    "    loss, accuracy = calculate_metrics(score, model_name)\n",
    "    print(\"Params: {}\\n\".format(params))"
   ]
  },
  {
   "attachments": {},
   "cell_type": "markdown",
   "id": "c8fdb95a",
   "metadata": {},
   "source": [
    "### Single - Input"
   ]
  },
  {
   "cell_type": "code",
   "execution_count": null,
   "id": "b78e953d",
   "metadata": {},
   "outputs": [],
   "source": [
    "# Define a function to create the LSTM model\n",
    "def define_lstm_model(units, dropout_rate): #optimizer, learning_rate\n",
    "    single_lstm_model = Sequential()\n",
    "    single_lstm_model.add(Embedding(embedding_vocab_size, EMBEDDING_DIM, input_length=max_seq_length))\n",
    "    single_lstm_model.add(Dropout(dropout_rate))\n",
    "    single_lstm_model.add(LSTM(units=units))\n",
    "    single_lstm_model.add(Dense(3, activation='softmax'))\n",
    "    single_lstm_model.compile(optimizer='adam', loss='categorical_crossentropy', metrics=['accuracy'])\n",
    "    return single_lstm_model"
   ]
  },
  {
   "cell_type": "code",
   "execution_count": null,
   "id": "c05e8a79",
   "metadata": {},
   "outputs": [],
   "source": [
    "# TODO: set epochs and batch size\n",
    "single_lstm_model = KerasClassifier(build_fn=define_lstm_model, verbose=0)"
   ]
  },
  {
   "cell_type": "code",
   "execution_count": null,
   "id": "46363d33",
   "metadata": {},
   "outputs": [],
   "source": [
    "# Define the hyperparameters to tune\n",
    "lstm_param_grid = {\n",
    "    'units': [32, 64, 128],\n",
    "    'dropout_rate': [0.3, 0.5, 0.7],\n",
    "    #'optimizer': [Adam, SGD, RMSprop, Adagrad],\n",
    "    #'learning_rate': [0.001, 0.01, 0.1]\n",
    "}"
   ]
  },
  {
   "cell_type": "code",
   "execution_count": null,
   "id": "5ce49c88",
   "metadata": {},
   "outputs": [],
   "source": [
    "# Perform grid search\n",
    "grid_search = GridSearchCV(estimator=single_lstm_model, param_grid=lstm_param_grid, cv=3)\n",
    "grid_search.fit(x_train_encoded, y_train_encoded)\n",
    "\n",
    "# Get the best parameters and best score from grid search\n",
    "best_params = grid_search.best_params_\n",
    "best_score = grid_search.best_score_\n",
    "print(\"Best Parameters: \", best_params)\n",
    "print(\"Best Score: \", best_score)\n",
    "\n",
    "# Get the mean test scores and standard deviations of test scores for all parameter combinations\n",
    "results_df = pd.DataFrame(grid_search.cv_results_)\n",
    "sorted_results = results_df.sort_values(by='mean_test_score', ascending=False)\n",
    "top3_models = sorted_results[:5] # TODO: update 10 to 3\n",
    "print_top3_models(top3_models)\n",
    "top3_models = sorted_results[:3] # TODO: and delete this\n",
    "top3_params = top3_models['params'].values"
   ]
  },
  {
   "attachments": {},
   "cell_type": "markdown",
   "id": "7d084baf",
   "metadata": {},
   "source": [
    "### Evaluation"
   ]
  },
  {
   "attachments": {},
   "cell_type": "markdown",
   "id": "7c5e9303",
   "metadata": {},
   "source": [
    "#### Validation set"
   ]
  },
  {
   "cell_type": "code",
   "execution_count": null,
   "id": "0a4a0578",
   "metadata": {},
   "outputs": [],
   "source": [
    "# Evaluate the top 3 models on the validation set\n",
    "# TODO: remove f1_score  \n",
    "# TODO: early stopping & batch_size?\n",
    "single_lstm_candidate_1 = define_lstm_model(units=top3_params[0]['units'], dropout_rate=top3_params[0]['dropout_rate'])\n",
    "single_lstm_candidate_1.fit(x_train_encoded, y_train_encoded, epochs=3)\n",
    "\n",
    "single_lstm_candidate_2 = define_lstm_model(units=top3_params[1]['units'], dropout_rate=top3_params[1]['dropout_rate'])\n",
    "single_lstm_candidate_2.fit(x_train_encoded, y_train_encoded, epochs=3)\n",
    "\n",
    "single_lstm_candidate_3 = define_lstm_model(units=top3_params[2]['units'], dropout_rate=top3_params[2]['dropout_rate'])\n",
    "single_lstm_candidate_3.fit(x_train_encoded, y_train_encoded, epochs=3)\n",
    "\n",
    "\n",
    "# TODO: after fixing plotting set boolean to include or exclude plotting etc.\n",
    "predict_data(x_val_encoded, y_val_encoded, single_lstm_candidate_1,  \"LSTM-single-1\", top3_params[0])\n",
    "predict_data(x_val_encoded, y_val_encoded, single_lstm_candidate_2, \"LSTM-single-2\", top3_params[1])\n",
    "predict_data(x_val_encoded, y_val_encoded, single_lstm_candidate_3, \"LSTM-single-3\", top3_params[2])"
   ]
  },
  {
   "attachments": {},
   "cell_type": "markdown",
   "id": "cc6833b2",
   "metadata": {},
   "source": [
    "#### Test set"
   ]
  },
  {
   "cell_type": "code",
   "execution_count": null,
   "id": "d6fc7ac9",
   "metadata": {},
   "outputs": [],
   "source": [
    "# Set the best model and evaluate the models on the test data #TODO\n",
    "single_lstm_best = single_lstm_candidate_1\n",
    "evaluate_model(single_lstm_best,  \"LSTM-single-best\", x_test_encoded, y_test_encoded, y_test, top3_params[0])"
   ]
  },
  {
   "attachments": {},
   "cell_type": "markdown",
   "id": "e7ab0df6",
   "metadata": {},
   "source": [
    "### Multi - Input"
   ]
  },
  {
   "cell_type": "code",
   "execution_count": null,
   "id": "288cfd2e",
   "metadata": {},
   "outputs": [],
   "source": [
    "# TODO: copy-paste above to multi\n",
    "def define_multi_channel_lstm_model(units1, units2, dense_units):\n",
    "    # Vocabulary-based embedding layer\n",
    "    inputs1 = Input(shape=(max_seq_length,))\n",
    "    embedding1 = Embedding(embedding_vocab_size, EMBEDDING_DIM,\n",
    "                           input_length=max_seq_length)(inputs1)\n",
    "    lstm1 = LSTM(units=units1)(embedding1)\n",
    "\n",
    "    # Word2Vec embedding layer\n",
    "    inputs2 = Input(shape=(max_seq_length,))\n",
    "    embedding2 = Embedding(embedding_vocab_size, EMBEDDING_DIM,\n",
    "                           input_length=max_seq_length,\n",
    "                           weights=[w2v_embedding_vectors], trainable=False)(inputs2)\n",
    "    lstm2 = LSTM(units=units2)(embedding2)\n",
    "\n",
    "    # Concatenate the two inputs\n",
    "    merged = concatenate([lstm1, lstm2])\n",
    "\n",
    "    # Dense layer for the merged inputs & Output Layer\n",
    "    merged_dense = Dense(units=dense_units, activation='relu')(merged)\n",
    "    outputs = Dense(3, activation='softmax')(merged_dense)\n",
    "\n",
    "    # Create the model\n",
    "    model = Model(inputs=[inputs1, inputs2], outputs=outputs)\n",
    "\n",
    "    # Compile the model\n",
    "    model.compile(optimizer='adam', loss='categorical_crossentropy', metrics=['accuracy'])\n",
    "    print(model.summary())\n",
    "\n",
    "    return model"
   ]
  },
  {
   "cell_type": "code",
   "execution_count": null,
   "id": "ef03deb6",
   "metadata": {},
   "outputs": [],
   "source": [
    "multi_lstm_model = KerasClassifier(build_fn=define_multi_channel_lstm_model, verbose=0)\n",
    "# multi_lstm_model = define_multi_channel_lstm_model()"
   ]
  },
  {
   "cell_type": "code",
   "execution_count": null,
   "id": "d4ce7f0f",
   "metadata": {},
   "outputs": [],
   "source": [
    "# Define the hyperparameters to tune\n",
    "multi_lstm_param_grid = {\n",
    "    'units1': [64, 128],\n",
    "    'units2': [64, 128],\n",
    "    'dense_units': [32, 64],\n",
    "    #'batch_size': [16, 32],\n",
    "    #'epochs': [10, 20]\n",
    "}"
   ]
  },
  {
   "cell_type": "code",
   "execution_count": null,
   "id": "1cf7203d",
   "metadata": {},
   "outputs": [],
   "source": [
    "param_combinations = product(*multi_lstm_param_grid.values())\n",
    "models = []\n",
    "\n",
    "for params in param_combinations:\n",
    "    print(params)\n",
    "    units1, units2, dense_units = params\n",
    "    \n",
    "    multi_lstm_model = define_multi_channel_lstm_model(\n",
    "        units1=units1,\n",
    "        units2=units2,\n",
    "        dense_units=dense_units\n",
    "    )\n",
    "    \n",
    "    x_train = [x_train_encoded, x_train_encoded]\n",
    "    y_train = asarray(y_train_encoded)\n",
    "    \n",
    "    multi_lstm_model.fit(x_train, y_train)\n",
    "    loss, accuracy = multi_lstm_model.evaluate(x_train, y_train)\n",
    "    \n",
    "    accuracy = accuracy * 100\n",
    "    models.append({\n",
    "            'units1': units1,\n",
    "            'units2': units2,\n",
    "            'dense_units': dense_units,\n",
    "            'loss': loss,\n",
    "            'accuracy': accuracy\n",
    "        })\n",
    " "
   ]
  },
  {
   "cell_type": "code",
   "execution_count": null,
   "id": "ae7a5efa",
   "metadata": {},
   "outputs": [],
   "source": [
    "def print_top3_models(top3_models):\n",
    "    print(\"\\nTop 3 parameter combinations ranked by performance (from best to worst):\")\n",
    "    for index, row in top3_models.iterrows():\n",
    "        units1 = row['units1']\n",
    "        units2 = row['units2']\n",
    "        dense_units = row['dense_units']\n",
    "        loss = row['loss']\n",
    "        accuracy = row['accuracy']\n",
    "        \n",
    "        print(f\"Accuracy: {accuracy:.4f}, Loss: {loss:.4f} for units1: {units1}, units2: {units2}, dense_units: {dense_units}\")"
   ]
  },
  {
   "cell_type": "code",
   "execution_count": null,
   "id": "82f03c16",
   "metadata": {},
   "outputs": [],
   "source": [
    "# Convert the list of models to a pandas DataFrame\n",
    "top3_models = pd.DataFrame(models)\n",
    "\n",
    "# Sort models based on accuracy in descending order and loss in ascending order\n",
    "top3_models = top3_models.sort_values(by=['accuracy', 'loss'], ascending=[False, False])\n",
    "\n",
    "top3_models = models[:5] # TODO: change 5 to 3\n",
    "top3_models = pd.DataFrame(top3_models)\n",
    "\n",
    "print_top3_models(top3_models)"
   ]
  },
  {
   "cell_type": "code",
   "execution_count": null,
   "id": "14999c21",
   "metadata": {},
   "outputs": [],
   "source": [
    "for index, row in top3_models.iterrows():\n",
    "    units1 = int(row['units1'])\n",
    "    units2 = int(row['units2'])\n",
    "    dense_units = int(row['dense_units'])\n",
    "\n",
    "    multi_lstm_candidate_model = define_multi_channel_lstm_model(\n",
    "        units1=units1,\n",
    "        units2=units2,\n",
    "        dense_units=dense_units\n",
    "    )\n",
    "\n",
    "    x_train = [x_train_encoded, x_train_encoded]\n",
    "    y_train = asarray(y_train_encoded)\n",
    "\n",
    "    multi_lstm_candidate_model.fit(x_train, y_train)\n",
    "    # save the model\n",
    "    multi_lstm_model.save(f'multi-lstm-model-{index}.h5')\n",
    "\n",
    "    x_val = [x_val_encoded, x_val_encoded]\n",
    "    predict_data(x_val, y_val_encoded, multi_lstm_candidate_model,  f\"LSTM-multi-{index}\", top3_params[0])\n"
   ]
  },
  {
   "cell_type": "code",
   "execution_count": null,
   "id": "1c4410f6",
   "metadata": {},
   "outputs": [],
   "source": [
    "from keras.models import load_model\n",
    "\n",
    "# set index and load the model\n",
    "index = 0\n",
    "multi_lstm_best = load_model(f'multi-lstm-model-{index}.h5')\n",
    "x_test = [x_test_encoded, x_test_encoded]\n",
    "evaluate_model(multi_lstm_best,  \"LSTM-multi-best\", x_test, y_test_encoded, y_test, top3_params[0])\n"
   ]
  },
  {
   "attachments": {},
   "cell_type": "markdown",
   "id": "5d38e720",
   "metadata": {},
   "source": [
    "### Evaluation"
   ]
  },
  {
   "attachments": {},
   "cell_type": "markdown",
   "id": "658bc4eb",
   "metadata": {},
   "source": [
    "#### Validation set"
   ]
  },
  {
   "attachments": {},
   "cell_type": "markdown",
   "id": "bae840e2",
   "metadata": {},
   "source": [
    "#### Test set"
   ]
  }
 ],
 "metadata": {
  "kernelspec": {
   "display_name": "Python 3 (ipykernel)",
   "language": "python",
   "name": "python3"
  },
  "language_info": {
   "codemirror_mode": {
    "name": "ipython",
    "version": 3
   },
   "file_extension": ".py",
   "mimetype": "text/x-python",
   "name": "python",
   "nbconvert_exporter": "python",
   "pygments_lexer": "ipython3",
   "version": "3.10.8"
  }
 },
 "nbformat": 4,
 "nbformat_minor": 5
}
