{
 "cells": [
  {
   "cell_type": "code",
   "execution_count": 18,
   "metadata": {},
   "outputs": [],
   "source": [
    "import os\n",
    "import pandas as pd\n",
    "import numpy as np\n",
    "import matplotlib.pyplot as plt\n",
    "import multiprocessing\n",
    "import pickle\n",
    "\n",
    "import re\n",
    "import emoji\n",
    "import numpy as np\n",
    "from nltk.tokenize.casual import EMOTICON_RE\n",
    "\n",
    "from tqdm import tqdm\n",
    "#nltk.download('wordnet')\n",
    "#nltk.download('words')\n",
    "from nltk.sentiment.util import mark_negation\n",
    "from nltk.tokenize import TweetTokenizer\n",
    "from nltk.corpus import stopwords\n",
    "from nltk.stem import WordNetLemmatizer\n",
    "from spellchecker import SpellChecker\n",
    "\n",
    "from collections import Counter\n",
    "from wordcloud import WordCloud\n",
    "from nltk import FreqDist\n",
    "\n",
    "from sklearn.model_selection import train_test_split\n",
    "from imblearn.over_sampling import RandomOverSampler\n",
    "from imblearn.under_sampling import RandomUnderSampler\n",
    "from imblearn.pipeline import Pipeline\n",
    "\n",
    "DATASET_COLUMNS = ['Id', 'Review', 'Sentiment']\n",
    "senti_labels = {1: 'Negative', 2: 'Neutral', 3: 'Positive'}\n",
    "senti_categories = list(senti_labels.values())\n",
    "NUM_of_CLASSES = 3\n",
    "\n",
    "input_folder_path = \"./pls/Thesis_Jupyter_Final/input/\"\n",
    "processed_folder_path = \"./pls/Thesis_Jupyter_Final/processed\"\n",
    "data_filename = \"reviews_data.csv\"\n",
    "cleaned_data_filename = \"cleaned_data.csv\"\n",
    "vocab_filename = 'vocab.txt'"
   ]
  },
  {
   "attachments": {},
   "cell_type": "markdown",
   "metadata": {},
   "source": [
    "Goal of project: \n",
    "\n",
    "This notebook includes: (steps)"
   ]
  },
  {
   "attachments": {},
   "cell_type": "markdown",
   "metadata": {},
   "source": [
    "# Load Data\n",
    "\n",
    "First, we load and explore the dataset and apply some initial processing such as setting the '*Id*' column as index and removing any empty rows."
   ]
  },
  {
   "cell_type": "code",
   "execution_count": 19,
   "metadata": {},
   "outputs": [],
   "source": [
    "def drop_missing(data):\n",
    "    # Remove any rows with missing values and reset the index\n",
    "    data.replace('', np.nan, inplace=True)\n",
    "    data = data.dropna()\n",
    "    data.reset_index(drop=True, inplace=True)\n",
    "    return data"
   ]
  },
  {
   "cell_type": "code",
   "execution_count": 20,
   "metadata": {},
   "outputs": [
    {
     "name": "stdout",
     "output_type": "stream",
     "text": [
      "<class 'pandas.core.frame.DataFrame'>\n",
      "RangeIndex: 107018 entries, 0 to 107017\n",
      "Data columns (total 2 columns):\n",
      " #   Column     Non-Null Count   Dtype \n",
      "---  ------     --------------   ----- \n",
      " 0   Review     107018 non-null  object\n",
      " 1   Sentiment  107018 non-null  int64 \n",
      "dtypes: int64(1), object(1)\n",
      "memory usage: 1.6+ MB\n",
      "None\n",
      "\n",
      "Dataset shape: (107018, 2)\n",
      "\n"
     ]
    },
    {
     "data": {
      "text/html": [
       "<div>\n",
       "<style scoped>\n",
       "    .dataframe tbody tr th:only-of-type {\n",
       "        vertical-align: middle;\n",
       "    }\n",
       "\n",
       "    .dataframe tbody tr th {\n",
       "        vertical-align: top;\n",
       "    }\n",
       "\n",
       "    .dataframe thead th {\n",
       "        text-align: right;\n",
       "    }\n",
       "</style>\n",
       "<table border=\"1\" class=\"dataframe\">\n",
       "  <thead>\n",
       "    <tr style=\"text-align: right;\">\n",
       "      <th></th>\n",
       "      <th>Review</th>\n",
       "      <th>Sentiment</th>\n",
       "    </tr>\n",
       "  </thead>\n",
       "  <tbody>\n",
       "    <tr>\n",
       "      <th>0</th>\n",
       "      <td>good and interesting</td>\n",
       "      <td>3</td>\n",
       "    </tr>\n",
       "    <tr>\n",
       "      <th>1</th>\n",
       "      <td>This class is very helpful...</td>\n",
       "      <td>3</td>\n",
       "    </tr>\n",
       "    <tr>\n",
       "      <th>2</th>\n",
       "      <td>like!Prof and TAs are help...</td>\n",
       "      <td>3</td>\n",
       "    </tr>\n",
       "    <tr>\n",
       "      <th>3</th>\n",
       "      <td>Easy to follow and include...</td>\n",
       "      <td>3</td>\n",
       "    </tr>\n",
       "    <tr>\n",
       "      <th>4</th>\n",
       "      <td>Really nice teacher!I coul...</td>\n",
       "      <td>3</td>\n",
       "    </tr>\n",
       "    <tr>\n",
       "      <th>5</th>\n",
       "      <td>Great course - I recommend...</td>\n",
       "      <td>3</td>\n",
       "    </tr>\n",
       "    <tr>\n",
       "      <th>6</th>\n",
       "      <td>One of the most useful cou...</td>\n",
       "      <td>3</td>\n",
       "    </tr>\n",
       "    <tr>\n",
       "      <th>7</th>\n",
       "      <td>I was disappointed because...</td>\n",
       "      <td>2</td>\n",
       "    </tr>\n",
       "    <tr>\n",
       "      <th>8</th>\n",
       "      <td>Super content. I'll defini...</td>\n",
       "      <td>3</td>\n",
       "    </tr>\n",
       "    <tr>\n",
       "      <th>9</th>\n",
       "      <td>One of the excellent cours...</td>\n",
       "      <td>3</td>\n",
       "    </tr>\n",
       "  </tbody>\n",
       "</table>\n",
       "</div>"
      ],
      "text/plain": [
       "                          Review  Sentiment\n",
       "0           good and interesting          3\n",
       "1  This class is very helpful...          3\n",
       "2  like!Prof and TAs are help...          3\n",
       "3  Easy to follow and include...          3\n",
       "4  Really nice teacher!I coul...          3\n",
       "5  Great course - I recommend...          3\n",
       "6  One of the most useful cou...          3\n",
       "7  I was disappointed because...          2\n",
       "8  Super content. I'll defini...          3\n",
       "9  One of the excellent cours...          3"
      ]
     },
     "execution_count": 20,
     "metadata": {},
     "output_type": "execute_result"
    }
   ],
   "source": [
    "data_file_path = os.path.join(input_folder_path, data_filename)\n",
    "df_raw = pd.read_csv(data_file_path)\n",
    "df_raw = df_raw\n",
    "\n",
    "# Set ID as index\n",
    "df_raw.set_index('Id', inplace=True, drop=True)\n",
    "\n",
    "# Remove NaN rows, before cleaning text\n",
    "df_raw = drop_missing(df_raw)\n",
    "\n",
    "print(df_raw.info())\n",
    "print(f'\\nDataset shape: {df_raw.shape}\\n')\n",
    "df_raw.head(10)"
   ]
  },
  {
   "attachments": {},
   "cell_type": "markdown",
   "metadata": {},
   "source": [
    "### Analysing Data (TODO)\n",
    "We then analyse the dataset by observing the distribution of review per sentiment."
   ]
  },
  {
   "cell_type": "code",
   "execution_count": 21,
   "metadata": {},
   "outputs": [],
   "source": [
    "def print_senti_counts(counts):\n",
    "    # Print the number of reviews per sentiment \n",
    "    for senti_value, count in counts.items():\n",
    "        sentiment_name = senti_labels[senti_value]\n",
    "        print(f\"{senti_value} ({sentiment_name}): {count} reviews\")\n",
    "\n",
    "def plot_senti_counts(counts):\n",
    "    # Plot counts per sentiment\n",
    "    colors = ['limegreen', 'dodgerblue', 'red']\n",
    "    plt.pie(counts, colors=colors, autopct='%1.1f%%',  pctdistance=0.8, textprops={'fontsize': 10, 'color': 'black'}, startangle=90)\n",
    "    plt.axis('equal')  # pie as a circle\n",
    "    plt.legend(labels=senti_categories[::-1], loc='lower left')\n",
    "    plt.title('Distribution of Reviews per Sentiment')\n",
    "    plt.show()\n",
    "\n",
    "def count_words(text):\n",
    "    # Count words per review\n",
    "    return len(str(text).split(' '))"
   ]
  },
  {
   "cell_type": "code",
   "execution_count": 22,
   "metadata": {},
   "outputs": [
    {
     "name": "stdout",
     "output_type": "stream",
     "text": [
      "3 (Positive): 97227 reviews\n",
      "2 (Neutral): 5071 reviews\n",
      "1 (Negative): 4720 reviews\n"
     ]
    },
    {
     "data": {
      "image/png": "[encoded data removed]",
      "text/plain": [
       "<Figure size 640x480 with 1 Axes>"
      ]
     },
     "metadata": {},
     "output_type": "display_data"
    }
   ],
   "source": [
    "senti_counts = df_raw['Sentiment'].value_counts()\n",
    "print_senti_counts(senti_counts)\n",
    "plot_senti_counts(senti_counts)"
   ]
  },
  {
   "cell_type": "code",
   "execution_count": 23,
   "metadata": {},
   "outputs": [
    {
     "name": "stdout",
     "output_type": "stream",
     "text": [
      "Total word count:  2661665\n",
      "Average review length: 24.87\n"
     ]
    }
   ],
   "source": [
    "# Calculate total and average word count without adding a new column to the dataframe\n",
    "total_word_count = df_raw['Review'].apply(count_words).sum()\n",
    "avg_review_len = df_raw['Review'].apply(count_words).mean()\n",
    "\n",
    "print(\"Total word count: \", total_word_count)\n",
    "print(f\"Average review length: {avg_review_len:.2f}\")"
   ]
  },
  {
   "cell_type": "code",
   "execution_count": 24,
   "metadata": {},
   "outputs": [],
   "source": [
    "# Create a copy of the original DataFrame to preserve the original data\n",
    "df = df_raw.copy()\n",
    "pd.set_option('display.max_rows', 5000)\n",
    "pd.set_option('display.max_colwidth', 30) "
   ]
  },
  {
   "attachments": {},
   "cell_type": "markdown",
   "metadata": {},
   "source": [
    "## Clean Text"
   ]
  },
  {
   "attachments": {},
   "cell_type": "markdown",
   "metadata": {},
   "source": [
    "Next, we clean the data applying the following techniques (TODO: add info):"
   ]
  },
  {
   "cell_type": "code",
   "execution_count": 25,
   "metadata": {},
   "outputs": [],
   "source": [
    "# Text Cleaning\n",
    "#english_words = set(nltk.corpus.words.words())\n",
    "emojis = [\n",
    "        #HAPPY\n",
    "        \":-)\",\n",
    "        \":)\",\n",
    "        \";)\",\n",
    "        \":o)\",\n",
    "        \":]\",\n",
    "        \":3\",\n",
    "        \":c)\",\n",
    "        \":>\",\n",
    "        \"=]\",\n",
    "        \"8)\",\n",
    "        \"=)\",\n",
    "        \":}\",\n",
    "        \":^)\",\n",
    "        \":-D\",\n",
    "        \":D\",\n",
    "        \"8-D\",\n",
    "        \"8D\",\n",
    "        \"x-D\",\n",
    "        \"xD\",\n",
    "        \"X-D\",\n",
    "        \"XD\",\n",
    "        \"=-D\",\n",
    "        \"=D\",\n",
    "        \"=-3\",\n",
    "        \"=3\",\n",
    "        \":-))\",\n",
    "        \":'-)\",\n",
    "        \":')\",\n",
    "        \":*\",\n",
    "        \":^*\",\n",
    "        \">:P\",\n",
    "        \":-P\",\n",
    "        \":P\",\n",
    "        \"X-P\",\n",
    "        \"x-p\",\n",
    "        \"xp\",\n",
    "        \"XP\",\n",
    "        \":-p\",\n",
    "        \":p\",\n",
    "        \"=p\",\n",
    "        \":-b\",\n",
    "        \":b\",\n",
    "        \">:)\",\n",
    "        \">;)\",\n",
    "        \">:-)\",\n",
    "        \"<3\",\n",
    "        # SAD\n",
    "        \":L\",\n",
    "        \":-/\",\n",
    "        \">:/\",\n",
    "        \":S\",\n",
    "        \">:[\",\n",
    "        \":@\",\n",
    "        \":-(\",\n",
    "        \":[\",\n",
    "        \":-||\",\n",
    "        \"=L\",\n",
    "        \":<\",\n",
    "        \":-[\",\n",
    "        \":-<\",\n",
    "        \"=\\\\\",\n",
    "        \"=/\",\n",
    "        \">:(\",\n",
    "        \":(\",\n",
    "        \">.<\",\n",
    "        \":'-(\",\n",
    "        \":'(\",\n",
    "        \":\\\\\",\n",
    "        \":-c\",\n",
    "        \":c\",\n",
    "        \":{\",\n",
    "        \">:\\\\\",\n",
    "        \";(\",\n",
    "    ]"
   ]
  },
  {
   "cell_type": "code",
   "execution_count": 26,
   "metadata": {},
   "outputs": [
    {
     "data": {
      "text/html": [
       "<div>\n",
       "<style scoped>\n",
       "    .dataframe tbody tr th:only-of-type {\n",
       "        vertical-align: middle;\n",
       "    }\n",
       "\n",
       "    .dataframe tbody tr th {\n",
       "        vertical-align: top;\n",
       "    }\n",
       "\n",
       "    .dataframe thead th {\n",
       "        text-align: right;\n",
       "    }\n",
       "</style>\n",
       "<table border=\"1\" class=\"dataframe\">\n",
       "  <thead>\n",
       "    <tr style=\"text-align: right;\">\n",
       "      <th></th>\n",
       "      <th>Review</th>\n",
       "      <th>Sentiment</th>\n",
       "    </tr>\n",
       "  </thead>\n",
       "  <tbody>\n",
       "    <tr>\n",
       "      <th>0</th>\n",
       "      <td>good and interesting</td>\n",
       "      <td>3</td>\n",
       "    </tr>\n",
       "    <tr>\n",
       "      <th>1</th>\n",
       "      <td>this class is very helpful...</td>\n",
       "      <td>3</td>\n",
       "    </tr>\n",
       "    <tr>\n",
       "      <th>2</th>\n",
       "      <td>like!prof and tas are help...</td>\n",
       "      <td>3</td>\n",
       "    </tr>\n",
       "    <tr>\n",
       "      <th>3</th>\n",
       "      <td>easy to follow and include...</td>\n",
       "      <td>3</td>\n",
       "    </tr>\n",
       "    <tr>\n",
       "      <th>4</th>\n",
       "      <td>really nice teacher!i coul...</td>\n",
       "      <td>3</td>\n",
       "    </tr>\n",
       "  </tbody>\n",
       "</table>\n",
       "</div>"
      ],
      "text/plain": [
       "                          Review  Sentiment\n",
       "0           good and interesting          3\n",
       "1  this class is very helpful...          3\n",
       "2  like!prof and tas are help...          3\n",
       "3  easy to follow and include...          3\n",
       "4  really nice teacher!i coul...          3"
      ]
     },
     "execution_count": 26,
     "metadata": {},
     "output_type": "execute_result"
    }
   ],
   "source": [
    "# 1) Lowercase\n",
    "df['Review'] = df['Review'].str.lower()\n",
    "df.head()"
   ]
  },
  {
   "cell_type": "code",
   "execution_count": 27,
   "metadata": {},
   "outputs": [
    {
     "name": "stdout",
     "output_type": "stream",
     "text": [
      "                               Review  Sentiment\n",
      "0                good and interesting          3\n",
      "1       this class is very helpful...          3\n",
      "2       like!prof and tas are help...          3\n",
      "3       easy to follow and include...          3\n",
      "4       really nice teacher!i coul...          3\n",
      "...                               ...        ...\n",
      "107013  trendy topic with talks fr...          3\n",
      "107014  wonderful! simple and clea...          3\n",
      "107015  an interesting and fun cou...          3\n",
      "107016  very broad perspective, up...          3\n",
      "107017  an informative course on t...          3\n",
      "\n",
      "[107018 rows x 2 columns]\n"
     ]
    }
   ],
   "source": [
    "# 2) Replace contractions with their standard full forms\n",
    "contraction_mapping = {\n",
    "        \"isn't\": \"is not\",\n",
    "        \"aren't\": \"are not\",\n",
    "        \"don't\": \"do not\",\n",
    "        \"doesn't\": \"does not\",\n",
    "        \"wasn't\": \"was not\",\n",
    "        \"weren't\": \"were not\",\n",
    "        \"didn't\": \"did not\",\n",
    "        \"haven't\": \"have not\",\n",
    "        \"hasn't\": \"has not\",\n",
    "        \"hadn't\": \"had not\",\n",
    "        \"won't\": \"will not\",\n",
    "        \"can't\": \"cannot\",\n",
    "        \"couldn't\": \"could not\",\n",
    "        \"shouldn't\": \"should not\",\n",
    "        \"wouldn't\": \"would not\",\n",
    "        \"mightn't\": \"might not\",\n",
    "        \"mustn't\": \"must not\",\n",
    "        }\n",
    "\n",
    "for contraction, standard in contraction_mapping.items():\n",
    "    df['Review'] = df['Review'].str.replace(contraction, standard)\n",
    "\n",
    "print(df)"
   ]
  },
  {
   "cell_type": "code",
   "execution_count": 28,
   "metadata": {},
   "outputs": [
    {
     "name": "stderr",
     "output_type": "stream",
     "text": [
      "/tmp/ipykernel_936275/1580789109.py:3: FutureWarning: The default value of regex will change from True to False in a future version.\n",
      "  df['Review'] = df['Review'].str.replace(pattern, ' ')\n"
     ]
    },
    {
     "name": "stdout",
     "output_type": "stream",
     "text": [
      "                               Review  Sentiment\n",
      "0                good and interesting          3\n",
      "1       this class is very helpful...          3\n",
      "2       like prof and tas are help...          3\n",
      "3       easy to follow and include...          3\n",
      "4       really nice teacher i coul...          3\n",
      "...                               ...        ...\n",
      "107013  trendy topic with talks fr...          3\n",
      "107014  wonderful! simple and clea...          3\n",
      "107015  an interesting and fun cou...          3\n",
      "107016  very broad perspective, up...          3\n",
      "107017  an informative course on t...          3\n",
      "\n",
      "[107018 rows x 2 columns]\n"
     ]
    }
   ],
   "source": [
    "# 3) Remove punctuation in between words e.g. \"course.sometimes\", \"i'll\" and replace with space\n",
    "pattern = r'(?<=\\w)[^\\w\\s]+(?=\\w)'\n",
    "df['Review'] = df['Review'].str.replace(pattern, ' ')\n",
    "print(df)"
   ]
  },
  {
   "cell_type": "code",
   "execution_count": 29,
   "metadata": {},
   "outputs": [
    {
     "data": {
      "text/html": [
       "<div>\n",
       "<style scoped>\n",
       "    .dataframe tbody tr th:only-of-type {\n",
       "        vertical-align: middle;\n",
       "    }\n",
       "\n",
       "    .dataframe tbody tr th {\n",
       "        vertical-align: top;\n",
       "    }\n",
       "\n",
       "    .dataframe thead th {\n",
       "        text-align: right;\n",
       "    }\n",
       "</style>\n",
       "<table border=\"1\" class=\"dataframe\">\n",
       "  <thead>\n",
       "    <tr style=\"text-align: right;\">\n",
       "      <th></th>\n",
       "      <th>Review</th>\n",
       "      <th>Sentiment</th>\n",
       "    </tr>\n",
       "  </thead>\n",
       "  <tbody>\n",
       "    <tr>\n",
       "      <th>0</th>\n",
       "      <td>[good, and, interesting]</td>\n",
       "      <td>3</td>\n",
       "    </tr>\n",
       "    <tr>\n",
       "      <th>1</th>\n",
       "      <td>[this, class, is, very, he...</td>\n",
       "      <td>3</td>\n",
       "    </tr>\n",
       "    <tr>\n",
       "      <th>2</th>\n",
       "      <td>[like, prof, and, tas, are...</td>\n",
       "      <td>3</td>\n",
       "    </tr>\n",
       "    <tr>\n",
       "      <th>3</th>\n",
       "      <td>[easy, to, follow, and, in...</td>\n",
       "      <td>3</td>\n",
       "    </tr>\n",
       "    <tr>\n",
       "      <th>4</th>\n",
       "      <td>[really, nice, teacher, i,...</td>\n",
       "      <td>3</td>\n",
       "    </tr>\n",
       "  </tbody>\n",
       "</table>\n",
       "</div>"
      ],
      "text/plain": [
       "                          Review  Sentiment\n",
       "0       [good, and, interesting]          3\n",
       "1  [this, class, is, very, he...          3\n",
       "2  [like, prof, and, tas, are...          3\n",
       "3  [easy, to, follow, and, in...          3\n",
       "4  [really, nice, teacher, i,...          3"
      ]
     },
     "execution_count": 29,
     "metadata": {},
     "output_type": "execute_result"
    }
   ],
   "source": [
    "# 4) Tokenize text into individual words (removes all extra spaces \\s)\n",
    "tokenizer = TweetTokenizer()\n",
    "df['Review'] = df['Review'].apply(tokenizer.tokenize)\n",
    "df.head()"
   ]
  },
  {
   "cell_type": "code",
   "execution_count": 30,
   "metadata": {},
   "outputs": [
    {
     "name": "stdout",
     "output_type": "stream",
     "text": [
      "                               Review  Sentiment\n",
      "0            [good, and, interesting]          3\n",
      "1       [this, class, is, very, he...          3\n",
      "2       [like, prof, and, tas, are...          3\n",
      "3       [easy, to, follow, and, in...          3\n",
      "4       [really, nice, teacher, i,...          3\n",
      "...                               ...        ...\n",
      "107013  [trendy, topic, with, talk...          3\n",
      "107014  [wonderful, simple, and, c...          3\n",
      "107015  [an, interesting, and, fun...          3\n",
      "107016  [very, broad, perspective,...          3\n",
      "107017  [an, informative, course, ...          3\n",
      "\n",
      "[107018 rows x 2 columns]\n"
     ]
    }
   ],
   "source": [
    "# 5) Remove punctuation first in between words (typo), and then all punctuation and numerals except for tokenized emojis\n",
    "pattern = r\"[^\\w\\s\" + \"\".join(re.escape(e) for e in emojis + list(emoji.EMOJI_DATA.keys())) + \"]|[\\d]+\" # match non-emoji special characters\n",
    "df['Review'] = df['Review'].apply(lambda tokens: [token for token in tokens if not re.match(pattern, token)])\n",
    "print(df)"
   ]
  },
  {
   "cell_type": "code",
   "execution_count": 31,
   "metadata": {},
   "outputs": [
    {
     "name": "stdout",
     "output_type": "stream",
     "text": [
      "                               Review  Sentiment\n",
      "0            [good, and, interesting]          3\n",
      "1       [this, class, is, very, he...          3\n",
      "2       [like, prof, and, tas, are...          3\n",
      "3       [easy, to, follow, and, in...          3\n",
      "4       [really, nice, teacher, co...          3\n",
      "...                               ...        ...\n",
      "107013  [trendy, topic, with, talk...          3\n",
      "107014  [wonderful, simple, and, c...          3\n",
      "107015  [an, interesting, and, fun...          3\n",
      "107016  [very, broad, perspective,...          3\n",
      "107017  [an, informative, course, ...          3\n",
      "\n",
      "[107018 rows x 2 columns]\n"
     ]
    }
   ],
   "source": [
    "# 6) Remove single characters\n",
    "df['Review'] = df['Review'].apply(lambda tokens: [word for word in tokens if len(word) > 1])\n",
    "print(df)"
   ]
  },
  {
   "cell_type": "code",
   "execution_count": 32,
   "metadata": {},
   "outputs": [],
   "source": [
    "# 7) Correct Spelling\n",
    "# Note: also removes '...' that was not removed before\n",
    "def correct_spelling(tokens):\n",
    "    corrected_tokens = []\n",
    "    for token in tokens:\n",
    "        if token in emojis or token in emoji.EMOJI_DATA.keys():\n",
    "            corrected_tokens.append(token)  # If token is an emoji, add it to the corrected tokens\n",
    "        else:\n",
    "            corrected_token = spell_checker.correction(token)\n",
    "            if corrected_token is not None:\n",
    "                corrected_tokens.append(corrected_token)\n",
    "                \n",
    "    return corrected_tokens"
   ]
  },
  {
   "cell_type": "code",
   "execution_count": null,
   "metadata": {},
   "outputs": [],
   "source": [
    "spell_checker = SpellChecker()\n",
    "#df['Review'] = df['Review'].apply(lambda x: list(tqdm(correct_spelling(x), leave=False)))\n",
    "# Apply correct_spelling function using tqdm\n",
    "for i, row in tqdm(df.iterrows(), total=len(df)):\n",
    "    df.at[i, 'Review'] = correct_spelling(row['Review'])\n",
    "    print(\"Processed row:\", i)\n",
    "    \n",
    "print(df)"
   ]
  },
  {
   "cell_type": "code",
   "execution_count": null,
   "metadata": {},
   "outputs": [],
   "source": [
    "# TODO: note to self (to be added to word-doc): If you check token by token, it also removes english words"
   ]
  },
  {
   "cell_type": "code",
   "execution_count": null,
   "metadata": {},
   "outputs": [],
   "source": [
    "# 8) Perform negation tagging\n",
    "df['Review'] = df['Review'].apply(mark_negation)\n",
    "print(df)"
   ]
  },
  {
   "cell_type": "code",
   "execution_count": null,
   "metadata": {},
   "outputs": [],
   "source": [
    "# 9) Remove stopwords --> also removes words like 'not'\n",
    "stop_words = set(stopwords.words('english'))\n",
    "df['Review'] = df['Review'].apply(lambda tokens: [token for token in tokens if token not in stop_words])\n",
    "df['Review'] = df['Review'].apply(lambda tokens: [token for token in tokens if token.split('_')[0] not in stop_words])\n",
    "print(df)"
   ]
  },
  {
   "cell_type": "code",
   "execution_count": null,
   "metadata": {},
   "outputs": [],
   "source": [
    "# 10) Lemmatize words using WordNetLemmatizer (also lemmatizes words removing _NEG)\n",
    "def lemmatize_token(token):\n",
    "    lemmatizer = WordNetLemmatizer()\n",
    "    if \"_NEG\" in token:\n",
    "        word, tag = token.split(\"_NEG\")\n",
    "        return lemmatizer.lemmatize(word) + \"_NEG\"\n",
    "    else:\n",
    "        return lemmatizer.lemmatize(token)"
   ]
  },
  {
   "cell_type": "code",
   "execution_count": null,
   "metadata": {},
   "outputs": [],
   "source": [
    "df['Review'] = df['Review'].apply(lambda tokens: [lemmatize_token(token) for token in tokens])\n",
    "print(df)"
   ]
  },
  {
   "cell_type": "code",
   "execution_count": null,
   "metadata": {},
   "outputs": [],
   "source": [
    "# Convert preprocessed tokens back to string\n",
    "df['Review'] = df['Review'].apply(' '.join)\n",
    "df.head()"
   ]
  },
  {
   "attachments": {},
   "cell_type": "markdown",
   "metadata": {},
   "source": [
    "## Data Cleaning after Text Cleaning"
   ]
  },
  {
   "cell_type": "code",
   "execution_count": null,
   "metadata": {},
   "outputs": [],
   "source": [
    "print(f'Shape before: {df_raw.shape}')\n",
    "print(f'Shape after preprocessing, before removing empty rows: {df.shape}')\n",
    "\n",
    "# Remove NaN rows, after cleaning text\n",
    "df = drop_missing(df) \n",
    "print(f'Shape after preprocessing, after removing empty rows: {df.shape}\\n')"
   ]
  },
  {
   "cell_type": "code",
   "execution_count": null,
   "metadata": {},
   "outputs": [],
   "source": [
    "data_file_path = os.path.join(input_folder_path, cleaned_data_filename)\n",
    "df.to_csv(data_file_path, sep=',', index_label='Id')"
   ]
  },
  {
   "attachments": {},
   "cell_type": "markdown",
   "metadata": {},
   "source": [
    "# EDA Functions"
   ]
  },
  {
   "cell_type": "code",
   "execution_count": null,
   "metadata": {},
   "outputs": [],
   "source": [
    "def make_wordcloud(word_counts):\n",
    "    wordcloud = WordCloud().generate_from_frequencies(word_counts)\n",
    "\n",
    "    # Display the generated image:\n",
    "    plt.imshow(wordcloud, interpolation='bilinear')\n",
    "    plt.axis(\"off\")\n",
    "    plt.show()"
   ]
  },
  {
   "cell_type": "code",
   "execution_count": null,
   "metadata": {},
   "outputs": [],
   "source": [
    "def plot_word_freq_most_common(dataset, num_most_common=60):\n",
    "    all_words = [word for review in dataset for word in review.split()]\n",
    "\n",
    "    fdist = FreqDist(all_words)\n",
    "    plt.figure(figsize=(10, 5))\n",
    "    fdist.plot(num_most_common, title=f'Frequency Distribution of Most Common {num_most_common} Tokens')\n",
    "    plt.show()"
   ]
  },
  {
   "cell_type": "code",
   "execution_count": null,
   "metadata": {},
   "outputs": [],
   "source": [
    "def plot_word_freq_cdf(word_counts, max_count):\n",
    "    frequencies = list(word_counts.values())\n",
    "    sorted_counts = np.sort(frequencies) # ascending\n",
    "\n",
    "    # Calculate the cumulative sum of the sorted frequencies & normalize\n",
    "    cumu_counts = np.cumsum(sorted_counts)\n",
    "    cdf = cumu_counts / cumu_counts[-1]\n",
    "\n",
    "    # Plot the CDF\n",
    "    plt.plot(sorted_counts, cdf)\n",
    "    plt.xlabel('Word Frequency')\n",
    "    plt.ylabel('CDF')\n",
    "    plt.title('CDF of Word Frequencies')\n",
    "    x_ticks = np.arange(0, max_count, 500)\n",
    "    plt.xticks(x_ticks)\n",
    "    plt.grid(True)\n",
    "    plt.show()"
   ]
  },
  {
   "cell_type": "code",
   "execution_count": null,
   "metadata": {},
   "outputs": [],
   "source": [
    "def plot_word_freq_hist(word_counts):\n",
    "    # Set up a figure with two subplots side by side\n",
    "    fig, (ax1, ax2) = plt.subplots(1, 2, figsize=(15, 5))\n",
    "\n",
    "    # Plot word frequency distribution with linear scale\n",
    "    ax1.hist(word_counts.values(), bins=range(1, 50), alpha=0.5)\n",
    "    ax1.set_title('Word Frequency Distribution (Linear Scale)')\n",
    "    ax1.set_xlabel('Word Frequency')\n",
    "    ax1.set_ylabel('Number of Words')\n",
    "\n",
    "    # Plot word frequency distribution with logarithmic scale\n",
    "    ax2.hist(word_counts.values(), bins=range(1, 500, 10), alpha=0.5)\n",
    "    ax2.set_yscale('log')\n",
    "    ax2.set_title('Word Frequency Distribution (Logarithmic Scale)')\n",
    "    ax2.set_xlabel('Word Frequency')\n",
    "    ax2.set_ylabel('Number of Words')"
   ]
  },
  {
   "cell_type": "code",
   "execution_count": null,
   "metadata": {},
   "outputs": [],
   "source": [
    "def calculate_word_statistics(word_counts):\n",
    "    freqs = np.array(list(word_counts.values()))\n",
    "\n",
    "    print(\"Mean frequency: \", np.mean(freqs))\n",
    "    print(\"Median frequency: \", np.median(freqs))\n",
    "    print(\"Max frequency: \", max(freqs))\n",
    "    print(\"Min frequency: \", min(freqs))\n",
    "    print(\"Standard deviation: \", np.std(freqs))\n",
    "    print(\"1st quartile: \", np.percentile(freqs, 25))\n",
    "    print(\"3rd quartile: \", np.percentile(freqs, 75))"
   ]
  },
  {
   "attachments": {},
   "cell_type": "markdown",
   "metadata": {},
   "source": [
    "# Preprocess Data"
   ]
  },
  {
   "attachments": {},
   "cell_type": "markdown",
   "metadata": {},
   "source": [
    "First we load cleaned data."
   ]
  },
  {
   "cell_type": "code",
   "execution_count": null,
   "metadata": {},
   "outputs": [],
   "source": [
    "data_file_path = os.path.join(input_folder_path, cleaned_data_filename)\n",
    "df = pd.read_csv(data_file_path)"
   ]
  },
  {
   "attachments": {},
   "cell_type": "markdown",
   "metadata": {},
   "source": [
    "### Split train and test"
   ]
  },
  {
   "cell_type": "code",
   "execution_count": null,
   "metadata": {},
   "outputs": [],
   "source": [
    "# Split dataset into training and test sets\n",
    "x_train, x_test, y_train, y_test = train_test_split(df['Review'], df['Sentiment'], test_size=0.2, random_state=42)\n",
    "# Split the training dataset further into training and validation sets\n",
    "x_train, x_val, y_train, y_val = train_test_split(x_train, y_train, test_size=0.2, random_state=42)\n",
    "\n",
    "print(\"Data Distribution:\\n* train: {}\\n* validation: {}\\n* test: {}\\n\".format(len(x_train), len(x_val), len(x_test)))\n",
    "print(f\"x_train: {x_train.head()}\")"
   ]
  },
  {
   "attachments": {},
   "cell_type": "markdown",
   "metadata": {},
   "source": [
    "### Create & Analyse Vocabulary"
   ]
  },
  {
   "cell_type": "code",
   "execution_count": null,
   "metadata": {},
   "outputs": [],
   "source": [
    "# Count words to create vocabulary\n",
    "word_freqs = Counter()\n",
    "for review in x_train:\n",
    "    word_freqs.update(review.split())\n",
    "\n",
    "word_freqs_len = len(word_freqs)\n",
    "\n",
    "print(f\"50 Most common words: {word_freqs.most_common(50)}\")\n",
    "print(f\"Unfiltered vocab size: {word_freqs_len}\")"
   ]
  },
  {
   "cell_type": "code",
   "execution_count": null,
   "metadata": {},
   "outputs": [],
   "source": [
    "calculate_word_statistics(word_freqs)"
   ]
  },
  {
   "cell_type": "code",
   "execution_count": null,
   "metadata": {},
   "outputs": [],
   "source": [
    "#make_wordcloud(word_freqs)\n",
    "plot_word_freq_most_common(x_train, 60) # Zipf's law plot, large number of words have very low frequencies\n",
    "plot_word_freq_cdf(word_freqs, max(word_freqs.values()))\n",
    "plot_word_freq_hist(word_freqs)"
   ]
  },
  {
   "attachments": {},
   "cell_type": "markdown",
   "metadata": {},
   "source": [
    "Around 90% of the words in the vocabulary occur 700 times or less."
   ]
  },
  {
   "cell_type": "code",
   "execution_count": null,
   "metadata": {},
   "outputs": [],
   "source": [
    "# PROCESSING-CONSTANTS\n",
    "MIN_WORD_FREQ = 10\n",
    "MAX_WORD_FREQ = 700"
   ]
  },
  {
   "cell_type": "code",
   "execution_count": null,
   "metadata": {},
   "outputs": [],
   "source": [
    "# Filter vocabulary by removing words with frequency less than a set minimum frequency\n",
    "vocab = [word for word, count in word_freqs.items() if (count >= MIN_WORD_FREQ) and (count <= MAX_WORD_FREQ)]\n",
    "vocab_size = len(vocab)\n",
    "print(\"Vocabulary size of {} reduced to {}.\\n\".format(word_freqs_len, vocab_size))\n",
    "print(\"Vocabulary (first 50 tokens):\\n{}\".format(vocab[:50]))"
   ]
  },
  {
   "cell_type": "code",
   "execution_count": null,
   "metadata": {},
   "outputs": [],
   "source": [
    "filtered_word_freq = {word: word_freqs[word] for word in vocab}\n",
    "calculate_word_statistics(filtered_word_freq)"
   ]
  },
  {
   "cell_type": "code",
   "execution_count": null,
   "metadata": {},
   "outputs": [],
   "source": [
    "# Create the folder if it doesn't exist\n",
    "if not os.path.exists(processed_folder_path):\n",
    "    os.makedirs(processed_folder_path)\n",
    "\n",
    "file_path = os.path.join(processed_folder_path, vocab_filename)\n",
    "with open(file_path, 'w') as file:\n",
    "    file.write('\\n'.join(vocab))"
   ]
  },
  {
   "attachments": {},
   "cell_type": "markdown",
   "metadata": {},
   "source": [
    "### Filter data with vocabulary"
   ]
  },
  {
   "cell_type": "code",
   "execution_count": null,
   "metadata": {},
   "outputs": [],
   "source": [
    "def freq_filter_dataset(docs, filename, vocab):\n",
    "    filtered_dataset = []\n",
    "    for doc in docs:\n",
    "        filtered_text = ' '.join([word for word in doc.split() if word in vocab])\n",
    "        filtered_dataset.append(filtered_text)\n",
    "\n",
    "    # Save filtered dataset to a txt file\n",
    "    filtered_filename = f'filtered_{str(filename)}.txt'\n",
    "    file_path = os.path.join(processed_folder_path, filtered_filename)\n",
    "    with open(file_path, 'w') as file:\n",
    "        file.write('\\n'.join(filtered_dataset))\n",
    "\n",
    "    # Convert the processed documents back to pandas.Series\n",
    "    filtered_dataset = pd.Series(filtered_dataset, index=docs.index)\n",
    "\n",
    "\n",
    "    '''\n",
    "    # Convert empty rows to '<empty>'\n",
    "    placeholder = \"<empty>\"\n",
    "    filtered_dataset.replace('', placeholder, inplace=True)\n",
    "    \n",
    "    # Count the number of rows with '<empty>' #TODO: remove empty rows\n",
    "    num_empty_rows = filtered_dataset.str.count('<empty>').sum()\n",
    "    print(f'Number of rows with <empty> for {filename}: {num_empty_rows}')\n",
    "\n",
    "    # TODO: instead of saving, print?\n",
    "    # Save filled dataset to a txt file\n",
    "    filled_filename = f'filled_{str(filename)}.txt'\n",
    "    file_path = os.path.join(processed_folder_path, filled_filename)\n",
    "    with open(file_path, 'w') as file:\n",
    "        file.write('\\n'.join(filtered_dataset))\n",
    "    '''\n",
    "    \n",
    "    return filtered_dataset"
   ]
  },
  {
   "cell_type": "code",
   "execution_count": null,
   "metadata": {},
   "outputs": [],
   "source": [
    "# Filter dataset based on vocabulary\n",
    "x_train = freq_filter_dataset(x_train, \"x_train\", vocab)\n",
    "x_val = freq_filter_dataset(x_val, \"x_val\", vocab)\n",
    "x_test = freq_filter_dataset(x_test, \"x_test\", vocab)\n",
    "\n",
    "print(\"\\nData Distribution:\\n* train: {}\\n* validation: {}\\n* test: {}\\n\".format(len(x_train), len(x_val), len(x_test)))\n",
    "print(f\"x_train - updated: {x_train.head()}\")"
   ]
  },
  {
   "cell_type": "code",
   "execution_count": null,
   "metadata": {},
   "outputs": [],
   "source": [
    "def drop_empty_rows(x, y):\n",
    "    # Merge X and Y datasets\n",
    "    merged = pd.concat([x, y], axis=1)\n",
    "\n",
    "    # Drop empty rows\n",
    "    merged.replace('', np.nan, inplace=True)\n",
    "    merged = merged.dropna(subset=['text'], inplace=True) # TODO: subset?\n",
    "\n",
    "    # Re-assign X and Y datasets\n",
    "    x_filtered = x['Review']\n",
    "    y_filtered = y['Sentiment']\n",
    "\n",
    "    return x_filtered, y_filtered"
   ]
  },
  {
   "cell_type": "code",
   "execution_count": null,
   "metadata": {},
   "outputs": [],
   "source": [
    "x_train, y_train = drop_empty_rows(x_train, y_train)\n",
    "x_val, y_val = drop_empty_rows(x_val, y_val)\n",
    "x_test, y_test = drop_empty_rows(x_test, y_test)\n",
    "print(x_train.shape, y_train.shape())"
   ]
  },
  {
   "cell_type": "code",
   "execution_count": null,
   "metadata": {},
   "outputs": [],
   "source": [
    "# TODO: remove words less than 3 words from data\n",
    "# TODO: remove data rows instead of <empty>\n",
    "# TODO: EDA for raw data\n",
    "# TODO: save train, val, and test data (edit freq_filter function and add a saving function)"
   ]
  },
  {
   "attachments": {},
   "cell_type": "markdown",
   "metadata": {},
   "source": [
    "# Balance Data"
   ]
  },
  {
   "attachments": {},
   "cell_type": "markdown",
   "metadata": {},
   "source": [
    "We remove positive reviews that have 3 words or less..."
   ]
  },
  {
   "cell_type": "code",
   "execution_count": null,
   "metadata": {},
   "outputs": [
    {
     "name": "stdout",
     "output_type": "stream",
     "text": [
      "Dataset length reduced from 107018 to 100825\n",
      "Dataset shape: (100825, 2)\n",
      "3 (Positive): 91034 reviews\n",
      "2 (Neutral): 5071 reviews\n",
      "1 (Negative): 4720 reviews\n"
     ]
    },
    {
     "data": {
      "image/png": "[encoded data removed]",
      "text/plain": [
       "<Figure size 640x480 with 1 Axes>"
      ]
     },
     "metadata": {},
     "output_type": "display_data"
    },
    {
     "name": "stdout",
     "output_type": "stream",
     "text": [
      "Total word count:  2650294\n",
      "Average review length: 26.29\n"
     ]
    }
   ],
   "source": [
    "condition = ~((df['Sentiment'] == 3) & (df['Review'].apply(count_words) < 3))\n",
    "df = df[condition]\n",
    "\n",
    "print(f\"Dataset length reduced from {df_raw.shape[0]} to {df.shape[0]}\")"
   ]
  },
  {
   "cell_type": "code",
   "execution_count": null,
   "metadata": {},
   "outputs": [],
   "source": [
    "# The \"strategy\" parameter can take a dict, callable, or str as input\n",
    "# You might need to adjust these parameters according to the distribution of your classes\n",
    "over_strategy = {1: 10000, 2: 10000} # Over-sample minority classes\n",
    "under_strategy = {3: 50000} # Under-sample majority classes\n",
    "\n",
    "# Define pipeline\n",
    "over = RandomOverSampler(sampling_strategy=over_strategy)\n",
    "under = RandomUnderSampler(sampling_strategy=under_strategy)\n",
    "pipeline = Pipeline(steps=[('o', over), ('u', under)])\n",
    "\n",
    "# Applying the balancing pipeline to both x and y datasets\n",
    "x_balanced, y_balanced = pipeline.fit_resample(pd.DataFrame(x_train), y_train)\n",
    "\n",
    "# Print out the new class distribution\n",
    "counter = Counter(y_balanced)\n",
    "print(counter)\n",
    "\n",
    "x_train = x_balanced.copy()\n",
    "y_train = y_balanced.copy()\n",
    "\n",
    "print(x_train, y_train)\n"
   ]
  },
  {
   "cell_type": "code",
   "execution_count": null,
   "metadata": {},
   "outputs": [],
   "source": [
    "print(f\"Dataset shape: {df.shape}\")\n",
    "senti_counts = df['Sentiment'].value_counts()\n",
    "print_senti_counts(senti_counts)\n",
    "plot_senti_counts(senti_counts)\n",
    "\n",
    "# Calculate total and average word count without adding a new column to the dataframe\n",
    "total_word_count = df['Review'].apply(count_words).sum()\n",
    "avg_review_len = df['Review'].apply(count_words).mean()\n",
    "\n",
    "print(\"Total word count: \", total_word_count)\n",
    "print(f\"Average review length: {avg_review_len:.2f}\")"
   ]
  },
  {
   "cell_type": "code",
   "execution_count": null,
   "metadata": {},
   "outputs": [
    {
     "name": "stderr",
     "output_type": "stream",
     "text": [
      "IOPub data rate exceeded.\n",
      "The notebook server will temporarily stop sending output\n",
      "to the client in order to avoid crashing it.\n",
      "To change this limit, set the config variable\n",
      "`--NotebookApp.iopub_data_rate_limit`.\n",
      "\n",
      "Current values:\n",
      "NotebookApp.iopub_data_rate_limit=1000000.0 (bytes/sec)\n",
      "NotebookApp.rate_limit_window=3.0 (secs)\n",
      "\n"
     ]
    }
   ],
   "source": [
    "print(df)"
   ]
  },
  {
   "cell_type": "code",
   "execution_count": null,
   "metadata": {},
   "outputs": [],
   "source": [
    "def save_data(x, y, filename):\n",
    "    # Save filtered dataset to a csv file\n",
    "\n",
    "    # Merge X and Y datasets\n",
    "    merged_df = pd.concat([x, y], axis=1)\n",
    "    file_path = os.path.join(input_folder_path, filename)\n",
    "    merged_df.to_csv(file_path, sep=',', index_label='Id')\n",
    "\n",
    "save_data(x_train, y_train, \"train.csv\")\n",
    "save_data(x_val, y_val, \"val.csv\")\n",
    "save_data(x_test, y_test, \"test.csv\")"
   ]
  }
 ],
 "metadata": {
  "kernelspec": {
   "display_name": "Python 3 (ipykernel)",
   "language": "python",
   "name": "python3"
  },
  "orig_nbformat": 4
 },
 "nbformat": 4,
 "nbformat_minor": 2
}
