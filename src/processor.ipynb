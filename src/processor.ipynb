{
 "cells": [
  {
   "attachments": {},
   "cell_type": "markdown",
   "metadata": {},
   "source": [
    "# Preprocessor"
   ]
  },
  {
   "cell_type": "code",
   "execution_count": 284,
   "metadata": {},
   "outputs": [],
   "source": [
    "# TODO: remove one word lines. But you alraedy do remove all pos under 3 words, so might as well do that for negative and neutral."
   ]
  },
  {
   "cell_type": "code",
   "execution_count": 285,
   "metadata": {},
   "outputs": [],
   "source": [
    "import os\n",
    "import pandas as pd\n",
    "import numpy as np\n",
    "import matplotlib.pyplot as plt\n",
    "import multiprocessing\n",
    "import pickle\n",
    "\n",
    "import re\n",
    "import emoji\n",
    "import numpy as np\n",
    "from nltk.tokenize.casual import EMOTICON_RE\n",
    "\n",
    "from tqdm import tqdm\n",
    "#nltk.download('wordnet')\n",
    "#nltk.download('words')\n",
    "from nltk.sentiment.util import mark_negation\n",
    "from nltk.tokenize import TweetTokenizer\n",
    "from nltk.corpus import stopwords\n",
    "from nltk.stem import WordNetLemmatizer\n",
    "from spellchecker import SpellChecker\n",
    "\n",
    "from collections import Counter\n",
    "from wordcloud import WordCloud\n",
    "from nltk import FreqDist\n",
    "import seaborn as sns\n",
    "\n",
    "from sklearn.model_selection import train_test_split\n",
    "from imblearn.over_sampling import RandomOverSampler\n",
    "from imblearn.under_sampling import RandomUnderSampler\n",
    "from imblearn.pipeline import Pipeline\n",
    "\n",
    "DATASET_COLUMNS = ['Id', 'Review', 'Sentiment']\n",
    "senti_labels = {1: 'Negative', 2: 'Neutral', 3: 'Positive'}\n",
    "senti_categories = list(senti_labels.values())\n",
    "NUM_of_CLASSES = 3\n",
    "\n",
    "input_folder_path = \"./pls/Thesis_Jupyter_Final/src/input/\"\n",
    "processed_folder_path = \"./pls/Thesis_Jupyter_Final/src/processed\"\n",
    "data_filename = \"reviews_data.csv\"\n",
    "cleaned_data_filename = \"cleaned_data.csv\"\n",
    "vocab_filename = 'vocab.txt'"
   ]
  },
  {
   "attachments": {},
   "cell_type": "markdown",
   "metadata": {},
   "source": [
    "Goal of project: \n",
    "\n",
    "This notebook includes: (steps)"
   ]
  },
  {
   "attachments": {},
   "cell_type": "markdown",
   "metadata": {},
   "source": [
    "# Load Data\n",
    "\n",
    "First, we load and explore the dataset and apply some initial processing such as setting the '*Id*' column as index and removing any empty rows."
   ]
  },
  {
   "cell_type": "code",
   "execution_count": 286,
   "metadata": {},
   "outputs": [],
   "source": [
    "def drop_missing(data):\n",
    "    # Remove any rows with missing values and reset the index\n",
    "    data.replace('', np.nan, inplace=True)\n",
    "    data = data.dropna()\n",
    "    data.reset_index(drop=True, inplace=True)\n",
    "    return data"
   ]
  },
  {
   "cell_type": "code",
   "execution_count": 287,
   "metadata": {},
   "outputs": [
    {
     "ename": "FileNotFoundError",
     "evalue": "[Errno 2] No such file or directory: './pls/Thesis_Jupyter_Final/input/reviews_data.csv'",
     "output_type": "error",
     "traceback": [
      "\u001b[0;31m---------------------------------------------------------------------------\u001b[0m",
      "\u001b[0;31mFileNotFoundError\u001b[0m                         Traceback (most recent call last)",
      "Cell \u001b[0;32mIn[287], line 2\u001b[0m\n\u001b[1;32m      1\u001b[0m data_file_path \u001b[39m=\u001b[39m os\u001b[39m.\u001b[39mpath\u001b[39m.\u001b[39mjoin(input_folder_path, data_filename)\n\u001b[0;32m----> 2\u001b[0m df_raw \u001b[39m=\u001b[39m pd\u001b[39m.\u001b[39;49mread_csv(data_file_path)\n\u001b[1;32m      4\u001b[0m \u001b[39m# Set ID as index\u001b[39;00m\n\u001b[1;32m      5\u001b[0m df_raw\u001b[39m.\u001b[39mset_index(\u001b[39m'\u001b[39m\u001b[39mId\u001b[39m\u001b[39m'\u001b[39m, inplace\u001b[39m=\u001b[39m\u001b[39mTrue\u001b[39;00m, drop\u001b[39m=\u001b[39m\u001b[39mTrue\u001b[39;00m)\n",
      "File \u001b[0;32m/cvmfs/hpc.rug.nl/versions/2023.01/rocky8/x86_64/intel/icelake/software/SciPy-bundle/2022.05-foss-2022a/lib/python3.10/site-packages/pandas/util/_decorators.py:311\u001b[0m, in \u001b[0;36mdeprecate_nonkeyword_arguments.<locals>.decorate.<locals>.wrapper\u001b[0;34m(*args, **kwargs)\u001b[0m\n\u001b[1;32m    305\u001b[0m \u001b[39mif\u001b[39;00m \u001b[39mlen\u001b[39m(args) \u001b[39m>\u001b[39m num_allow_args:\n\u001b[1;32m    306\u001b[0m     warnings\u001b[39m.\u001b[39mwarn(\n\u001b[1;32m    307\u001b[0m         msg\u001b[39m.\u001b[39mformat(arguments\u001b[39m=\u001b[39marguments),\n\u001b[1;32m    308\u001b[0m         \u001b[39mFutureWarning\u001b[39;00m,\n\u001b[1;32m    309\u001b[0m         stacklevel\u001b[39m=\u001b[39mstacklevel,\n\u001b[1;32m    310\u001b[0m     )\n\u001b[0;32m--> 311\u001b[0m \u001b[39mreturn\u001b[39;00m func(\u001b[39m*\u001b[39;49margs, \u001b[39m*\u001b[39;49m\u001b[39m*\u001b[39;49mkwargs)\n",
      "File \u001b[0;32m/cvmfs/hpc.rug.nl/versions/2023.01/rocky8/x86_64/intel/icelake/software/SciPy-bundle/2022.05-foss-2022a/lib/python3.10/site-packages/pandas/io/parsers/readers.py:680\u001b[0m, in \u001b[0;36mread_csv\u001b[0;34m(filepath_or_buffer, sep, delimiter, header, names, index_col, usecols, squeeze, prefix, mangle_dupe_cols, dtype, engine, converters, true_values, false_values, skipinitialspace, skiprows, skipfooter, nrows, na_values, keep_default_na, na_filter, verbose, skip_blank_lines, parse_dates, infer_datetime_format, keep_date_col, date_parser, dayfirst, cache_dates, iterator, chunksize, compression, thousands, decimal, lineterminator, quotechar, quoting, doublequote, escapechar, comment, encoding, encoding_errors, dialect, error_bad_lines, warn_bad_lines, on_bad_lines, delim_whitespace, low_memory, memory_map, float_precision, storage_options)\u001b[0m\n\u001b[1;32m    665\u001b[0m kwds_defaults \u001b[39m=\u001b[39m _refine_defaults_read(\n\u001b[1;32m    666\u001b[0m     dialect,\n\u001b[1;32m    667\u001b[0m     delimiter,\n\u001b[0;32m   (...)\u001b[0m\n\u001b[1;32m    676\u001b[0m     defaults\u001b[39m=\u001b[39m{\u001b[39m\"\u001b[39m\u001b[39mdelimiter\u001b[39m\u001b[39m\"\u001b[39m: \u001b[39m\"\u001b[39m\u001b[39m,\u001b[39m\u001b[39m\"\u001b[39m},\n\u001b[1;32m    677\u001b[0m )\n\u001b[1;32m    678\u001b[0m kwds\u001b[39m.\u001b[39mupdate(kwds_defaults)\n\u001b[0;32m--> 680\u001b[0m \u001b[39mreturn\u001b[39;00m _read(filepath_or_buffer, kwds)\n",
      "File \u001b[0;32m/cvmfs/hpc.rug.nl/versions/2023.01/rocky8/x86_64/intel/icelake/software/SciPy-bundle/2022.05-foss-2022a/lib/python3.10/site-packages/pandas/io/parsers/readers.py:575\u001b[0m, in \u001b[0;36m_read\u001b[0;34m(filepath_or_buffer, kwds)\u001b[0m\n\u001b[1;32m    572\u001b[0m _validate_names(kwds\u001b[39m.\u001b[39mget(\u001b[39m\"\u001b[39m\u001b[39mnames\u001b[39m\u001b[39m\"\u001b[39m, \u001b[39mNone\u001b[39;00m))\n\u001b[1;32m    574\u001b[0m \u001b[39m# Create the parser.\u001b[39;00m\n\u001b[0;32m--> 575\u001b[0m parser \u001b[39m=\u001b[39m TextFileReader(filepath_or_buffer, \u001b[39m*\u001b[39;49m\u001b[39m*\u001b[39;49mkwds)\n\u001b[1;32m    577\u001b[0m \u001b[39mif\u001b[39;00m chunksize \u001b[39mor\u001b[39;00m iterator:\n\u001b[1;32m    578\u001b[0m     \u001b[39mreturn\u001b[39;00m parser\n",
      "File \u001b[0;32m/cvmfs/hpc.rug.nl/versions/2023.01/rocky8/x86_64/intel/icelake/software/SciPy-bundle/2022.05-foss-2022a/lib/python3.10/site-packages/pandas/io/parsers/readers.py:933\u001b[0m, in \u001b[0;36mTextFileReader.__init__\u001b[0;34m(self, f, engine, **kwds)\u001b[0m\n\u001b[1;32m    930\u001b[0m     \u001b[39mself\u001b[39m\u001b[39m.\u001b[39moptions[\u001b[39m\"\u001b[39m\u001b[39mhas_index_names\u001b[39m\u001b[39m\"\u001b[39m] \u001b[39m=\u001b[39m kwds[\u001b[39m\"\u001b[39m\u001b[39mhas_index_names\u001b[39m\u001b[39m\"\u001b[39m]\n\u001b[1;32m    932\u001b[0m \u001b[39mself\u001b[39m\u001b[39m.\u001b[39mhandles: IOHandles \u001b[39m|\u001b[39m \u001b[39mNone\u001b[39;00m \u001b[39m=\u001b[39m \u001b[39mNone\u001b[39;00m\n\u001b[0;32m--> 933\u001b[0m \u001b[39mself\u001b[39m\u001b[39m.\u001b[39m_engine \u001b[39m=\u001b[39m \u001b[39mself\u001b[39;49m\u001b[39m.\u001b[39;49m_make_engine(f, \u001b[39mself\u001b[39;49m\u001b[39m.\u001b[39;49mengine)\n",
      "File \u001b[0;32m/cvmfs/hpc.rug.nl/versions/2023.01/rocky8/x86_64/intel/icelake/software/SciPy-bundle/2022.05-foss-2022a/lib/python3.10/site-packages/pandas/io/parsers/readers.py:1217\u001b[0m, in \u001b[0;36mTextFileReader._make_engine\u001b[0;34m(self, f, engine)\u001b[0m\n\u001b[1;32m   1213\u001b[0m     mode \u001b[39m=\u001b[39m \u001b[39m\"\u001b[39m\u001b[39mrb\u001b[39m\u001b[39m\"\u001b[39m\n\u001b[1;32m   1214\u001b[0m \u001b[39m# error: No overload variant of \"get_handle\" matches argument types\u001b[39;00m\n\u001b[1;32m   1215\u001b[0m \u001b[39m# \"Union[str, PathLike[str], ReadCsvBuffer[bytes], ReadCsvBuffer[str]]\"\u001b[39;00m\n\u001b[1;32m   1216\u001b[0m \u001b[39m# , \"str\", \"bool\", \"Any\", \"Any\", \"Any\", \"Any\", \"Any\"\u001b[39;00m\n\u001b[0;32m-> 1217\u001b[0m \u001b[39mself\u001b[39m\u001b[39m.\u001b[39mhandles \u001b[39m=\u001b[39m get_handle(  \u001b[39m# type: ignore[call-overload]\u001b[39;49;00m\n\u001b[1;32m   1218\u001b[0m     f,\n\u001b[1;32m   1219\u001b[0m     mode,\n\u001b[1;32m   1220\u001b[0m     encoding\u001b[39m=\u001b[39;49m\u001b[39mself\u001b[39;49m\u001b[39m.\u001b[39;49moptions\u001b[39m.\u001b[39;49mget(\u001b[39m\"\u001b[39;49m\u001b[39mencoding\u001b[39;49m\u001b[39m\"\u001b[39;49m, \u001b[39mNone\u001b[39;49;00m),\n\u001b[1;32m   1221\u001b[0m     compression\u001b[39m=\u001b[39;49m\u001b[39mself\u001b[39;49m\u001b[39m.\u001b[39;49moptions\u001b[39m.\u001b[39;49mget(\u001b[39m\"\u001b[39;49m\u001b[39mcompression\u001b[39;49m\u001b[39m\"\u001b[39;49m, \u001b[39mNone\u001b[39;49;00m),\n\u001b[1;32m   1222\u001b[0m     memory_map\u001b[39m=\u001b[39;49m\u001b[39mself\u001b[39;49m\u001b[39m.\u001b[39;49moptions\u001b[39m.\u001b[39;49mget(\u001b[39m\"\u001b[39;49m\u001b[39mmemory_map\u001b[39;49m\u001b[39m\"\u001b[39;49m, \u001b[39mFalse\u001b[39;49;00m),\n\u001b[1;32m   1223\u001b[0m     is_text\u001b[39m=\u001b[39;49mis_text,\n\u001b[1;32m   1224\u001b[0m     errors\u001b[39m=\u001b[39;49m\u001b[39mself\u001b[39;49m\u001b[39m.\u001b[39;49moptions\u001b[39m.\u001b[39;49mget(\u001b[39m\"\u001b[39;49m\u001b[39mencoding_errors\u001b[39;49m\u001b[39m\"\u001b[39;49m, \u001b[39m\"\u001b[39;49m\u001b[39mstrict\u001b[39;49m\u001b[39m\"\u001b[39;49m),\n\u001b[1;32m   1225\u001b[0m     storage_options\u001b[39m=\u001b[39;49m\u001b[39mself\u001b[39;49m\u001b[39m.\u001b[39;49moptions\u001b[39m.\u001b[39;49mget(\u001b[39m\"\u001b[39;49m\u001b[39mstorage_options\u001b[39;49m\u001b[39m\"\u001b[39;49m, \u001b[39mNone\u001b[39;49;00m),\n\u001b[1;32m   1226\u001b[0m )\n\u001b[1;32m   1227\u001b[0m \u001b[39massert\u001b[39;00m \u001b[39mself\u001b[39m\u001b[39m.\u001b[39mhandles \u001b[39mis\u001b[39;00m \u001b[39mnot\u001b[39;00m \u001b[39mNone\u001b[39;00m\n\u001b[1;32m   1228\u001b[0m f \u001b[39m=\u001b[39m \u001b[39mself\u001b[39m\u001b[39m.\u001b[39mhandles\u001b[39m.\u001b[39mhandle\n",
      "File \u001b[0;32m/cvmfs/hpc.rug.nl/versions/2023.01/rocky8/x86_64/intel/icelake/software/SciPy-bundle/2022.05-foss-2022a/lib/python3.10/site-packages/pandas/io/common.py:789\u001b[0m, in \u001b[0;36mget_handle\u001b[0;34m(path_or_buf, mode, encoding, compression, memory_map, is_text, errors, storage_options)\u001b[0m\n\u001b[1;32m    784\u001b[0m \u001b[39melif\u001b[39;00m \u001b[39misinstance\u001b[39m(handle, \u001b[39mstr\u001b[39m):\n\u001b[1;32m    785\u001b[0m     \u001b[39m# Check whether the filename is to be opened in binary mode.\u001b[39;00m\n\u001b[1;32m    786\u001b[0m     \u001b[39m# Binary mode does not support 'encoding' and 'newline'.\u001b[39;00m\n\u001b[1;32m    787\u001b[0m     \u001b[39mif\u001b[39;00m ioargs\u001b[39m.\u001b[39mencoding \u001b[39mand\u001b[39;00m \u001b[39m\"\u001b[39m\u001b[39mb\u001b[39m\u001b[39m\"\u001b[39m \u001b[39mnot\u001b[39;00m \u001b[39min\u001b[39;00m ioargs\u001b[39m.\u001b[39mmode:\n\u001b[1;32m    788\u001b[0m         \u001b[39m# Encoding\u001b[39;00m\n\u001b[0;32m--> 789\u001b[0m         handle \u001b[39m=\u001b[39m \u001b[39mopen\u001b[39;49m(\n\u001b[1;32m    790\u001b[0m             handle,\n\u001b[1;32m    791\u001b[0m             ioargs\u001b[39m.\u001b[39;49mmode,\n\u001b[1;32m    792\u001b[0m             encoding\u001b[39m=\u001b[39;49mioargs\u001b[39m.\u001b[39;49mencoding,\n\u001b[1;32m    793\u001b[0m             errors\u001b[39m=\u001b[39;49merrors,\n\u001b[1;32m    794\u001b[0m             newline\u001b[39m=\u001b[39;49m\u001b[39m\"\u001b[39;49m\u001b[39m\"\u001b[39;49m,\n\u001b[1;32m    795\u001b[0m         )\n\u001b[1;32m    796\u001b[0m     \u001b[39melse\u001b[39;00m:\n\u001b[1;32m    797\u001b[0m         \u001b[39m# Binary mode\u001b[39;00m\n\u001b[1;32m    798\u001b[0m         handle \u001b[39m=\u001b[39m \u001b[39mopen\u001b[39m(handle, ioargs\u001b[39m.\u001b[39mmode)\n",
      "\u001b[0;31mFileNotFoundError\u001b[0m: [Errno 2] No such file or directory: './pls/Thesis_Jupyter_Final/input/reviews_data.csv'"
     ]
    }
   ],
   "source": [
    "data_file_path = os.path.join(input_folder_path, data_filename)\n",
    "df_raw = pd.read_csv(data_file_path)\n",
    "\n",
    "# Set ID as index\n",
    "df_raw.set_index('Id', inplace=True, drop=True)\n",
    "\n",
    "# Remove NaN rows, before cleaning text\n",
    "df_raw = drop_missing(df_raw)\n",
    "\n",
    "print(df_raw.info())\n",
    "print(f'\\nDataset shape: {df_raw.shape}\\n')\n",
    "df_raw.head(10)"
   ]
  },
  {
   "attachments": {},
   "cell_type": "markdown",
   "metadata": {},
   "source": [
    "### Analysing Data (TODO)\n",
    "We then analyse the dataset by observing the distribution of review per sentiment."
   ]
  },
  {
   "cell_type": "code",
   "execution_count": null,
   "metadata": {},
   "outputs": [],
   "source": [
    "def print_senti_counts(counts):\n",
    "    # Print the number of reviews per sentiment \n",
    "    for senti_value, count in counts.items():\n",
    "        sentiment_name = senti_labels[senti_value]\n",
    "        print(f\"{senti_value} ({sentiment_name}): {count} reviews\")\n",
    "\n",
    "def plot_senti_counts(counts):\n",
    "    # Plot counts per sentiment\n",
    "    colors = ['limegreen', 'dodgerblue', 'red']\n",
    "    plt.pie(counts, colors=colors, autopct='%1.1f%%',  pctdistance=0.8, textprops={'fontsize': 10, 'color': 'black'}, startangle=90)\n",
    "    plt.axis('equal')  # pie as a circle\n",
    "    plt.legend(labels=senti_categories[::-1], loc='lower left')\n",
    "    plt.title('Distribution of Reviews per Sentiment')\n",
    "    plt.show()\n",
    "\n",
    "def count_words(text):\n",
    "    # Count words per review\n",
    "    return len(str(text).split(' '))"
   ]
  },
  {
   "cell_type": "code",
   "execution_count": null,
   "metadata": {},
   "outputs": [
    {
     "name": "stdout",
     "output_type": "stream",
     "text": [
      "3 (Positive): 97227 reviews\n",
      "2 (Neutral): 5071 reviews\n",
      "1 (Negative): 4720 reviews\n"
     ]
    },
    {
     "data": {
      "image/png": "[encoded data removed]",
      "text/plain": [
       "<Figure size 640x480 with 1 Axes>"
      ]
     },
     "metadata": {},
     "output_type": "display_data"
    }
   ],
   "source": [
    "senti_counts = df_raw['Sentiment'].value_counts()\n",
    "print_senti_counts(senti_counts)\n",
    "plot_senti_counts(senti_counts)"
   ]
  },
  {
   "cell_type": "code",
   "execution_count": null,
   "metadata": {},
   "outputs": [
    {
     "name": "stdout",
     "output_type": "stream",
     "text": [
      "Total word count:  2661665\n",
      "Average review length: 24.87\n"
     ]
    }
   ],
   "source": [
    "# Calculate total and average word count without adding a new column to the dataframe\n",
    "total_word_count = df_raw['Review'].apply(count_words).sum()\n",
    "avg_review_len = df_raw['Review'].apply(count_words).mean()\n",
    "\n",
    "print(\"Total word count: \", total_word_count)\n",
    "print(f\"Average review length: {avg_review_len:.2f}\")"
   ]
  },
  {
   "cell_type": "code",
   "execution_count": null,
   "metadata": {},
   "outputs": [],
   "source": [
    "# Create a copy of the original DataFrame to preserve the original data\n",
    "df = df_raw.copy()\n",
    "pd.set_option('display.max_rows', 5000)\n",
    "pd.set_option('display.max_colwidth', 30) "
   ]
  },
  {
   "attachments": {},
   "cell_type": "markdown",
   "metadata": {},
   "source": [
    "## Clean Text"
   ]
  },
  {
   "attachments": {},
   "cell_type": "markdown",
   "metadata": {},
   "source": [
    "Next, we clean the data applying the following techniques (TODO: add info):"
   ]
  },
  {
   "cell_type": "code",
   "execution_count": null,
   "metadata": {},
   "outputs": [],
   "source": [
    "# Text Cleaning\n",
    "#english_words = set(nltk.corpus.words.words())\n",
    "emojis = [\n",
    "        #HAPPY\n",
    "        \":-)\",\n",
    "        \":)\",\n",
    "        \";)\",\n",
    "        \":o)\",\n",
    "        \":]\",\n",
    "        \":3\",\n",
    "        \":c)\",\n",
    "        \":>\",\n",
    "        \"=]\",\n",
    "        \"8)\",\n",
    "        \"=)\",\n",
    "        \":}\",\n",
    "        \":^)\",\n",
    "        \":-D\",\n",
    "        \":D\",\n",
    "        \"8-D\",\n",
    "        \"8D\",\n",
    "        \"x-D\",\n",
    "        \"xD\",\n",
    "        \"X-D\",\n",
    "        \"XD\",\n",
    "        \"=-D\",\n",
    "        \"=D\",\n",
    "        \"=-3\",\n",
    "        \"=3\",\n",
    "        \":-))\",\n",
    "        \":'-)\",\n",
    "        \":')\",\n",
    "        \":*\",\n",
    "        \":^*\",\n",
    "        \">:P\",\n",
    "        \":-P\",\n",
    "        \":P\",\n",
    "        \"X-P\",\n",
    "        \"x-p\",\n",
    "        \"xp\",\n",
    "        \"XP\",\n",
    "        \":-p\",\n",
    "        \":p\",\n",
    "        \"=p\",\n",
    "        \":-b\",\n",
    "        \":b\",\n",
    "        \">:)\",\n",
    "        \">;)\",\n",
    "        \">:-)\",\n",
    "        \"<3\",\n",
    "        # SAD\n",
    "        \":L\",\n",
    "        \":-/\",\n",
    "        \">:/\",\n",
    "        \":S\",\n",
    "        \">:[\",\n",
    "        \":@\",\n",
    "        \":-(\",\n",
    "        \":[\",\n",
    "        \":-||\",\n",
    "        \"=L\",\n",
    "        \":<\",\n",
    "        \":-[\",\n",
    "        \":-<\",\n",
    "        \"=\\\\\",\n",
    "        \"=/\",\n",
    "        \">:(\",\n",
    "        \":(\",\n",
    "        \">.<\",\n",
    "        \":'-(\",\n",
    "        \":'(\",\n",
    "        \":\\\\\",\n",
    "        \":-c\",\n",
    "        \":c\",\n",
    "        \":{\",\n",
    "        \">:\\\\\",\n",
    "        \";(\",\n",
    "    ]"
   ]
  },
  {
   "cell_type": "code",
   "execution_count": null,
   "metadata": {},
   "outputs": [
    {
     "data": {
      "text/html": [
       "<div>\n",
       "<style scoped>\n",
       "    .dataframe tbody tr th:only-of-type {\n",
       "        vertical-align: middle;\n",
       "    }\n",
       "\n",
       "    .dataframe tbody tr th {\n",
       "        vertical-align: top;\n",
       "    }\n",
       "\n",
       "    .dataframe thead th {\n",
       "        text-align: right;\n",
       "    }\n",
       "</style>\n",
       "<table border=\"1\" class=\"dataframe\">\n",
       "  <thead>\n",
       "    <tr style=\"text-align: right;\">\n",
       "      <th></th>\n",
       "      <th>Review</th>\n",
       "      <th>Sentiment</th>\n",
       "    </tr>\n",
       "  </thead>\n",
       "  <tbody>\n",
       "    <tr>\n",
       "      <th>0</th>\n",
       "      <td>good and interesting</td>\n",
       "      <td>3</td>\n",
       "    </tr>\n",
       "    <tr>\n",
       "      <th>1</th>\n",
       "      <td>this class is very helpful...</td>\n",
       "      <td>3</td>\n",
       "    </tr>\n",
       "    <tr>\n",
       "      <th>2</th>\n",
       "      <td>like!prof and tas are help...</td>\n",
       "      <td>3</td>\n",
       "    </tr>\n",
       "    <tr>\n",
       "      <th>3</th>\n",
       "      <td>easy to follow and include...</td>\n",
       "      <td>3</td>\n",
       "    </tr>\n",
       "    <tr>\n",
       "      <th>4</th>\n",
       "      <td>really nice teacher!i coul...</td>\n",
       "      <td>3</td>\n",
       "    </tr>\n",
       "  </tbody>\n",
       "</table>\n",
       "</div>"
      ],
      "text/plain": [
       "                          Review  Sentiment\n",
       "0           good and interesting          3\n",
       "1  this class is very helpful...          3\n",
       "2  like!prof and tas are help...          3\n",
       "3  easy to follow and include...          3\n",
       "4  really nice teacher!i coul...          3"
      ]
     },
     "execution_count": 241,
     "metadata": {},
     "output_type": "execute_result"
    }
   ],
   "source": [
    "# 1) Lowercase\n",
    "df['Review'] = df['Review'].str.lower()\n",
    "df.head()"
   ]
  },
  {
   "cell_type": "code",
   "execution_count": null,
   "metadata": {},
   "outputs": [
    {
     "name": "stdout",
     "output_type": "stream",
     "text": [
      "                               Review  Sentiment\n",
      "0                good and interesting          3\n",
      "1       this class is very helpful...          3\n",
      "2       like!prof and tas are help...          3\n",
      "3       easy to follow and include...          3\n",
      "4       really nice teacher!i coul...          3\n",
      "...                               ...        ...\n",
      "107013  trendy topic with talks fr...          3\n",
      "107014  wonderful! simple and clea...          3\n",
      "107015  an interesting and fun cou...          3\n",
      "107016  very broad perspective, up...          3\n",
      "107017  an informative course on t...          3\n",
      "\n",
      "[107018 rows x 2 columns]\n"
     ]
    }
   ],
   "source": [
    "# 2) Replace contractions with their standard full forms\n",
    "contraction_mapping = {\n",
    "        \"isn't\": \"is not\",\n",
    "        \"aren't\": \"are not\",\n",
    "        \"don't\": \"do not\",\n",
    "        \"doesn't\": \"does not\",\n",
    "        \"wasn't\": \"was not\",\n",
    "        \"weren't\": \"were not\",\n",
    "        \"didn't\": \"did not\",\n",
    "        \"haven't\": \"have not\",\n",
    "        \"hasn't\": \"has not\",\n",
    "        \"hadn't\": \"had not\",\n",
    "        \"won't\": \"will not\",\n",
    "        \"can't\": \"cannot\",\n",
    "        \"couldn't\": \"could not\",\n",
    "        \"shouldn't\": \"should not\",\n",
    "        \"wouldn't\": \"would not\",\n",
    "        \"mightn't\": \"might not\",\n",
    "        \"mustn't\": \"must not\",\n",
    "        }\n",
    "\n",
    "for contraction, standard in contraction_mapping.items():\n",
    "    df['Review'] = df['Review'].str.replace(contraction, standard)\n",
    "\n",
    "print(df)"
   ]
  },
  {
   "cell_type": "code",
   "execution_count": null,
   "metadata": {},
   "outputs": [
    {
     "name": "stderr",
     "output_type": "stream",
     "text": [
      "/tmp/ipykernel_743361/1580789109.py:3: FutureWarning: The default value of regex will change from True to False in a future version.\n",
      "  df['Review'] = df['Review'].str.replace(pattern, ' ')\n"
     ]
    },
    {
     "name": "stdout",
     "output_type": "stream",
     "text": [
      "                               Review  Sentiment\n",
      "0                good and interesting          3\n",
      "1       this class is very helpful...          3\n",
      "2       like prof and tas are help...          3\n",
      "3       easy to follow and include...          3\n",
      "4       really nice teacher i coul...          3\n",
      "...                               ...        ...\n",
      "107013  trendy topic with talks fr...          3\n",
      "107014  wonderful! simple and clea...          3\n",
      "107015  an interesting and fun cou...          3\n",
      "107016  very broad perspective, up...          3\n",
      "107017  an informative course on t...          3\n",
      "\n",
      "[107018 rows x 2 columns]\n"
     ]
    }
   ],
   "source": [
    "# 3) Remove punctuation in between words e.g. \"course.sometimes\", \"i'll\" and replace with space\n",
    "pattern = r'(?<=\\w)[^\\w\\s]+(?=\\w)'\n",
    "df['Review'] = df['Review'].str.replace(pattern, ' ')\n",
    "print(df)"
   ]
  },
  {
   "cell_type": "code",
   "execution_count": null,
   "metadata": {},
   "outputs": [
    {
     "data": {
      "text/html": [
       "<div>\n",
       "<style scoped>\n",
       "    .dataframe tbody tr th:only-of-type {\n",
       "        vertical-align: middle;\n",
       "    }\n",
       "\n",
       "    .dataframe tbody tr th {\n",
       "        vertical-align: top;\n",
       "    }\n",
       "\n",
       "    .dataframe thead th {\n",
       "        text-align: right;\n",
       "    }\n",
       "</style>\n",
       "<table border=\"1\" class=\"dataframe\">\n",
       "  <thead>\n",
       "    <tr style=\"text-align: right;\">\n",
       "      <th></th>\n",
       "      <th>Review</th>\n",
       "      <th>Sentiment</th>\n",
       "    </tr>\n",
       "  </thead>\n",
       "  <tbody>\n",
       "    <tr>\n",
       "      <th>0</th>\n",
       "      <td>[good, and, interesting]</td>\n",
       "      <td>3</td>\n",
       "    </tr>\n",
       "    <tr>\n",
       "      <th>1</th>\n",
       "      <td>[this, class, is, very, he...</td>\n",
       "      <td>3</td>\n",
       "    </tr>\n",
       "    <tr>\n",
       "      <th>2</th>\n",
       "      <td>[like, prof, and, tas, are...</td>\n",
       "      <td>3</td>\n",
       "    </tr>\n",
       "    <tr>\n",
       "      <th>3</th>\n",
       "      <td>[easy, to, follow, and, in...</td>\n",
       "      <td>3</td>\n",
       "    </tr>\n",
       "    <tr>\n",
       "      <th>4</th>\n",
       "      <td>[really, nice, teacher, i,...</td>\n",
       "      <td>3</td>\n",
       "    </tr>\n",
       "  </tbody>\n",
       "</table>\n",
       "</div>"
      ],
      "text/plain": [
       "                          Review  Sentiment\n",
       "0       [good, and, interesting]          3\n",
       "1  [this, class, is, very, he...          3\n",
       "2  [like, prof, and, tas, are...          3\n",
       "3  [easy, to, follow, and, in...          3\n",
       "4  [really, nice, teacher, i,...          3"
      ]
     },
     "execution_count": 244,
     "metadata": {},
     "output_type": "execute_result"
    }
   ],
   "source": [
    "# 4) Tokenize text into individual words (removes all extra spaces \\s)\n",
    "tokenizer = TweetTokenizer()\n",
    "df['Review'] = df['Review'].apply(tokenizer.tokenize)\n",
    "df.head()"
   ]
  },
  {
   "cell_type": "code",
   "execution_count": null,
   "metadata": {},
   "outputs": [
    {
     "name": "stdout",
     "output_type": "stream",
     "text": [
      "                               Review  Sentiment\n",
      "0            [good, and, interesting]          3\n",
      "1       [this, class, is, very, he...          3\n",
      "2       [like, prof, and, tas, are...          3\n",
      "3       [easy, to, follow, and, in...          3\n",
      "4       [really, nice, teacher, i,...          3\n",
      "...                               ...        ...\n",
      "107013  [trendy, topic, with, talk...          3\n",
      "107014  [wonderful, simple, and, c...          3\n",
      "107015  [an, interesting, and, fun...          3\n",
      "107016  [very, broad, perspective,...          3\n",
      "107017  [an, informative, course, ...          3\n",
      "\n",
      "[107018 rows x 2 columns]\n"
     ]
    }
   ],
   "source": [
    "# 5) Remove punctuation first in between words (typo), and then all punctuation and numerals except for tokenized emojis\n",
    "pattern = r\"[^\\w\\s\" + \"\".join(re.escape(e) for e in emojis + list(emoji.EMOJI_DATA.keys())) + \"]|[\\d]+\" # match non-emoji special characters\n",
    "df['Review'] = df['Review'].apply(lambda tokens: [token for token in tokens if not re.match(pattern, token)])\n",
    "print(df)"
   ]
  },
  {
   "cell_type": "code",
   "execution_count": null,
   "metadata": {},
   "outputs": [
    {
     "name": "stdout",
     "output_type": "stream",
     "text": [
      "                               Review  Sentiment\n",
      "0            [good, and, interesting]          3\n",
      "1       [this, class, is, very, he...          3\n",
      "2       [like, prof, and, tas, are...          3\n",
      "3       [easy, to, follow, and, in...          3\n",
      "4       [really, nice, teacher, co...          3\n",
      "...                               ...        ...\n",
      "107013  [trendy, topic, with, talk...          3\n",
      "107014  [wonderful, simple, and, c...          3\n",
      "107015  [an, interesting, and, fun...          3\n",
      "107016  [very, broad, perspective,...          3\n",
      "107017  [an, informative, course, ...          3\n",
      "\n",
      "[107018 rows x 2 columns]\n"
     ]
    }
   ],
   "source": [
    "# 6) Remove single characters\n",
    "df['Review'] = df['Review'].apply(lambda tokens: [word for word in tokens if len(word) > 1])\n",
    "print(df)"
   ]
  },
  {
   "cell_type": "code",
   "execution_count": null,
   "metadata": {},
   "outputs": [
    {
     "data": {
      "text/plain": [
       "'\\n# 7) Correct Spelling\\n# Note: also removes \\'...\\' that was not removed before\\ndef correct_spelling(tokens):\\n    corrected_tokens = []\\n    for token in tokens:\\n        if token in emojis or token in emoji.EMOJI_DATA.keys():\\n            corrected_tokens.append(token)  # If token is an emoji, add it to the corrected tokens\\n        else:\\n            corrected_token = spell_checker.correction(token)\\n            if corrected_token is not None:\\n                corrected_tokens.append(corrected_token)\\n                \\n    return corrected_tokens\\n\\nspell_checker = SpellChecker()\\n#df[\\'Review\\'] = df[\\'Review\\'].apply(lambda x: list(tqdm(correct_spelling(x), leave=False)))\\n# Apply correct_spelling function using tqdm\\nfor i, row in tqdm(df.iterrows(), total=len(df)):\\n    df.at[i, \\'Review\\'] = correct_spelling(row[\\'Review\\'])\\n    print(\"Processed row:\", i)\\n    \\nprint(df)\\n'"
      ]
     },
     "execution_count": 247,
     "metadata": {},
     "output_type": "execute_result"
    }
   ],
   "source": [
    "'''\n",
    "# 7) Correct Spelling\n",
    "# Note: also removes '...' that was not removed before\n",
    "def correct_spelling(tokens):\n",
    "    corrected_tokens = []\n",
    "    for token in tokens:\n",
    "        if token in emojis or token in emoji.EMOJI_DATA.keys():\n",
    "            corrected_tokens.append(token)  # If token is an emoji, add it to the corrected tokens\n",
    "        else:\n",
    "            corrected_token = spell_checker.correction(token)\n",
    "            if corrected_token is not None:\n",
    "                corrected_tokens.append(corrected_token)\n",
    "                \n",
    "    return corrected_tokens\n",
    "\n",
    "spell_checker = SpellChecker()\n",
    "#df['Review'] = df['Review'].apply(lambda x: list(tqdm(correct_spelling(x), leave=False)))\n",
    "# Apply correct_spelling function using tqdm\n",
    "for i, row in tqdm(df.iterrows(), total=len(df)):\n",
    "    df.at[i, 'Review'] = correct_spelling(row['Review'])\n",
    "    print(\"Processed row:\", i)\n",
    "    \n",
    "print(df)\n",
    "'''"
   ]
  },
  {
   "cell_type": "code",
   "execution_count": null,
   "metadata": {},
   "outputs": [
    {
     "data": {
      "text/plain": [
       "\"\\n# Correct Spelling\\n# Note: also removes '...' that was not removed before\\ndef correct_spelling(tokens):\\n    corrected_tokens = []\\n    for token in tokens:\\n        if token in emojis or token in emoji.EMOJI_DATA.keys():\\n            corrected_tokens.append(token)  # If token is an emoji, add it to the corrected tokens\\n        else:\\n            corrected_token = spell_checker.correction(token)\\n            if corrected_token is not None:\\n                corrected_tokens.append(corrected_token)\\n                \\n    return corrected_tokens \\n\\nspell_checker = SpellChecker()\\n\\n# Vectorizing the correct_spelling function \\nvectorized_correct_spelling = np.vectorize(correct_spelling)\\n\\n# Passing the dataframe column array into the vectorized function\\ndf['Review'] = vectorized_correct_spelling(df['Review'].values)\\n\\nprint(df)\\n\""
      ]
     },
     "execution_count": 248,
     "metadata": {},
     "output_type": "execute_result"
    }
   ],
   "source": [
    "'''\n",
    "# Correct Spelling\n",
    "# Note: also removes '...' that was not removed before\n",
    "def correct_spelling(tokens):\n",
    "    corrected_tokens = []\n",
    "    for token in tokens:\n",
    "        if token in emojis or token in emoji.EMOJI_DATA.keys():\n",
    "            corrected_tokens.append(token)  # If token is an emoji, add it to the corrected tokens\n",
    "        else:\n",
    "            corrected_token = spell_checker.correction(token)\n",
    "            if corrected_token is not None:\n",
    "                corrected_tokens.append(corrected_token)\n",
    "                \n",
    "    return corrected_tokens \n",
    "\n",
    "spell_checker = SpellChecker()\n",
    "\n",
    "# Vectorizing the correct_spelling function \n",
    "vectorized_correct_spelling = np.vectorize(correct_spelling)\n",
    "\n",
    "# Passing the dataframe column array into the vectorized function\n",
    "df['Review'] = vectorized_correct_spelling(df['Review'].values)\n",
    "\n",
    "print(df)\n",
    "'''\n"
   ]
  },
  {
   "cell_type": "code",
   "execution_count": null,
   "metadata": {},
   "outputs": [],
   "source": [
    "# TODO: note to self (to be added to word-doc): If you check token by token, it also removes english words"
   ]
  },
  {
   "cell_type": "code",
   "execution_count": null,
   "metadata": {},
   "outputs": [
    {
     "name": "stdout",
     "output_type": "stream",
     "text": [
      "                               Review  Sentiment\n",
      "0            [good, and, interesting]          3\n",
      "1       [this, class, is, very, he...          3\n",
      "2       [like, prof, and, tas, are...          3\n",
      "3       [easy, to, follow, and, in...          3\n",
      "4       [really, nice, teacher, co...          3\n",
      "...                               ...        ...\n",
      "107013  [trendy, topic, with, talk...          3\n",
      "107014  [wonderful, simple, and, c...          3\n",
      "107015  [an, interesting, and, fun...          3\n",
      "107016  [very, broad, perspective,...          3\n",
      "107017  [an, informative, course, ...          3\n",
      "\n",
      "[107018 rows x 2 columns]\n"
     ]
    }
   ],
   "source": [
    "# 8) Perform negation tagging\n",
    "df['Review'] = df['Review'].apply(mark_negation)\n",
    "print(df)"
   ]
  },
  {
   "cell_type": "code",
   "execution_count": null,
   "metadata": {},
   "outputs": [
    {
     "name": "stdout",
     "output_type": "stream",
     "text": [
      "                               Review  Sentiment\n",
      "0                 [good, interesting]          3\n",
      "1       [class, helpful, currently...          3\n",
      "2       [like, prof, tas, helpful,...          3\n",
      "3       [easy, follow, includes, l...          3\n",
      "4       [really, nice, teacher, co...          3\n",
      "...                               ...        ...\n",
      "107013  [trendy, topic, talks, exp...          3\n",
      "107014  [wonderful, simple, clear,...          3\n",
      "107015  [interesting, fun, course,...          3\n",
      "107016  [broad, perspective, date,...          3\n",
      "107017  [informative, course, soci...          3\n",
      "\n",
      "[107018 rows x 2 columns]\n"
     ]
    }
   ],
   "source": [
    "# 9) Remove stopwords --> also removes words like 'not'\n",
    "stop_words = set(stopwords.words('english'))\n",
    "df['Review'] = df['Review'].apply(lambda tokens: [token for token in tokens if token not in stop_words])\n",
    "df['Review'] = df['Review'].apply(lambda tokens: [token for token in tokens if token.split('_')[0] not in stop_words])\n",
    "print(df)"
   ]
  },
  {
   "cell_type": "code",
   "execution_count": null,
   "metadata": {},
   "outputs": [
    {
     "name": "stdout",
     "output_type": "stream",
     "text": [
      "                               Review  Sentiment\n",
      "0                 [good, interesting]          3\n",
      "1       [class, helpful, currently...          3\n",
      "2       [like, prof, ta, helpful, ...          3\n",
      "3       [easy, follow, includes, l...          3\n",
      "4       [really, nice, teacher, co...          3\n",
      "...                               ...        ...\n",
      "107013  [trendy, topic, talk, expe...          3\n",
      "107014  [wonderful, simple, clear,...          3\n",
      "107015  [interesting, fun, course,...          3\n",
      "107016  [broad, perspective, date,...          3\n",
      "107017  [informative, course, soci...          3\n",
      "\n",
      "[107018 rows x 2 columns]\n"
     ]
    }
   ],
   "source": [
    "# 10) Lemmatize words using WordNetLemmatizer (also lemmatizes words removing _NEG)\n",
    "def lemmatize_token(token):\n",
    "    lemmatizer = WordNetLemmatizer()\n",
    "    if \"_NEG\" in token:\n",
    "        word, tag = token.split(\"_NEG\")\n",
    "        return lemmatizer.lemmatize(word) + \"_NEG\"\n",
    "    else:\n",
    "        return lemmatizer.lemmatize(token)\n",
    "\n",
    "df['Review'] = df['Review'].apply(lambda tokens: [lemmatize_token(token) for token in tokens])\n",
    "print(df)"
   ]
  },
  {
   "cell_type": "code",
   "execution_count": null,
   "metadata": {},
   "outputs": [
    {
     "data": {
      "text/html": [
       "<div>\n",
       "<style scoped>\n",
       "    .dataframe tbody tr th:only-of-type {\n",
       "        vertical-align: middle;\n",
       "    }\n",
       "\n",
       "    .dataframe tbody tr th {\n",
       "        vertical-align: top;\n",
       "    }\n",
       "\n",
       "    .dataframe thead th {\n",
       "        text-align: right;\n",
       "    }\n",
       "</style>\n",
       "<table border=\"1\" class=\"dataframe\">\n",
       "  <thead>\n",
       "    <tr style=\"text-align: right;\">\n",
       "      <th></th>\n",
       "      <th>Review</th>\n",
       "      <th>Sentiment</th>\n",
       "    </tr>\n",
       "  </thead>\n",
       "  <tbody>\n",
       "    <tr>\n",
       "      <th>0</th>\n",
       "      <td>good interesting</td>\n",
       "      <td>3</td>\n",
       "    </tr>\n",
       "    <tr>\n",
       "      <th>1</th>\n",
       "      <td>class helpful currently st...</td>\n",
       "      <td>3</td>\n",
       "    </tr>\n",
       "    <tr>\n",
       "      <th>2</th>\n",
       "      <td>like prof ta helpful discu...</td>\n",
       "      <td>3</td>\n",
       "    </tr>\n",
       "    <tr>\n",
       "      <th>3</th>\n",
       "      <td>easy follow includes lot b...</td>\n",
       "      <td>3</td>\n",
       "    </tr>\n",
       "    <tr>\n",
       "      <th>4</th>\n",
       "      <td>really nice teacher could ...</td>\n",
       "      <td>3</td>\n",
       "    </tr>\n",
       "  </tbody>\n",
       "</table>\n",
       "</div>"
      ],
      "text/plain": [
       "                          Review  Sentiment\n",
       "0               good interesting          3\n",
       "1  class helpful currently st...          3\n",
       "2  like prof ta helpful discu...          3\n",
       "3  easy follow includes lot b...          3\n",
       "4  really nice teacher could ...          3"
      ]
     },
     "execution_count": 253,
     "metadata": {},
     "output_type": "execute_result"
    }
   ],
   "source": [
    "# Convert preprocessed tokens back to string\n",
    "df['Review'] = df['Review'].apply(' '.join)\n",
    "df.head()"
   ]
  },
  {
   "attachments": {},
   "cell_type": "markdown",
   "metadata": {},
   "source": [
    "## Data Cleaning after Text Cleaning"
   ]
  },
  {
   "cell_type": "code",
   "execution_count": null,
   "metadata": {},
   "outputs": [
    {
     "name": "stdout",
     "output_type": "stream",
     "text": [
      "Shape before: (107018, 2)\n",
      "Shape after preprocessing, before removing empty rows: (107018, 2)\n",
      "Shape after preprocessing, after removing empty rows: (106988, 2)\n",
      "\n"
     ]
    }
   ],
   "source": [
    "print(f'Shape before: {df_raw.shape}')\n",
    "print(f'Shape after preprocessing, before removing empty rows: {df.shape}')\n",
    "\n",
    "# Remove NaN rows, after cleaning text\n",
    "df = drop_missing(df) \n",
    "print(f'Shape after preprocessing, after removing empty rows: {df.shape}\\n')"
   ]
  },
  {
   "cell_type": "code",
   "execution_count": null,
   "metadata": {},
   "outputs": [],
   "source": [
    "data_file_path = os.path.join(input_folder_path, cleaned_data_filename)\n",
    "df.to_csv(data_file_path, sep=',', index_label='Id')"
   ]
  },
  {
   "attachments": {},
   "cell_type": "markdown",
   "metadata": {},
   "source": [
    "# EDA Functions"
   ]
  },
  {
   "cell_type": "code",
   "execution_count": null,
   "metadata": {},
   "outputs": [],
   "source": [
    "def make_wordcloud(word_counts):\n",
    "    wordcloud = WordCloud().generate_from_frequencies(word_counts)\n",
    "\n",
    "    # Display the generated image:\n",
    "    plt.imshow(wordcloud, interpolation='bilinear')\n",
    "    plt.axis(\"off\")\n",
    "    plt.show()"
   ]
  },
  {
   "cell_type": "code",
   "execution_count": null,
   "metadata": {},
   "outputs": [],
   "source": [
    "def plot_word_freq_most_common(dataset, num_most_common=60):\n",
    "    all_words = [word for review in dataset for word in review.split()]\n",
    "\n",
    "    fdist = FreqDist(all_words)\n",
    "    plt.figure(figsize=(12, 6))\n",
    "    fdist.plot(num_most_common, title=f'Frequency Distribution of Most Common {num_most_common} Tokens')\n",
    "    plt.show()"
   ]
  },
  {
   "cell_type": "code",
   "execution_count": null,
   "metadata": {},
   "outputs": [],
   "source": [
    "def plot_word_freq_cdf(word_counts, max_count):\n",
    "    counts = list(word_counts.values())\n",
    "    counts_sorted = np.sort(counts) # ascending\n",
    "\n",
    "    # Calculate the cumulative sum of the sorted frequencies & normalize\n",
    "    cumu_counts = np.cumsum(counts_sorted)\n",
    "    cdf = cumu_counts / cumu_counts[-1]\n",
    "\n",
    "    # Plot the CDF\n",
    "    plt.figure(figsize=(12, 6))\n",
    "    #plt.plot(counts_sorted, cdf)\n",
    "    plt.plot(np.arange(1, len(cdf)+1), cdf)\n",
    "    plt.xlabel('Word Frequency')\n",
    "    plt.ylabel('CDF')\n",
    "    plt.title('CDF of Word Frequencies')\n",
    "    #x_ticks = np.arange(0, max_count, 5000)\n",
    "    #plt.xticks(x_ticks)\n",
    "    plt.grid(True)\n",
    "    plt.show()"
   ]
  },
  {
   "cell_type": "code",
   "execution_count": null,
   "metadata": {},
   "outputs": [],
   "source": [
    "def plot_word_freq_hist(word_counts):\n",
    "    # Set up a figure with two subplots side by side\n",
    "    fig, (ax1, ax2) = plt.subplots(1, 2, figsize=(15, 5))\n",
    "\n",
    "    # Plot word frequency distribution with linear scale\n",
    "    ax1.hist(word_counts.values(), bins=range(1, 50), alpha=0.5)\n",
    "    ax1.set_title('Word Frequency Distribution (Linear Scale)')\n",
    "    ax1.set_xlabel('Word Frequency')\n",
    "    ax1.set_ylabel('Number of Words')\n",
    "\n",
    "    # Plot word frequency distribution with logarithmic scale\n",
    "    ax2.hist(word_counts.values(), bins=range(1, 500, 10), alpha=0.5)\n",
    "    ax2.set_yscale('log')\n",
    "    ax2.set_title('Word Frequency Distribution (Logarithmic Scale)')\n",
    "    ax2.set_xlabel('Word Frequency')\n",
    "    ax2.set_ylabel('Number of Words')"
   ]
  },
  {
   "cell_type": "code",
   "execution_count": null,
   "metadata": {},
   "outputs": [],
   "source": [
    "def calculate_word_statistics(word_counts):\n",
    "    freqs = np.array(list(word_counts.values()))\n",
    "\n",
    "    print(\"Mean frequency: \", np.mean(freqs))\n",
    "    print(\"Median frequency: \", np.median(freqs))\n",
    "    print(\"Max frequency: \", max(freqs))\n",
    "    print(\"Min frequency: \", min(freqs))\n",
    "    print(\"Standard deviation: \", np.std(freqs))\n",
    "    print(\"1st quartile: \", np.percentile(freqs, 25))\n",
    "    print(\"3rd quartile: \", np.percentile(freqs, 75))"
   ]
  },
  {
   "attachments": {},
   "cell_type": "markdown",
   "metadata": {},
   "source": [
    "# Preprocess Data"
   ]
  },
  {
   "attachments": {},
   "cell_type": "markdown",
   "metadata": {},
   "source": [
    "First we load cleaned data."
   ]
  },
  {
   "cell_type": "code",
   "execution_count": null,
   "metadata": {},
   "outputs": [],
   "source": [
    "data_file_path = os.path.join(input_folder_path, cleaned_data_filename)\n",
    "df = pd.read_csv(data_file_path)"
   ]
  },
  {
   "attachments": {},
   "cell_type": "markdown",
   "metadata": {},
   "source": [
    "### Split train and test"
   ]
  },
  {
   "cell_type": "code",
   "execution_count": null,
   "metadata": {},
   "outputs": [
    {
     "name": "stdout",
     "output_type": "stream",
     "text": [
      "Data Distribution:\n",
      "* train: 68472\n",
      "* validation: 17118\n",
      "* test: 21398\n",
      "\n",
      "x_train: 73868    friendly beginner without ...\n",
      "78926                good intro course\n",
      "97646    great experience developed...\n",
      "64107         clear enlightening thank\n",
      "61156    detailed informing learned...\n",
      "Name: Review, dtype: object\n"
     ]
    }
   ],
   "source": [
    "# Split dataset into training and test sets\n",
    "x_train, x_test, y_train, y_test = train_test_split(df['Review'], df['Sentiment'], test_size=0.2, random_state=42)\n",
    "# Split the training dataset further into training and validation sets\n",
    "x_train, x_val, y_train, y_val = train_test_split(x_train, y_train, test_size=0.2, random_state=42)\n",
    "\n",
    "print(\"Data Distribution:\\n* train: {}\\n* validation: {}\\n* test: {}\\n\".format(len(x_train), len(x_val), len(x_test)))\n",
    "print(f\"x_train: {x_train.head()}\")"
   ]
  },
  {
   "attachments": {},
   "cell_type": "markdown",
   "metadata": {},
   "source": [
    "### Create & Analyse Vocabulary"
   ]
  },
  {
   "cell_type": "code",
   "execution_count": null,
   "metadata": {},
   "outputs": [
    {
     "name": "stdout",
     "output_type": "stream",
     "text": [
      "50 Most common words: [('course', 50280), ('great', 15535), ('good', 12398), ('really', 7794), ('course_NEG', 7440), ('well', 6376), ('lot', 6260), ('learning', 6205), ('excellent', 5888), ('interesting', 5216), ('thank', 4776), ('learn', 4567), ('useful', 4075), ('would', 4041), ('much', 3952), ('easy', 3869), ('material', 3790), ('way', 3641), ('assignment', 3610), ('thanks', 3577), ('one', 3556), ('understand', 3419), ('like', 3411), ('basic', 3406), ('lecture', 3240), ('video', 3181), ('content', 3177), ('class', 3113), ('professor', 3081), ('best', 3009), ('concept', 3008), ('introduction', 2992), ('learned', 2972), ('time', 2866), ('teacher', 2865), ('helpful', 2790), ('recommend', 2750), ('information', 2661), ('knowledge', 2464), ('programming', 2460), ('nice', 2455), ('enjoyed', 2396), ('work', 2367), ('clear', 2364), ('also', 2278), ('help', 2231), ('instructor', 2222), ('get', 2218), ('make', 2209), ('topic', 2169)]\n",
      "Unfiltered vocab size: 32182\n"
     ]
    }
   ],
   "source": [
    "# Count words to create vocabulary\n",
    "word_freqs = Counter()\n",
    "for review in x_train:\n",
    "    word_freqs.update(review.split())\n",
    "\n",
    "word_freqs_len = len(word_freqs)\n",
    "\n",
    "print(f\"50 Most common words: {word_freqs.most_common(50)}\")\n",
    "print(f\"Unfiltered vocab size: {word_freqs_len}\")"
   ]
  },
  {
   "cell_type": "code",
   "execution_count": null,
   "metadata": {},
   "outputs": [
    {
     "name": "stdout",
     "output_type": "stream",
     "text": [
      "Mean frequency:  28.385339630849543\n",
      "Median frequency:  2.0\n",
      "Max frequency:  50280\n",
      "Min frequency:  1\n",
      "Standard deviation:  349.9173675906158\n",
      "1st quartile:  1.0\n",
      "3rd quartile:  6.0\n"
     ]
    }
   ],
   "source": [
    "calculate_word_statistics(word_freqs)"
   ]
  },
  {
   "cell_type": "code",
   "execution_count": null,
   "metadata": {},
   "outputs": [
    {
     "ename": "ValueError",
     "evalue": "Only supported for TrueType fonts",
     "output_type": "error",
     "traceback": [
      "\u001b[0;31m---------------------------------------------------------------------------\u001b[0m",
      "\u001b[0;31mValueError\u001b[0m                                Traceback (most recent call last)",
      "Cell \u001b[0;32mIn[283], line 1\u001b[0m\n\u001b[0;32m----> 1\u001b[0m make_wordcloud(word_freqs)\n\u001b[1;32m      2\u001b[0m plot_word_freq_most_common(x_train, \u001b[39m60\u001b[39m) \u001b[39m# Zipf's law plot, large number of words have very low frequencies\u001b[39;00m\n\u001b[1;32m      3\u001b[0m plot_word_freq_cdf(word_freqs, \u001b[39mmax\u001b[39m(word_freqs\u001b[39m.\u001b[39mvalues()))\n",
      "Cell \u001b[0;32mIn[256], line 2\u001b[0m, in \u001b[0;36mmake_wordcloud\u001b[0;34m(word_counts)\u001b[0m\n\u001b[1;32m      1\u001b[0m \u001b[39mdef\u001b[39;00m \u001b[39mmake_wordcloud\u001b[39m(word_counts):\n\u001b[0;32m----> 2\u001b[0m     wordcloud \u001b[39m=\u001b[39m WordCloud()\u001b[39m.\u001b[39;49mgenerate_from_frequencies(word_counts)\n\u001b[1;32m      4\u001b[0m     \u001b[39m# Display the generated image:\u001b[39;00m\n\u001b[1;32m      5\u001b[0m     plt\u001b[39m.\u001b[39mimshow(wordcloud, interpolation\u001b[39m=\u001b[39m\u001b[39m'\u001b[39m\u001b[39mbilinear\u001b[39m\u001b[39m'\u001b[39m)\n",
      "File \u001b[0;32m~/venv/thesis/lib/python3.10/site-packages/wordcloud/wordcloud.py:453\u001b[0m, in \u001b[0;36mWordCloud.generate_from_frequencies\u001b[0;34m(self, frequencies, max_font_size)\u001b[0m\n\u001b[1;32m    451\u001b[0m     font_size \u001b[39m=\u001b[39m \u001b[39mself\u001b[39m\u001b[39m.\u001b[39mheight\n\u001b[1;32m    452\u001b[0m \u001b[39melse\u001b[39;00m:\n\u001b[0;32m--> 453\u001b[0m     \u001b[39mself\u001b[39;49m\u001b[39m.\u001b[39;49mgenerate_from_frequencies(\u001b[39mdict\u001b[39;49m(frequencies[:\u001b[39m2\u001b[39;49m]),\n\u001b[1;32m    454\u001b[0m                                    max_font_size\u001b[39m=\u001b[39;49m\u001b[39mself\u001b[39;49m\u001b[39m.\u001b[39;49mheight)\n\u001b[1;32m    455\u001b[0m     \u001b[39m# find font sizes\u001b[39;00m\n\u001b[1;32m    456\u001b[0m     sizes \u001b[39m=\u001b[39m [x[\u001b[39m1\u001b[39m] \u001b[39mfor\u001b[39;00m x \u001b[39min\u001b[39;00m \u001b[39mself\u001b[39m\u001b[39m.\u001b[39mlayout_]\n",
      "File \u001b[0;32m~/venv/thesis/lib/python3.10/site-packages/wordcloud/wordcloud.py:508\u001b[0m, in \u001b[0;36mWordCloud.generate_from_frequencies\u001b[0;34m(self, frequencies, max_font_size)\u001b[0m\n\u001b[1;32m    505\u001b[0m transposed_font \u001b[39m=\u001b[39m ImageFont\u001b[39m.\u001b[39mTransposedFont(\n\u001b[1;32m    506\u001b[0m     font, orientation\u001b[39m=\u001b[39morientation)\n\u001b[1;32m    507\u001b[0m \u001b[39m# get size of resulting text\u001b[39;00m\n\u001b[0;32m--> 508\u001b[0m box_size \u001b[39m=\u001b[39m draw\u001b[39m.\u001b[39;49mtextbbox((\u001b[39m0\u001b[39;49m, \u001b[39m0\u001b[39;49m), word, font\u001b[39m=\u001b[39;49mtransposed_font, anchor\u001b[39m=\u001b[39;49m\u001b[39m\"\u001b[39;49m\u001b[39mlt\u001b[39;49m\u001b[39m\"\u001b[39;49m)\n\u001b[1;32m    509\u001b[0m \u001b[39m# find possible places using integral image:\u001b[39;00m\n\u001b[1;32m    510\u001b[0m result \u001b[39m=\u001b[39m occupancy\u001b[39m.\u001b[39msample_position(box_size[\u001b[39m3\u001b[39m] \u001b[39m+\u001b[39m \u001b[39mself\u001b[39m\u001b[39m.\u001b[39mmargin,\n\u001b[1;32m    511\u001b[0m                                    box_size[\u001b[39m2\u001b[39m] \u001b[39m+\u001b[39m \u001b[39mself\u001b[39m\u001b[39m.\u001b[39mmargin,\n\u001b[1;32m    512\u001b[0m                                    random_state)\n",
      "File \u001b[0;32m/cvmfs/hpc.rug.nl/versions/2023.01/rocky8/x86_64/intel/icelake/software/Pillow/9.1.1-GCCcore-11.3.0/lib/python3.10/site-packages/PIL/ImageDraw.py:671\u001b[0m, in \u001b[0;36mImageDraw.textbbox\u001b[0;34m(self, xy, text, font, anchor, spacing, align, direction, features, language, stroke_width, embedded_color)\u001b[0m\n\u001b[1;32m    669\u001b[0m     font \u001b[39m=\u001b[39m \u001b[39mself\u001b[39m\u001b[39m.\u001b[39mgetfont()\n\u001b[1;32m    670\u001b[0m \u001b[39mif\u001b[39;00m \u001b[39mnot\u001b[39;00m \u001b[39misinstance\u001b[39m(font, ImageFont\u001b[39m.\u001b[39mFreeTypeFont):\n\u001b[0;32m--> 671\u001b[0m     \u001b[39mraise\u001b[39;00m \u001b[39mValueError\u001b[39;00m(\u001b[39m\"\u001b[39m\u001b[39mOnly supported for TrueType fonts\u001b[39m\u001b[39m\"\u001b[39m)\n\u001b[1;32m    672\u001b[0m mode \u001b[39m=\u001b[39m \u001b[39m\"\u001b[39m\u001b[39mRGBA\u001b[39m\u001b[39m\"\u001b[39m \u001b[39mif\u001b[39;00m embedded_color \u001b[39melse\u001b[39;00m \u001b[39mself\u001b[39m\u001b[39m.\u001b[39mfontmode\n\u001b[1;32m    673\u001b[0m bbox \u001b[39m=\u001b[39m font\u001b[39m.\u001b[39mgetbbox(\n\u001b[1;32m    674\u001b[0m     text, mode, direction, features, language, stroke_width, anchor\n\u001b[1;32m    675\u001b[0m )\n",
      "\u001b[0;31mValueError\u001b[0m: Only supported for TrueType fonts"
     ]
    }
   ],
   "source": [
    "make_wordcloud(word_freqs)\n",
    "plot_word_freq_most_common(x_train, 60) # Zipf's law plot, large number of words have very low frequencies\n",
    "plot_word_freq_cdf(word_freqs, max(word_freqs.values()))\n",
    "plot_word_freq_hist(word_freqs)"
   ]
  },
  {
   "attachments": {},
   "cell_type": "markdown",
   "metadata": {},
   "source": [
    "Around 90% of the words in the vocabulary occur 700 times or less."
   ]
  },
  {
   "cell_type": "code",
   "execution_count": null,
   "metadata": {},
   "outputs": [],
   "source": [
    "# PROCESSING-CONSTANTS\n",
    "MIN_WORD_FREQ = 200\n",
    "MAX_WORD_FREQ = 10000"
   ]
  },
  {
   "cell_type": "code",
   "execution_count": null,
   "metadata": {},
   "outputs": [
    {
     "name": "stdout",
     "output_type": "stream",
     "text": [
      "Vocabulary size of 32182 reduced to 723.\n",
      "\n",
      "Vocabulary (first 50 tokens):\n",
      "['beginner', 'without', 'programming', 'background', 'intro', 'experience', 'provide', 'valuable', 'tool', 'insight', 'education', 'important', 'clear', 'thank', 'detailed', 'learned', 'whole', 'lot', 'useful', 'information', 'taught', 'amazing', 'way', 'know_NEG', 'much_NEG', 'programming_NEG', 'material_NEG', 'looking_NEG', 'course_NEG', 'learn_NEG', 'something_NEG', 'new_NEG', 'opportunity', 'every', 'one', 'basic', 'knowledge', 'math', 'world', 'machine', 'learning', 'enjoyed', 'self', 'lesson', 'coursera', 'platform', 'assignment', 'using', 'matlab', 'thing']\n",
      "Stored 'vocab' (list)\n",
      "Stored 'vocab_size' (int)\n"
     ]
    }
   ],
   "source": [
    "# Filter vocabulary by removing words with frequency less than a set minimum frequency\n",
    "vocab = [word for word, count in word_freqs.items() if (count >= MIN_WORD_FREQ) and (count <= MAX_WORD_FREQ)]\n",
    "vocab_size = len(vocab)\n",
    "print(\"Vocabulary size of {} reduced to {}.\\n\".format(word_freqs_len, vocab_size))\n",
    "print(\"Vocabulary (first 50 tokens):\\n{}\".format(vocab[:50]))\n",
    "%store vocab\n",
    "%store vocab_size"
   ]
  },
  {
   "cell_type": "code",
   "execution_count": null,
   "metadata": {},
   "outputs": [
    {
     "name": "stdout",
     "output_type": "stream",
     "text": [
      "Mean frequency:  758.5020746887967\n",
      "Median frequency:  438.0\n",
      "Max frequency:  7794\n",
      "Min frequency:  200\n",
      "Standard deviation:  916.9648146443974\n",
      "1st quartile:  273.0\n",
      "3rd quartile:  813.0\n"
     ]
    }
   ],
   "source": [
    "filtered_word_freq = {word: word_freqs[word] for word in vocab}\n",
    "calculate_word_statistics(filtered_word_freq)"
   ]
  },
  {
   "cell_type": "code",
   "execution_count": null,
   "metadata": {},
   "outputs": [],
   "source": [
    "# Create the folder if it doesn't exist\n",
    "if not os.path.exists(processed_folder_path):\n",
    "    os.makedirs(processed_folder_path)\n",
    "\n",
    "file_path = os.path.join(processed_folder_path, vocab_filename)\n",
    "with open(file_path, 'w') as file:\n",
    "    file.write('\\n'.join(vocab))"
   ]
  },
  {
   "attachments": {},
   "cell_type": "markdown",
   "metadata": {},
   "source": [
    "### Filter data with vocabulary"
   ]
  },
  {
   "cell_type": "code",
   "execution_count": null,
   "metadata": {},
   "outputs": [],
   "source": [
    "def freq_filter_dataset(docs, filename, vocab):\n",
    "    filtered_dataset = []\n",
    "    for doc in docs:\n",
    "        filtered_text = ' '.join([word for word in doc.split() if word in vocab])\n",
    "        filtered_dataset.append(filtered_text)\n",
    "\n",
    "    filtered_dataset = pd.Series(filtered_dataset, index=docs.index)\n",
    "    \n",
    "    return filtered_dataset\n",
    "\n",
    "# Filter dataset based on vocabulary\n",
    "x_train = freq_filter_dataset(x_train, \"x_train\", vocab)\n",
    "x_val = freq_filter_dataset(x_val, \"x_val\", vocab)\n",
    "x_test = freq_filter_dataset(x_test, \"x_test\", vocab)"
   ]
  },
  {
   "cell_type": "code",
   "execution_count": null,
   "metadata": {},
   "outputs": [
    {
     "name": "stdout",
     "output_type": "stream",
     "text": [
      "Data Distribution:\n",
      "* train: 68472\n",
      "* validation: 17118\n",
      "* test: 21398\n",
      "\n"
     ]
    }
   ],
   "source": [
    "print(\"Data Distribution:\\n* train: {}\\n* validation: {}\\n* test: {}\\n\".format(len(x_train), len(x_val), len(x_test)))"
   ]
  },
  {
   "cell_type": "code",
   "execution_count": null,
   "metadata": {},
   "outputs": [
    {
     "name": "stdout",
     "output_type": "stream",
     "text": [
      "x_train - updated:\n",
      " 73868     beginner without programmi...\n",
      "78926                             intro\n",
      "97646     experience provide valuabl...\n",
      "64107                       clear thank\n",
      "61156     detailed learned whole lot...\n",
      "74081     beginner know_NEG much_NEG...\n",
      "56731     opportunity every one basi...\n",
      "20168     content exercise problem u...\n",
      "25796                             loved\n",
      "103631                    could content\n",
      "dtype: object\n"
     ]
    }
   ],
   "source": [
    "print(\"x_train - updated:\\n\", x_train.head(10))"
   ]
  },
  {
   "cell_type": "code",
   "execution_count": null,
   "metadata": {},
   "outputs": [],
   "source": [
    "def drop_empty_rows(x, y):\n",
    "    # Merge x and y datasets and drop empty rows\n",
    "    merged = pd.concat([x, y], axis=1)\n",
    "    merged.columns = ['x', 'y']\n",
    "    \n",
    "    merged.replace('', np.nan, inplace=True)\n",
    "    merged.dropna(subset=['x'], inplace=True) # TODO: subset?\n",
    "\n",
    "    # Re-assign X and Y datasets\n",
    "    x_filtered = merged['x']\n",
    "    y_filtered = merged['y']\n",
    "\n",
    "    return x_filtered, y_filtered\n",
    "\n",
    "x_train, y_train = drop_empty_rows(x_train, y_train)\n",
    "x_val, y_val = drop_empty_rows(x_val, y_val)\n",
    "x_test, y_test = drop_empty_rows(x_test, y_test)"
   ]
  },
  {
   "cell_type": "code",
   "execution_count": null,
   "metadata": {},
   "outputs": [
    {
     "name": "stdout",
     "output_type": "stream",
     "text": [
      "Data Distribution:\n",
      "* train: 65597\n",
      "* validation: 16415\n",
      "* test: 20455\n",
      "\n"
     ]
    }
   ],
   "source": [
    "print(\"Data Distribution:\\n* train: {}\\n* validation: {}\\n* test: {}\\n\".format(len(x_train), len(x_val), len(x_test)))"
   ]
  },
  {
   "cell_type": "code",
   "execution_count": null,
   "metadata": {},
   "outputs": [
    {
     "name": "stdout",
     "output_type": "stream",
     "text": [
      "3 (Positive): 59424 reviews\n",
      "2 (Neutral): 3197 reviews\n",
      "1 (Negative): 2976 reviews\n"
     ]
    }
   ],
   "source": [
    "senti_counts = y_train.value_counts()\n",
    "print_senti_counts(senti_counts)"
   ]
  },
  {
   "attachments": {},
   "cell_type": "markdown",
   "metadata": {},
   "source": [
    "# Balance Data"
   ]
  },
  {
   "attachments": {},
   "cell_type": "markdown",
   "metadata": {},
   "source": [
    "We remove positive reviews that have 3 words or less..."
   ]
  },
  {
   "cell_type": "code",
   "execution_count": null,
   "metadata": {},
   "outputs": [],
   "source": [
    "condition = ~((df['Sentiment'] == 3) & (df['Review'].apply(count_words) < 3))\n",
    "df = df[condition]"
   ]
  },
  {
   "cell_type": "code",
   "execution_count": null,
   "metadata": {},
   "outputs": [
    {
     "name": "stdout",
     "output_type": "stream",
     "text": [
      "Dataset length reduced from 107018 to 95814.\n"
     ]
    }
   ],
   "source": [
    "print(f\"Dataset length reduced from {df_raw.shape[0]} to {df.shape[0]}.\")"
   ]
  },
  {
   "cell_type": "code",
   "execution_count": null,
   "metadata": {},
   "outputs": [
    {
     "name": "stdout",
     "output_type": "stream",
     "text": [
      "Counter({3: 40000, 1: 10000, 2: 10000})\n"
     ]
    }
   ],
   "source": [
    "# The \"strategy\" parameter can take a dict, callable, or str as input\n",
    "# You might need to adjust these parameters according to the distribution of your classes\n",
    "over_strategy = {1: 10000, 2: 10000} # Over-sample minority classes 10000\n",
    "under_strategy = {3: 40000} # Under-sample majority classes 40000\n",
    "\n",
    "# Define pipeline\n",
    "over = RandomOverSampler(sampling_strategy=over_strategy)\n",
    "under = RandomUnderSampler(sampling_strategy=under_strategy)\n",
    "pipeline = Pipeline(steps=[('o', over), ('u', under)])\n",
    "\n",
    "# Applying the balancing pipeline to both x and y datasets\n",
    "x_balanced, y_balanced = pipeline.fit_resample(pd.DataFrame(x_train), y_train)\n",
    "\n",
    "# Print out the new class distribution\n",
    "counter = Counter(y_balanced)\n",
    "print(counter)\n",
    "\n",
    "x_train = x_balanced.copy()\n",
    "y_train = y_balanced.copy()\n"
   ]
  },
  {
   "cell_type": "code",
   "execution_count": null,
   "metadata": {},
   "outputs": [
    {
     "name": "stdout",
     "output_type": "stream",
     "text": [
      "(60000, 1) (60000,)\n",
      "                               x\n",
      "0  topic interest however con...\n",
      "1          really_NEG course_NEG\n",
      "2  information going fast fee...\n",
      "3  fast pace make_NEG online_...\n",
      "4  would recommend_NEG one_NE...\n"
     ]
    }
   ],
   "source": [
    "print(x_train.shape, y_train.shape)\n",
    "print(x_train[:5])"
   ]
  },
  {
   "cell_type": "code",
   "execution_count": null,
   "metadata": {},
   "outputs": [
    {
     "data": {
      "image/png": "[encoded data removed]",
      "text/plain": [
       "<Figure size 640x480 with 1 Axes>"
      ]
     },
     "metadata": {},
     "output_type": "display_data"
    },
    {
     "name": "stdout",
     "output_type": "stream",
     "text": [
      "Total word count:  150\n",
      "Average review length: 150.00\n"
     ]
    }
   ],
   "source": [
    "# Print balanced shape of training data\n",
    "senti_counts = y_train.value_counts()\n",
    "plot_senti_counts(senti_counts)\n",
    "\n",
    "total_word_count = x_train.apply(count_words).sum()\n",
    "avg_review_len = x_train.apply(count_words).mean()\n",
    "\n",
    "print(\"Total word count: \", total_word_count)\n",
    "print(f\"Average review length: {avg_review_len:.2f}\")"
   ]
  },
  {
   "cell_type": "code",
   "execution_count": null,
   "metadata": {},
   "outputs": [],
   "source": [
    "def save_data(x, y, filename):\n",
    "    # Save filtered dataset to a csv file\n",
    "\n",
    "    # Merge X and Y datasets\n",
    "    merged_df = pd.concat([x, y], axis=1)\n",
    "    merged_df.columns = ['x', 'y']\n",
    "    file_path = os.path.join(input_folder_path, filename)\n",
    "    merged_df.to_csv(file_path, sep=',', index_label='Id')\n",
    "\n",
    "save_data(x_train, y_train, \"train.csv\")\n",
    "save_data(x_val, y_val, \"val.csv\")\n",
    "save_data(x_test, y_test, \"test.csv\")"
   ]
  },
  {
   "attachments": {},
   "cell_type": "markdown",
   "metadata": {},
   "source": [
    "## EDA on Training Data"
   ]
  },
  {
   "cell_type": "code",
   "execution_count": null,
   "metadata": {},
   "outputs": [
    {
     "name": "stdout",
     "output_type": "stream",
     "text": [
      "<class 'pandas.core.frame.DataFrame'> <class 'pandas.core.series.Series'>\n",
      "Number of one-word lines:  4785\n",
      "       Word Count  Sentiment\n",
      "0              15          1\n",
      "1               2          1\n",
      "2              13          1\n",
      "3              16          1\n",
      "4              28          1\n",
      "...           ...        ...\n",
      "59995           5          3\n",
      "59996          15          3\n",
      "59997           4          3\n",
      "59998           5          3\n",
      "59999           1          3\n",
      "\n",
      "[60000 rows x 2 columns]\n"
     ]
    },
    {
     "data": {
      "image/png": "[encoded data removed]",
      "text/plain": [
       "<Figure size 1200x600 with 1 Axes>"
      ]
     },
     "metadata": {},
     "output_type": "display_data"
    }
   ],
   "source": [
    "def plot_freq_class(x, y):\n",
    "    num_words = x['x'].apply(count_words)\n",
    "    #print(num_words)\n",
    "    one_word_lines = num_words[num_words == 1]\n",
    "\n",
    "    # print the count of one-word lines\n",
    "    print(\"Number of one-word lines: \", len(one_word_lines))\n",
    "\n",
    "    merged_df = pd.DataFrame({'Word Count': num_words, 'Sentiment': y})\n",
    "    print(merged_df)\n",
    "    plt.figure(figsize=(12,6))\n",
    "    sns.boxplot(data=merged_df, x='Sentiment', y='Word Count', order=senti_categories)\n",
    "    plt.xlabel('Class', fontsize=12)\n",
    "    plt.ylabel('Text - Number of words', fontsize=12)\n",
    "    plt.show()\n",
    "\n",
    "print(type(x_train), type(y_train))\n",
    "plot_freq_class(x_train, y_train)"
   ]
  }
 ],
 "metadata": {
  "kernelspec": {
   "display_name": "Python 3 (ipykernel)",
   "language": "python",
   "name": "python3"
  },
  "language_info": {
   "codemirror_mode": {
    "name": "ipython",
    "version": 3
   },
   "file_extension": ".py",
   "mimetype": "text/x-python",
   "name": "python",
   "nbconvert_exporter": "python",
   "pygments_lexer": "ipython3",
   "version": "3.10.8"
  },
  "orig_nbformat": 4
 },
 "nbformat": 4,
 "nbformat_minor": 2
}
