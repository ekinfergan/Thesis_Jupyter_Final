{
  "cells": [
    {
      "cell_type": "markdown",
      "metadata": {
        "id": "view-in-github",
        "colab_type": "text"
      },
      "source": [
        "<a href=\"https://colab.research.google.com/github/ekinfergan/Thesis_Jupyter_Final/blob/main/src/models/bert.ipynb\" target=\"_parent\"><img src=\"https://colab.research.google.com/assets/colab-badge.svg\" alt=\"Open In Colab\"/></a>"
      ]
    },
    {
      "cell_type": "markdown",
      "metadata": {
        "id": "YYTxTA6lELO8"
      },
      "source": [
        "# BERT"
      ]
    },
    {
      "cell_type": "code",
      "source": [
        "!git clone https://github.com/ekinfergan/Thesis_Jupyter_Final.git"
      ],
      "metadata": {
        "id": "IvlurR-jva4x",
        "outputId": "08927437-85db-4e3e-812f-a9b59d508fe6",
        "colab": {
          "base_uri": "https://localhost:8080/"
        }
      },
      "execution_count": 2,
      "outputs": [
        {
          "output_type": "stream",
          "name": "stdout",
          "text": [
            "Cloning into 'Thesis_Jupyter_Final'...\n",
            "remote: Enumerating objects: 986, done.\u001b[K\n",
            "remote: Counting objects: 100% (406/406), done.\u001b[K\n",
            "remote: Compressing objects: 100% (250/250), done.\u001b[K\n",
            "remote: Total 986 (delta 185), reused 368 (delta 154), pack-reused 580\u001b[K\n",
            "Receiving objects: 100% (986/986), 191.26 MiB | 17.38 MiB/s, done.\n",
            "Resolving deltas: 100% (503/503), done.\n",
            "Updating files: 100% (86/86), done.\n"
          ]
        }
      ]
    },
    {
      "cell_type": "code",
      "source": [
        "%cd Thesis_Jupyter_Final\n",
        "!git pull\n",
        "%cd .."
      ],
      "metadata": {
        "id": "RfCTrTI7vfVY",
        "outputId": "40c0c39d-e97e-4cee-e129-909565a519d0",
        "colab": {
          "base_uri": "https://localhost:8080/"
        }
      },
      "execution_count": 3,
      "outputs": [
        {
          "output_type": "stream",
          "name": "stdout",
          "text": [
            "/content/Thesis_Jupyter_Final\n",
            "Already up to date.\n",
            "/content\n"
          ]
        }
      ]
    },
    {
      "cell_type": "code",
      "execution_count": 1,
      "metadata": {
        "colab": {
          "base_uri": "https://localhost:8080/"
        },
        "id": "iJx1wClFELO_",
        "outputId": "e5c95cd7-08b5-4efe-c703-36ba7d9f17c6"
      },
      "outputs": [
        {
          "output_type": "stream",
          "name": "stdout",
          "text": [
            "\u001b[2K     \u001b[90m━━━━━━━━━━━━━━━━━━━━━━━━━━━━━━━━━━━━━━━━\u001b[0m \u001b[32m7.2/7.2 MB\u001b[0m \u001b[31m104.6 MB/s\u001b[0m eta \u001b[36m0:00:00\u001b[0m\n",
            "\u001b[2K     \u001b[90m━━━━━━━━━━━━━━━━━━━━━━━━━━━━━━━━━━━━━━\u001b[0m \u001b[32m236.8/236.8 kB\u001b[0m \u001b[31m21.0 MB/s\u001b[0m eta \u001b[36m0:00:00\u001b[0m\n",
            "\u001b[2K     \u001b[90m━━━━━━━━━━━━━━━━━━━━━━━━━━━━━━━━━━━━━━━━\u001b[0m \u001b[32m7.8/7.8 MB\u001b[0m \u001b[31m110.7 MB/s\u001b[0m eta \u001b[36m0:00:00\u001b[0m\n",
            "\u001b[2K     \u001b[90m━━━━━━━━━━━━━━━━━━━━━━━━━━━━━━━━━━━━━━━━\u001b[0m \u001b[32m1.3/1.3 MB\u001b[0m \u001b[31m63.5 MB/s\u001b[0m eta \u001b[36m0:00:00\u001b[0m\n",
            "\u001b[?25h"
          ]
        }
      ],
      "source": [
        "%pip install -q transformers"
      ]
    },
    {
      "cell_type": "code",
      "execution_count": 4,
      "metadata": {
        "id": "C42xim_tELPA"
      },
      "outputs": [],
      "source": [
        "%pip install -q torch"
      ]
    },
    {
      "cell_type": "code",
      "execution_count": 5,
      "metadata": {
        "id": "KTwyaPF9ELPB"
      },
      "outputs": [],
      "source": [
        "# Import necessary libraries\n",
        "import os\n",
        "import numpy as np\n",
        "import pandas as pd\n",
        "import seaborn as sns\n",
        "from pylab import rcParams\n",
        "import matplotlib.pyplot as plt\n",
        "from matplotlib import rc\n",
        "from sklearn.model_selection import train_test_split\n",
        "from sklearn.metrics import confusion_matrix, classification_report\n",
        "from collections import defaultdict\n",
        "from textwrap import wrap\n",
        "\n",
        "# Torch ML libraries\n",
        "import transformers\n",
        "from transformers import BertModel, BertTokenizer, AdamW, get_linear_schedule_with_warmup\n",
        "import torch\n",
        "from torch import nn, optim\n",
        "from torch.utils.data import Dataset, DataLoader\n",
        "\n",
        "# To run in Google Colab\n",
        "import io\n",
        "#from google.colab import files\n",
        "from IPython import get_ipython\n",
        "\n",
        "# Other\n",
        "from tqdm import tqdm\n",
        "import warnings\n",
        "warnings.filterwarnings('ignore')\n",
        "\n",
        "google_colab = False"
      ]
    },
    {
      "cell_type": "code",
      "execution_count": 6,
      "metadata": {
        "id": "qV8W-KPXvRun",
        "outputId": "a209a262-5b33-4d14-ab14-1c9526662c86",
        "colab": {
          "base_uri": "https://localhost:8080/"
        }
      },
      "outputs": [
        {
          "output_type": "stream",
          "name": "stdout",
          "text": [
            "3\n"
          ]
        }
      ],
      "source": [
        "# Set global params\n",
        "class_names = ['Negative', 'Neutral', 'Positive']\n",
        "print(len(class_names))"
      ]
    },
    {
      "cell_type": "code",
      "execution_count": 7,
      "metadata": {
        "id": "lroh9njHELPB"
      },
      "outputs": [],
      "source": [
        "# Set constants and initial variables\n",
        "%config InlineBackend.figure_format='retina'\n",
        "\n",
        "# Graph Designs #TODO\n",
        "sns.set(style='whitegrid', palette='muted', font_scale=1.2)\n",
        "HAPPY_COLORS_PALETTE = [\"#01BEFE\", \"#FFDD00\", \"#FF7D00\", \"#FF006D\", \"#ADFF02\", \"#8F00FF\"]\n",
        "sns.set_palette(sns.color_palette(HAPPY_COLORS_PALETTE))\n",
        "rcParams['figure.figsize'] = 12, 8\n",
        "\n",
        "# Random seed for reproducibilty\n",
        "RANDOM_SEED = 42\n",
        "np.random.seed(RANDOM_SEED)\n",
        "torch.manual_seed(RANDOM_SEED)\n",
        "\n",
        "# Set GPU\n",
        "device = torch.device(\"cuda\" if torch.cuda.is_available() else \"cpu\")"
      ]
    },
    {
      "cell_type": "code",
      "execution_count": 8,
      "metadata": {
        "colab": {
          "base_uri": "https://localhost:8080/"
        },
        "id": "n8CRW2ESELPC",
        "outputId": "c47063d6-ebc5-4124-ee87-69c54cb81989"
      },
      "outputs": [
        {
          "output_type": "stream",
          "name": "stdout",
          "text": [
            "/content/Thesis_Jupyter_Final/src/\n"
          ]
        }
      ],
      "source": [
        "script_dir = os.path.dirname(os.path.abspath('bert.ipynb'))\n",
        "data_path = os.path.join(script_dir, 'Thesis_Jupyter_Final/src/')\n",
        "os.getcwd()\n",
        "print(data_path)\n",
        "\n",
        "input_folder_path = os.path.join(data_path, 'input')\n",
        "processed_folder_path = os.path.join(data_path, 'input/processed/neg_tagged')\n",
        "results_folder_path =  os.path.join(data_path, \"results/BERT_results\")\n",
        "\n",
        "# Create the folder if it doesn't exist\n",
        "if not os.path.exists(results_folder_path):\n",
        "    os.makedirs(results_folder_path)"
      ]
    },
    {
      "cell_type": "code",
      "execution_count": 9,
      "metadata": {
        "id": "G5ob7291vRuo",
        "outputId": "53d4ff11-276c-4036-8dcc-0af41e019e0e",
        "colab": {
          "base_uri": "https://localhost:8080/",
          "height": 35
        }
      },
      "outputs": [
        {
          "output_type": "execute_result",
          "data": {
            "text/plain": [
              "'/content'"
            ],
            "application/vnd.google.colaboratory.intrinsic+json": {
              "type": "string"
            }
          },
          "metadata": {},
          "execution_count": 9
        }
      ],
      "source": [
        "os.getcwd()"
      ]
    },
    {
      "cell_type": "code",
      "execution_count": null,
      "metadata": {
        "id": "iShMpxQrvRup"
      },
      "outputs": [],
      "source": [
        "# Choose file, if running on Google Colab. Otherwise, skip this cell.\n",
        "uploaded = files.upload()\n",
        "for fn in uploaded.keys():\n",
        "  print('User uploaded file \"{name}\" with length {length} bytes'.format(\n",
        "      name=fn, length=len(uploaded[fn])))\n",
        "\n",
        "# Get the current running kernel\n",
        "ipython = get_ipython()\n",
        "\n",
        "# Set a custom variable \"google_colab\" to True\n",
        "if ipython:\n",
        "    ipython.run_cell(\"google_colab = True\")"
      ]
    },
    {
      "cell_type": "markdown",
      "metadata": {
        "id": "AGG4pZSKvRup"
      },
      "source": [
        "## Load Data (& Remove Missing Values)"
      ]
    },
    {
      "cell_type": "code",
      "execution_count": 11,
      "metadata": {
        "colab": {
          "base_uri": "https://localhost:8080/"
        },
        "id": "qdkCWiB7ELPC",
        "outputId": "2abdea3d-ad2c-41be-ee05-227713dbc3d2"
      },
      "outputs": [
        {
          "output_type": "stream",
          "name": "stdout",
          "text": [
            "Number of removed rows: 0\n"
          ]
        }
      ],
      "source": [
        "def drop_missing(data):\n",
        "    \"\"\"\n",
        "    Drop rows with missing values from a pandas DataFrame and return the cleaned DataFrame.\n",
        "\n",
        "    Args:\n",
        "        data (pandas.DataFrame): The input DataFrame containing the data.\n",
        "\n",
        "    Returns:\n",
        "        pandas.DataFrame: The cleaned DataFrame with missing values removed.\n",
        "    \"\"\"\n",
        "\n",
        "    rows_before = data.shape[0]\n",
        "\n",
        "    data.replace('', np.nan, inplace=True)\n",
        "    data = data.dropna()\n",
        "    data.reset_index(drop=True, inplace=True)\n",
        "    rows_after = data.shape[0]\n",
        "\n",
        "    print(f\"Number of removed rows: {rows_before - rows_after}\")  # Count the number of rows removed\n",
        "\n",
        "    return data\n",
        "\n",
        "def load_data(filename, process=True):\n",
        "    \"\"\"\n",
        "    Loads data from a file and returns it as a pandas DataFrame.\n",
        "\n",
        "    Args:\n",
        "        filename (str): The name of the file to load.\n",
        "        process (bool, optional): Whether to perform additional data processing steps (default is True).\n",
        "\n",
        "    Returns:\n",
        "        pandas.DataFrame: The loaded data as a DataFrame.\n",
        "\n",
        "    Raises:\n",
        "        FileNotFoundError: If the specified file is not found.\n",
        "    \"\"\"\n",
        "    try:\n",
        "        if google_colab:\n",
        "            data_file_path = io.BytesIO(uploaded[filename])\n",
        "        else:\n",
        "            data_file_path = os.path.join(input_folder_path, filename)\n",
        "        df = pd.read_csv(data_file_path)\n",
        "\n",
        "        if process:\n",
        "            df.set_index('Id', inplace=True, drop=True) # Set ID as index\n",
        "            df = drop_missing(df)\n",
        "\n",
        "        return df\n",
        "\n",
        "    except FileNotFoundError:\n",
        "        raise FileNotFoundError(f\"Error: File '{filename}' not found.\")\n",
        "\n",
        "\n",
        "data_filename = \"original_data.csv\"\n",
        "df = load_data(data_filename)"
      ]
    },
    {
      "cell_type": "markdown",
      "metadata": {
        "id": "IFfh67b2vRuq"
      },
      "source": [
        "Inspect loaded raw data."
      ]
    },
    {
      "cell_type": "code",
      "execution_count": 12,
      "metadata": {
        "id": "vAPiF1xUvRuq",
        "outputId": "b6450e30-8d81-446f-fc0f-173345532955",
        "colab": {
          "base_uri": "https://localhost:8080/",
          "height": 431
        }
      },
      "outputs": [
        {
          "output_type": "stream",
          "name": "stdout",
          "text": [
            "<class 'pandas.core.frame.DataFrame'>\n",
            "RangeIndex: 107018 entries, 0 to 107017\n",
            "Data columns (total 2 columns):\n",
            " #   Column     Non-Null Count   Dtype \n",
            "---  ------     --------------   ----- \n",
            " 0   Review     107018 non-null  object\n",
            " 1   Sentiment  107018 non-null  int64 \n",
            "dtypes: int64(1), object(1)\n",
            "memory usage: 1.6+ MB\n",
            "None\n",
            "\n",
            "Dataset shape: (107018, 2)\n",
            "\n"
          ]
        },
        {
          "output_type": "execute_result",
          "data": {
            "text/plain": [
              "                                              Review  Sentiment\n",
              "0                               good and interesting          3\n",
              "1  This class is very helpful to me. Currently, I...          3\n",
              "2  like!Prof and TAs are helpful and the discussi...          3\n",
              "3  Easy to follow and includes a lot basic and im...          3\n",
              "4  Really nice teacher!I could got the point eazl...          3"
            ],
            "text/html": [
              "\n",
              "  <div id=\"df-514a2c1d-8d7f-4379-8132-8fd7b9db3560\">\n",
              "    <div class=\"colab-df-container\">\n",
              "      <div>\n",
              "<style scoped>\n",
              "    .dataframe tbody tr th:only-of-type {\n",
              "        vertical-align: middle;\n",
              "    }\n",
              "\n",
              "    .dataframe tbody tr th {\n",
              "        vertical-align: top;\n",
              "    }\n",
              "\n",
              "    .dataframe thead th {\n",
              "        text-align: right;\n",
              "    }\n",
              "</style>\n",
              "<table border=\"1\" class=\"dataframe\">\n",
              "  <thead>\n",
              "    <tr style=\"text-align: right;\">\n",
              "      <th></th>\n",
              "      <th>Review</th>\n",
              "      <th>Sentiment</th>\n",
              "    </tr>\n",
              "  </thead>\n",
              "  <tbody>\n",
              "    <tr>\n",
              "      <th>0</th>\n",
              "      <td>good and interesting</td>\n",
              "      <td>3</td>\n",
              "    </tr>\n",
              "    <tr>\n",
              "      <th>1</th>\n",
              "      <td>This class is very helpful to me. Currently, I...</td>\n",
              "      <td>3</td>\n",
              "    </tr>\n",
              "    <tr>\n",
              "      <th>2</th>\n",
              "      <td>like!Prof and TAs are helpful and the discussi...</td>\n",
              "      <td>3</td>\n",
              "    </tr>\n",
              "    <tr>\n",
              "      <th>3</th>\n",
              "      <td>Easy to follow and includes a lot basic and im...</td>\n",
              "      <td>3</td>\n",
              "    </tr>\n",
              "    <tr>\n",
              "      <th>4</th>\n",
              "      <td>Really nice teacher!I could got the point eazl...</td>\n",
              "      <td>3</td>\n",
              "    </tr>\n",
              "  </tbody>\n",
              "</table>\n",
              "</div>\n",
              "      <button class=\"colab-df-convert\" onclick=\"convertToInteractive('df-514a2c1d-8d7f-4379-8132-8fd7b9db3560')\"\n",
              "              title=\"Convert this dataframe to an interactive table.\"\n",
              "              style=\"display:none;\">\n",
              "        \n",
              "  <svg xmlns=\"http://www.w3.org/2000/svg\" height=\"24px\"viewBox=\"0 0 24 24\"\n",
              "       width=\"24px\">\n",
              "    <path d=\"M0 0h24v24H0V0z\" fill=\"none\"/>\n",
              "    <path d=\"M18.56 5.44l.94 2.06.94-2.06 2.06-.94-2.06-.94-.94-2.06-.94 2.06-2.06.94zm-11 1L8.5 8.5l.94-2.06 2.06-.94-2.06-.94L8.5 2.5l-.94 2.06-2.06.94zm10 10l.94 2.06.94-2.06 2.06-.94-2.06-.94-.94-2.06-.94 2.06-2.06.94z\"/><path d=\"M17.41 7.96l-1.37-1.37c-.4-.4-.92-.59-1.43-.59-.52 0-1.04.2-1.43.59L10.3 9.45l-7.72 7.72c-.78.78-.78 2.05 0 2.83L4 21.41c.39.39.9.59 1.41.59.51 0 1.02-.2 1.41-.59l7.78-7.78 2.81-2.81c.8-.78.8-2.07 0-2.86zM5.41 20L4 18.59l7.72-7.72 1.47 1.35L5.41 20z\"/>\n",
              "  </svg>\n",
              "      </button>\n",
              "      \n",
              "  <style>\n",
              "    .colab-df-container {\n",
              "      display:flex;\n",
              "      flex-wrap:wrap;\n",
              "      gap: 12px;\n",
              "    }\n",
              "\n",
              "    .colab-df-convert {\n",
              "      background-color: #E8F0FE;\n",
              "      border: none;\n",
              "      border-radius: 50%;\n",
              "      cursor: pointer;\n",
              "      display: none;\n",
              "      fill: #1967D2;\n",
              "      height: 32px;\n",
              "      padding: 0 0 0 0;\n",
              "      width: 32px;\n",
              "    }\n",
              "\n",
              "    .colab-df-convert:hover {\n",
              "      background-color: #E2EBFA;\n",
              "      box-shadow: 0px 1px 2px rgba(60, 64, 67, 0.3), 0px 1px 3px 1px rgba(60, 64, 67, 0.15);\n",
              "      fill: #174EA6;\n",
              "    }\n",
              "\n",
              "    [theme=dark] .colab-df-convert {\n",
              "      background-color: #3B4455;\n",
              "      fill: #D2E3FC;\n",
              "    }\n",
              "\n",
              "    [theme=dark] .colab-df-convert:hover {\n",
              "      background-color: #434B5C;\n",
              "      box-shadow: 0px 1px 3px 1px rgba(0, 0, 0, 0.15);\n",
              "      filter: drop-shadow(0px 1px 2px rgba(0, 0, 0, 0.3));\n",
              "      fill: #FFFFFF;\n",
              "    }\n",
              "  </style>\n",
              "\n",
              "      <script>\n",
              "        const buttonEl =\n",
              "          document.querySelector('#df-514a2c1d-8d7f-4379-8132-8fd7b9db3560 button.colab-df-convert');\n",
              "        buttonEl.style.display =\n",
              "          google.colab.kernel.accessAllowed ? 'block' : 'none';\n",
              "\n",
              "        async function convertToInteractive(key) {\n",
              "          const element = document.querySelector('#df-514a2c1d-8d7f-4379-8132-8fd7b9db3560');\n",
              "          const dataTable =\n",
              "            await google.colab.kernel.invokeFunction('convertToInteractive',\n",
              "                                                     [key], {});\n",
              "          if (!dataTable) return;\n",
              "\n",
              "          const docLinkHtml = 'Like what you see? Visit the ' +\n",
              "            '<a target=\"_blank\" href=https://colab.research.google.com/notebooks/data_table.ipynb>data table notebook</a>'\n",
              "            + ' to learn more about interactive tables.';\n",
              "          element.innerHTML = '';\n",
              "          dataTable['output_type'] = 'display_data';\n",
              "          await google.colab.output.renderOutput(dataTable, element);\n",
              "          const docLink = document.createElement('div');\n",
              "          docLink.innerHTML = docLinkHtml;\n",
              "          element.appendChild(docLink);\n",
              "        }\n",
              "      </script>\n",
              "    </div>\n",
              "  </div>\n",
              "  "
            ]
          },
          "metadata": {},
          "execution_count": 12
        }
      ],
      "source": [
        "print(df.info())\n",
        "print()\n",
        "print(f'Dataset shape: {df.shape}\\n')\n",
        "df.head()"
      ]
    },
    {
      "cell_type": "markdown",
      "metadata": {
        "id": "qBRcfEXNvRur"
      },
      "source": [
        "## Preprocess Data"
      ]
    },
    {
      "cell_type": "markdown",
      "metadata": {
        "id": "LOFVGh7zvRur"
      },
      "source": [
        "ML algorithms can't directly process raw text. Hence, text data must represented numerically. <br>\n",
        "Handling this data representation is important for BERT.\n",
        "\n",
        "For this purpose, we do the following transformations:\n",
        "1. Add special tokens to distinguish between sentences.\n",
        "2. Pad sequences to fixed length\n",
        "3. Create array composed of 0s (representing pad tokens) and 1s (representing real tokens) known as attention mask.\n",
        "\n",
        "We choose the 'bert-base-cased' configuration of the BERT model. <br>\n",
        "'base' indicates a model with a smaller arhictecture consisting of 12 transformer layers, 768 hidden units and 12 attention heads. This totals to 110 million parameters <br>\n",
        "'cased' indicates that the model differentiates between uppercase and lowercase letters. This will place more emphasis on upper case words e.g. \"GOOD\" vs \"good\". <br>\n",
        "These configurations make the model more computationally efficient."
      ]
    },
    {
      "cell_type": "code",
      "execution_count": 13,
      "metadata": {
        "colab": {
          "base_uri": "https://localhost:8080/",
          "height": 113,
          "referenced_widgets": [
            "5d7a8357c57c47bcab09cbbdb5d1443e",
            "8f8dc50a0840415fbfe7814650e6e7f5",
            "1c0be56e27ed44f2aa65642cb348ff18",
            "969a247c7d7d411f83b0affe4c6f75e0",
            "fb1b03b09f9447488ab0366a9817df0c",
            "c2ee53a6439e45a6a7a36ceecf437e47",
            "e469f8b6998d4e8d88c5d6cf52e89cea",
            "23c4ba7503b949939c63d605e88683e3",
            "b4cc057050344f71bf5b0e9449f8419b",
            "d447e21b10244635870f8006e855b993",
            "7c140b4c4bba4d779b354d16b2b7b9cc",
            "8cbfba427e35477f826cf7bf323f2392",
            "68f302a5f2474bd6a00d7cd7f8a7c769",
            "9579a6fd4fed430fa08c2192aff4477c",
            "11458c51a64147c0bc3235c1f835c9c6",
            "d55d939a1d8d46d18ff96846558d49dc",
            "b3ed97695ad84f88989a813ed8c3f67f",
            "528738d1607a4720913808c636eed330",
            "cc23a19dbd9b4269b88b20f3cde73a5f",
            "c5a7da15ceea4071befd32a5d7e1dfdf",
            "497dcaf58230469f8ae2781ad2cd321e",
            "c008beeea5574a2f8336ebb52c31567e",
            "3bf3ab68d7e746558741679a320ff1b0",
            "db60259a4b0342f185dcd23ebe7c2dce",
            "8db750c0ee834db0bdf6713a8ddadb9f",
            "aad32021be9a4c21a97444c471b671e2",
            "492d585673fe450683aaf1679659d202",
            "2bae814196cd40a3951e06309b9137ef",
            "d74f21455e034ca4a62592ae4c76c0d2",
            "842feec90ad746a0a32f272dfdfe0616",
            "06e2e05af9e748f99203cd6da9eaf0dc",
            "d89cecef764c4cc38094e7fad419b73f",
            "728a6d5c09914c7ebfbe3fcb29ae635d"
          ]
        },
        "id": "ABmT3TxIELPD",
        "outputId": "584fe8b2-4063-4c77-bfd3-f29bc718432a"
      },
      "outputs": [
        {
          "output_type": "display_data",
          "data": {
            "text/plain": [
              "Downloading (…)solve/main/vocab.txt: 0.00B [00:00, ?B/s]"
            ],
            "application/vnd.jupyter.widget-view+json": {
              "version_major": 2,
              "version_minor": 0,
              "model_id": "5d7a8357c57c47bcab09cbbdb5d1443e"
            }
          },
          "metadata": {}
        },
        {
          "output_type": "display_data",
          "data": {
            "text/plain": [
              "Downloading (…)okenizer_config.json:   0%|          | 0.00/29.0 [00:00<?, ?B/s]"
            ],
            "application/vnd.jupyter.widget-view+json": {
              "version_major": 2,
              "version_minor": 0,
              "model_id": "8cbfba427e35477f826cf7bf323f2392"
            }
          },
          "metadata": {}
        },
        {
          "output_type": "display_data",
          "data": {
            "text/plain": [
              "Downloading (…)lve/main/config.json:   0%|          | 0.00/570 [00:00<?, ?B/s]"
            ],
            "application/vnd.jupyter.widget-view+json": {
              "version_major": 2,
              "version_minor": 0,
              "model_id": "3bf3ab68d7e746558741679a320ff1b0"
            }
          },
          "metadata": {}
        }
      ],
      "source": [
        "# Set  model name\n",
        "MODEL_NAME = 'bert-base-cased'\n",
        "\n",
        "# Create a BERT based tokenizer\n",
        "tokenizer = BertTokenizer.from_pretrained(MODEL_NAME)"
      ]
    },
    {
      "cell_type": "code",
      "execution_count": 14,
      "metadata": {
        "colab": {
          "base_uri": "https://localhost:8080/"
        },
        "id": "OpEokXFJELPD",
        "outputId": "0d2613e4-3ab6-43c7-a439-a8a2aad96156"
      },
      "outputs": [
        {
          "output_type": "stream",
          "name": "stdout",
          "text": [
            "[SEP] 102\n",
            "[CLS] 101\n",
            "[PAD] 0\n",
            "[UNK] 100\n"
          ]
        }
      ],
      "source": [
        "# Some of the commonly used BERT tokens\n",
        "print(tokenizer.sep_token, tokenizer.sep_token_id)  # Indicates the end of a sentence\n",
        "print(tokenizer.cls_token, tokenizer.cls_token_id)  # Marks the beginning of each sentence, aiding BERT in classification\n",
        "print(tokenizer.pad_token, tokenizer.pad_token_id)  # Special token used for padding\n",
        "print(tokenizer.unk_token, tokenizer.unk_token_id)  # Represents tokens that are not found in the training set"
      ]
    },
    {
      "cell_type": "code",
      "execution_count": 16,
      "metadata": {
        "colab": {
          "base_uri": "https://localhost:8080/",
          "height": 727
        },
        "id": "-3NGlfHFELPE",
        "outputId": "630e9bde-c977-451e-eca0-e623a446a9a6"
      },
      "outputs": [
        {
          "output_type": "execute_result",
          "data": {
            "text/plain": [
              "Text(0.5, 0, 'Token count')"
            ]
          },
          "metadata": {},
          "execution_count": 16
        },
        {
          "output_type": "display_data",
          "data": {
            "text/plain": [
              "<Figure size 1200x800 with 1 Axes>"
            ],
            "image/png": "[encoded data removed]"
          },
          "metadata": {
            "image/png": {
              "width": 1041,
              "height": 693
            }
          }
        }
      ],
      "source": [
        "# Calculate the length of each review in data\n",
        "review_len = []\n",
        "for review in df['Review']:\n",
        "    tokens = tokenizer.encode(review, max_length=512)\n",
        "    review_len.append(len(tokens))\n",
        "\n",
        "# Create a distibuion plot of the review lengths\n",
        "sns.distplot(review_len)\n",
        "plt.xlim([0, 256]);\n",
        "plt.xlabel('Token count')"
      ]
    },
    {
      "cell_type": "markdown",
      "metadata": {
        "id": "OJh10yNavRus"
      },
      "source": [
        "Based on the analysis, it appears that the majority of the reviews have a token count of fewer than 150. However, to ensure comprehensive coverage, we will set a maximum length of 200 tokens for our processing."
      ]
    },
    {
      "cell_type": "markdown",
      "metadata": {
        "id": "nq2WDamPvRus"
      },
      "source": [
        "### Set Constants"
      ]
    },
    {
      "cell_type": "code",
      "execution_count": 17,
      "metadata": {
        "id": "IMtnNZPnvRus"
      },
      "outputs": [],
      "source": [
        "MAX_LEN = 200\n",
        "BATCH_SIZE = 16\n",
        "EPOCHS = 5"
      ]
    },
    {
      "cell_type": "markdown",
      "metadata": {
        "id": "OInweA4WvRus"
      },
      "source": [
        "# Preparing Data for PyTorch"
      ]
    },
    {
      "cell_type": "markdown",
      "metadata": {
        "id": "WZCA9ZqWvRus"
      },
      "source": [
        "Creating a robust data generator class is necessary to prepare the data for input into a PyTorch model. This class will be responsible for generating the data in a format suitable for training or validation.  Alongside other data that is generated or processed for the PyTorch model, we will  also include the original review text as an additional output. By including the option to return the text, we can easily compare the predicted results with the actual review text and assess the accuracy and relevance of the model's predictions."
      ]
    },
    {
      "cell_type": "code",
      "execution_count": 18,
      "metadata": {
        "id": "PhIT9sokELPE"
      },
      "outputs": [],
      "source": [
        "class ReviewDataset(Dataset):\n",
        "    \"\"\"\n",
        "    PyTorch dataset class for sentiment analysis on reviews.\n",
        "    \"\"\"\n",
        "    def __init__(self, reviews, targets, tokenizer, max_len):\n",
        "        \"\"\"\n",
        "        Initializes the ReviewDataset.\n",
        "\n",
        "        Args:\n",
        "            reviews (list): List of review texts.\n",
        "            targets (list): List of target sentiment labels.\n",
        "            tokenizer (transformers.PreTrainedTokenizer): Tokenizer for encoding the reviews.\n",
        "            max_length (int): Maximum length of the encoded input sequences.\n",
        "        \"\"\"\n",
        "\n",
        "        self.reviews = reviews\n",
        "        self.targets = targets - 1  # -1 since the target data is [1,2,3]\n",
        "        self.tokenizer = tokenizer\n",
        "        self.max_len = max_len\n",
        "\n",
        "\n",
        "    def __len__(self):\n",
        "        \"\"\"\n",
        "        Returns the length of the dataset.\n",
        "\n",
        "        Returns:\n",
        "            int: Length of the dataset.\n",
        "        \"\"\"\n",
        "\n",
        "        return len(self.reviews)\n",
        "\n",
        "\n",
        "    def __getitem__(self, item):\n",
        "        \"\"\"\n",
        "        Retrieves an item from the dataset.\n",
        "\n",
        "        Args:\n",
        "            index (int): Index of the item to retrieve.\n",
        "\n",
        "        Returns:\n",
        "            dict: Dictionary containing the review text, input IDs, attention mask, and target sentiment label.\n",
        "        \"\"\"\n",
        "\n",
        "        review = str(self.reviews[item])\n",
        "        target = self.targets[item]\n",
        "\n",
        "        # Encode the review text\n",
        "        encoding = self.tokenizer.encode_plus(\n",
        "            review,\n",
        "            add_special_tokens=True,\n",
        "            return_token_type_ids=False,\n",
        "            max_length=self.max_len,\n",
        "            pad_to_max_length=True,\n",
        "            return_attention_mask=True,\n",
        "            return_tensors='pt',\n",
        "        )\n",
        "\n",
        "        sample_dict =  {\n",
        "            'review_text': review,\n",
        "            'input_ids': encoding['input_ids'].flatten(),   # The numerical token IDs assigned to each word\n",
        "            'attention_mask': encoding['attention_mask'].flatten(),\n",
        "            'targets': torch.tensor(target, dtype=torch.long)\n",
        "            }\n",
        "\n",
        "        return sample_dict"
      ]
    },
    {
      "cell_type": "markdown",
      "metadata": {
        "id": "lqgkqFe5vRut"
      },
      "source": [
        "## Split Data into Train, Validation and Test Set"
      ]
    },
    {
      "cell_type": "code",
      "execution_count": 19,
      "metadata": {
        "colab": {
          "base_uri": "https://localhost:8080/"
        },
        "id": "vtX2iDviELPF",
        "outputId": "af936b51-2fa8-4711-c2cd-77b0bf697a10"
      },
      "outputs": [
        {
          "output_type": "stream",
          "name": "stdout",
          "text": [
            "Train:  (85614, 2)\n",
            "Validation:  (10702, 2)\n",
            "Test: (10702, 2)\n"
          ]
        }
      ],
      "source": [
        "# Split the data into train and test/validation\n",
        "df_train, df_test = train_test_split(df, test_size=0.2, random_state=RANDOM_SEED)\n",
        "\n",
        "# Further split the test/validation data into test and validation\n",
        "df_val, df_test = train_test_split(df_test, test_size=0.5, random_state=RANDOM_SEED)\n",
        "\n",
        "print(\"Train: \", df_train.shape)\n",
        "print(\"Validation: \", df_val.shape)\n",
        "print(\"Test:\", df_test.shape)"
      ]
    },
    {
      "cell_type": "code",
      "execution_count": 20,
      "metadata": {
        "id": "3ID9dJt3ELPF"
      },
      "outputs": [],
      "source": [
        "def build_data_loader(df, tokenizer, max_len, batch_size):\n",
        "    \"\"\"\n",
        "    Creates a PyTorch DataLoader interface for efficient data loading and batching\n",
        "    during training or evaluation.\n",
        "\n",
        "    Args:\n",
        "        df (pandas.DataFrame): DataFrame containing the review and sentiment data.\n",
        "        tokenizer (transformers.PreTrainedTokenizer): Tokenizer for encoding the reviews.\n",
        "        max_len (int): Maximum length of the encoded input sequences.\n",
        "        batch_size (int): Number of samples per batch.\n",
        "\n",
        "    Returns:\n",
        "        torch.utils.data.DataLoader: DataLoader object for iterating over batches of data.\n",
        "    \"\"\"\n",
        "\n",
        "    created_dataset = ReviewDataset(reviews=df['Review'].to_numpy(),\n",
        "                                    targets=df['Sentiment'].to_numpy(),\n",
        "                                    tokenizer=tokenizer,\n",
        "                                    max_len=max_len)\n",
        "\n",
        "    return DataLoader(created_dataset, batch_size=batch_size, num_workers=0)\n",
        "\n",
        "# Create data loader for train, test and val data\n",
        "train_data_loader = build_data_loader(df_train, tokenizer, MAX_LEN, BATCH_SIZE)\n",
        "val_data_loader = build_data_loader(df_val, tokenizer, MAX_LEN, BATCH_SIZE)\n",
        "test_data_loader = build_data_loader(df_test, tokenizer, MAX_LEN, BATCH_SIZE)"
      ]
    },
    {
      "cell_type": "code",
      "execution_count": 21,
      "metadata": {
        "colab": {
          "base_uri": "https://localhost:8080/"
        },
        "id": "3yOIlmboELPF",
        "outputId": "8420255a-4fa0-42e4-ee9e-b08d8cb9bb8e"
      },
      "outputs": [
        {
          "output_type": "stream",
          "name": "stdout",
          "text": [
            "dict_keys(['review_text', 'input_ids', 'attention_mask', 'targets'])\n",
            "torch.Size([16, 200])\n",
            "torch.Size([16, 200])\n",
            "torch.Size([16])\n"
          ]
        }
      ],
      "source": [
        "# Example of a data sample\n",
        "batch_data = next(iter(train_data_loader))    # Retrieve next batch of data\n",
        "print(batch_data.keys())\n",
        "print(batch_data['input_ids'].shape)    # Number of samples in the batch vs. sequence length\n",
        "print(batch_data['attention_mask'].shape)\n",
        "print(batch_data['targets'].shape)  # Output shows only one dimension representing targets"
      ]
    },
    {
      "cell_type": "markdown",
      "metadata": {
        "id": "TCgrPTYCvRut"
      },
      "source": [
        "## Sentiment Classification"
      ]
    },
    {
      "cell_type": "code",
      "execution_count": 22,
      "metadata": {
        "colab": {
          "base_uri": "https://localhost:8080/",
          "height": 121,
          "referenced_widgets": [
            "66afb4a2492b43abb19ad049dbca0971",
            "c54af75d887349f586843e3f9a7e23d6",
            "e66a8d3a5bda4bcca2dd834386e345ff",
            "4d9c9b4535b049dc9742fcc4f07b18b8",
            "fdd9ff46af6046368f3c2014232b700e",
            "3854cded4faf4cb69fefd6308233ac1d",
            "c6b3dd1f9f6b4857a9020c24eb49c2b5",
            "42179418c32046dd92bf93bd7b2db95c",
            "467c31c79c554950bea00b987522dd95",
            "1dbed6ad77934ed2a3f35ddaa81f9f1d",
            "9c16c4df1dcf4937969e1b9a049cf2a0"
          ]
        },
        "id": "pbVdhSv-ELPG",
        "outputId": "6ff267fe-3690-4b7e-bad6-895c1cbf0ee3"
      },
      "outputs": [
        {
          "output_type": "display_data",
          "data": {
            "text/plain": [
              "Downloading model.safetensors:   0%|          | 0.00/436M [00:00<?, ?B/s]"
            ],
            "application/vnd.jupyter.widget-view+json": {
              "version_major": 2,
              "version_minor": 0,
              "model_id": "66afb4a2492b43abb19ad049dbca0971"
            }
          },
          "metadata": {}
        },
        {
          "output_type": "stream",
          "name": "stderr",
          "text": [
            "Some weights of the model checkpoint at bert-base-cased were not used when initializing BertModel: ['cls.predictions.transform.LayerNorm.bias', 'cls.predictions.bias', 'cls.seq_relationship.weight', 'cls.seq_relationship.bias', 'cls.predictions.transform.dense.weight', 'cls.predictions.transform.LayerNorm.weight', 'cls.predictions.transform.dense.bias']\n",
            "- This IS expected if you are initializing BertModel from the checkpoint of a model trained on another task or with another architecture (e.g. initializing a BertForSequenceClassification model from a BertForPreTraining model).\n",
            "- This IS NOT expected if you are initializing BertModel from the checkpoint of a model that you expect to be exactly identical (initializing a BertForSequenceClassification model from a BertForSequenceClassification model).\n"
          ]
        }
      ],
      "source": [
        "# Load the basic BERT model\n",
        "bert_model = BertModel.from_pretrained(MODEL_NAME)"
      ]
    },
    {
      "cell_type": "code",
      "execution_count": 23,
      "metadata": {
        "id": "JrQf5eC4ELPG",
        "outputId": "d63759e8-744f-479b-d4e2-9df215364ee2",
        "colab": {
          "base_uri": "https://localhost:8080/"
        }
      },
      "outputs": [
        {
          "output_type": "stream",
          "name": "stderr",
          "text": [
            "Some weights of the model checkpoint at bert-base-cased were not used when initializing BertModel: ['cls.predictions.transform.LayerNorm.bias', 'cls.predictions.bias', 'cls.seq_relationship.weight', 'cls.seq_relationship.bias', 'cls.predictions.transform.dense.weight', 'cls.predictions.transform.LayerNorm.weight', 'cls.predictions.transform.dense.bias']\n",
            "- This IS expected if you are initializing BertModel from the checkpoint of a model trained on another task or with another architecture (e.g. initializing a BertForSequenceClassification model from a BertForPreTraining model).\n",
            "- This IS NOT expected if you are initializing BertModel from the checkpoint of a model that you expect to be exactly identical (initializing a BertForSequenceClassification model from a BertForSequenceClassification model).\n"
          ]
        }
      ],
      "source": [
        "class SentimentClassifier(nn.Module):\n",
        "    \"\"\"\n",
        "    Sentiment classifier model based on BERT for sentiment analysis.\n",
        "    \"\"\"\n",
        "\n",
        "    def __init__(self, num_classes):\n",
        "        \"\"\"\n",
        "        Initializes the SentimentClassifier.\n",
        "\n",
        "        Args:\n",
        "            num_classes (int): Number of sentiment classes for classification.\n",
        "        \"\"\"\n",
        "\n",
        "        super(SentimentClassifier, self).__init__()\n",
        "        self.bert_model = BertModel.from_pretrained(MODEL_NAME, return_dict=False)\n",
        "        self.dropout = nn.Dropout(p=0.3)\n",
        "        self.fc = nn.Linear(self.bert_model.config.hidden_size, num_classes)  # Fully connected (linear) layer\n",
        "\n",
        "\n",
        "    def forward(self, input_ids, attention_mask):\n",
        "        \"\"\"\n",
        "        Forward propagation of the SentimentClassifier.\n",
        "\n",
        "        Args:\n",
        "            input_ids (torch.Tensor): Tensor containing the input token IDs.\n",
        "            attention_mask (torch.Tensor): Tensor indicating attention masks for input.\n",
        "\n",
        "        Returns:\n",
        "            torch.Tensor: Tensor containing the predicted sentiment class probabilities.\n",
        "        \"\"\"\n",
        "\n",
        "        _, pooled_output = self.bert_model(input_ids=input_ids, attention_mask=attention_mask)\n",
        "\n",
        "        #  Add a dropout layer\n",
        "        output = self.dropout(pooled_output)\n",
        "        return self.fc(output)\n",
        "\n",
        "\n",
        "# Instantiate the model and the classifier\n",
        "model = SentimentClassifier(len(class_names))\n",
        "model = model.to(device)"
      ]
    },
    {
      "cell_type": "code",
      "execution_count": 24,
      "metadata": {
        "colab": {
          "base_uri": "https://localhost:8080/"
        },
        "id": "dR8KT-ZKELPG",
        "outputId": "b1c23de6-fde9-4659-dace-0c6a8294a63b"
      },
      "outputs": [
        {
          "output_type": "stream",
          "name": "stdout",
          "text": [
            "768\n"
          ]
        }
      ],
      "source": [
        "# Print number of hidden units\n",
        "print(bert_model.config.hidden_size)"
      ]
    },
    {
      "cell_type": "markdown",
      "metadata": {
        "id": "--It0u3-vRuu"
      },
      "source": [
        "## Training"
      ]
    },
    {
      "cell_type": "markdown",
      "metadata": {
        "id": "5Kff_9S_vRuu"
      },
      "source": [
        "AdamW optimizer: provided by Hugging Fave and is a variant of the Adam optimizer that addresses the ,ssues of weight. It combines adaptive learning rates from the Adam optimizer with weight decay regularization.\n",
        "\n",
        "Linear scheduler: Adjusts the learning rate linearly throughout training, maintaining a constant rate initially and gradually decreasing it. This helps ensure stable and consistent learning rate decay.\n",
        "\n",
        "No warmup:  Warmup refers to gradually increasing the learning rate at the beginning of training to stabilize the optimization process. With no warm up, there will be no gradual increase in the learning rate before it starts to linearly decrease.\n",
        "\n",
        "Cross-entropy loss is commmonly used for multi-class classification problems."
      ]
    },
    {
      "cell_type": "code",
      "execution_count": 25,
      "metadata": {
        "id": "dA8eYqxsELPH"
      },
      "outputs": [],
      "source": [
        "optimizer = AdamW(model.parameters(), lr=2e-5, correct_bias=False)\n",
        "total_steps = len(train_data_loader) * EPOCHS\n",
        "scheduler = get_linear_schedule_with_warmup(optimizer, num_warmup_steps=0, num_training_steps=total_steps)\n",
        "loss_fn = nn.CrossEntropyLoss().to(device)"
      ]
    },
    {
      "cell_type": "code",
      "execution_count": 26,
      "metadata": {
        "id": "J7hHZ-dVELPH"
      },
      "outputs": [],
      "source": [
        "def train_epoch(model, data_loader, loss_fn, optimizer, device, scheduler, n_examples):\n",
        "    \"\"\"\n",
        "    Performs a single training epoch.\n",
        "\n",
        "    Args:\n",
        "        model (torch.nn.Module): The model to train.\n",
        "        data_loader (torch.utils.data.DataLoader): The data loader for training data.\n",
        "        loss_fn: The loss function.\n",
        "        optimizer: The optimizer for updating model parameters.\n",
        "        device: The device to use for training (e.g., 'cuda' for GPU).\n",
        "        scheduler: The learning rate scheduler.\n",
        "        n_examples (int): The total number of training examples.\n",
        "\n",
        "    Returns:\n",
        "        float: Accuracy of the model on the training data.\n",
        "        float: Average loss value over the training data.\n",
        "    \"\"\"\n",
        "\n",
        "    model = model.train()\n",
        "    losses = []\n",
        "    correct_preds = 0\n",
        "\n",
        "    for batch in tqdm(data_loader, total=len(data_loader)):\n",
        "        input_ids = batch[\"input_ids\"].to(device)\n",
        "        attention_mask = batch[\"attention_mask\"].to(device)\n",
        "        targets = batch[\"targets\"].to(device)\n",
        "\n",
        "        outputs = model(input_ids=input_ids, attention_mask=attention_mask)\n",
        "\n",
        "        _, preds = torch.max(outputs, dim=1)\n",
        "        loss = loss_fn(outputs, targets)\n",
        "        correct_preds += torch.sum(preds == targets)\n",
        "        losses.append(loss.item())\n",
        "\n",
        "        # Backward prop\n",
        "        loss.backward()\n",
        "\n",
        "        # Gradient Descent\n",
        "        nn.utils.clip_grad_norm_(model.parameters(), max_norm=1.0)\n",
        "        optimizer.step()\n",
        "        scheduler.step()\n",
        "        optimizer.zero_grad()\n",
        "\n",
        "    accuracy = correct_preds.double() / n_examples\n",
        "    avg_loss = np.mean(losses)\n",
        "\n",
        "    return accuracy, avg_loss"
      ]
    },
    {
      "cell_type": "code",
      "execution_count": 27,
      "metadata": {
        "id": "FK6T19I7ELPH"
      },
      "outputs": [],
      "source": [
        "def evaluate_model(model, data_loader, loss_fn, device, num_examples):\n",
        "    \"\"\"\n",
        "    Evaluates a model on a given data loader.\n",
        "\n",
        "    Args:\n",
        "        model (torch.nn.Module): The model to evaluate.\n",
        "        data_loader (torch.utils.data.DataLoader): Data loader containing the evaluation data.\n",
        "        loss_fn: Loss function to calculate the evaluation loss.\n",
        "        device (torch.device): Device to perform the evaluation on (CPU or GPU).\n",
        "        n_examples (int): Number of examples in the evaluation data.\n",
        "\n",
        "    Returns:\n",
        "        Tuple[float, float]: Tuple containing the accuracy and average loss for the evaluation.\n",
        "    \"\"\"\n",
        "\n",
        "    model = model.eval()\n",
        "\n",
        "    losses = []\n",
        "    correct_preds = 0\n",
        "\n",
        "    with torch.no_grad():\n",
        "        for batch in data_loader:\n",
        "            input_ids = batch[\"input_ids\"].to(device)\n",
        "            attention_mask = batch[\"attention_mask\"].to(device)\n",
        "            targets = batch[\"targets\"].to(device)\n",
        "\n",
        "\n",
        "            # Get model ouptuts\n",
        "            outputs = model(input_ids=input_ids, attention_mask=attention_mask)\n",
        "\n",
        "            _, preds = torch.max(outputs, dim=1)\n",
        "            loss = loss_fn(outputs, targets)\n",
        "\n",
        "            correct_preds += torch.sum(preds == targets)\n",
        "            losses.append(loss.item())\n",
        "\n",
        "    accuracy = correct_preds.double() / num_examples\n",
        "    average_loss = np.mean(losses)\n",
        "\n",
        "    return accuracy, average_loss"
      ]
    },
    {
      "cell_type": "code",
      "execution_count": 29,
      "metadata": {
        "colab": {
          "base_uri": "https://localhost:8080/"
        },
        "id": "xpJz77KFELPH",
        "outputId": "b026c796-9fa0-414c-d586-4b00e61ab77b"
      },
      "outputs": [
        {
          "output_type": "stream",
          "name": "stdout",
          "text": [
            "Epoch 1/5\n",
            "----------\n"
          ]
        },
        {
          "output_type": "stream",
          "name": "stderr",
          "text": [
            "100%|██████████| 5351/5351 [46:22<00:00,  1.92it/s]\n"
          ]
        },
        {
          "output_type": "stream",
          "name": "stdout",
          "text": [
            "Train loss 0.1631148562068544 accuracy 0.9457798958114327\n",
            "Val loss 0.17591293992170848 accuracy 0.9426275462530368\n",
            "\n",
            "Epoch 2/5\n",
            "----------\n"
          ]
        },
        {
          "output_type": "stream",
          "name": "stderr",
          "text": [
            "100%|██████████| 5351/5351 [46:34<00:00,  1.91it/s]\n"
          ]
        },
        {
          "output_type": "stream",
          "name": "stdout",
          "text": [
            "Train loss 0.1316509548602218 accuracy 0.9602051066414372\n",
            "Val loss 0.21092344984268283 accuracy 0.9412259390768081\n",
            "\n",
            "Epoch 3/5\n",
            "----------\n"
          ]
        },
        {
          "output_type": "stream",
          "name": "stderr",
          "text": [
            "100%|██████████| 5351/5351 [46:34<00:00,  1.91it/s]\n"
          ]
        },
        {
          "output_type": "stream",
          "name": "stdout",
          "text": [
            "Train loss 0.10407977384623494 accuracy 0.9720840049524611\n",
            "Val loss 0.25663470474586186 accuracy 0.9398243319005793\n",
            "\n",
            "Epoch 4/5\n",
            "----------\n"
          ]
        },
        {
          "output_type": "stream",
          "name": "stderr",
          "text": [
            "100%|██████████| 5351/5351 [46:33<00:00,  1.92it/s]\n"
          ]
        },
        {
          "output_type": "stream",
          "name": "stdout",
          "text": [
            "Train loss 0.08381894220548558 accuracy 0.9796294998481557\n",
            "Val loss 0.2802856721106923 accuracy 0.9399177723789945\n",
            "\n",
            "Early stopping triggered after 3 non-improving rounds\n"
          ]
        }
      ],
      "source": [
        "history = defaultdict(list)\n",
        "best_accuracy = 0\n",
        "patience = 3    # number of non-improving rounds before stopping\n",
        "patience_counter = 0\n",
        "\n",
        "for epoch in range(EPOCHS):\n",
        "\n",
        "    print(f\"Epoch {epoch + 1}/{EPOCHS}\")\n",
        "    print(\"-\" * 10)\n",
        "\n",
        "    train_accuracy, train_loss = train_epoch(model, train_data_loader, loss_fn, optimizer,\n",
        "                                             device, scheduler, len(df_train))\n",
        "\n",
        "    val_accuracy, val_loss = evaluate_model(model, val_data_loader, loss_fn, device, len(df_val))\n",
        "\n",
        "    print(f\"Train loss {train_loss} accuracy {train_accuracy}\")\n",
        "    print(f\"Val loss {val_loss} accuracy {val_accuracy}\")\n",
        "    print()\n",
        "\n",
        "    history['train_accuracy'].append(train_accuracy)\n",
        "    history['train_loss'].append(train_loss)\n",
        "    history['val_accuracy'].append(val_accuracy)\n",
        "    history['val_loss'].append(val_loss)\n",
        "\n",
        "    # If we beat prev performance\n",
        "    if val_accuracy > best_accuracy:\n",
        "        torch.save(model.state_dict(), 'best_model_state.bin')\n",
        "        best_accuracy = val_accuracy\n",
        "        patience_counter = 0  # reset counter after improvement\n",
        "    else:\n",
        "        patience_counter += 1  # increment counter if no improvement\n",
        "    if patience_counter >= patience:\n",
        "        print(\"Early stopping triggered after {} non-improving rounds\".format(patience))\n",
        "        break  # stop training loop\n"
      ]
    },
    {
      "cell_type": "markdown",
      "metadata": {
        "id": "z7d_qPIgvRuv"
      },
      "source": [
        "### Plot training and Validation Accuracy"
      ]
    },
    {
      "cell_type": "code",
      "execution_count": 30,
      "metadata": {
        "colab": {
          "base_uri": "https://localhost:8080/",
          "height": 734
        },
        "id": "LzL1g02LELPI",
        "outputId": "85914301-f2d8-46fa-d585-7ebddd152fe7"
      },
      "outputs": [
        {
          "output_type": "display_data",
          "data": {
            "text/plain": [
              "<Figure size 1200x800 with 1 Axes>"
            ],
            "image/png": "[encoded data removed]"
          },
          "metadata": {
            "image/png": {
              "width": 1017,
              "height": 717
            }
          }
        }
      ],
      "source": [
        "train_accuracy = [x.cpu().numpy() for x in history['train_accuracy']]\n",
        "val_accuracy = [x.cpu().numpy() for x in history['val_accuracy']]\n",
        "\n",
        "plt.plot(train_accuracy, label='train accuracy')\n",
        "plt.plot(val_accuracy, label='validation accuracy')\n",
        "\n",
        "# Graph chars\n",
        "plt.title('Development history')\n",
        "plt.ylabel('Accuracy')\n",
        "plt.xlabel('Epoch')\n",
        "plt.legend()\n",
        "plt.ylim([0, 1]);"
      ]
    },
    {
      "cell_type": "markdown",
      "metadata": {
        "id": "_ECNV4BcvRu5"
      },
      "source": [
        "## Evaluating Model"
      ]
    },
    {
      "cell_type": "code",
      "execution_count": 31,
      "metadata": {
        "colab": {
          "base_uri": "https://localhost:8080/"
        },
        "id": "6SWR5XLaELPI",
        "outputId": "f2b9af15-c0eb-4675-e05c-e1e962b4b70c"
      },
      "outputs": [
        {
          "output_type": "execute_result",
          "data": {
            "text/plain": [
              "0.9348719865445712"
            ]
          },
          "metadata": {},
          "execution_count": 31
        }
      ],
      "source": [
        "test_accuracy, _ = evaluate_model(model, test_data_loader, loss_fn, device, len(df_test))\n",
        "test_accuracy.item()"
      ]
    },
    {
      "cell_type": "code",
      "execution_count": 32,
      "metadata": {
        "id": "k_GfOIo-ELPI",
        "outputId": "9bfe1a3b-68d9-44bd-811c-1129c5594f1e",
        "colab": {
          "base_uri": "https://localhost:8080/",
          "height": 201
        }
      },
      "outputs": [
        {
          "output_type": "error",
          "ename": "TypeError",
          "evalue": "ignored",
          "traceback": [
            "\u001b[0;31m---------------------------------------------------------------------------\u001b[0m",
            "\u001b[0;31mTypeError\u001b[0m                                 Traceback (most recent call last)",
            "\u001b[0;32m<ipython-input-32-f8e682df53b2>\u001b[0m in \u001b[0;36m<cell line: 44>\u001b[0;34m()\u001b[0m\n\u001b[1;32m     42\u001b[0m     \u001b[0;32mreturn\u001b[0m \u001b[0mpredictions\u001b[0m\u001b[0;34m\u001b[0m\u001b[0;34m\u001b[0m\u001b[0m\n\u001b[1;32m     43\u001b[0m \u001b[0;34m\u001b[0m\u001b[0m\n\u001b[0;32m---> 44\u001b[0;31m \u001b[0my_review_texts\u001b[0m\u001b[0;34m,\u001b[0m \u001b[0my_pred\u001b[0m\u001b[0;34m,\u001b[0m \u001b[0my_pred_probs\u001b[0m\u001b[0;34m,\u001b[0m \u001b[0my_test\u001b[0m \u001b[0;34m=\u001b[0m \u001b[0mget_predictions\u001b[0m\u001b[0;34m(\u001b[0m\u001b[0mmodel\u001b[0m\u001b[0;34m,\u001b[0m \u001b[0mtest_data_loader\u001b[0m\u001b[0;34m)\u001b[0m\u001b[0;34m\u001b[0m\u001b[0;34m\u001b[0m\u001b[0m\n\u001b[0m",
            "\u001b[0;31mTypeError\u001b[0m: get_predictions() missing 1 required positional argument: 'device'"
          ]
        }
      ],
      "source": [
        "def get_predictions(model, data_loader, device):\n",
        "    \"\"\"\n",
        "    Get predictions from the model for a given data loader.\n",
        "\n",
        "    Args:\n",
        "        model (torch.nn.Module): The trained model.\n",
        "        data_loader (torch.utils.data.DataLoader): Data loader for iterating over the data.\n",
        "        device (torch.device): Device (CPU or GPU) on which to perform the predictions.\n",
        "\n",
        "    Returns:\n",
        "        list: List of dictionaries containing the review text, predicted labels, and predicted probabilities.\n",
        "    \"\"\"\n",
        "\n",
        "    model = model.eval()\n",
        "\n",
        "    predictions = []\n",
        "\n",
        "    with torch.no_grad():\n",
        "        for batch in data_loader:\n",
        "            input_ids = batch[\"input_ids\"].to(device)\n",
        "            attention_mask = batch[\"attention_mask\"].to(device)\n",
        "            targets = batch[\"targets\"].to(device)\n",
        "\n",
        "            # Get model outputs\n",
        "            outputs = model(input_ids=input_ids, attention_mask=attention_mask)\n",
        "            _, predicted_labels = torch.max(outputs, dim=1)\n",
        "            predicted_probabilities = torch.softmax(outputs, dim=1)\n",
        "\n",
        "            # Convert tensors to numpy arrays\n",
        "            predicted_labels = predicted_labels.cpu().numpy()\n",
        "            predicted_probabilities = predicted_probabilities.cpu().numpy()\n",
        "\n",
        "            # Iterate over batch examples\n",
        "            for i in range(len(predicted_labels)):\n",
        "                prediction = {\n",
        "                    'review_text': batch['review_text'][i],\n",
        "                    'predicted_label': predicted_labels[i],\n",
        "                    'predicted_probability': predicted_probabilities[i]\n",
        "                }\n",
        "                predictions.append(prediction)\n",
        "\n",
        "    return predictions\n",
        "\n",
        "y_review_texts, y_pred, y_pred_probs, y_test = get_predictions(model, test_data_loader)"
      ]
    },
    {
      "cell_type": "code",
      "execution_count": null,
      "metadata": {
        "id": "99JWXqhaELPI"
      },
      "outputs": [],
      "source": [
        "print(classification_report(y_test, y_pred, target_names=class_names))"
      ]
    },
    {
      "cell_type": "code",
      "execution_count": null,
      "metadata": {
        "id": "ji0B_MV_ELPJ"
      },
      "outputs": [],
      "source": [
        "def show_confusion_matrix(confusion_matrix):\n",
        "    hmap = sns.heatmap(confusion_matrix, annot=True, fmt=\"d\", cmap=\"Blues\")\n",
        "    hmap.yaxis.set_ticklabels(hmap.yaxis.get_ticklabels(), rotation=0, ha='right')\n",
        "    hmap.xaxis.set_ticklabels(hmap.xaxis.get_ticklabels(), rotation=30, ha='right')\n",
        "    plt.ylabel('True sentiment')\n",
        "    plt.xlabel('Predicted sentiment');\n",
        "\n",
        "cm = confusion_matrix(y_test, y_pred)\n",
        "df_cm = pd.DataFrame(cm, index=class_names, columns=class_names)\n",
        "show_confusion_matrix(df_cm)"
      ]
    },
    {
      "cell_type": "markdown",
      "metadata": {
        "id": "JkBpz5VsvRu7"
      },
      "source": [
        "Model has trouble classifying neutral reviews."
      ]
    },
    {
      "cell_type": "markdown",
      "metadata": {
        "id": "ff0PeyebvRu7"
      },
      "source": [
        "## Predicting New Sample Data"
      ]
    },
    {
      "cell_type": "code",
      "execution_count": null,
      "metadata": {
        "id": "ZY5AMVYSELPJ"
      },
      "outputs": [],
      "source": [
        "review_text = \"I love the professor! Best lesson ever!!!\"\n",
        "\n",
        "encoded_review = tokenizer.encode_plus(\n",
        "    review_text,\n",
        "    max_length=MAX_LEN,\n",
        "    add_special_tokens=True,\n",
        "    return_token_type_ids=False,\n",
        "    pad_to_max_length=True,\n",
        "    return_attention_mask=True,\n",
        "    return_tensors='pt',\n",
        ")\n",
        "\n",
        "input_ids = encoded_review['input_ids'].to(device)\n",
        "attention_mask = encoded_review['attention_mask'].to(device)\n",
        "\n",
        "output = model(input_ids, attention_mask)\n",
        "_, prediction = torch.max(output, dim=1)\n",
        "\n",
        "print(f'Review text: {review_text}')\n",
        "print(f'Sentiment  : {class_names[prediction]}')"
      ]
    },
    {
      "cell_type": "code",
      "execution_count": null,
      "metadata": {
        "id": "rEND0TUQvRu8"
      },
      "outputs": [],
      "source": [
        "review_text = \"Horrible course, I don't like the material. The teacher talks so fast!\"\n",
        "\n",
        "encoded_review = tokenizer.encode_plus(\n",
        "    review_text,\n",
        "    max_length=MAX_LEN,\n",
        "    add_special_tokens=True,\n",
        "    return_token_type_ids=False,\n",
        "    pad_to_max_length=True,\n",
        "    return_attention_mask=True,\n",
        "    return_tensors='pt',\n",
        ")\n",
        "\n",
        "input_ids = encoded_review['input_ids'].to(device)\n",
        "attention_mask = encoded_review['attention_mask'].to(device)\n",
        "\n",
        "output = model(input_ids, attention_mask)\n",
        "_, prediction = torch.max(output, dim=1)\n",
        "\n",
        "print(f'Review text: {review_text}')\n",
        "print(f'Sentiment  : {class_names[prediction]}')"
      ]
    },
    {
      "cell_type": "code",
      "execution_count": null,
      "metadata": {
        "id": "p2q6BLEUvRu8"
      },
      "outputs": [],
      "source": [
        "review_text = \"The lectures were fun but the assignments were difficult.\"\n",
        "\n",
        "encoded_review = tokenizer.encode_plus(\n",
        "    review_text,\n",
        "    max_length=MAX_LEN,\n",
        "    add_special_tokens=True,\n",
        "    return_token_type_ids=False,\n",
        "    pad_to_max_length=True,\n",
        "    return_attention_mask=True,\n",
        "    return_tensors='pt',\n",
        ")\n",
        "\n",
        "input_ids = encoded_review['input_ids'].to(device)\n",
        "attention_mask = encoded_review['attention_mask'].to(device)\n",
        "\n",
        "output = model(input_ids, attention_mask)\n",
        "_, prediction = torch.max(output, dim=1)\n",
        "\n",
        "print(f'Review text: {review_text}')\n",
        "print(f'Sentiment  : {class_names[prediction]}')"
      ]
    }
  ],
  "metadata": {
    "accelerator": "GPU",
    "colab": {
      "gpuType": "T4",
      "machine_shape": "hm",
      "provenance": [],
      "include_colab_link": true
    },
    "kernelspec": {
      "display_name": "Python 3",
      "name": "python3"
    },
    "language_info": {
      "codemirror_mode": {
        "name": "ipython",
        "version": 3
      },
      "file_extension": ".py",
      "mimetype": "text/x-python",
      "name": "python",
      "nbconvert_exporter": "python",
      "pygments_lexer": "ipython3",
      "version": "3.10.8"
    },
    "orig_nbformat": 4,
    "widgets": {
      "application/vnd.jupyter.widget-state+json": {
        "5d7a8357c57c47bcab09cbbdb5d1443e": {
          "model_module": "@jupyter-widgets/controls",
          "model_name": "HBoxModel",
          "model_module_version": "1.5.0",
          "state": {
            "_dom_classes": [],
            "_model_module": "@jupyter-widgets/controls",
            "_model_module_version": "1.5.0",
            "_model_name": "HBoxModel",
            "_view_count": null,
            "_view_module": "@jupyter-widgets/controls",
            "_view_module_version": "1.5.0",
            "_view_name": "HBoxView",
            "box_style": "",
            "children": [
              "IPY_MODEL_8f8dc50a0840415fbfe7814650e6e7f5",
              "IPY_MODEL_1c0be56e27ed44f2aa65642cb348ff18",
              "IPY_MODEL_969a247c7d7d411f83b0affe4c6f75e0"
            ],
            "layout": "IPY_MODEL_fb1b03b09f9447488ab0366a9817df0c"
          }
        },
        "8f8dc50a0840415fbfe7814650e6e7f5": {
          "model_module": "@jupyter-widgets/controls",
          "model_name": "HTMLModel",
          "model_module_version": "1.5.0",
          "state": {
            "_dom_classes": [],
            "_model_module": "@jupyter-widgets/controls",
            "_model_module_version": "1.5.0",
            "_model_name": "HTMLModel",
            "_view_count": null,
            "_view_module": "@jupyter-widgets/controls",
            "_view_module_version": "1.5.0",
            "_view_name": "HTMLView",
            "description": "",
            "description_tooltip": null,
            "layout": "IPY_MODEL_c2ee53a6439e45a6a7a36ceecf437e47",
            "placeholder": "​",
            "style": "IPY_MODEL_e469f8b6998d4e8d88c5d6cf52e89cea",
            "value": "Downloading (…)solve/main/vocab.txt: "
          }
        },
        "1c0be56e27ed44f2aa65642cb348ff18": {
          "model_module": "@jupyter-widgets/controls",
          "model_name": "FloatProgressModel",
          "model_module_version": "1.5.0",
          "state": {
            "_dom_classes": [],
            "_model_module": "@jupyter-widgets/controls",
            "_model_module_version": "1.5.0",
            "_model_name": "FloatProgressModel",
            "_view_count": null,
            "_view_module": "@jupyter-widgets/controls",
            "_view_module_version": "1.5.0",
            "_view_name": "ProgressView",
            "bar_style": "success",
            "description": "",
            "description_tooltip": null,
            "layout": "IPY_MODEL_23c4ba7503b949939c63d605e88683e3",
            "max": 1,
            "min": 0,
            "orientation": "horizontal",
            "style": "IPY_MODEL_b4cc057050344f71bf5b0e9449f8419b",
            "value": 1
          }
        },
        "969a247c7d7d411f83b0affe4c6f75e0": {
          "model_module": "@jupyter-widgets/controls",
          "model_name": "HTMLModel",
          "model_module_version": "1.5.0",
          "state": {
            "_dom_classes": [],
            "_model_module": "@jupyter-widgets/controls",
            "_model_module_version": "1.5.0",
            "_model_name": "HTMLModel",
            "_view_count": null,
            "_view_module": "@jupyter-widgets/controls",
            "_view_module_version": "1.5.0",
            "_view_name": "HTMLView",
            "description": "",
            "description_tooltip": null,
            "layout": "IPY_MODEL_d447e21b10244635870f8006e855b993",
            "placeholder": "​",
            "style": "IPY_MODEL_7c140b4c4bba4d779b354d16b2b7b9cc",
            "value": " 213k/? [00:00&lt;00:00, 544kB/s]"
          }
        },
        "fb1b03b09f9447488ab0366a9817df0c": {
          "model_module": "@jupyter-widgets/base",
          "model_name": "LayoutModel",
          "model_module_version": "1.2.0",
          "state": {
            "_model_module": "@jupyter-widgets/base",
            "_model_module_version": "1.2.0",
            "_model_name": "LayoutModel",
            "_view_count": null,
            "_view_module": "@jupyter-widgets/base",
            "_view_module_version": "1.2.0",
            "_view_name": "LayoutView",
            "align_content": null,
            "align_items": null,
            "align_self": null,
            "border": null,
            "bottom": null,
            "display": null,
            "flex": null,
            "flex_flow": null,
            "grid_area": null,
            "grid_auto_columns": null,
            "grid_auto_flow": null,
            "grid_auto_rows": null,
            "grid_column": null,
            "grid_gap": null,
            "grid_row": null,
            "grid_template_areas": null,
            "grid_template_columns": null,
            "grid_template_rows": null,
            "height": null,
            "justify_content": null,
            "justify_items": null,
            "left": null,
            "margin": null,
            "max_height": null,
            "max_width": null,
            "min_height": null,
            "min_width": null,
            "object_fit": null,
            "object_position": null,
            "order": null,
            "overflow": null,
            "overflow_x": null,
            "overflow_y": null,
            "padding": null,
            "right": null,
            "top": null,
            "visibility": null,
            "width": null
          }
        },
        "c2ee53a6439e45a6a7a36ceecf437e47": {
          "model_module": "@jupyter-widgets/base",
          "model_name": "LayoutModel",
          "model_module_version": "1.2.0",
          "state": {
            "_model_module": "@jupyter-widgets/base",
            "_model_module_version": "1.2.0",
            "_model_name": "LayoutModel",
            "_view_count": null,
            "_view_module": "@jupyter-widgets/base",
            "_view_module_version": "1.2.0",
            "_view_name": "LayoutView",
            "align_content": null,
            "align_items": null,
            "align_self": null,
            "border": null,
            "bottom": null,
            "display": null,
            "flex": null,
            "flex_flow": null,
            "grid_area": null,
            "grid_auto_columns": null,
            "grid_auto_flow": null,
            "grid_auto_rows": null,
            "grid_column": null,
            "grid_gap": null,
            "grid_row": null,
            "grid_template_areas": null,
            "grid_template_columns": null,
            "grid_template_rows": null,
            "height": null,
            "justify_content": null,
            "justify_items": null,
            "left": null,
            "margin": null,
            "max_height": null,
            "max_width": null,
            "min_height": null,
            "min_width": null,
            "object_fit": null,
            "object_position": null,
            "order": null,
            "overflow": null,
            "overflow_x": null,
            "overflow_y": null,
            "padding": null,
            "right": null,
            "top": null,
            "visibility": null,
            "width": null
          }
        },
        "e469f8b6998d4e8d88c5d6cf52e89cea": {
          "model_module": "@jupyter-widgets/controls",
          "model_name": "DescriptionStyleModel",
          "model_module_version": "1.5.0",
          "state": {
            "_model_module": "@jupyter-widgets/controls",
            "_model_module_version": "1.5.0",
            "_model_name": "DescriptionStyleModel",
            "_view_count": null,
            "_view_module": "@jupyter-widgets/base",
            "_view_module_version": "1.2.0",
            "_view_name": "StyleView",
            "description_width": ""
          }
        },
        "23c4ba7503b949939c63d605e88683e3": {
          "model_module": "@jupyter-widgets/base",
          "model_name": "LayoutModel",
          "model_module_version": "1.2.0",
          "state": {
            "_model_module": "@jupyter-widgets/base",
            "_model_module_version": "1.2.0",
            "_model_name": "LayoutModel",
            "_view_count": null,
            "_view_module": "@jupyter-widgets/base",
            "_view_module_version": "1.2.0",
            "_view_name": "LayoutView",
            "align_content": null,
            "align_items": null,
            "align_self": null,
            "border": null,
            "bottom": null,
            "display": null,
            "flex": null,
            "flex_flow": null,
            "grid_area": null,
            "grid_auto_columns": null,
            "grid_auto_flow": null,
            "grid_auto_rows": null,
            "grid_column": null,
            "grid_gap": null,
            "grid_row": null,
            "grid_template_areas": null,
            "grid_template_columns": null,
            "grid_template_rows": null,
            "height": null,
            "justify_content": null,
            "justify_items": null,
            "left": null,
            "margin": null,
            "max_height": null,
            "max_width": null,
            "min_height": null,
            "min_width": null,
            "object_fit": null,
            "object_position": null,
            "order": null,
            "overflow": null,
            "overflow_x": null,
            "overflow_y": null,
            "padding": null,
            "right": null,
            "top": null,
            "visibility": null,
            "width": "20px"
          }
        },
        "b4cc057050344f71bf5b0e9449f8419b": {
          "model_module": "@jupyter-widgets/controls",
          "model_name": "ProgressStyleModel",
          "model_module_version": "1.5.0",
          "state": {
            "_model_module": "@jupyter-widgets/controls",
            "_model_module_version": "1.5.0",
            "_model_name": "ProgressStyleModel",
            "_view_count": null,
            "_view_module": "@jupyter-widgets/base",
            "_view_module_version": "1.2.0",
            "_view_name": "StyleView",
            "bar_color": null,
            "description_width": ""
          }
        },
        "d447e21b10244635870f8006e855b993": {
          "model_module": "@jupyter-widgets/base",
          "model_name": "LayoutModel",
          "model_module_version": "1.2.0",
          "state": {
            "_model_module": "@jupyter-widgets/base",
            "_model_module_version": "1.2.0",
            "_model_name": "LayoutModel",
            "_view_count": null,
            "_view_module": "@jupyter-widgets/base",
            "_view_module_version": "1.2.0",
            "_view_name": "LayoutView",
            "align_content": null,
            "align_items": null,
            "align_self": null,
            "border": null,
            "bottom": null,
            "display": null,
            "flex": null,
            "flex_flow": null,
            "grid_area": null,
            "grid_auto_columns": null,
            "grid_auto_flow": null,
            "grid_auto_rows": null,
            "grid_column": null,
            "grid_gap": null,
            "grid_row": null,
            "grid_template_areas": null,
            "grid_template_columns": null,
            "grid_template_rows": null,
            "height": null,
            "justify_content": null,
            "justify_items": null,
            "left": null,
            "margin": null,
            "max_height": null,
            "max_width": null,
            "min_height": null,
            "min_width": null,
            "object_fit": null,
            "object_position": null,
            "order": null,
            "overflow": null,
            "overflow_x": null,
            "overflow_y": null,
            "padding": null,
            "right": null,
            "top": null,
            "visibility": null,
            "width": null
          }
        },
        "7c140b4c4bba4d779b354d16b2b7b9cc": {
          "model_module": "@jupyter-widgets/controls",
          "model_name": "DescriptionStyleModel",
          "model_module_version": "1.5.0",
          "state": {
            "_model_module": "@jupyter-widgets/controls",
            "_model_module_version": "1.5.0",
            "_model_name": "DescriptionStyleModel",
            "_view_count": null,
            "_view_module": "@jupyter-widgets/base",
            "_view_module_version": "1.2.0",
            "_view_name": "StyleView",
            "description_width": ""
          }
        },
        "8cbfba427e35477f826cf7bf323f2392": {
          "model_module": "@jupyter-widgets/controls",
          "model_name": "HBoxModel",
          "model_module_version": "1.5.0",
          "state": {
            "_dom_classes": [],
            "_model_module": "@jupyter-widgets/controls",
            "_model_module_version": "1.5.0",
            "_model_name": "HBoxModel",
            "_view_count": null,
            "_view_module": "@jupyter-widgets/controls",
            "_view_module_version": "1.5.0",
            "_view_name": "HBoxView",
            "box_style": "",
            "children": [
              "IPY_MODEL_68f302a5f2474bd6a00d7cd7f8a7c769",
              "IPY_MODEL_9579a6fd4fed430fa08c2192aff4477c",
              "IPY_MODEL_11458c51a64147c0bc3235c1f835c9c6"
            ],
            "layout": "IPY_MODEL_d55d939a1d8d46d18ff96846558d49dc"
          }
        },
        "68f302a5f2474bd6a00d7cd7f8a7c769": {
          "model_module": "@jupyter-widgets/controls",
          "model_name": "HTMLModel",
          "model_module_version": "1.5.0",
          "state": {
            "_dom_classes": [],
            "_model_module": "@jupyter-widgets/controls",
            "_model_module_version": "1.5.0",
            "_model_name": "HTMLModel",
            "_view_count": null,
            "_view_module": "@jupyter-widgets/controls",
            "_view_module_version": "1.5.0",
            "_view_name": "HTMLView",
            "description": "",
            "description_tooltip": null,
            "layout": "IPY_MODEL_b3ed97695ad84f88989a813ed8c3f67f",
            "placeholder": "​",
            "style": "IPY_MODEL_528738d1607a4720913808c636eed330",
            "value": "Downloading (…)okenizer_config.json: 100%"
          }
        },
        "9579a6fd4fed430fa08c2192aff4477c": {
          "model_module": "@jupyter-widgets/controls",
          "model_name": "FloatProgressModel",
          "model_module_version": "1.5.0",
          "state": {
            "_dom_classes": [],
            "_model_module": "@jupyter-widgets/controls",
            "_model_module_version": "1.5.0",
            "_model_name": "FloatProgressModel",
            "_view_count": null,
            "_view_module": "@jupyter-widgets/controls",
            "_view_module_version": "1.5.0",
            "_view_name": "ProgressView",
            "bar_style": "success",
            "description": "",
            "description_tooltip": null,
            "layout": "IPY_MODEL_cc23a19dbd9b4269b88b20f3cde73a5f",
            "max": 29,
            "min": 0,
            "orientation": "horizontal",
            "style": "IPY_MODEL_c5a7da15ceea4071befd32a5d7e1dfdf",
            "value": 29
          }
        },
        "11458c51a64147c0bc3235c1f835c9c6": {
          "model_module": "@jupyter-widgets/controls",
          "model_name": "HTMLModel",
          "model_module_version": "1.5.0",
          "state": {
            "_dom_classes": [],
            "_model_module": "@jupyter-widgets/controls",
            "_model_module_version": "1.5.0",
            "_model_name": "HTMLModel",
            "_view_count": null,
            "_view_module": "@jupyter-widgets/controls",
            "_view_module_version": "1.5.0",
            "_view_name": "HTMLView",
            "description": "",
            "description_tooltip": null,
            "layout": "IPY_MODEL_497dcaf58230469f8ae2781ad2cd321e",
            "placeholder": "​",
            "style": "IPY_MODEL_c008beeea5574a2f8336ebb52c31567e",
            "value": " 29.0/29.0 [00:00&lt;00:00, 2.30kB/s]"
          }
        },
        "d55d939a1d8d46d18ff96846558d49dc": {
          "model_module": "@jupyter-widgets/base",
          "model_name": "LayoutModel",
          "model_module_version": "1.2.0",
          "state": {
            "_model_module": "@jupyter-widgets/base",
            "_model_module_version": "1.2.0",
            "_model_name": "LayoutModel",
            "_view_count": null,
            "_view_module": "@jupyter-widgets/base",
            "_view_module_version": "1.2.0",
            "_view_name": "LayoutView",
            "align_content": null,
            "align_items": null,
            "align_self": null,
            "border": null,
            "bottom": null,
            "display": null,
            "flex": null,
            "flex_flow": null,
            "grid_area": null,
            "grid_auto_columns": null,
            "grid_auto_flow": null,
            "grid_auto_rows": null,
            "grid_column": null,
            "grid_gap": null,
            "grid_row": null,
            "grid_template_areas": null,
            "grid_template_columns": null,
            "grid_template_rows": null,
            "height": null,
            "justify_content": null,
            "justify_items": null,
            "left": null,
            "margin": null,
            "max_height": null,
            "max_width": null,
            "min_height": null,
            "min_width": null,
            "object_fit": null,
            "object_position": null,
            "order": null,
            "overflow": null,
            "overflow_x": null,
            "overflow_y": null,
            "padding": null,
            "right": null,
            "top": null,
            "visibility": null,
            "width": null
          }
        },
        "b3ed97695ad84f88989a813ed8c3f67f": {
          "model_module": "@jupyter-widgets/base",
          "model_name": "LayoutModel",
          "model_module_version": "1.2.0",
          "state": {
            "_model_module": "@jupyter-widgets/base",
            "_model_module_version": "1.2.0",
            "_model_name": "LayoutModel",
            "_view_count": null,
            "_view_module": "@jupyter-widgets/base",
            "_view_module_version": "1.2.0",
            "_view_name": "LayoutView",
            "align_content": null,
            "align_items": null,
            "align_self": null,
            "border": null,
            "bottom": null,
            "display": null,
            "flex": null,
            "flex_flow": null,
            "grid_area": null,
            "grid_auto_columns": null,
            "grid_auto_flow": null,
            "grid_auto_rows": null,
            "grid_column": null,
            "grid_gap": null,
            "grid_row": null,
            "grid_template_areas": null,
            "grid_template_columns": null,
            "grid_template_rows": null,
            "height": null,
            "justify_content": null,
            "justify_items": null,
            "left": null,
            "margin": null,
            "max_height": null,
            "max_width": null,
            "min_height": null,
            "min_width": null,
            "object_fit": null,
            "object_position": null,
            "order": null,
            "overflow": null,
            "overflow_x": null,
            "overflow_y": null,
            "padding": null,
            "right": null,
            "top": null,
            "visibility": null,
            "width": null
          }
        },
        "528738d1607a4720913808c636eed330": {
          "model_module": "@jupyter-widgets/controls",
          "model_name": "DescriptionStyleModel",
          "model_module_version": "1.5.0",
          "state": {
            "_model_module": "@jupyter-widgets/controls",
            "_model_module_version": "1.5.0",
            "_model_name": "DescriptionStyleModel",
            "_view_count": null,
            "_view_module": "@jupyter-widgets/base",
            "_view_module_version": "1.2.0",
            "_view_name": "StyleView",
            "description_width": ""
          }
        },
        "cc23a19dbd9b4269b88b20f3cde73a5f": {
          "model_module": "@jupyter-widgets/base",
          "model_name": "LayoutModel",
          "model_module_version": "1.2.0",
          "state": {
            "_model_module": "@jupyter-widgets/base",
            "_model_module_version": "1.2.0",
            "_model_name": "LayoutModel",
            "_view_count": null,
            "_view_module": "@jupyter-widgets/base",
            "_view_module_version": "1.2.0",
            "_view_name": "LayoutView",
            "align_content": null,
            "align_items": null,
            "align_self": null,
            "border": null,
            "bottom": null,
            "display": null,
            "flex": null,
            "flex_flow": null,
            "grid_area": null,
            "grid_auto_columns": null,
            "grid_auto_flow": null,
            "grid_auto_rows": null,
            "grid_column": null,
            "grid_gap": null,
            "grid_row": null,
            "grid_template_areas": null,
            "grid_template_columns": null,
            "grid_template_rows": null,
            "height": null,
            "justify_content": null,
            "justify_items": null,
            "left": null,
            "margin": null,
            "max_height": null,
            "max_width": null,
            "min_height": null,
            "min_width": null,
            "object_fit": null,
            "object_position": null,
            "order": null,
            "overflow": null,
            "overflow_x": null,
            "overflow_y": null,
            "padding": null,
            "right": null,
            "top": null,
            "visibility": null,
            "width": null
          }
        },
        "c5a7da15ceea4071befd32a5d7e1dfdf": {
          "model_module": "@jupyter-widgets/controls",
          "model_name": "ProgressStyleModel",
          "model_module_version": "1.5.0",
          "state": {
            "_model_module": "@jupyter-widgets/controls",
            "_model_module_version": "1.5.0",
            "_model_name": "ProgressStyleModel",
            "_view_count": null,
            "_view_module": "@jupyter-widgets/base",
            "_view_module_version": "1.2.0",
            "_view_name": "StyleView",
            "bar_color": null,
            "description_width": ""
          }
        },
        "497dcaf58230469f8ae2781ad2cd321e": {
          "model_module": "@jupyter-widgets/base",
          "model_name": "LayoutModel",
          "model_module_version": "1.2.0",
          "state": {
            "_model_module": "@jupyter-widgets/base",
            "_model_module_version": "1.2.0",
            "_model_name": "LayoutModel",
            "_view_count": null,
            "_view_module": "@jupyter-widgets/base",
            "_view_module_version": "1.2.0",
            "_view_name": "LayoutView",
            "align_content": null,
            "align_items": null,
            "align_self": null,
            "border": null,
            "bottom": null,
            "display": null,
            "flex": null,
            "flex_flow": null,
            "grid_area": null,
            "grid_auto_columns": null,
            "grid_auto_flow": null,
            "grid_auto_rows": null,
            "grid_column": null,
            "grid_gap": null,
            "grid_row": null,
            "grid_template_areas": null,
            "grid_template_columns": null,
            "grid_template_rows": null,
            "height": null,
            "justify_content": null,
            "justify_items": null,
            "left": null,
            "margin": null,
            "max_height": null,
            "max_width": null,
            "min_height": null,
            "min_width": null,
            "object_fit": null,
            "object_position": null,
            "order": null,
            "overflow": null,
            "overflow_x": null,
            "overflow_y": null,
            "padding": null,
            "right": null,
            "top": null,
            "visibility": null,
            "width": null
          }
        },
        "c008beeea5574a2f8336ebb52c31567e": {
          "model_module": "@jupyter-widgets/controls",
          "model_name": "DescriptionStyleModel",
          "model_module_version": "1.5.0",
          "state": {
            "_model_module": "@jupyter-widgets/controls",
            "_model_module_version": "1.5.0",
            "_model_name": "DescriptionStyleModel",
            "_view_count": null,
            "_view_module": "@jupyter-widgets/base",
            "_view_module_version": "1.2.0",
            "_view_name": "StyleView",
            "description_width": ""
          }
        },
        "3bf3ab68d7e746558741679a320ff1b0": {
          "model_module": "@jupyter-widgets/controls",
          "model_name": "HBoxModel",
          "model_module_version": "1.5.0",
          "state": {
            "_dom_classes": [],
            "_model_module": "@jupyter-widgets/controls",
            "_model_module_version": "1.5.0",
            "_model_name": "HBoxModel",
            "_view_count": null,
            "_view_module": "@jupyter-widgets/controls",
            "_view_module_version": "1.5.0",
            "_view_name": "HBoxView",
            "box_style": "",
            "children": [
              "IPY_MODEL_db60259a4b0342f185dcd23ebe7c2dce",
              "IPY_MODEL_8db750c0ee834db0bdf6713a8ddadb9f",
              "IPY_MODEL_aad32021be9a4c21a97444c471b671e2"
            ],
            "layout": "IPY_MODEL_492d585673fe450683aaf1679659d202"
          }
        },
        "db60259a4b0342f185dcd23ebe7c2dce": {
          "model_module": "@jupyter-widgets/controls",
          "model_name": "HTMLModel",
          "model_module_version": "1.5.0",
          "state": {
            "_dom_classes": [],
            "_model_module": "@jupyter-widgets/controls",
            "_model_module_version": "1.5.0",
            "_model_name": "HTMLModel",
            "_view_count": null,
            "_view_module": "@jupyter-widgets/controls",
            "_view_module_version": "1.5.0",
            "_view_name": "HTMLView",
            "description": "",
            "description_tooltip": null,
            "layout": "IPY_MODEL_2bae814196cd40a3951e06309b9137ef",
            "placeholder": "​",
            "style": "IPY_MODEL_d74f21455e034ca4a62592ae4c76c0d2",
            "value": "Downloading (…)lve/main/config.json: 100%"
          }
        },
        "8db750c0ee834db0bdf6713a8ddadb9f": {
          "model_module": "@jupyter-widgets/controls",
          "model_name": "FloatProgressModel",
          "model_module_version": "1.5.0",
          "state": {
            "_dom_classes": [],
            "_model_module": "@jupyter-widgets/controls",
            "_model_module_version": "1.5.0",
            "_model_name": "FloatProgressModel",
            "_view_count": null,
            "_view_module": "@jupyter-widgets/controls",
            "_view_module_version": "1.5.0",
            "_view_name": "ProgressView",
            "bar_style": "success",
            "description": "",
            "description_tooltip": null,
            "layout": "IPY_MODEL_842feec90ad746a0a32f272dfdfe0616",
            "max": 570,
            "min": 0,
            "orientation": "horizontal",
            "style": "IPY_MODEL_06e2e05af9e748f99203cd6da9eaf0dc",
            "value": 570
          }
        },
        "aad32021be9a4c21a97444c471b671e2": {
          "model_module": "@jupyter-widgets/controls",
          "model_name": "HTMLModel",
          "model_module_version": "1.5.0",
          "state": {
            "_dom_classes": [],
            "_model_module": "@jupyter-widgets/controls",
            "_model_module_version": "1.5.0",
            "_model_name": "HTMLModel",
            "_view_count": null,
            "_view_module": "@jupyter-widgets/controls",
            "_view_module_version": "1.5.0",
            "_view_name": "HTMLView",
            "description": "",
            "description_tooltip": null,
            "layout": "IPY_MODEL_d89cecef764c4cc38094e7fad419b73f",
            "placeholder": "​",
            "style": "IPY_MODEL_728a6d5c09914c7ebfbe3fcb29ae635d",
            "value": " 570/570 [00:00&lt;00:00, 47.1kB/s]"
          }
        },
        "492d585673fe450683aaf1679659d202": {
          "model_module": "@jupyter-widgets/base",
          "model_name": "LayoutModel",
          "model_module_version": "1.2.0",
          "state": {
            "_model_module": "@jupyter-widgets/base",
            "_model_module_version": "1.2.0",
            "_model_name": "LayoutModel",
            "_view_count": null,
            "_view_module": "@jupyter-widgets/base",
            "_view_module_version": "1.2.0",
            "_view_name": "LayoutView",
            "align_content": null,
            "align_items": null,
            "align_self": null,
            "border": null,
            "bottom": null,
            "display": null,
            "flex": null,
            "flex_flow": null,
            "grid_area": null,
            "grid_auto_columns": null,
            "grid_auto_flow": null,
            "grid_auto_rows": null,
            "grid_column": null,
            "grid_gap": null,
            "grid_row": null,
            "grid_template_areas": null,
            "grid_template_columns": null,
            "grid_template_rows": null,
            "height": null,
            "justify_content": null,
            "justify_items": null,
            "left": null,
            "margin": null,
            "max_height": null,
            "max_width": null,
            "min_height": null,
            "min_width": null,
            "object_fit": null,
            "object_position": null,
            "order": null,
            "overflow": null,
            "overflow_x": null,
            "overflow_y": null,
            "padding": null,
            "right": null,
            "top": null,
            "visibility": null,
            "width": null
          }
        },
        "2bae814196cd40a3951e06309b9137ef": {
          "model_module": "@jupyter-widgets/base",
          "model_name": "LayoutModel",
          "model_module_version": "1.2.0",
          "state": {
            "_model_module": "@jupyter-widgets/base",
            "_model_module_version": "1.2.0",
            "_model_name": "LayoutModel",
            "_view_count": null,
            "_view_module": "@jupyter-widgets/base",
            "_view_module_version": "1.2.0",
            "_view_name": "LayoutView",
            "align_content": null,
            "align_items": null,
            "align_self": null,
            "border": null,
            "bottom": null,
            "display": null,
            "flex": null,
            "flex_flow": null,
            "grid_area": null,
            "grid_auto_columns": null,
            "grid_auto_flow": null,
            "grid_auto_rows": null,
            "grid_column": null,
            "grid_gap": null,
            "grid_row": null,
            "grid_template_areas": null,
            "grid_template_columns": null,
            "grid_template_rows": null,
            "height": null,
            "justify_content": null,
            "justify_items": null,
            "left": null,
            "margin": null,
            "max_height": null,
            "max_width": null,
            "min_height": null,
            "min_width": null,
            "object_fit": null,
            "object_position": null,
            "order": null,
            "overflow": null,
            "overflow_x": null,
            "overflow_y": null,
            "padding": null,
            "right": null,
            "top": null,
            "visibility": null,
            "width": null
          }
        },
        "d74f21455e034ca4a62592ae4c76c0d2": {
          "model_module": "@jupyter-widgets/controls",
          "model_name": "DescriptionStyleModel",
          "model_module_version": "1.5.0",
          "state": {
            "_model_module": "@jupyter-widgets/controls",
            "_model_module_version": "1.5.0",
            "_model_name": "DescriptionStyleModel",
            "_view_count": null,
            "_view_module": "@jupyter-widgets/base",
            "_view_module_version": "1.2.0",
            "_view_name": "StyleView",
            "description_width": ""
          }
        },
        "842feec90ad746a0a32f272dfdfe0616": {
          "model_module": "@jupyter-widgets/base",
          "model_name": "LayoutModel",
          "model_module_version": "1.2.0",
          "state": {
            "_model_module": "@jupyter-widgets/base",
            "_model_module_version": "1.2.0",
            "_model_name": "LayoutModel",
            "_view_count": null,
            "_view_module": "@jupyter-widgets/base",
            "_view_module_version": "1.2.0",
            "_view_name": "LayoutView",
            "align_content": null,
            "align_items": null,
            "align_self": null,
            "border": null,
            "bottom": null,
            "display": null,
            "flex": null,
            "flex_flow": null,
            "grid_area": null,
            "grid_auto_columns": null,
            "grid_auto_flow": null,
            "grid_auto_rows": null,
            "grid_column": null,
            "grid_gap": null,
            "grid_row": null,
            "grid_template_areas": null,
            "grid_template_columns": null,
            "grid_template_rows": null,
            "height": null,
            "justify_content": null,
            "justify_items": null,
            "left": null,
            "margin": null,
            "max_height": null,
            "max_width": null,
            "min_height": null,
            "min_width": null,
            "object_fit": null,
            "object_position": null,
            "order": null,
            "overflow": null,
            "overflow_x": null,
            "overflow_y": null,
            "padding": null,
            "right": null,
            "top": null,
            "visibility": null,
            "width": null
          }
        },
        "06e2e05af9e748f99203cd6da9eaf0dc": {
          "model_module": "@jupyter-widgets/controls",
          "model_name": "ProgressStyleModel",
          "model_module_version": "1.5.0",
          "state": {
            "_model_module": "@jupyter-widgets/controls",
            "_model_module_version": "1.5.0",
            "_model_name": "ProgressStyleModel",
            "_view_count": null,
            "_view_module": "@jupyter-widgets/base",
            "_view_module_version": "1.2.0",
            "_view_name": "StyleView",
            "bar_color": null,
            "description_width": ""
          }
        },
        "d89cecef764c4cc38094e7fad419b73f": {
          "model_module": "@jupyter-widgets/base",
          "model_name": "LayoutModel",
          "model_module_version": "1.2.0",
          "state": {
            "_model_module": "@jupyter-widgets/base",
            "_model_module_version": "1.2.0",
            "_model_name": "LayoutModel",
            "_view_count": null,
            "_view_module": "@jupyter-widgets/base",
            "_view_module_version": "1.2.0",
            "_view_name": "LayoutView",
            "align_content": null,
            "align_items": null,
            "align_self": null,
            "border": null,
            "bottom": null,
            "display": null,
            "flex": null,
            "flex_flow": null,
            "grid_area": null,
            "grid_auto_columns": null,
            "grid_auto_flow": null,
            "grid_auto_rows": null,
            "grid_column": null,
            "grid_gap": null,
            "grid_row": null,
            "grid_template_areas": null,
            "grid_template_columns": null,
            "grid_template_rows": null,
            "height": null,
            "justify_content": null,
            "justify_items": null,
            "left": null,
            "margin": null,
            "max_height": null,
            "max_width": null,
            "min_height": null,
            "min_width": null,
            "object_fit": null,
            "object_position": null,
            "order": null,
            "overflow": null,
            "overflow_x": null,
            "overflow_y": null,
            "padding": null,
            "right": null,
            "top": null,
            "visibility": null,
            "width": null
          }
        },
        "728a6d5c09914c7ebfbe3fcb29ae635d": {
          "model_module": "@jupyter-widgets/controls",
          "model_name": "DescriptionStyleModel",
          "model_module_version": "1.5.0",
          "state": {
            "_model_module": "@jupyter-widgets/controls",
            "_model_module_version": "1.5.0",
            "_model_name": "DescriptionStyleModel",
            "_view_count": null,
            "_view_module": "@jupyter-widgets/base",
            "_view_module_version": "1.2.0",
            "_view_name": "StyleView",
            "description_width": ""
          }
        },
        "66afb4a2492b43abb19ad049dbca0971": {
          "model_module": "@jupyter-widgets/controls",
          "model_name": "HBoxModel",
          "model_module_version": "1.5.0",
          "state": {
            "_dom_classes": [],
            "_model_module": "@jupyter-widgets/controls",
            "_model_module_version": "1.5.0",
            "_model_name": "HBoxModel",
            "_view_count": null,
            "_view_module": "@jupyter-widgets/controls",
            "_view_module_version": "1.5.0",
            "_view_name": "HBoxView",
            "box_style": "",
            "children": [
              "IPY_MODEL_c54af75d887349f586843e3f9a7e23d6",
              "IPY_MODEL_e66a8d3a5bda4bcca2dd834386e345ff",
              "IPY_MODEL_4d9c9b4535b049dc9742fcc4f07b18b8"
            ],
            "layout": "IPY_MODEL_fdd9ff46af6046368f3c2014232b700e"
          }
        },
        "c54af75d887349f586843e3f9a7e23d6": {
          "model_module": "@jupyter-widgets/controls",
          "model_name": "HTMLModel",
          "model_module_version": "1.5.0",
          "state": {
            "_dom_classes": [],
            "_model_module": "@jupyter-widgets/controls",
            "_model_module_version": "1.5.0",
            "_model_name": "HTMLModel",
            "_view_count": null,
            "_view_module": "@jupyter-widgets/controls",
            "_view_module_version": "1.5.0",
            "_view_name": "HTMLView",
            "description": "",
            "description_tooltip": null,
            "layout": "IPY_MODEL_3854cded4faf4cb69fefd6308233ac1d",
            "placeholder": "​",
            "style": "IPY_MODEL_c6b3dd1f9f6b4857a9020c24eb49c2b5",
            "value": "Downloading model.safetensors: 100%"
          }
        },
        "e66a8d3a5bda4bcca2dd834386e345ff": {
          "model_module": "@jupyter-widgets/controls",
          "model_name": "FloatProgressModel",
          "model_module_version": "1.5.0",
          "state": {
            "_dom_classes": [],
            "_model_module": "@jupyter-widgets/controls",
            "_model_module_version": "1.5.0",
            "_model_name": "FloatProgressModel",
            "_view_count": null,
            "_view_module": "@jupyter-widgets/controls",
            "_view_module_version": "1.5.0",
            "_view_name": "ProgressView",
            "bar_style": "success",
            "description": "",
            "description_tooltip": null,
            "layout": "IPY_MODEL_42179418c32046dd92bf93bd7b2db95c",
            "max": 435755784,
            "min": 0,
            "orientation": "horizontal",
            "style": "IPY_MODEL_467c31c79c554950bea00b987522dd95",
            "value": 435755784
          }
        },
        "4d9c9b4535b049dc9742fcc4f07b18b8": {
          "model_module": "@jupyter-widgets/controls",
          "model_name": "HTMLModel",
          "model_module_version": "1.5.0",
          "state": {
            "_dom_classes": [],
            "_model_module": "@jupyter-widgets/controls",
            "_model_module_version": "1.5.0",
            "_model_name": "HTMLModel",
            "_view_count": null,
            "_view_module": "@jupyter-widgets/controls",
            "_view_module_version": "1.5.0",
            "_view_name": "HTMLView",
            "description": "",
            "description_tooltip": null,
            "layout": "IPY_MODEL_1dbed6ad77934ed2a3f35ddaa81f9f1d",
            "placeholder": "​",
            "style": "IPY_MODEL_9c16c4df1dcf4937969e1b9a049cf2a0",
            "value": " 436M/436M [00:00&lt;00:00, 469MB/s]"
          }
        },
        "fdd9ff46af6046368f3c2014232b700e": {
          "model_module": "@jupyter-widgets/base",
          "model_name": "LayoutModel",
          "model_module_version": "1.2.0",
          "state": {
            "_model_module": "@jupyter-widgets/base",
            "_model_module_version": "1.2.0",
            "_model_name": "LayoutModel",
            "_view_count": null,
            "_view_module": "@jupyter-widgets/base",
            "_view_module_version": "1.2.0",
            "_view_name": "LayoutView",
            "align_content": null,
            "align_items": null,
            "align_self": null,
            "border": null,
            "bottom": null,
            "display": null,
            "flex": null,
            "flex_flow": null,
            "grid_area": null,
            "grid_auto_columns": null,
            "grid_auto_flow": null,
            "grid_auto_rows": null,
            "grid_column": null,
            "grid_gap": null,
            "grid_row": null,
            "grid_template_areas": null,
            "grid_template_columns": null,
            "grid_template_rows": null,
            "height": null,
            "justify_content": null,
            "justify_items": null,
            "left": null,
            "margin": null,
            "max_height": null,
            "max_width": null,
            "min_height": null,
            "min_width": null,
            "object_fit": null,
            "object_position": null,
            "order": null,
            "overflow": null,
            "overflow_x": null,
            "overflow_y": null,
            "padding": null,
            "right": null,
            "top": null,
            "visibility": null,
            "width": null
          }
        },
        "3854cded4faf4cb69fefd6308233ac1d": {
          "model_module": "@jupyter-widgets/base",
          "model_name": "LayoutModel",
          "model_module_version": "1.2.0",
          "state": {
            "_model_module": "@jupyter-widgets/base",
            "_model_module_version": "1.2.0",
            "_model_name": "LayoutModel",
            "_view_count": null,
            "_view_module": "@jupyter-widgets/base",
            "_view_module_version": "1.2.0",
            "_view_name": "LayoutView",
            "align_content": null,
            "align_items": null,
            "align_self": null,
            "border": null,
            "bottom": null,
            "display": null,
            "flex": null,
            "flex_flow": null,
            "grid_area": null,
            "grid_auto_columns": null,
            "grid_auto_flow": null,
            "grid_auto_rows": null,
            "grid_column": null,
            "grid_gap": null,
            "grid_row": null,
            "grid_template_areas": null,
            "grid_template_columns": null,
            "grid_template_rows": null,
            "height": null,
            "justify_content": null,
            "justify_items": null,
            "left": null,
            "margin": null,
            "max_height": null,
            "max_width": null,
            "min_height": null,
            "min_width": null,
            "object_fit": null,
            "object_position": null,
            "order": null,
            "overflow": null,
            "overflow_x": null,
            "overflow_y": null,
            "padding": null,
            "right": null,
            "top": null,
            "visibility": null,
            "width": null
          }
        },
        "c6b3dd1f9f6b4857a9020c24eb49c2b5": {
          "model_module": "@jupyter-widgets/controls",
          "model_name": "DescriptionStyleModel",
          "model_module_version": "1.5.0",
          "state": {
            "_model_module": "@jupyter-widgets/controls",
            "_model_module_version": "1.5.0",
            "_model_name": "DescriptionStyleModel",
            "_view_count": null,
            "_view_module": "@jupyter-widgets/base",
            "_view_module_version": "1.2.0",
            "_view_name": "StyleView",
            "description_width": ""
          }
        },
        "42179418c32046dd92bf93bd7b2db95c": {
          "model_module": "@jupyter-widgets/base",
          "model_name": "LayoutModel",
          "model_module_version": "1.2.0",
          "state": {
            "_model_module": "@jupyter-widgets/base",
            "_model_module_version": "1.2.0",
            "_model_name": "LayoutModel",
            "_view_count": null,
            "_view_module": "@jupyter-widgets/base",
            "_view_module_version": "1.2.0",
            "_view_name": "LayoutView",
            "align_content": null,
            "align_items": null,
            "align_self": null,
            "border": null,
            "bottom": null,
            "display": null,
            "flex": null,
            "flex_flow": null,
            "grid_area": null,
            "grid_auto_columns": null,
            "grid_auto_flow": null,
            "grid_auto_rows": null,
            "grid_column": null,
            "grid_gap": null,
            "grid_row": null,
            "grid_template_areas": null,
            "grid_template_columns": null,
            "grid_template_rows": null,
            "height": null,
            "justify_content": null,
            "justify_items": null,
            "left": null,
            "margin": null,
            "max_height": null,
            "max_width": null,
            "min_height": null,
            "min_width": null,
            "object_fit": null,
            "object_position": null,
            "order": null,
            "overflow": null,
            "overflow_x": null,
            "overflow_y": null,
            "padding": null,
            "right": null,
            "top": null,
            "visibility": null,
            "width": null
          }
        },
        "467c31c79c554950bea00b987522dd95": {
          "model_module": "@jupyter-widgets/controls",
          "model_name": "ProgressStyleModel",
          "model_module_version": "1.5.0",
          "state": {
            "_model_module": "@jupyter-widgets/controls",
            "_model_module_version": "1.5.0",
            "_model_name": "ProgressStyleModel",
            "_view_count": null,
            "_view_module": "@jupyter-widgets/base",
            "_view_module_version": "1.2.0",
            "_view_name": "StyleView",
            "bar_color": null,
            "description_width": ""
          }
        },
        "1dbed6ad77934ed2a3f35ddaa81f9f1d": {
          "model_module": "@jupyter-widgets/base",
          "model_name": "LayoutModel",
          "model_module_version": "1.2.0",
          "state": {
            "_model_module": "@jupyter-widgets/base",
            "_model_module_version": "1.2.0",
            "_model_name": "LayoutModel",
            "_view_count": null,
            "_view_module": "@jupyter-widgets/base",
            "_view_module_version": "1.2.0",
            "_view_name": "LayoutView",
            "align_content": null,
            "align_items": null,
            "align_self": null,
            "border": null,
            "bottom": null,
            "display": null,
            "flex": null,
            "flex_flow": null,
            "grid_area": null,
            "grid_auto_columns": null,
            "grid_auto_flow": null,
            "grid_auto_rows": null,
            "grid_column": null,
            "grid_gap": null,
            "grid_row": null,
            "grid_template_areas": null,
            "grid_template_columns": null,
            "grid_template_rows": null,
            "height": null,
            "justify_content": null,
            "justify_items": null,
            "left": null,
            "margin": null,
            "max_height": null,
            "max_width": null,
            "min_height": null,
            "min_width": null,
            "object_fit": null,
            "object_position": null,
            "order": null,
            "overflow": null,
            "overflow_x": null,
            "overflow_y": null,
            "padding": null,
            "right": null,
            "top": null,
            "visibility": null,
            "width": null
          }
        },
        "9c16c4df1dcf4937969e1b9a049cf2a0": {
          "model_module": "@jupyter-widgets/controls",
          "model_name": "DescriptionStyleModel",
          "model_module_version": "1.5.0",
          "state": {
            "_model_module": "@jupyter-widgets/controls",
            "_model_module_version": "1.5.0",
            "_model_name": "DescriptionStyleModel",
            "_view_count": null,
            "_view_module": "@jupyter-widgets/base",
            "_view_module_version": "1.2.0",
            "_view_name": "StyleView",
            "description_width": ""
          }
        }
      }
    }
  },
  "nbformat": 4,
  "nbformat_minor": 0
}