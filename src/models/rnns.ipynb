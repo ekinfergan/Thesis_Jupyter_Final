{
  "cells": [
    {
      "attachments": {},
      "cell_type": "markdown",
      "metadata": {
        "colab_type": "text",
        "id": "view-in-github"
      },
      "source": [
        "<a href=\"https://colab.research.google.com/github/ekinfergan/Thesis_Jupyter_Final/blob/main/src/models/mc_lstm_fix.ipynb\" target=\"_parent\"><img src=\"https://colab.research.google.com/assets/colab-badge.svg\" alt=\"Open In Colab\"/></a>"
      ]
    },
    {
      "attachments": {},
      "cell_type": "markdown",
      "metadata": {
        "id": "9A-Xt2ne4djh"
      },
      "source": [
        "# Deep Learning - LSTM & GRU"
      ]
    },
    {
      "cell_type": "code",
      "execution_count": null,
      "metadata": {
        "colab": {
          "base_uri": "https://localhost:8080/"
        },
        "id": "Ks2ckCio4nE6",
        "outputId": "40726ba0-8efa-42a4-ab7a-5eb1a829bcd0"
      },
      "outputs": [],
      "source": [
        "!git clone https://github.com/ekinfergan/Thesis_Jupyter_Final.git"
      ]
    },
    {
      "cell_type": "code",
      "execution_count": null,
      "metadata": {
        "colab": {
          "base_uri": "https://localhost:8080/"
        },
        "id": "Sm57pwr44ffU",
        "outputId": "a4137fd8-0ea5-4cf1-ee9c-b8c5eb7673b6"
      },
      "outputs": [],
      "source": [
        "%cd Thesis_Jupyter_Final\n",
        "!git pull\n",
        "%cd ..\n"
      ]
    },
    {
      "cell_type": "code",
      "execution_count": null,
      "metadata": {
        "colab": {
          "base_uri": "https://localhost:8080/"
        },
        "id": "fZq9XZCv4yYu",
        "outputId": "d6ac1cda-d248-4789-ff0a-ebf1b8d8b915"
      },
      "outputs": [],
      "source": [
        "!pip install git+https://github.com/scikit-optimize/scikit-optimize.git"
      ]
    },
    {
      "cell_type": "code",
      "execution_count": 2,
      "metadata": {
        "id": "PbAXzVr-4djj"
      },
      "outputs": [],
      "source": [
        "import os\n",
        "#os.environ[\"CUDA_VISIBLE_DEVICES\"] = \"-1\"\n",
        "import pandas as pd\n",
        "import numpy as np\n",
        "import matplotlib.pyplot as plt\n",
        "import multiprocessing\n",
        "import pickle\n",
        "from numpy import asarray\n",
        "\n",
        "from sklearn.preprocessing import LabelBinarizer\n",
        "from sklearn.metrics import ConfusionMatrixDisplay, accuracy_score, precision_score, recall_score, f1_score, auc, roc_curve, RocCurveDisplay, confusion_matrix, classification_report\n",
        "from sklearn.multiclass import OneVsRestClassifier\n",
        "from itertools import cycle\n",
        "\n",
        "import tensorflow as tf\n",
        "from tensorflow.keras.models import Sequential, Model, load_model\n",
        "from tensorflow.keras.layers import Input, Embedding, concatenate, Dense, LSTM, GRU\n",
        "from keras.callbacks import EarlyStopping\n",
        "from tensorflow.keras.optimizers.legacy import Adam, SGD, RMSprop, Adagrad\n",
        "\n",
        "import skopt\n",
        "from skopt import gbrt_minimize, gp_minimize\n",
        "from skopt.utils import use_named_args\n",
        "from skopt.space import Real, Categorical, Integer\n",
        "from tensorflow.keras import backend as K\n",
        "\n",
        "import functools"
      ]
    },
    {
      "cell_type": "code",
      "execution_count": null,
      "metadata": {
        "id": "OXWMoudx4djk"
      },
      "outputs": [],
      "source": [
        "gpu_info = !nvidia-smi\n",
        "gpu_info = '\\n'.join(gpu_info)\n",
        "if gpu_info.find('failed') >= 0:\n",
        "  print('Not connected to a GPU')\n",
        "else:\n",
        "  print(gpu_info)\n",
        "\n",
        "\n",
        "from psutil import virtual_memory\n",
        "ram_gb = virtual_memory().total / 1e9\n",
        "print('Your runtime has {:.1f} gigabytes of available RAM\\n'.format(ram_gb))\n",
        "\n",
        "if ram_gb < 20:\n",
        "  print('Not using a high-RAM runtime')\n",
        "else:\n",
        "  print('You are using a high-RAM runtime!')\n",
        "\n",
        "\n",
        "gpus = tf.config.experimental.list_physical_devices('GPU')\n",
        "if gpus:\n",
        "  try:\n",
        "    tf.config.experimental.set_virtual_device_configuration(\n",
        "        gpus[0],[tf.config.experimental.VirtualDeviceConfiguration(memory_limit=5120)])\n",
        "  except RuntimeError as e:\n",
        "    print(e)\n",
        "\n",
        "\n",
        "import tensorflow as tf\n",
        "print(tf.config.list_physical_devices('GPU'))\n",
        "# just checkıng gpu ıs avaılable\n",
        "\n",
        "\n",
        "try:\n",
        "  resolver = tf.distribute.cluster_resolver.TPUClusterResolver()\n",
        "  tf.config.experimental_connect_to_cluster(resolver)\n",
        "  tf.tpu.experimental.initialize_tpu_system(resolver)\n",
        "  print(\"All devices: \", tf.config.list_logical_devices('TPU'))\n",
        "  strategy = tf.distribute.experimental.TPUStrategy(resolver)\n",
        "except ValueError:\n",
        "  strategy = tf.distribute.get_strategy()"
      ]
    },
    {
      "cell_type": "code",
      "execution_count": 3,
      "metadata": {
        "colab": {
          "base_uri": "https://localhost:8080/"
        },
        "id": "EynHCpQ04djk",
        "outputId": "ee9c02ac-7996-4160-8572-95e73cc227f3"
      },
      "outputs": [
        {
          "name": "stdout",
          "output_type": "stream",
          "text": [
            "/home2/s3985113/Thesis_Jupyter_Final/src/\n"
          ]
        }
      ],
      "source": [
        "script_dir = os.path.dirname(os.path.abspath('mc_lstm-fix.ipynb'))\n",
        "data_path = os.path.join(script_dir, 'Thesis_Jupyter_Final/src/')\n",
        "os.getcwd()\n",
        "print(data_path)\n",
        "\n",
        "input_folder_path = os.path.join(data_path, 'input')\n",
        "processed_folder_path = os.path.join(data_path, 'input/processed/normal')\n",
        "results_folder_path =  os.path.join(data_path, \"results\")\n",
        "\n",
        "# Create the folder if it doesn't exist\n",
        "if not os.path.exists(results_folder_path):\n",
        "    os.makedirs(results_folder_path)"
      ]
    },
    {
      "cell_type": "code",
      "execution_count": 4,
      "metadata": {
        "id": "FVinrA7E6ISQ"
      },
      "outputs": [],
      "source": [
        "senti_labels_dict = {1: 'Negative', 2: 'Neutral', 3: 'Positive'}\n",
        "senti_labels_names = list(senti_labels_dict.values())\n",
        "senti_labels_nums = list(senti_labels_dict.keys())\n",
        "NUM_of_CLASSES = 3\n",
        "\n",
        "VOCAB_SIZE = 11395\n",
        "MAX_SEQ_LEN = 449\n",
        "EMBEDDING_DIM = 100\n",
        "NUM_OUTPUT_CLASSES = 3"
      ]
    },
    {
      "cell_type": "code",
      "execution_count": 5,
      "metadata": {
        "colab": {
          "base_uri": "https://localhost:8080/"
        },
        "id": "UOIpxE654djm",
        "outputId": "baef3128-a188-4f38-e2a1-492f29d332be"
      },
      "outputs": [
        {
          "name": "stdout",
          "output_type": "stream",
          "text": [
            "x_train_encoded:\n",
            "[[  96  549  929 ...    0    0    0]\n",
            " [ 453  240 1125 ...    0    0    0]\n",
            " [1260   67  312 ...    0    0    0]\n",
            " [ 127 1352 6694 ...    0    0    0]\n",
            " [ 529   10   69 ...    0    0    0]]\n",
            "\n",
            "embedding vectors: [-0.57674998 -0.42304999  0.27188    -0.31986001  0.18842   ]...\n",
            "\n",
            "y_train_encoded:\n",
            "[[1. 0. 0.]\n",
            " [1. 0. 0.]\n",
            " [1. 0. 0.]\n",
            " [1. 0. 0.]\n",
            " [1. 0. 0.]]\n",
            "\n"
          ]
        }
      ],
      "source": [
        "train = pd.read_csv(os.path.join(processed_folder_path, \"train.csv\"))\n",
        "val = pd.read_csv(os.path.join(processed_folder_path, \"val.csv\"))\n",
        "test = pd.read_csv(os.path.join(processed_folder_path, \"test.csv\"))\n",
        "\n",
        "x_train = train['x']\n",
        "y_train = train['y']\n",
        "x_val = val['x']\n",
        "y_val = val['y']\n",
        "x_test = test['x']\n",
        "y_test = test['y']\n",
        "import pickle\n",
        "\n",
        "# Load encoded sequences\n",
        "with open(os.path.join(processed_folder_path, \"x_train_encoded.pkl\"), \"rb\") as f:\n",
        "    x_train_encoded = pickle.load(f)\n",
        "with open(os.path.join(processed_folder_path, \"x_val_encoded.pkl\"), \"rb\") as f:\n",
        "    x_val_encoded = pickle.load(f)\n",
        "with open(os.path.join(processed_folder_path, \"x_test_encoded.pkl\"), \"rb\") as f:\n",
        "    x_test_encoded = pickle.load(f)\n",
        "print(f\"x_train_encoded:\\n{x_train_encoded[:5]}\\n\")\n",
        "\n",
        "# Load embedding vectors\n",
        "with open(os.path.join(processed_folder_path, \"embedding_matrix.pkl\"), \"rb\") as f:\n",
        "    w2v_embedding_vectors = pickle.load(f)\n",
        "print(f\"embedding vectors: {w2v_embedding_vectors[10][:5]}...\\n\")\n",
        "\n",
        "# Load encoded labels\n",
        "with open(os.path.join(processed_folder_path, \"y_train_encoded.pkl\"), \"rb\") as f:\n",
        "    y_train_encoded = pickle.load(f)\n",
        "with open(os.path.join(processed_folder_path, \"y_val_encoded.pkl\"), \"rb\") as f:\n",
        "    y_val_encoded = pickle.load(f)\n",
        "with open(os.path.join(processed_folder_path, \"y_test_encoded.pkl\"), \"rb\") as f:\n",
        "    y_test_encoded = pickle.load(f)\n",
        "print(f\"y_train_encoded:\\n{y_train_encoded[:5]}\\n\")"
      ]
    },
    {
      "attachments": {},
      "cell_type": "markdown",
      "metadata": {
        "id": "rsJ4d-mY4djn"
      },
      "source": [
        "## Evaluation Functions"
      ]
    },
    {
      "cell_type": "code",
      "execution_count": 6,
      "metadata": {
        "id": "7hXUlQ8t4djn"
      },
      "outputs": [],
      "source": [
        "def one_hot_encode(y):\n",
        "    y_encoded = np.zeros((len(y), NUM_of_CLASSES))\n",
        "    for i, label in enumerate(y):\n",
        "        y_encoded[i, label - 1] = 1\n",
        "\n",
        "    return y_encoded\n",
        "\n",
        "def calculate_classification_report(y, y_pred):\n",
        "    report = classification_report(y, y_pred, labels=senti_labels_nums, target_names=senti_labels_names)\n",
        "    return report\n",
        "\n",
        "def plot_confusion_matrix(y_true, y_pred, res_path):\n",
        "    cnf_mat = confusion_matrix(y_true, y_pred)\n",
        "    mat_disp = ConfusionMatrixDisplay(confusion_matrix=cnf_mat, display_labels=senti_labels_names)\n",
        "    mat_disp = mat_disp.plot(cmap='Blues', xticks_rotation='vertical')\n",
        "    plt.title(f'Confusion Matrix')\n",
        "    plt.tight_layout()\n",
        "    plt.savefig(os.path.join(res_path, \"confusion_matrix.png\"))\n",
        "    plt.close()\n",
        "\n",
        "def plot_roc_curve(prob_test_vec, y_test, res_path):\n",
        "    fig, ax = plt.subplots(figsize=(10, 10))\n",
        "    colors = cycle(['limegreen', 'dodgerblue', 'red'])\n",
        "    for senti, color in zip(range(NUM_of_CLASSES), colors):\n",
        "        RocCurveDisplay.from_predictions(\n",
        "            y_test[:, senti],\n",
        "            prob_test_vec[:, senti],\n",
        "            name=f\"ROC curve for {senti_labels_names[senti]}\",\n",
        "            color=color,\n",
        "            ax=ax,\n",
        "        )\n",
        "    plt.savefig(os.path.join(res_path, \"roc_curve.png\"))\n",
        "    plt.close()\n",
        "\n",
        "def calculate_OvR_roc_auc_score(model, model_name, x_test, y_test, res_path):\n",
        "    prob_test_vec = model.predict(x_test)\n",
        "\n",
        "    fpr, tpr, thresholds, auc_score = [], [], [], []\n",
        "    for _ in range(NUM_of_CLASSES):\n",
        "        fpr.append(0)\n",
        "        tpr.append(0)\n",
        "        thresholds.append(0)\n",
        "        auc_score.append(0)\n",
        "\n",
        "     # Determine class proportions which will be the weights for the average\n",
        "    lb = LabelBinarizer()\n",
        "    y_test_bin = lb.fit_transform(y_test)\n",
        "    class_proportions = y_test_bin.mean(axis=0)\n",
        "    \n",
        "    for i in range(NUM_of_CLASSES):\n",
        "        fpr[i], tpr[i], thresholds[i] = roc_curve(y_test[:, i], prob_test_vec[:, i])\n",
        "        auc_score[i] = auc(fpr[i], tpr[i])\n",
        "\n",
        "    weighted_avg_auc_score = np.average(auc_score, weights=class_proportions)\n",
        "    # Save AUC to results.txt\n",
        "    with open(os.path.join(res_path, f\"{model_name}_results.txt\"), \"a\") as f:\n",
        "        auc_score_str = ', '.join(f'{score:.2f}' for score in auc_score)\n",
        "        f.write(f\"AUC score: [{auc_score_str}]\\n\")\n",
        "        f.write(f\"Weighted average AUC score: {weighted_avg_auc_score:.2f}\\n\")\n",
        "\n",
        "    plot_roc_curve(prob_test_vec, y_test, res_path)\n",
        "\n",
        "def get_results(y_pred, y, x, score, history, model, model_name, params, res_path):\n",
        "    if not os.path.exists(res_path):\n",
        "        os.makedirs(res_path)\n",
        "\n",
        "    # Convert to one hot vectors\n",
        "    y_classes = np.argmax(y, axis=1) + 1\n",
        "    y_pred_classes = np.argmax(y_pred, axis=1) + 1\n",
        "\n",
        "    print(y_pred.shape)\n",
        "    print(y_classes.shape)\n",
        "    print(y_pred_classes.shape)\n",
        "\n",
        "    print(f\"Accuracy: {score[1]:.2%}\")\n",
        "    print(f\"Loss: {score[0]:.2f}\")\n",
        "\n",
        "    with open(os.path.join(res_path, f\"{model_name}_results.txt\"), \"w\") as f:\n",
        "        f.write(f\"*{model_name}\\n\")\n",
        "        f.write(f\"Optimizer Params: {params}\\n\\n\")\n",
        "\n",
        "        f.write(f\"Accuracy: {score[1]:.2f}%\\n\")\n",
        "        f.write(f\"Loss: {score[0]:.2f}\\n\")\n",
        "\n",
        "        report = calculate_classification_report(y_classes, y_pred_classes)\n",
        "        if report is not None:\n",
        "            f.write(\"Classification Report:\\n\")\n",
        "            f.write(report)\n",
        "        else:\n",
        "            print(\"Failed to generate classification report\")\n",
        "        f.write(\"\\n\")\n",
        "\n",
        "        plot_confusion_matrix(y_classes, y_pred_classes, res_path)\n",
        "\n",
        "        # TODO:\n",
        "        calculate_OvR_roc_auc_score(model, model_name, x, y, res_path)"
      ]
    },
    {
      "cell_type": "code",
      "execution_count": 7,
      "metadata": {},
      "outputs": [],
      "source": [
        "def plot_development(history, model_name):\n",
        "    acc =  history.history['accuracy']\n",
        "    val_acc = history.history['val_accuracy']\n",
        "\n",
        "    loss = history.history['loss']\n",
        "    val_loss = history.history['val_loss']\n",
        "\n",
        "    epochs = range(len(acc))\n",
        "\n",
        "    plt.plot(epochs, acc, 'b', label='Training Accuracy')\n",
        "    plt.plot(epochs, val_acc, 'r', label='Validation Accuracy')\n",
        "    plt.title(f\"{model_name} Training and Validation Accuracy\")\n",
        "    plt.legend()\n",
        "\n",
        "    plt.figure()\n",
        "\n",
        "    plt.plot(epochs, loss, 'b', label='Training Loss')\n",
        "    plt.plot(epochs, val_loss, 'r', label='Validation Loss')\n",
        "    plt.title(f\"{model_name} Training and Validation Loss\")\n",
        "    plt.legend()\n",
        "    plt.show()\n",
        "\n",
        "    plt.savefig(os.path.join(results_folder_path, f\"{model_name}_development_plot.png\"))\n",
        "    plt.close()"
      ]
    },
    {
      "attachments": {},
      "cell_type": "markdown",
      "metadata": {
        "id": "KMO7Z6Bp4f9D"
      },
      "source": [
        "JUST CHECKING IF IT WORKS AT ALL WITH A SIMPLE MODEL"
      ]
    },
    {
      "cell_type": "code",
      "execution_count": null,
      "metadata": {
        "colab": {
          "base_uri": "https://localhost:8080/",
          "height": 675
        },
        "id": "dIxmyuQQ4b5q",
        "outputId": "0da29f0e-c71f-4329-f5cd-1c62ba146fae"
      },
      "outputs": [
        {
          "name": "stdout",
          "output_type": "stream",
          "text": [
            "Model: \"sequential\"\n",
            "_________________________________________________________________\n",
            " Layer (type)                Output Shape              Param #   \n",
            "=================================================================\n",
            " embeddings_layer (Embedding  (None, 449, 100)         1139500   \n",
            " )                                                               \n",
            "                                                                 \n",
            " hidden_layer (LSTM)         (None, 64)                42240     \n",
            "                                                                 \n",
            " output_layer (Dense)        (None, 3)                 195       \n",
            "                                                                 \n",
            "=================================================================\n",
            "Total params: 1,181,935\n",
            "Trainable params: 42,435\n",
            "Non-trainable params: 1,139,500\n",
            "_________________________________________________________________\n",
            "2563/2563 [==============================] - 65s 24ms/step - loss: 1.0493 - accuracy: 0.4874 - val_loss: 0.8019 - val_accuracy: 0.8674\n",
            "372/372 [==============================] - 4s 10ms/step\n",
            "372/372 [==============================] - 5s 13ms/step - loss: 0.8194 - accuracy: 0.8404\n",
            "(11899, 3)\n",
            "(11899,)\n",
            "(11899,)\n",
            "Accuracy: 84.04%\n",
            "Loss: 0.82\n",
            "Classification Report:\n",
            "               precision    recall  f1-score   support\n",
            "\n",
            "    Negative       0.00      0.00      0.00       924\n",
            "     Neutral       0.00      0.00      0.00       975\n",
            "    Positive       0.84      1.00      0.91     10000\n",
            "\n",
            "    accuracy                           0.84     11899\n",
            "   macro avg       0.28      0.33      0.30     11899\n",
            "weighted avg       0.71      0.84      0.77     11899\n",
            "\n",
            "Failed to generate classification report\n"
          ]
        },
        {
          "name": "stderr",
          "output_type": "stream",
          "text": [
            "/home2/s3985113/venv/thesis/lib/python3.10/site-packages/sklearn/metrics/_classification.py:1344: UndefinedMetricWarning: Precision and F-score are ill-defined and being set to 0.0 in labels with no predicted samples. Use `zero_division` parameter to control this behavior.\n",
            "  _warn_prf(average, modifier, msg_start, len(result))\n",
            "/home2/s3985113/venv/thesis/lib/python3.10/site-packages/sklearn/metrics/_classification.py:1344: UndefinedMetricWarning: Precision and F-score are ill-defined and being set to 0.0 in labels with no predicted samples. Use `zero_division` parameter to control this behavior.\n",
            "  _warn_prf(average, modifier, msg_start, len(result))\n",
            "/home2/s3985113/venv/thesis/lib/python3.10/site-packages/sklearn/metrics/_classification.py:1344: UndefinedMetricWarning: Precision and F-score are ill-defined and being set to 0.0 in labels with no predicted samples. Use `zero_division` parameter to control this behavior.\n",
            "  _warn_prf(average, modifier, msg_start, len(result))\n"
          ]
        },
        {
          "data": {
            "image/png": "[encoded data removed]",
            "text/plain": [
              "<Figure size 640x480 with 1 Axes>"
            ]
          },
          "metadata": {},
          "output_type": "display_data"
        },
        {
          "data": {
            "image/png": "[encoded data removed]",
            "text/plain": [
              "<Figure size 640x480 with 1 Axes>"
            ]
          },
          "metadata": {},
          "output_type": "display_data"
        },
        {
          "name": "stdout",
          "output_type": "stream",
          "text": [
            "372/372 [==============================] - 4s 10ms/step\n"
          ]
        }
      ],
      "source": [
        "K.clear_session()\n",
        "\n",
        "model = Sequential()\n",
        "# input layer is sequence of integers (words)\n",
        "model.add(Embedding(VOCAB_SIZE, EMBEDDING_DIM, input_length=MAX_SEQ_LEN, weights=[w2v_embedding_vectors], trainable=False, name=\"embeddings_layer\")) # part of input layer as it transforms integers into dense vectors, input shape = (None, MAX_SEQ_LEN)\n",
        "model.add(LSTM(64, name='hidden_layer')) # hidden layer\n",
        "model.add(Dense(NUM_OUTPUT_CLASSES, activation='softmax', name=\"output_layer\"))\n",
        "model.compile(optimizer = 'adam', loss='categorical_crossentropy', metrics=[\"accuracy\"])\n",
        "model.summary()\n",
        "\n",
        "history = model.fit(x_train_encoded, y_train_encoded, validation_data=(x_val_encoded, y_val_encoded), batch_size=16, epochs=1)\n",
        "\n",
        "y_pred = model.predict(x_test_encoded)\n",
        "score = model.evaluate(x_test_encoded, y_test_encoded)\n",
        "\n",
        "get_results(y_pred, y_test_encoded, x_test_encoded, score, history, model, \"LSTM\", model.optimizer.get_config(), results_folder_path)\n",
        "\n",
        "del model\n",
        "\n",
        "K.clear_session()\n",
        "tf.compat.v1.reset_default_graph()"
      ]
    },
    {
      "cell_type": "code",
      "execution_count": 8,
      "metadata": {},
      "outputs": [],
      "source": [
        "K.clear_session()\n",
        "\n",
        "batch_size= 16\n",
        "epochs=2\n",
        "\n",
        "num_layers = Integer(low=1, high=2, name='num_layers')\n",
        "num_units = Categorical([32, 64, 128], name='num_units')\n",
        "learning_rate = Categorical([0.1, 1e-2], name='learning_rate')\n",
        "\n",
        "search_space = [\n",
        "            num_layers,\n",
        "            num_units,\n",
        "            learning_rate\n",
        "            ]\n",
        "\n",
        "# Specify one or more initial points for the search of optimal parameter\n",
        "default_params = [1,\n",
        "                  32,\n",
        "                  1e-2\n",
        "                  ]\n",
        "                  \n",
        "def define_model(num_layers, num_units, learning_rate, layer_type):\n",
        "    # input layer\n",
        "    inputs = Input(shape=(MAX_SEQ_LEN,), name=\"input word2vec embeddings\")\n",
        "\n",
        "    # Define an embedding layer for the input\n",
        "    embeddings = Embedding(VOCAB_SIZE, EMBEDDING_DIM, input_length=MAX_SEQ_LEN, weights=[w2v_embedding_vectors], trainable=False, name=\"embeddingsB\")(inputs)\n",
        "\n",
        "    # Pass embeddings through their own LSTM or GRU layers\n",
        "    layers = embeddings\n",
        "    for i in range(num_layers):\n",
        "        layer_name = 'layer_{0}_{1}'.format(layer_type.__name__, i+1)\n",
        "        if i < num_layers-1:\n",
        "            layers = layer_type(num_units, dropout=0.2, recurrent_dropout=0.2, return_sequences=True, name=layer_name)(layers)\n",
        "        else:\n",
        "            layers = layer_type(num_units, dropout=0.2, recurrent_dropout=0.2, return_sequences=False, name=layer_name)(layers)\n",
        "\n",
        "    # Dense layer for the merged inputs & output Layer\n",
        "    outputs = Dense(NUM_OUTPUT_CLASSES, activation='softmax', name=\"output\")(layers)\n",
        "\n",
        "    # Create the model\n",
        "    model = Model(inputs=inputs, outputs=outputs)\n",
        "\n",
        "    # Compile the model\n",
        "    rmsprop = RMSprop(learning_rate=learning_rate)\n",
        "    model.compile(optimizer=rmsprop, loss='mean_squared_error', metrics=['accuracy']) # default learning rate = 0.001\n",
        "    print(model.summary())\n",
        "\n",
        "    return model"
      ]
    },
    {
      "cell_type": "code",
      "execution_count": 9,
      "metadata": {
        "id": "VH3zXV_N4djo"
      },
      "outputs": [],
      "source": [
        "def get_objective_function(layer_type):\n",
        "    @use_named_args(dimensions=search_space)\n",
        "    def objective_function(num_layers, num_units, learning_rate):\n",
        "\n",
        "        model = define_model(num_layers=num_layers,\n",
        "                            num_units=num_units,\n",
        "                            learning_rate=learning_rate,\n",
        "                            layer_type=layer_type\n",
        "                            )\n",
        "\n",
        "        early_stopping = EarlyStopping(monitor='val_loss', patience=3, restore_best_weights=True)\n",
        "        history = model.fit(x_train_encoded,\n",
        "                            y_train_encoded,\n",
        "                            validation_data=(x_val_encoded, y_val_encoded),\n",
        "                            epochs=epochs,\n",
        "                            batch_size=batch_size,\n",
        "                            callbacks=[early_stopping],\n",
        "                            verbose=2\n",
        "                            )\n",
        "        # Return the validation accuracy for the last epoch.\n",
        "        accuracy = history.history['val_accuracy'][-1]\n",
        "        loss = history.history['val_loss'][-1]\n",
        "\n",
        "        # Print the classification accuracy.\n",
        "        print(f\"Accuracy: {accuracy:.2%}\")\n",
        "        print(f\"Loss: {loss:.2}\\n\")\n",
        "\n",
        "        del model\n",
        "\n",
        "        # Clear the session.\n",
        "        K.clear_session()\n",
        "        tf.compat.v1.reset_default_graph()\n",
        "\n",
        "        # The optimizer aims for the lowest score, so we return our negative accuracy.\n",
        "        return -accuracy\n",
        "\n",
        "    return objective_function"
      ]
    },
    {
      "cell_type": "code",
      "execution_count": 10,
      "metadata": {},
      "outputs": [],
      "source": [
        "def perform_bayesian_opt(objective_function):\n",
        "    # Perform Bayesian Optimization\n",
        "    gbrt_result = gbrt_minimize(func=objective_function,\n",
        "                                dimensions=search_space,\n",
        "                                n_calls=12,\n",
        "                                n_jobs=-1,\n",
        "                                x0=default_params)\n",
        "\n",
        "    gbrt_best_params = {param.name: value for param, value in zip(gbrt_result.space, gbrt_result.x)}\n",
        "    print(\"Best Hyperparameters:\", gbrt_best_params)\n",
        "    print()\n",
        "\n",
        "    return gbrt_best_params\n",
        "\n",
        "def fit_model(model, model_name, x_train, y_train, x_val, y_val):\n",
        "    model_file = f\"model_{model_name}.h5\"\n",
        "    model_path = os.path.join(results_folder_path, model_file)\n",
        "\n",
        "    # Check if the model exists\n",
        "    if os.path.exists(model_path):\n",
        "        # If the model exists, then load it\n",
        "        model = load_model(model_path)\n",
        "        print(f\"Model {model_name} loaded successfully\")\n",
        "    else:\n",
        "        early_stopping = EarlyStopping(monitor='val_loss', patience=3, restore_best_weights=True)\n",
        "        history = model.fit(x_train,\n",
        "                            y_train,\n",
        "                            validation_data=(x_val, y_val),\n",
        "                            epochs=epochs,\n",
        "                            batch_size=batch_size,\n",
        "                            callbacks=[early_stopping],\n",
        "                            verbose=2)\n",
        "\n",
        "        model.save(model_path)\n",
        "        print(f\"Model {model_name} saved at {model_path}\")\n",
        "\n",
        "    return model, history\n",
        "\n",
        "def init_results(model, model_name, x_train, y_train, x_val, y_val, x_test, y_test):\n",
        "    subfolder_path = f\"{model_name}_results\"\n",
        "    res_path = os.path.join(results_folder_path, subfolder_path)\n",
        "\n",
        "    y_pred = model.predict(x_train)\n",
        "    score = model.evaluate(x_train, y_train)\n",
        "    get_results(y_pred, y_train, x_train, score, model, f\"Train {model_name}\", model.optimizer.get_config(), res_path)\n",
        "\n",
        "    y_pred = model.predict(x_val)\n",
        "    score = model.evaluate(x_val, y_val)\n",
        "    get_results(y_pred, y_val, x_val, score, model, f\"Val {model_name}\", model.optimizer.get_config(), res_path)\n",
        "\n",
        "    y_pred = model.predict(x_test)\n",
        "    score = model.evaluate(x_test, y_test)\n",
        "    get_results(y_pred, y_test, x_test, score, model, f\"Test {model_name}\", model.optimizer.get_config(), res_path)\n",
        "\n",
        "\n",
        "def setup_dl(model_name):\n",
        "    if model_name == \"LSTM\":\n",
        "        objective_function = get_objective_function(LSTM)\n",
        "    else:\n",
        "        objective_function = get_objective_function(GRU)\n",
        "\n",
        "    best_params = perform_bayesian_opt(objective_function)\n",
        "\n",
        "    # Fit best model\n",
        "    model = define_model(best_params['num_layers'],\n",
        "                         best_params['num_units'],\n",
        "                         best_params['learning_rate'],\n",
        "                         LSTM if model_name == \"LSTM\" else GRU)\n",
        "\n",
        "\n",
        "    best_model, history = fit_model(model, model_name, x_train_encoded, y_train_encoded, x_val_encoded, y_val_encoded)\n",
        "\n",
        "    # Get results\n",
        "    plot_development(history, model_name)\n",
        "    init_results(best_model, model_name, x_train_encoded, y_train_encoded, x_val_encoded, y_val_encoded, x_test_encoded, y_test_encoded)"
      ]
    },
    {
      "cell_type": "code",
      "execution_count": 11,
      "metadata": {},
      "outputs": [
        {
          "name": "stdout",
          "output_type": "stream",
          "text": [
            "WARNING:tensorflow:Layer layer_LSTM_1 will not use cuDNN kernels since it doesn't meet the criteria. It will use a generic GPU kernel as fallback when running on GPU.\n"
          ]
        },
        {
          "name": "stderr",
          "output_type": "stream",
          "text": [
            "2023-06-25 01:31:57.674910: I tensorflow/core/common_runtime/gpu/gpu_device.cc:1613] Created device /job:localhost/replica:0/task:0/device:GPU:0 with 390 MB memory:  -> device: 0, name: NVIDIA A100-PCIE-40GB, pci bus id: 0000:17:00.0, compute capability: 8.0\n"
          ]
        },
        {
          "name": "stdout",
          "output_type": "stream",
          "text": [
            "Model: \"model\"\n",
            "_________________________________________________________________\n",
            " Layer (type)                Output Shape              Param #   \n",
            "=================================================================\n",
            " input word2vec embeddings (  [(None, 449)]            0         \n",
            " InputLayer)                                                     \n",
            "                                                                 \n",
            " embeddingsB (Embedding)     (None, 449, 100)          1139500   \n",
            "                                                                 \n",
            " layer_LSTM_1 (LSTM)         (None, 32)                17024     \n",
            "                                                                 \n",
            " output (Dense)              (None, 3)                 99        \n",
            "                                                                 \n",
            "=================================================================\n",
            "Total params: 1,156,623\n",
            "Trainable params: 17,123\n",
            "Non-trainable params: 1,139,500\n",
            "_________________________________________________________________\n",
            "None\n",
            "Epoch 1/2\n"
          ]
        },
        {
          "name": "stderr",
          "output_type": "stream",
          "text": [
            "2023-06-25 01:32:01.657324: E tensorflow/compiler/xla/stream_executor/cuda/cuda_blas.cc:219] failed to create cublas handle: the library was not initialized\n",
            "2023-06-25 01:32:01.657504: E tensorflow/compiler/xla/stream_executor/cuda/cuda_blas.cc:221] Failure to initialize cublas may be due to OOM (cublas needs some free memory when you initialize it, and your deep-learning framework may have preallocated more than its fair share), or may be because this binary was not built with support for the GPU in your machine.\n",
            "2023-06-25 01:32:01.657540: W tensorflow/core/framework/op_kernel.cc:1830] OP_REQUIRES failed at matmul_op_impl.h:622 : INTERNAL: Attempting to perform BLAS operation using StreamExecutor without BLAS support\n",
            "2023-06-25 01:32:01.665096: E tensorflow/compiler/xla/stream_executor/cuda/cuda_blas.cc:219] failed to create cublas handle: the library was not initialized\n",
            "2023-06-25 01:32:01.665123: E tensorflow/compiler/xla/stream_executor/cuda/cuda_blas.cc:221] Failure to initialize cublas may be due to OOM (cublas needs some free memory when you initialize it, and your deep-learning framework may have preallocated more than its fair share), or may be because this binary was not built with support for the GPU in your machine.\n",
            "2023-06-25 01:32:01.665138: W tensorflow/core/framework/op_kernel.cc:1830] OP_REQUIRES failed at matmul_op_impl.h:622 : INTERNAL: Attempting to perform BLAS operation using StreamExecutor without BLAS support\n",
            "2023-06-25 01:32:01.670216: E tensorflow/compiler/xla/stream_executor/cuda/cuda_blas.cc:219] failed to create cublas handle: the library was not initialized\n",
            "2023-06-25 01:32:01.670239: E tensorflow/compiler/xla/stream_executor/cuda/cuda_blas.cc:221] Failure to initialize cublas may be due to OOM (cublas needs some free memory when you initialize it, and your deep-learning framework may have preallocated more than its fair share), or may be because this binary was not built with support for the GPU in your machine.\n",
            "2023-06-25 01:32:01.670250: W tensorflow/core/framework/op_kernel.cc:1830] OP_REQUIRES failed at matmul_op_impl.h:622 : INTERNAL: Attempting to perform BLAS operation using StreamExecutor without BLAS support\n",
            "2023-06-25 01:32:01.674166: E tensorflow/compiler/xla/stream_executor/cuda/cuda_blas.cc:219] failed to create cublas handle: the library was not initialized\n",
            "2023-06-25 01:32:01.674183: E tensorflow/compiler/xla/stream_executor/cuda/cuda_blas.cc:221] Failure to initialize cublas may be due to OOM (cublas needs some free memory when you initialize it, and your deep-learning framework may have preallocated more than its fair share), or may be because this binary was not built with support for the GPU in your machine.\n",
            "2023-06-25 01:32:01.674192: W tensorflow/core/framework/op_kernel.cc:1830] OP_REQUIRES failed at matmul_op_impl.h:622 : INTERNAL: Attempting to perform BLAS operation using StreamExecutor without BLAS support\n",
            "2023-06-25 01:32:01.678222: E tensorflow/compiler/xla/stream_executor/cuda/cuda_blas.cc:219] failed to create cublas handle: the library was not initialized\n",
            "2023-06-25 01:32:01.678242: E tensorflow/compiler/xla/stream_executor/cuda/cuda_blas.cc:221] Failure to initialize cublas may be due to OOM (cublas needs some free memory when you initialize it, and your deep-learning framework may have preallocated more than its fair share), or may be because this binary was not built with support for the GPU in your machine.\n",
            "2023-06-25 01:32:01.678252: W tensorflow/core/framework/op_kernel.cc:1830] OP_REQUIRES failed at matmul_op_impl.h:622 : INTERNAL: Attempting to perform BLAS operation using StreamExecutor without BLAS support\n",
            "2023-06-25 01:32:01.682328: E tensorflow/compiler/xla/stream_executor/cuda/cuda_blas.cc:219] failed to create cublas handle: the library was not initialized\n",
            "2023-06-25 01:32:01.682344: E tensorflow/compiler/xla/stream_executor/cuda/cuda_blas.cc:221] Failure to initialize cublas may be due to OOM (cublas needs some free memory when you initialize it, and your deep-learning framework may have preallocated more than its fair share), or may be because this binary was not built with support for the GPU in your machine.\n",
            "2023-06-25 01:32:01.682353: W tensorflow/core/framework/op_kernel.cc:1830] OP_REQUIRES failed at matmul_op_impl.h:622 : INTERNAL: Attempting to perform BLAS operation using StreamExecutor without BLAS support\n",
            "2023-06-25 01:32:01.686283: E tensorflow/compiler/xla/stream_executor/cuda/cuda_blas.cc:219] failed to create cublas handle: the library was not initialized\n",
            "2023-06-25 01:32:01.686299: E tensorflow/compiler/xla/stream_executor/cuda/cuda_blas.cc:221] Failure to initialize cublas may be due to OOM (cublas needs some free memory when you initialize it, and your deep-learning framework may have preallocated more than its fair share), or may be because this binary was not built with support for the GPU in your machine.\n",
            "2023-06-25 01:32:01.686308: W tensorflow/core/framework/op_kernel.cc:1830] OP_REQUIRES failed at matmul_op_impl.h:622 : INTERNAL: Attempting to perform BLAS operation using StreamExecutor without BLAS support\n",
            "2023-06-25 01:32:01.690181: E tensorflow/compiler/xla/stream_executor/cuda/cuda_blas.cc:219] failed to create cublas handle: the library was not initialized\n",
            "2023-06-25 01:32:01.690196: E tensorflow/compiler/xla/stream_executor/cuda/cuda_blas.cc:221] Failure to initialize cublas may be due to OOM (cublas needs some free memory when you initialize it, and your deep-learning framework may have preallocated more than its fair share), or may be because this binary was not built with support for the GPU in your machine.\n",
            "2023-06-25 01:32:01.690205: W tensorflow/core/framework/op_kernel.cc:1830] OP_REQUIRES failed at matmul_op_impl.h:622 : INTERNAL: Attempting to perform BLAS operation using StreamExecutor without BLAS support\n",
            "2023-06-25 01:32:01.694744: E tensorflow/compiler/xla/stream_executor/cuda/cuda_blas.cc:219] failed to create cublas handle: the library was not initialized\n",
            "2023-06-25 01:32:01.694762: E tensorflow/compiler/xla/stream_executor/cuda/cuda_blas.cc:221] Failure to initialize cublas may be due to OOM (cublas needs some free memory when you initialize it, and your deep-learning framework may have preallocated more than its fair share), or may be because this binary was not built with support for the GPU in your machine.\n",
            "2023-06-25 01:32:01.694771: W tensorflow/core/framework/op_kernel.cc:1830] OP_REQUIRES failed at matmul_op_impl.h:622 : INTERNAL: Attempting to perform BLAS operation using StreamExecutor without BLAS support\n",
            "2023-06-25 01:32:01.699296: E tensorflow/compiler/xla/stream_executor/cuda/cuda_blas.cc:219] failed to create cublas handle: the library was not initialized\n",
            "2023-06-25 01:32:01.699311: E tensorflow/compiler/xla/stream_executor/cuda/cuda_blas.cc:221] Failure to initialize cublas may be due to OOM (cublas needs some free memory when you initialize it, and your deep-learning framework may have preallocated more than its fair share), or may be because this binary was not built with support for the GPU in your machine.\n",
            "2023-06-25 01:32:01.699320: W tensorflow/core/framework/op_kernel.cc:1830] OP_REQUIRES failed at matmul_op_impl.h:622 : INTERNAL: Attempting to perform BLAS operation using StreamExecutor without BLAS support\n",
            "2023-06-25 01:32:01.703192: E tensorflow/compiler/xla/stream_executor/cuda/cuda_blas.cc:219] failed to create cublas handle: the library was not initialized\n",
            "2023-06-25 01:32:01.703208: E tensorflow/compiler/xla/stream_executor/cuda/cuda_blas.cc:221] Failure to initialize cublas may be due to OOM (cublas needs some free memory when you initialize it, and your deep-learning framework may have preallocated more than its fair share), or may be because this binary was not built with support for the GPU in your machine.\n",
            "2023-06-25 01:32:01.703217: W tensorflow/core/framework/op_kernel.cc:1830] OP_REQUIRES failed at matmul_op_impl.h:622 : INTERNAL: Attempting to perform BLAS operation using StreamExecutor without BLAS support\n",
            "2023-06-25 01:32:01.707254: E tensorflow/compiler/xla/stream_executor/cuda/cuda_blas.cc:219] failed to create cublas handle: the library was not initialized\n",
            "2023-06-25 01:32:01.707271: E tensorflow/compiler/xla/stream_executor/cuda/cuda_blas.cc:221] Failure to initialize cublas may be due to OOM (cublas needs some free memory when you initialize it, and your deep-learning framework may have preallocated more than its fair share), or may be because this binary was not built with support for the GPU in your machine.\n",
            "2023-06-25 01:32:01.707280: W tensorflow/core/framework/op_kernel.cc:1830] OP_REQUIRES failed at matmul_op_impl.h:622 : INTERNAL: Attempting to perform BLAS operation using StreamExecutor without BLAS support\n"
          ]
        },
        {
          "ename": "InternalError",
          "evalue": "Graph execution error:\n\nDetected at node 'model/layer_LSTM_1/while/lstm_cell/MatMul_6' defined at (most recent call last):\n    File \"/cvmfs/hpc.rug.nl/versions/2023.01/rocky8/x86_64/amd/zen3/software/Python/3.10.8-GCCcore-12.2.0/lib/python3.10/runpy.py\", line 196, in _run_module_as_main\n      return _run_code(code, main_globals, None,\n    File \"/cvmfs/hpc.rug.nl/versions/2023.01/rocky8/x86_64/amd/zen3/software/Python/3.10.8-GCCcore-12.2.0/lib/python3.10/runpy.py\", line 86, in _run_code\n      exec(code, run_globals)\n    File \"/home2/s3985113/venv/thesis/lib/python3.10/site-packages/ipykernel_launcher.py\", line 17, in <module>\n      app.launch_new_instance()\n    File \"/home2/s3985113/venv/thesis/lib/python3.10/site-packages/traitlets/config/application.py\", line 1043, in launch_instance\n      app.start()\n    File \"/home2/s3985113/venv/thesis/lib/python3.10/site-packages/ipykernel/kernelapp.py\", line 725, in start\n      self.io_loop.start()\n    File \"/home2/s3985113/venv/thesis/lib/python3.10/site-packages/tornado/platform/asyncio.py\", line 195, in start\n      self.asyncio_loop.run_forever()\n    File \"/cvmfs/hpc.rug.nl/versions/2023.01/rocky8/x86_64/amd/zen3/software/Python/3.10.8-GCCcore-12.2.0/lib/python3.10/asyncio/base_events.py\", line 603, in run_forever\n      self._run_once()\n    File \"/cvmfs/hpc.rug.nl/versions/2023.01/rocky8/x86_64/amd/zen3/software/Python/3.10.8-GCCcore-12.2.0/lib/python3.10/asyncio/base_events.py\", line 1899, in _run_once\n      handle._run()\n    File \"/cvmfs/hpc.rug.nl/versions/2023.01/rocky8/x86_64/amd/zen3/software/Python/3.10.8-GCCcore-12.2.0/lib/python3.10/asyncio/events.py\", line 80, in _run\n      self._context.run(self._callback, *self._args)\n    File \"/home2/s3985113/venv/thesis/lib/python3.10/site-packages/ipykernel/kernelbase.py\", line 513, in dispatch_queue\n      await self.process_one()\n    File \"/home2/s3985113/venv/thesis/lib/python3.10/site-packages/ipykernel/kernelbase.py\", line 502, in process_one\n      await dispatch(*args)\n    File \"/home2/s3985113/venv/thesis/lib/python3.10/site-packages/ipykernel/kernelbase.py\", line 409, in dispatch_shell\n      await result\n    File \"/home2/s3985113/venv/thesis/lib/python3.10/site-packages/ipykernel/kernelbase.py\", line 729, in execute_request\n      reply_content = await reply_content\n    File \"/home2/s3985113/venv/thesis/lib/python3.10/site-packages/ipykernel/ipkernel.py\", line 422, in do_execute\n      res = shell.run_cell(\n    File \"/home2/s3985113/venv/thesis/lib/python3.10/site-packages/ipykernel/zmqshell.py\", line 540, in run_cell\n      return super().run_cell(*args, **kwargs)\n    File \"/home2/s3985113/venv/thesis/lib/python3.10/site-packages/IPython/core/interactiveshell.py\", line 3009, in run_cell\n      result = self._run_cell(\n    File \"/home2/s3985113/venv/thesis/lib/python3.10/site-packages/IPython/core/interactiveshell.py\", line 3064, in _run_cell\n      result = runner(coro)\n    File \"/home2/s3985113/venv/thesis/lib/python3.10/site-packages/IPython/core/async_helpers.py\", line 129, in _pseudo_sync_runner\n      coro.send(None)\n    File \"/home2/s3985113/venv/thesis/lib/python3.10/site-packages/IPython/core/interactiveshell.py\", line 3269, in run_cell_async\n      has_raised = await self.run_ast_nodes(code_ast.body, cell_name,\n    File \"/home2/s3985113/venv/thesis/lib/python3.10/site-packages/IPython/core/interactiveshell.py\", line 3448, in run_ast_nodes\n      if await self.run_code(code, result, async_=asy):\n    File \"/home2/s3985113/venv/thesis/lib/python3.10/site-packages/IPython/core/interactiveshell.py\", line 3508, in run_code\n      exec(code_obj, self.user_global_ns, self.user_ns)\n    File \"/tmp/ipykernel_2656572/3579812215.py\", line 1, in <module>\n      setup_dl(\"LSTM\")\n    File \"/tmp/ipykernel_2656572/134251331.py\", line 62, in setup_dl\n      best_params = perform_bayesian_opt(objective_function)\n    File \"/tmp/ipykernel_2656572/134251331.py\", line 3, in perform_bayesian_opt\n      gbrt_result = gbrt_minimize(func=objective_function,\n    File \"/home2/s3985113/venv/thesis/lib/python3.10/site-packages/skopt/optimizer/gbrt.py\", line 179, in gbrt_minimize\n      return base_minimize(func, dimensions, base_estimator,\n    File \"/home2/s3985113/venv/thesis/lib/python3.10/site-packages/skopt/optimizer/base.py\", line 282, in base_minimize\n      y0 = list(map(func, x0))\n    File \"/home2/s3985113/venv/thesis/lib/python3.10/site-packages/skopt/utils.py\", line 789, in wrapper\n      objective_value = func(**arg_dict)\n    File \"/tmp/ipykernel_2656572/3060754909.py\", line 12, in objective_function\n      history = model.fit(x_train_encoded,\n    File \"/cvmfs/hpc.rug.nl/versions/2023.01/rocky8/x86_64/intel/icelake/software/TensorFlow/2.11.0-foss-2022a-CUDA-11.7.0/lib/python3.10/site-packages/keras/utils/traceback_utils.py\", line 65, in error_handler\n      return fn(*args, **kwargs)\n    File \"/cvmfs/hpc.rug.nl/versions/2023.01/rocky8/x86_64/intel/icelake/software/TensorFlow/2.11.0-foss-2022a-CUDA-11.7.0/lib/python3.10/site-packages/keras/engine/training.py\", line 1650, in fit\n      tmp_logs = self.train_function(iterator)\n    File \"/cvmfs/hpc.rug.nl/versions/2023.01/rocky8/x86_64/intel/icelake/software/TensorFlow/2.11.0-foss-2022a-CUDA-11.7.0/lib/python3.10/site-packages/keras/engine/training.py\", line 1249, in train_function\n      return step_function(self, iterator)\n    File \"/cvmfs/hpc.rug.nl/versions/2023.01/rocky8/x86_64/intel/icelake/software/TensorFlow/2.11.0-foss-2022a-CUDA-11.7.0/lib/python3.10/site-packages/keras/engine/training.py\", line 1233, in step_function\n      outputs = model.distribute_strategy.run(run_step, args=(data,))\n    File \"/cvmfs/hpc.rug.nl/versions/2023.01/rocky8/x86_64/intel/icelake/software/TensorFlow/2.11.0-foss-2022a-CUDA-11.7.0/lib/python3.10/site-packages/keras/engine/training.py\", line 1222, in run_step\n      outputs = model.train_step(data)\n    File \"/cvmfs/hpc.rug.nl/versions/2023.01/rocky8/x86_64/intel/icelake/software/TensorFlow/2.11.0-foss-2022a-CUDA-11.7.0/lib/python3.10/site-packages/keras/engine/training.py\", line 1023, in train_step\n      y_pred = self(x, training=True)\n    File \"/cvmfs/hpc.rug.nl/versions/2023.01/rocky8/x86_64/intel/icelake/software/TensorFlow/2.11.0-foss-2022a-CUDA-11.7.0/lib/python3.10/site-packages/keras/utils/traceback_utils.py\", line 65, in error_handler\n      return fn(*args, **kwargs)\n    File \"/cvmfs/hpc.rug.nl/versions/2023.01/rocky8/x86_64/intel/icelake/software/TensorFlow/2.11.0-foss-2022a-CUDA-11.7.0/lib/python3.10/site-packages/keras/engine/training.py\", line 561, in __call__\n      return super().__call__(*args, **kwargs)\n    File \"/cvmfs/hpc.rug.nl/versions/2023.01/rocky8/x86_64/intel/icelake/software/TensorFlow/2.11.0-foss-2022a-CUDA-11.7.0/lib/python3.10/site-packages/keras/utils/traceback_utils.py\", line 65, in error_handler\n      return fn(*args, **kwargs)\n    File \"/cvmfs/hpc.rug.nl/versions/2023.01/rocky8/x86_64/intel/icelake/software/TensorFlow/2.11.0-foss-2022a-CUDA-11.7.0/lib/python3.10/site-packages/keras/engine/base_layer.py\", line 1132, in __call__\n      outputs = call_fn(inputs, *args, **kwargs)\n    File \"/cvmfs/hpc.rug.nl/versions/2023.01/rocky8/x86_64/intel/icelake/software/TensorFlow/2.11.0-foss-2022a-CUDA-11.7.0/lib/python3.10/site-packages/keras/utils/traceback_utils.py\", line 96, in error_handler\n      return fn(*args, **kwargs)\n    File \"/cvmfs/hpc.rug.nl/versions/2023.01/rocky8/x86_64/intel/icelake/software/TensorFlow/2.11.0-foss-2022a-CUDA-11.7.0/lib/python3.10/site-packages/keras/engine/functional.py\", line 511, in call\n      return self._run_internal_graph(inputs, training=training, mask=mask)\n    File \"/cvmfs/hpc.rug.nl/versions/2023.01/rocky8/x86_64/intel/icelake/software/TensorFlow/2.11.0-foss-2022a-CUDA-11.7.0/lib/python3.10/site-packages/keras/engine/functional.py\", line 668, in _run_internal_graph\n      outputs = node.layer(*args, **kwargs)\n    File \"/cvmfs/hpc.rug.nl/versions/2023.01/rocky8/x86_64/intel/icelake/software/TensorFlow/2.11.0-foss-2022a-CUDA-11.7.0/lib/python3.10/site-packages/keras/layers/rnn/base_rnn.py\", line 556, in __call__\n      return super().__call__(inputs, **kwargs)\n    File \"/cvmfs/hpc.rug.nl/versions/2023.01/rocky8/x86_64/intel/icelake/software/TensorFlow/2.11.0-foss-2022a-CUDA-11.7.0/lib/python3.10/site-packages/keras/utils/traceback_utils.py\", line 65, in error_handler\n      return fn(*args, **kwargs)\n    File \"/cvmfs/hpc.rug.nl/versions/2023.01/rocky8/x86_64/intel/icelake/software/TensorFlow/2.11.0-foss-2022a-CUDA-11.7.0/lib/python3.10/site-packages/keras/engine/base_layer.py\", line 1132, in __call__\n      outputs = call_fn(inputs, *args, **kwargs)\n    File \"/cvmfs/hpc.rug.nl/versions/2023.01/rocky8/x86_64/intel/icelake/software/TensorFlow/2.11.0-foss-2022a-CUDA-11.7.0/lib/python3.10/site-packages/keras/utils/traceback_utils.py\", line 96, in error_handler\n      return fn(*args, **kwargs)\n    File \"/cvmfs/hpc.rug.nl/versions/2023.01/rocky8/x86_64/intel/icelake/software/TensorFlow/2.11.0-foss-2022a-CUDA-11.7.0/lib/python3.10/site-packages/keras/layers/rnn/lstm.py\", line 625, in call\n      last_output, outputs, states = backend.rnn(\n    File \"/cvmfs/hpc.rug.nl/versions/2023.01/rocky8/x86_64/intel/icelake/software/TensorFlow/2.11.0-foss-2022a-CUDA-11.7.0/lib/python3.10/site-packages/keras/backend.py\", line 5142, in rnn\n      final_outputs = tf.compat.v1.while_loop(\n    File \"/cvmfs/hpc.rug.nl/versions/2023.01/rocky8/x86_64/intel/icelake/software/TensorFlow/2.11.0-foss-2022a-CUDA-11.7.0/lib/python3.10/site-packages/keras/backend.py\", line 5121, in _step\n      output, new_states = step_function(\n    File \"/cvmfs/hpc.rug.nl/versions/2023.01/rocky8/x86_64/intel/icelake/software/TensorFlow/2.11.0-foss-2022a-CUDA-11.7.0/lib/python3.10/site-packages/keras/layers/rnn/lstm.py\", line 623, in step\n      return self.cell(inputs, states, **kwargs)\n    File \"/cvmfs/hpc.rug.nl/versions/2023.01/rocky8/x86_64/intel/icelake/software/TensorFlow/2.11.0-foss-2022a-CUDA-11.7.0/lib/python3.10/site-packages/keras/utils/traceback_utils.py\", line 65, in error_handler\n      return fn(*args, **kwargs)\n    File \"/cvmfs/hpc.rug.nl/versions/2023.01/rocky8/x86_64/intel/icelake/software/TensorFlow/2.11.0-foss-2022a-CUDA-11.7.0/lib/python3.10/site-packages/keras/engine/base_layer.py\", line 1132, in __call__\n      outputs = call_fn(inputs, *args, **kwargs)\n    File \"/cvmfs/hpc.rug.nl/versions/2023.01/rocky8/x86_64/intel/icelake/software/TensorFlow/2.11.0-foss-2022a-CUDA-11.7.0/lib/python3.10/site-packages/keras/utils/traceback_utils.py\", line 96, in error_handler\n      return fn(*args, **kwargs)\n    File \"/cvmfs/hpc.rug.nl/versions/2023.01/rocky8/x86_64/intel/icelake/software/TensorFlow/2.11.0-foss-2022a-CUDA-11.7.0/lib/python3.10/site-packages/keras/layers/rnn/lstm.py\", line 323, in call\n      c, o = self._compute_carry_and_output(x, h_tm1, c_tm1)\n    File \"/cvmfs/hpc.rug.nl/versions/2023.01/rocky8/x86_64/intel/icelake/software/TensorFlow/2.11.0-foss-2022a-CUDA-11.7.0/lib/python3.10/site-packages/keras/layers/rnn/lstm.py\", line 255, in _compute_carry_and_output\n      + backend.dot(\n    File \"/cvmfs/hpc.rug.nl/versions/2023.01/rocky8/x86_64/intel/icelake/software/TensorFlow/2.11.0-foss-2022a-CUDA-11.7.0/lib/python3.10/site-packages/keras/backend.py\", line 2455, in dot\n      out = tf.matmul(x, y)\nNode: 'model/layer_LSTM_1/while/lstm_cell/MatMul_6'\nAttempting to perform BLAS operation using StreamExecutor without BLAS support\n\t [[{{node model/layer_LSTM_1/while/lstm_cell/MatMul_6}}]] [Op:__inference_train_function_3977]",
          "output_type": "error",
          "traceback": [
            "\u001b[0;31m---------------------------------------------------------------------------\u001b[0m",
            "\u001b[0;31mInternalError\u001b[0m                             Traceback (most recent call last)",
            "Cell \u001b[0;32mIn[11], line 1\u001b[0m\n\u001b[0;32m----> 1\u001b[0m setup_dl(\u001b[39m\"\u001b[39;49m\u001b[39mLSTM\u001b[39;49m\u001b[39m\"\u001b[39;49m)\n",
            "Cell \u001b[0;32mIn[10], line 62\u001b[0m, in \u001b[0;36msetup_dl\u001b[0;34m(model_name)\u001b[0m\n\u001b[1;32m     59\u001b[0m \u001b[39melse\u001b[39;00m:\n\u001b[1;32m     60\u001b[0m     objective_function \u001b[39m=\u001b[39m get_objective_function(GRU)\n\u001b[0;32m---> 62\u001b[0m best_params \u001b[39m=\u001b[39m perform_bayesian_opt(objective_function)\n\u001b[1;32m     64\u001b[0m \u001b[39m# Fit best model\u001b[39;00m\n\u001b[1;32m     65\u001b[0m model \u001b[39m=\u001b[39m define_model(best_params[\u001b[39m'\u001b[39m\u001b[39mnum_layers\u001b[39m\u001b[39m'\u001b[39m],\n\u001b[1;32m     66\u001b[0m                      best_params[\u001b[39m'\u001b[39m\u001b[39mnum_units\u001b[39m\u001b[39m'\u001b[39m],\n\u001b[1;32m     67\u001b[0m                      best_params[\u001b[39m'\u001b[39m\u001b[39mlearning_rate\u001b[39m\u001b[39m'\u001b[39m],\n\u001b[1;32m     68\u001b[0m                      LSTM \u001b[39mif\u001b[39;00m model_name \u001b[39m==\u001b[39m \u001b[39m\"\u001b[39m\u001b[39mLSTM\u001b[39m\u001b[39m\"\u001b[39m \u001b[39melse\u001b[39;00m GRU)\n",
            "Cell \u001b[0;32mIn[10], line 3\u001b[0m, in \u001b[0;36mperform_bayesian_opt\u001b[0;34m(objective_function)\u001b[0m\n\u001b[1;32m      1\u001b[0m \u001b[39mdef\u001b[39;00m \u001b[39mperform_bayesian_opt\u001b[39m(objective_function):\n\u001b[1;32m      2\u001b[0m     \u001b[39m# Perform Bayesian Optimization\u001b[39;00m\n\u001b[0;32m----> 3\u001b[0m     gbrt_result \u001b[39m=\u001b[39m gbrt_minimize(func\u001b[39m=\u001b[39;49mobjective_function,\n\u001b[1;32m      4\u001b[0m                                 dimensions\u001b[39m=\u001b[39;49msearch_space,\n\u001b[1;32m      5\u001b[0m                                 n_calls\u001b[39m=\u001b[39;49m\u001b[39m12\u001b[39;49m,\n\u001b[1;32m      6\u001b[0m                                 n_jobs\u001b[39m=\u001b[39;49m\u001b[39m-\u001b[39;49m\u001b[39m1\u001b[39;49m,\n\u001b[1;32m      7\u001b[0m                                 x0\u001b[39m=\u001b[39;49mdefault_params)\n\u001b[1;32m      9\u001b[0m     gbrt_best_params \u001b[39m=\u001b[39m {param\u001b[39m.\u001b[39mname: value \u001b[39mfor\u001b[39;00m param, value \u001b[39min\u001b[39;00m \u001b[39mzip\u001b[39m(gbrt_result\u001b[39m.\u001b[39mspace, gbrt_result\u001b[39m.\u001b[39mx)}\n\u001b[1;32m     10\u001b[0m     \u001b[39mprint\u001b[39m(\u001b[39m\"\u001b[39m\u001b[39mBest Hyperparameters:\u001b[39m\u001b[39m\"\u001b[39m, gbrt_best_params)\n",
            "File \u001b[0;32m~/venv/thesis/lib/python3.10/site-packages/skopt/optimizer/gbrt.py:179\u001b[0m, in \u001b[0;36mgbrt_minimize\u001b[0;34m(func, dimensions, base_estimator, n_calls, n_random_starts, n_initial_points, initial_point_generator, acq_func, acq_optimizer, x0, y0, random_state, verbose, callback, n_points, xi, kappa, n_jobs, model_queue_size)\u001b[0m\n\u001b[1;32m    176\u001b[0m \u001b[39mif\u001b[39;00m base_estimator \u001b[39mis\u001b[39;00m \u001b[39mNone\u001b[39;00m:\n\u001b[1;32m    177\u001b[0m     base_estimator \u001b[39m=\u001b[39m cook_estimator(\u001b[39m\"\u001b[39m\u001b[39mGBRT\u001b[39m\u001b[39m\"\u001b[39m, random_state\u001b[39m=\u001b[39mrng,\n\u001b[1;32m    178\u001b[0m                                     n_jobs\u001b[39m=\u001b[39mn_jobs)\n\u001b[0;32m--> 179\u001b[0m \u001b[39mreturn\u001b[39;00m base_minimize(func, dimensions, base_estimator,\n\u001b[1;32m    180\u001b[0m                      n_calls\u001b[39m=\u001b[39;49mn_calls, n_points\u001b[39m=\u001b[39;49mn_points,\n\u001b[1;32m    181\u001b[0m                      n_random_starts\u001b[39m=\u001b[39;49mn_random_starts,\n\u001b[1;32m    182\u001b[0m                      n_initial_points\u001b[39m=\u001b[39;49mn_initial_points,\n\u001b[1;32m    183\u001b[0m                      initial_point_generator\u001b[39m=\u001b[39;49minitial_point_generator,\n\u001b[1;32m    184\u001b[0m                      x0\u001b[39m=\u001b[39;49mx0, y0\u001b[39m=\u001b[39;49my0, random_state\u001b[39m=\u001b[39;49mrandom_state, xi\u001b[39m=\u001b[39;49mxi,\n\u001b[1;32m    185\u001b[0m                      kappa\u001b[39m=\u001b[39;49mkappa, acq_func\u001b[39m=\u001b[39;49macq_func, verbose\u001b[39m=\u001b[39;49mverbose,\n\u001b[1;32m    186\u001b[0m                      callback\u001b[39m=\u001b[39;49mcallback, acq_optimizer\u001b[39m=\u001b[39;49m\u001b[39m\"\u001b[39;49m\u001b[39msampling\u001b[39;49m\u001b[39m\"\u001b[39;49m,\n\u001b[1;32m    187\u001b[0m                      model_queue_size\u001b[39m=\u001b[39;49mmodel_queue_size)\n",
            "File \u001b[0;32m~/venv/thesis/lib/python3.10/site-packages/skopt/optimizer/base.py:282\u001b[0m, in \u001b[0;36mbase_minimize\u001b[0;34m(func, dimensions, base_estimator, n_calls, n_random_starts, n_initial_points, initial_point_generator, acq_func, acq_optimizer, x0, y0, random_state, verbose, callback, n_points, n_restarts_optimizer, xi, kappa, n_jobs, model_queue_size)\u001b[0m\n\u001b[1;32m    280\u001b[0m \u001b[39m# evaluate y0 if only x0 is provided\u001b[39;00m\n\u001b[1;32m    281\u001b[0m \u001b[39mif\u001b[39;00m x0 \u001b[39mand\u001b[39;00m y0 \u001b[39mis\u001b[39;00m \u001b[39mNone\u001b[39;00m:\n\u001b[0;32m--> 282\u001b[0m     y0 \u001b[39m=\u001b[39m \u001b[39mlist\u001b[39;49m(\u001b[39mmap\u001b[39;49m(func, x0))\n\u001b[1;32m    283\u001b[0m     n_calls \u001b[39m-\u001b[39m\u001b[39m=\u001b[39m \u001b[39mlen\u001b[39m(y0)\n\u001b[1;32m    284\u001b[0m \u001b[39m# record through tell function\u001b[39;00m\n",
            "File \u001b[0;32m~/venv/thesis/lib/python3.10/site-packages/skopt/utils.py:789\u001b[0m, in \u001b[0;36muse_named_args.<locals>.decorator.<locals>.wrapper\u001b[0;34m(x)\u001b[0m\n\u001b[1;32m    786\u001b[0m arg_dict \u001b[39m=\u001b[39m {dim\u001b[39m.\u001b[39mname: value \u001b[39mfor\u001b[39;00m dim, value \u001b[39min\u001b[39;00m \u001b[39mzip\u001b[39m(dimensions, x)}\n\u001b[1;32m    788\u001b[0m \u001b[39m# Call the wrapped objective function with the named arguments.\u001b[39;00m\n\u001b[0;32m--> 789\u001b[0m objective_value \u001b[39m=\u001b[39m func(\u001b[39m*\u001b[39;49m\u001b[39m*\u001b[39;49marg_dict)\n\u001b[1;32m    791\u001b[0m \u001b[39mreturn\u001b[39;00m objective_value\n",
            "Cell \u001b[0;32mIn[9], line 12\u001b[0m, in \u001b[0;36mget_objective_function.<locals>.objective_function\u001b[0;34m(num_layers, num_units, learning_rate)\u001b[0m\n\u001b[1;32m      5\u001b[0m model \u001b[39m=\u001b[39m define_model(num_layers\u001b[39m=\u001b[39mnum_layers,\n\u001b[1;32m      6\u001b[0m                     num_units\u001b[39m=\u001b[39mnum_units,\n\u001b[1;32m      7\u001b[0m                     learning_rate\u001b[39m=\u001b[39mlearning_rate,\n\u001b[1;32m      8\u001b[0m                     layer_type\u001b[39m=\u001b[39mlayer_type\n\u001b[1;32m      9\u001b[0m                     )\n\u001b[1;32m     11\u001b[0m early_stopping \u001b[39m=\u001b[39m EarlyStopping(monitor\u001b[39m=\u001b[39m\u001b[39m'\u001b[39m\u001b[39mval_loss\u001b[39m\u001b[39m'\u001b[39m, patience\u001b[39m=\u001b[39m\u001b[39m3\u001b[39m, restore_best_weights\u001b[39m=\u001b[39m\u001b[39mTrue\u001b[39;00m)\n\u001b[0;32m---> 12\u001b[0m history \u001b[39m=\u001b[39m model\u001b[39m.\u001b[39;49mfit(x_train_encoded,\n\u001b[1;32m     13\u001b[0m                     y_train_encoded,\n\u001b[1;32m     14\u001b[0m                     validation_data\u001b[39m=\u001b[39;49m(x_val_encoded, y_val_encoded),\n\u001b[1;32m     15\u001b[0m                     epochs\u001b[39m=\u001b[39;49mepochs,\n\u001b[1;32m     16\u001b[0m                     batch_size\u001b[39m=\u001b[39;49mbatch_size,\n\u001b[1;32m     17\u001b[0m                     callbacks\u001b[39m=\u001b[39;49m[early_stopping],\n\u001b[1;32m     18\u001b[0m                     verbose\u001b[39m=\u001b[39;49m\u001b[39m2\u001b[39;49m\n\u001b[1;32m     19\u001b[0m                     )\n\u001b[1;32m     20\u001b[0m \u001b[39m# Return the validation accuracy for the last epoch.\u001b[39;00m\n\u001b[1;32m     21\u001b[0m accuracy \u001b[39m=\u001b[39m history\u001b[39m.\u001b[39mhistory[\u001b[39m'\u001b[39m\u001b[39mval_accuracy\u001b[39m\u001b[39m'\u001b[39m][\u001b[39m-\u001b[39m\u001b[39m1\u001b[39m]\n",
            "File \u001b[0;32m/cvmfs/hpc.rug.nl/versions/2023.01/rocky8/x86_64/intel/icelake/software/TensorFlow/2.11.0-foss-2022a-CUDA-11.7.0/lib/python3.10/site-packages/keras/utils/traceback_utils.py:70\u001b[0m, in \u001b[0;36mfilter_traceback.<locals>.error_handler\u001b[0;34m(*args, **kwargs)\u001b[0m\n\u001b[1;32m     67\u001b[0m     filtered_tb \u001b[39m=\u001b[39m _process_traceback_frames(e\u001b[39m.\u001b[39m__traceback__)\n\u001b[1;32m     68\u001b[0m     \u001b[39m# To get the full stack trace, call:\u001b[39;00m\n\u001b[1;32m     69\u001b[0m     \u001b[39m# `tf.debugging.disable_traceback_filtering()`\u001b[39;00m\n\u001b[0;32m---> 70\u001b[0m     \u001b[39mraise\u001b[39;00m e\u001b[39m.\u001b[39mwith_traceback(filtered_tb) \u001b[39mfrom\u001b[39;00m \u001b[39mNone\u001b[39;00m\n\u001b[1;32m     71\u001b[0m \u001b[39mfinally\u001b[39;00m:\n\u001b[1;32m     72\u001b[0m     \u001b[39mdel\u001b[39;00m filtered_tb\n",
            "File \u001b[0;32m/cvmfs/hpc.rug.nl/versions/2023.01/rocky8/x86_64/intel/icelake/software/TensorFlow/2.11.0-foss-2022a-CUDA-11.7.0/lib/python3.10/site-packages/tensorflow/python/eager/execute.py:52\u001b[0m, in \u001b[0;36mquick_execute\u001b[0;34m(op_name, num_outputs, inputs, attrs, ctx, name)\u001b[0m\n\u001b[1;32m     50\u001b[0m \u001b[39mtry\u001b[39;00m:\n\u001b[1;32m     51\u001b[0m   ctx\u001b[39m.\u001b[39mensure_initialized()\n\u001b[0;32m---> 52\u001b[0m   tensors \u001b[39m=\u001b[39m pywrap_tfe\u001b[39m.\u001b[39mTFE_Py_Execute(ctx\u001b[39m.\u001b[39m_handle, device_name, op_name,\n\u001b[1;32m     53\u001b[0m                                       inputs, attrs, num_outputs)\n\u001b[1;32m     54\u001b[0m \u001b[39mexcept\u001b[39;00m core\u001b[39m.\u001b[39m_NotOkStatusException \u001b[39mas\u001b[39;00m e:\n\u001b[1;32m     55\u001b[0m   \u001b[39mif\u001b[39;00m name \u001b[39mis\u001b[39;00m \u001b[39mnot\u001b[39;00m \u001b[39mNone\u001b[39;00m:\n",
            "\u001b[0;31mInternalError\u001b[0m: Graph execution error:\n\nDetected at node 'model/layer_LSTM_1/while/lstm_cell/MatMul_6' defined at (most recent call last):\n    File \"/cvmfs/hpc.rug.nl/versions/2023.01/rocky8/x86_64/amd/zen3/software/Python/3.10.8-GCCcore-12.2.0/lib/python3.10/runpy.py\", line 196, in _run_module_as_main\n      return _run_code(code, main_globals, None,\n    File \"/cvmfs/hpc.rug.nl/versions/2023.01/rocky8/x86_64/amd/zen3/software/Python/3.10.8-GCCcore-12.2.0/lib/python3.10/runpy.py\", line 86, in _run_code\n      exec(code, run_globals)\n    File \"/home2/s3985113/venv/thesis/lib/python3.10/site-packages/ipykernel_launcher.py\", line 17, in <module>\n      app.launch_new_instance()\n    File \"/home2/s3985113/venv/thesis/lib/python3.10/site-packages/traitlets/config/application.py\", line 1043, in launch_instance\n      app.start()\n    File \"/home2/s3985113/venv/thesis/lib/python3.10/site-packages/ipykernel/kernelapp.py\", line 725, in start\n      self.io_loop.start()\n    File \"/home2/s3985113/venv/thesis/lib/python3.10/site-packages/tornado/platform/asyncio.py\", line 195, in start\n      self.asyncio_loop.run_forever()\n    File \"/cvmfs/hpc.rug.nl/versions/2023.01/rocky8/x86_64/amd/zen3/software/Python/3.10.8-GCCcore-12.2.0/lib/python3.10/asyncio/base_events.py\", line 603, in run_forever\n      self._run_once()\n    File \"/cvmfs/hpc.rug.nl/versions/2023.01/rocky8/x86_64/amd/zen3/software/Python/3.10.8-GCCcore-12.2.0/lib/python3.10/asyncio/base_events.py\", line 1899, in _run_once\n      handle._run()\n    File \"/cvmfs/hpc.rug.nl/versions/2023.01/rocky8/x86_64/amd/zen3/software/Python/3.10.8-GCCcore-12.2.0/lib/python3.10/asyncio/events.py\", line 80, in _run\n      self._context.run(self._callback, *self._args)\n    File \"/home2/s3985113/venv/thesis/lib/python3.10/site-packages/ipykernel/kernelbase.py\", line 513, in dispatch_queue\n      await self.process_one()\n    File \"/home2/s3985113/venv/thesis/lib/python3.10/site-packages/ipykernel/kernelbase.py\", line 502, in process_one\n      await dispatch(*args)\n    File \"/home2/s3985113/venv/thesis/lib/python3.10/site-packages/ipykernel/kernelbase.py\", line 409, in dispatch_shell\n      await result\n    File \"/home2/s3985113/venv/thesis/lib/python3.10/site-packages/ipykernel/kernelbase.py\", line 729, in execute_request\n      reply_content = await reply_content\n    File \"/home2/s3985113/venv/thesis/lib/python3.10/site-packages/ipykernel/ipkernel.py\", line 422, in do_execute\n      res = shell.run_cell(\n    File \"/home2/s3985113/venv/thesis/lib/python3.10/site-packages/ipykernel/zmqshell.py\", line 540, in run_cell\n      return super().run_cell(*args, **kwargs)\n    File \"/home2/s3985113/venv/thesis/lib/python3.10/site-packages/IPython/core/interactiveshell.py\", line 3009, in run_cell\n      result = self._run_cell(\n    File \"/home2/s3985113/venv/thesis/lib/python3.10/site-packages/IPython/core/interactiveshell.py\", line 3064, in _run_cell\n      result = runner(coro)\n    File \"/home2/s3985113/venv/thesis/lib/python3.10/site-packages/IPython/core/async_helpers.py\", line 129, in _pseudo_sync_runner\n      coro.send(None)\n    File \"/home2/s3985113/venv/thesis/lib/python3.10/site-packages/IPython/core/interactiveshell.py\", line 3269, in run_cell_async\n      has_raised = await self.run_ast_nodes(code_ast.body, cell_name,\n    File \"/home2/s3985113/venv/thesis/lib/python3.10/site-packages/IPython/core/interactiveshell.py\", line 3448, in run_ast_nodes\n      if await self.run_code(code, result, async_=asy):\n    File \"/home2/s3985113/venv/thesis/lib/python3.10/site-packages/IPython/core/interactiveshell.py\", line 3508, in run_code\n      exec(code_obj, self.user_global_ns, self.user_ns)\n    File \"/tmp/ipykernel_2656572/3579812215.py\", line 1, in <module>\n      setup_dl(\"LSTM\")\n    File \"/tmp/ipykernel_2656572/134251331.py\", line 62, in setup_dl\n      best_params = perform_bayesian_opt(objective_function)\n    File \"/tmp/ipykernel_2656572/134251331.py\", line 3, in perform_bayesian_opt\n      gbrt_result = gbrt_minimize(func=objective_function,\n    File \"/home2/s3985113/venv/thesis/lib/python3.10/site-packages/skopt/optimizer/gbrt.py\", line 179, in gbrt_minimize\n      return base_minimize(func, dimensions, base_estimator,\n    File \"/home2/s3985113/venv/thesis/lib/python3.10/site-packages/skopt/optimizer/base.py\", line 282, in base_minimize\n      y0 = list(map(func, x0))\n    File \"/home2/s3985113/venv/thesis/lib/python3.10/site-packages/skopt/utils.py\", line 789, in wrapper\n      objective_value = func(**arg_dict)\n    File \"/tmp/ipykernel_2656572/3060754909.py\", line 12, in objective_function\n      history = model.fit(x_train_encoded,\n    File \"/cvmfs/hpc.rug.nl/versions/2023.01/rocky8/x86_64/intel/icelake/software/TensorFlow/2.11.0-foss-2022a-CUDA-11.7.0/lib/python3.10/site-packages/keras/utils/traceback_utils.py\", line 65, in error_handler\n      return fn(*args, **kwargs)\n    File \"/cvmfs/hpc.rug.nl/versions/2023.01/rocky8/x86_64/intel/icelake/software/TensorFlow/2.11.0-foss-2022a-CUDA-11.7.0/lib/python3.10/site-packages/keras/engine/training.py\", line 1650, in fit\n      tmp_logs = self.train_function(iterator)\n    File \"/cvmfs/hpc.rug.nl/versions/2023.01/rocky8/x86_64/intel/icelake/software/TensorFlow/2.11.0-foss-2022a-CUDA-11.7.0/lib/python3.10/site-packages/keras/engine/training.py\", line 1249, in train_function\n      return step_function(self, iterator)\n    File \"/cvmfs/hpc.rug.nl/versions/2023.01/rocky8/x86_64/intel/icelake/software/TensorFlow/2.11.0-foss-2022a-CUDA-11.7.0/lib/python3.10/site-packages/keras/engine/training.py\", line 1233, in step_function\n      outputs = model.distribute_strategy.run(run_step, args=(data,))\n    File \"/cvmfs/hpc.rug.nl/versions/2023.01/rocky8/x86_64/intel/icelake/software/TensorFlow/2.11.0-foss-2022a-CUDA-11.7.0/lib/python3.10/site-packages/keras/engine/training.py\", line 1222, in run_step\n      outputs = model.train_step(data)\n    File \"/cvmfs/hpc.rug.nl/versions/2023.01/rocky8/x86_64/intel/icelake/software/TensorFlow/2.11.0-foss-2022a-CUDA-11.7.0/lib/python3.10/site-packages/keras/engine/training.py\", line 1023, in train_step\n      y_pred = self(x, training=True)\n    File \"/cvmfs/hpc.rug.nl/versions/2023.01/rocky8/x86_64/intel/icelake/software/TensorFlow/2.11.0-foss-2022a-CUDA-11.7.0/lib/python3.10/site-packages/keras/utils/traceback_utils.py\", line 65, in error_handler\n      return fn(*args, **kwargs)\n    File \"/cvmfs/hpc.rug.nl/versions/2023.01/rocky8/x86_64/intel/icelake/software/TensorFlow/2.11.0-foss-2022a-CUDA-11.7.0/lib/python3.10/site-packages/keras/engine/training.py\", line 561, in __call__\n      return super().__call__(*args, **kwargs)\n    File \"/cvmfs/hpc.rug.nl/versions/2023.01/rocky8/x86_64/intel/icelake/software/TensorFlow/2.11.0-foss-2022a-CUDA-11.7.0/lib/python3.10/site-packages/keras/utils/traceback_utils.py\", line 65, in error_handler\n      return fn(*args, **kwargs)\n    File \"/cvmfs/hpc.rug.nl/versions/2023.01/rocky8/x86_64/intel/icelake/software/TensorFlow/2.11.0-foss-2022a-CUDA-11.7.0/lib/python3.10/site-packages/keras/engine/base_layer.py\", line 1132, in __call__\n      outputs = call_fn(inputs, *args, **kwargs)\n    File \"/cvmfs/hpc.rug.nl/versions/2023.01/rocky8/x86_64/intel/icelake/software/TensorFlow/2.11.0-foss-2022a-CUDA-11.7.0/lib/python3.10/site-packages/keras/utils/traceback_utils.py\", line 96, in error_handler\n      return fn(*args, **kwargs)\n    File \"/cvmfs/hpc.rug.nl/versions/2023.01/rocky8/x86_64/intel/icelake/software/TensorFlow/2.11.0-foss-2022a-CUDA-11.7.0/lib/python3.10/site-packages/keras/engine/functional.py\", line 511, in call\n      return self._run_internal_graph(inputs, training=training, mask=mask)\n    File \"/cvmfs/hpc.rug.nl/versions/2023.01/rocky8/x86_64/intel/icelake/software/TensorFlow/2.11.0-foss-2022a-CUDA-11.7.0/lib/python3.10/site-packages/keras/engine/functional.py\", line 668, in _run_internal_graph\n      outputs = node.layer(*args, **kwargs)\n    File \"/cvmfs/hpc.rug.nl/versions/2023.01/rocky8/x86_64/intel/icelake/software/TensorFlow/2.11.0-foss-2022a-CUDA-11.7.0/lib/python3.10/site-packages/keras/layers/rnn/base_rnn.py\", line 556, in __call__\n      return super().__call__(inputs, **kwargs)\n    File \"/cvmfs/hpc.rug.nl/versions/2023.01/rocky8/x86_64/intel/icelake/software/TensorFlow/2.11.0-foss-2022a-CUDA-11.7.0/lib/python3.10/site-packages/keras/utils/traceback_utils.py\", line 65, in error_handler\n      return fn(*args, **kwargs)\n    File \"/cvmfs/hpc.rug.nl/versions/2023.01/rocky8/x86_64/intel/icelake/software/TensorFlow/2.11.0-foss-2022a-CUDA-11.7.0/lib/python3.10/site-packages/keras/engine/base_layer.py\", line 1132, in __call__\n      outputs = call_fn(inputs, *args, **kwargs)\n    File \"/cvmfs/hpc.rug.nl/versions/2023.01/rocky8/x86_64/intel/icelake/software/TensorFlow/2.11.0-foss-2022a-CUDA-11.7.0/lib/python3.10/site-packages/keras/utils/traceback_utils.py\", line 96, in error_handler\n      return fn(*args, **kwargs)\n    File \"/cvmfs/hpc.rug.nl/versions/2023.01/rocky8/x86_64/intel/icelake/software/TensorFlow/2.11.0-foss-2022a-CUDA-11.7.0/lib/python3.10/site-packages/keras/layers/rnn/lstm.py\", line 625, in call\n      last_output, outputs, states = backend.rnn(\n    File \"/cvmfs/hpc.rug.nl/versions/2023.01/rocky8/x86_64/intel/icelake/software/TensorFlow/2.11.0-foss-2022a-CUDA-11.7.0/lib/python3.10/site-packages/keras/backend.py\", line 5142, in rnn\n      final_outputs = tf.compat.v1.while_loop(\n    File \"/cvmfs/hpc.rug.nl/versions/2023.01/rocky8/x86_64/intel/icelake/software/TensorFlow/2.11.0-foss-2022a-CUDA-11.7.0/lib/python3.10/site-packages/keras/backend.py\", line 5121, in _step\n      output, new_states = step_function(\n    File \"/cvmfs/hpc.rug.nl/versions/2023.01/rocky8/x86_64/intel/icelake/software/TensorFlow/2.11.0-foss-2022a-CUDA-11.7.0/lib/python3.10/site-packages/keras/layers/rnn/lstm.py\", line 623, in step\n      return self.cell(inputs, states, **kwargs)\n    File \"/cvmfs/hpc.rug.nl/versions/2023.01/rocky8/x86_64/intel/icelake/software/TensorFlow/2.11.0-foss-2022a-CUDA-11.7.0/lib/python3.10/site-packages/keras/utils/traceback_utils.py\", line 65, in error_handler\n      return fn(*args, **kwargs)\n    File \"/cvmfs/hpc.rug.nl/versions/2023.01/rocky8/x86_64/intel/icelake/software/TensorFlow/2.11.0-foss-2022a-CUDA-11.7.0/lib/python3.10/site-packages/keras/engine/base_layer.py\", line 1132, in __call__\n      outputs = call_fn(inputs, *args, **kwargs)\n    File \"/cvmfs/hpc.rug.nl/versions/2023.01/rocky8/x86_64/intel/icelake/software/TensorFlow/2.11.0-foss-2022a-CUDA-11.7.0/lib/python3.10/site-packages/keras/utils/traceback_utils.py\", line 96, in error_handler\n      return fn(*args, **kwargs)\n    File \"/cvmfs/hpc.rug.nl/versions/2023.01/rocky8/x86_64/intel/icelake/software/TensorFlow/2.11.0-foss-2022a-CUDA-11.7.0/lib/python3.10/site-packages/keras/layers/rnn/lstm.py\", line 323, in call\n      c, o = self._compute_carry_and_output(x, h_tm1, c_tm1)\n    File \"/cvmfs/hpc.rug.nl/versions/2023.01/rocky8/x86_64/intel/icelake/software/TensorFlow/2.11.0-foss-2022a-CUDA-11.7.0/lib/python3.10/site-packages/keras/layers/rnn/lstm.py\", line 255, in _compute_carry_and_output\n      + backend.dot(\n    File \"/cvmfs/hpc.rug.nl/versions/2023.01/rocky8/x86_64/intel/icelake/software/TensorFlow/2.11.0-foss-2022a-CUDA-11.7.0/lib/python3.10/site-packages/keras/backend.py\", line 2455, in dot\n      out = tf.matmul(x, y)\nNode: 'model/layer_LSTM_1/while/lstm_cell/MatMul_6'\nAttempting to perform BLAS operation using StreamExecutor without BLAS support\n\t [[{{node model/layer_LSTM_1/while/lstm_cell/MatMul_6}}]] [Op:__inference_train_function_3977]"
          ]
        }
      ],
      "source": [
        "setup_dl(\"LSTM\")"
      ]
    },
    {
      "cell_type": "code",
      "execution_count": null,
      "metadata": {},
      "outputs": [],
      "source": [
        "setup_dl(\"GRU\")"
      ]
    }
  ],
  "metadata": {
    "accelerator": "GPU",
    "colab": {
      "gpuType": "T4",
      "include_colab_link": true,
      "provenance": [],
      "toc_visible": true
    },
    "kernelspec": {
      "display_name": "Python 3 (ipykernel)",
      "language": "python",
      "name": "python3"
    },
    "language_info": {
      "codemirror_mode": {
        "name": "ipython",
        "version": 3
      },
      "file_extension": ".py",
      "mimetype": "text/x-python",
      "name": "python",
      "nbconvert_exporter": "python",
      "pygments_lexer": "ipython3",
      "version": "3.10.8"
    },
    "orig_nbformat": 4
  },
  "nbformat": 4,
  "nbformat_minor": 0
}
