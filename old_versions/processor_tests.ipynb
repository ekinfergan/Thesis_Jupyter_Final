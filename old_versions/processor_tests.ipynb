{
 "cells": [
  {
   "attachments": {},
   "cell_type": "markdown",
   "metadata": {},
   "source": [
    "# Preprocessor"
   ]
  },
  {
   "cell_type": "code",
   "execution_count": 1,
   "metadata": {},
   "outputs": [],
   "source": [
    "import os\n",
    "import pandas as pd\n",
    "import numpy as np\n",
    "import matplotlib.pyplot as plt\n",
    "import multiprocessing\n",
    "import pickle\n",
    "\n",
    "import re\n",
    "import emoji\n",
    "import numpy as np\n",
    "from nltk.tokenize.casual import EMOTICON_RE\n",
    "\n",
    "from tqdm import tqdm\n",
    "#nltk.download('wordnet')\n",
    "#nltk.download('words')\n",
    "from nltk.sentiment.util import mark_negation\n",
    "from nltk.tokenize import TweetTokenizer\n",
    "from nltk.corpus import stopwords\n",
    "from nltk.stem import WordNetLemmatizer\n",
    "from spellchecker import SpellChecker\n",
    "\n",
    "from collections import Counter\n",
    "from wordcloud import WordCloud\n",
    "from nltk import FreqDist\n",
    "import seaborn as sns\n",
    "\n",
    "from sklearn.model_selection import train_test_split\n",
    "from imblearn.over_sampling import RandomOverSampler\n",
    "from imblearn.under_sampling import RandomUnderSampler\n",
    "from imblearn.pipeline import Pipeline\n",
    "\n",
    "DATASET_COLUMNS = ['Id', 'Review', 'Sentiment']\n",
    "senti_labels = {1: 'Negative', 2: 'Neutral', 3: 'Positive'}\n",
    "senti_categories = list(senti_labels.values())\n",
    "NUM_of_CLASSES = 3\n",
    "\n",
    "\n",
    "processed_folder_path = \"./pls/Thesis_Jupyter_Final/src/processed\"\n",
    "\n",
    "cleaned_data_filename = \"cleaned_data.csv\"\n",
    "vocab_filename = 'vocab.txt'\n",
    "\n",
    "\n",
    "\n",
    "input_folder_path = \"./pls/Thesis_Jupyter_Final/src/input/\"\n",
    "data_filename = \"reviews_data.csv\"\n",
    "emojis = [\n",
    "    # HAPPY\n",
    "    \":-)\", \":)\", \";)\", \":o)\", \":]\", \":3\", \":c)\", \":>\", \"=]\", \"8)\",\n",
    "    \"=)\", \":}\", \":^)\", \":-D\", \":D\", \"8-D\", \"8D\", \"x-D\", \"xD\", \"X-D\",\n",
    "    \"XD\", \"=-D\", \"=D\", \"=-3\", \"=3\", \":-))\", \":'-)\", \":')\", \":*\", \":^*\",\n",
    "    \">:P\", \":-P\", \":P\", \"X-P\", \"x-p\", \"xp\", \"XP\", \":-p\", \":p\", \"=p\",\n",
    "    \":-b\", \":b\", \">:)\", \">;)\", \">:-)\", \"<3\",\n",
    "\n",
    "    # SAD\n",
    "    \":L\", \":-/\", \">:/\", \":S\", \">:[\", \":@\", \":-(\", \":[\", \":-||\", \"=L\", \n",
    "    \":<\", \":-[\", \":-<\", \"=\\\\\", \"=/\", \">:(\", \":(\", \">.<\", \":'-(\", \":'(\",\n",
    "    \":\\\\\", \":-c\", \":c\", \":{\", \">:\\\\\", \";(\"\n",
    "]\n"
   ]
  },
  {
   "attachments": {},
   "cell_type": "markdown",
   "metadata": {},
   "source": [
    "Goal of project: \n",
    "\n",
    "This notebook includes: (steps)"
   ]
  },
  {
   "attachments": {},
   "cell_type": "markdown",
   "metadata": {},
   "source": [
    "# Load Data\n",
    "\n",
    "First, we load and explore the dataset and apply some initial processing such as setting the '*Id*' column as index and removing any empty rows."
   ]
  },
  {
   "cell_type": "code",
   "execution_count": 97,
   "metadata": {},
   "outputs": [],
   "source": [
    "def drop_missing(data):\n",
    "    # Remove any rows with missing values and reset the index\n",
    "    data.replace('', np.nan, inplace=True)\n",
    "    data = data.dropna()\n",
    "    data.reset_index(drop=True, inplace=True)\n",
    "    return data"
   ]
  },
  {
   "cell_type": "code",
   "execution_count": 98,
   "metadata": {},
   "outputs": [
    {
     "name": "stdout",
     "output_type": "stream",
     "text": [
      "<class 'pandas.core.frame.DataFrame'>\n",
      "RangeIndex: 107018 entries, 0 to 107017\n",
      "Data columns (total 2 columns):\n",
      " #   Column     Non-Null Count   Dtype \n",
      "---  ------     --------------   ----- \n",
      " 0   Review     107018 non-null  object\n",
      " 1   Sentiment  107018 non-null  int64 \n",
      "dtypes: int64(1), object(1)\n",
      "memory usage: 1.6+ MB\n",
      "None\n",
      "\n",
      "Dataset shape: (107018, 2)\n",
      "\n"
     ]
    }
   ],
   "source": [
    "def load_data():\n",
    "    # Load data\n",
    "    data_file_path = os.path.join(input_folder_path, data_filename)\n",
    "    df_raw = pd.read_csv(data_file_path)\n",
    "\n",
    "    # Set ID as index\n",
    "    df_raw.set_index('Id', inplace=True, drop=True)\n",
    "    df_raw = drop_missing(df_raw)\n",
    "\n",
    "    print(df_raw.info())\n",
    "    print(f'\\nDataset shape: {df_raw.shape}\\n')\n",
    "\n",
    "    return df_raw\n",
    "\n",
    "\n",
    "df_original = load_data()"
   ]
  },
  {
   "cell_type": "code",
   "execution_count": 99,
   "metadata": {},
   "outputs": [
    {
     "data": {
      "text/html": [
       "<div>\n",
       "<style scoped>\n",
       "    .dataframe tbody tr th:only-of-type {\n",
       "        vertical-align: middle;\n",
       "    }\n",
       "\n",
       "    .dataframe tbody tr th {\n",
       "        vertical-align: top;\n",
       "    }\n",
       "\n",
       "    .dataframe thead th {\n",
       "        text-align: right;\n",
       "    }\n",
       "</style>\n",
       "<table border=\"1\" class=\"dataframe\">\n",
       "  <thead>\n",
       "    <tr style=\"text-align: right;\">\n",
       "      <th></th>\n",
       "      <th>Review</th>\n",
       "      <th>Sentiment</th>\n",
       "    </tr>\n",
       "  </thead>\n",
       "  <tbody>\n",
       "    <tr>\n",
       "      <th>0</th>\n",
       "      <td>good and interesting</td>\n",
       "      <td>3</td>\n",
       "    </tr>\n",
       "    <tr>\n",
       "      <th>1</th>\n",
       "      <td>This class is very helpful...</td>\n",
       "      <td>3</td>\n",
       "    </tr>\n",
       "    <tr>\n",
       "      <th>2</th>\n",
       "      <td>like!Prof and TAs are help...</td>\n",
       "      <td>3</td>\n",
       "    </tr>\n",
       "    <tr>\n",
       "      <th>3</th>\n",
       "      <td>Easy to follow and include...</td>\n",
       "      <td>3</td>\n",
       "    </tr>\n",
       "    <tr>\n",
       "      <th>4</th>\n",
       "      <td>Really nice teacher!I coul...</td>\n",
       "      <td>3</td>\n",
       "    </tr>\n",
       "    <tr>\n",
       "      <th>5</th>\n",
       "      <td>Great course - I recommend...</td>\n",
       "      <td>3</td>\n",
       "    </tr>\n",
       "    <tr>\n",
       "      <th>6</th>\n",
       "      <td>One of the most useful cou...</td>\n",
       "      <td>3</td>\n",
       "    </tr>\n",
       "    <tr>\n",
       "      <th>7</th>\n",
       "      <td>I was disappointed because...</td>\n",
       "      <td>2</td>\n",
       "    </tr>\n",
       "    <tr>\n",
       "      <th>8</th>\n",
       "      <td>Super content. I'll defini...</td>\n",
       "      <td>3</td>\n",
       "    </tr>\n",
       "    <tr>\n",
       "      <th>9</th>\n",
       "      <td>One of the excellent cours...</td>\n",
       "      <td>3</td>\n",
       "    </tr>\n",
       "  </tbody>\n",
       "</table>\n",
       "</div>"
      ],
      "text/plain": [
       "                          Review  Sentiment\n",
       "0           good and interesting          3\n",
       "1  This class is very helpful...          3\n",
       "2  like!Prof and TAs are help...          3\n",
       "3  Easy to follow and include...          3\n",
       "4  Really nice teacher!I coul...          3\n",
       "5  Great course - I recommend...          3\n",
       "6  One of the most useful cou...          3\n",
       "7  I was disappointed because...          2\n",
       "8  Super content. I'll defini...          3\n",
       "9  One of the excellent cours...          3"
      ]
     },
     "execution_count": 99,
     "metadata": {},
     "output_type": "execute_result"
    }
   ],
   "source": [
    "df_original.head(20)"
   ]
  },
  {
   "attachments": {},
   "cell_type": "markdown",
   "metadata": {},
   "source": [
    "### Analysing Data (TODO)\n",
    "We then analyse the dataset by observing the distribution of review per sentiment."
   ]
  },
  {
   "cell_type": "code",
   "execution_count": 100,
   "metadata": {},
   "outputs": [],
   "source": [
    "def print_senti_counts(counts):\n",
    "    # Print the number of reviews per sentiment \n",
    "    for senti, count in counts.items():\n",
    "        sentiment_name = senti_labels[senti]\n",
    "        print(f\"{senti} ({sentiment_name}): {count} reviews\")\n",
    "\n",
    "def plot_senti_counts(counts):\n",
    "    # Plot counts per sentiment\n",
    "    colors = ['limegreen', 'dodgerblue', 'red']\n",
    "    plt.pie(counts, colors=colors, autopct='%1.1f%%',  pctdistance=0.8, textprops={'fontsize': 10, 'color': 'black'}, startangle=90)\n",
    "    plt.axis('equal')  # pie as a circle\n",
    "    plt.legend(labels=senti_categories[::-1], loc='lower left')\n",
    "    plt.title('Distribution of Reviews per Sentiment')\n",
    "    plt.show()\n",
    "\n",
    "def count_words(text):\n",
    "    # Count words per review\n",
    "    return len(str(text).split(' '))"
   ]
  },
  {
   "cell_type": "code",
   "execution_count": 110,
   "metadata": {},
   "outputs": [
    {
     "name": "stdout",
     "output_type": "stream",
     "text": [
      "3 (Positive): 97227 reviews\n",
      "2 (Neutral): 5071 reviews\n",
      "1 (Negative): 4720 reviews\n"
     ]
    },
    {
     "data": {
      "image/png": "[encoded data removed]",
      "text/plain": [
       "<Figure size 640x480 with 1 Axes>"
      ]
     },
     "metadata": {},
     "output_type": "display_data"
    },
    {
     "name": "stdout",
     "output_type": "stream",
     "text": [
      "Total word count:  2661665\n",
      "Average review length: 24.87\n"
     ]
    }
   ],
   "source": [
    "def analyse_data(df):\n",
    "    # Call all the data analysis functions at once\n",
    "    senti_counts = df['Sentiment'].value_counts()\n",
    "    print_senti_counts(senti_counts)\n",
    "    plot_senti_counts(senti_counts)\n",
    "\n",
    "    # Calculate total and average word count without adding a new column to the dataframe\n",
    "    total_word_count = df['Review'].apply(count_words).sum()\n",
    "    avg_review_len = df['Review'].apply(count_words).mean()\n",
    "\n",
    "    print(\"Total word count: \", total_word_count)\n",
    "    print(f\"Average review length: {avg_review_len:.2f}\")\n",
    "\n",
    "\n",
    "analyse_data(df_original)"
   ]
  },
  {
   "cell_type": "code",
   "execution_count": 120,
   "metadata": {},
   "outputs": [],
   "source": [
    "# Create a copy of the original DataFrame to preserve the original data\n",
    "df_clean = df_original.copy()\n",
    "pd.set_option('display.max_rows', None)\n",
    "pd.set_option('display.max_colwidth', None) "
   ]
  },
  {
   "cell_type": "code",
   "execution_count": 121,
   "metadata": {},
   "outputs": [
    {
     "name": "stderr",
     "output_type": "stream",
     "text": [
      "/tmp/ipykernel_2722236/4143840565.py:32: FutureWarning: The default value of regex will change from True to False in a future version.\n",
      "  df['Review'] = df['Review'].str.replace(pattern, ' ')\n"
     ]
    }
   ],
   "source": [
    "def clean_data(df):\n",
    "    # 1) Lowercase\n",
    "    df['Review'] = df['Review'].str.lower()\n",
    "\n",
    "    # 2) Replace contractions with their standard full forms\n",
    "    contraction_mapping = {\n",
    "            \"isn't\": \"is not\",\n",
    "            \"aren't\": \"are not\",\n",
    "            \"don't\": \"do not\",\n",
    "            \"doesn't\": \"does not\",\n",
    "            \"wasn't\": \"was not\",\n",
    "            \"weren't\": \"were not\",\n",
    "            \"didn't\": \"did not\",\n",
    "            \"haven't\": \"have not\",\n",
    "            \"hasn't\": \"has not\",\n",
    "            \"hadn't\": \"had not\",\n",
    "            \"won't\": \"will not\",\n",
    "            \"can't\": \"cannot\",\n",
    "            \"couldn't\": \"could not\",\n",
    "            \"shouldn't\": \"should not\",\n",
    "            \"wouldn't\": \"would not\",\n",
    "            \"mightn't\": \"might not\",\n",
    "            \"mustn't\": \"must not\",\n",
    "            }\n",
    "\n",
    "    for contraction, standard in contraction_mapping.items():\n",
    "        df['Review'] = df['Review'].str.replace(contraction, standard)\n",
    "\n",
    "    \n",
    "    # 3) Remove punctuation in between words e.g. \"course.sometimes\", \"i'll\" and replace with space\n",
    "    pattern = r'(?<=\\w)[^\\w\\s]+(?=\\w)'\n",
    "    df['Review'] = df['Review'].str.replace(pattern, ' ')\n",
    "\n",
    "    # 4) Tokenize text into individual words (removes all extra spaces \\s)\n",
    "    tokenizer = TweetTokenizer()\n",
    "    df['Review'] = df['Review'].apply(tokenizer.tokenize)\n",
    "\n",
    "    # 5) Remove punctuation first in between words (typo), and then all punctuation and numerals except for tokenized emojis\n",
    "    pattern = r\"[^\\w\\s\" + \"\".join(re.escape(e) for e in emojis + list(emoji.EMOJI_DATA.keys())) + \"]|[\\d]+\" # match non-emoji special characters\n",
    "    df['Review'] = df['Review'].apply(lambda tokens: [token for token in tokens if not re.match(pattern, token)])\n",
    "\n",
    "    # 6) Remove single characters\n",
    "    df['Review'] = df['Review'].apply(lambda tokens: [word for word in tokens if len(word) > 1])\n",
    "\n",
    "    # 8) Perform negation tagging\n",
    "    df['Review'] = df['Review'].apply(mark_negation)\n",
    "\n",
    "    # 9) Remove stopwords --> also removes words like 'not'\n",
    "    stop_words = set(stopwords.words('english'))\n",
    "    df['Review'] = df['Review'].apply(lambda tokens: [token for token in tokens if token not in stop_words])\n",
    "    df['Review'] = df['Review'].apply(lambda tokens: [token for token in tokens if token.split('_')[0] not in stop_words])\n",
    "\n",
    "     # 10) Lemmatize words using WordNetLemmatizer (also lemmatizes words removing _NEG)\n",
    "    def lemmatize_token(token):\n",
    "        lemmatizer = WordNetLemmatizer()\n",
    "        if \"_NEG\" in token:\n",
    "            word, tag = token.split(\"_NEG\")\n",
    "            return lemmatizer.lemmatize(word) + \"_NEG\"\n",
    "        else:\n",
    "            return lemmatizer.lemmatize(token)\n",
    "\n",
    "    df['Review'] = df['Review'].apply(lambda tokens: [lemmatize_token(token) for token in tokens])\n",
    "\n",
    "    # Convert preprocessed tokens back to string\n",
    "    df['Review'] = df['Review'].apply(' '.join)\n",
    "\n",
    "    return df\n",
    "\n",
    "clean_data(df_clean)"
   ]
  },
  {
   "cell_type": "code",
   "execution_count": null,
   "metadata": {},
   "outputs": [
    {
     "data": {
      "text/html": [
       "<div>\n",
       "<style scoped>\n",
       "    .dataframe tbody tr th:only-of-type {\n",
       "        vertical-align: middle;\n",
       "    }\n",
       "\n",
       "    .dataframe tbody tr th {\n",
       "        vertical-align: top;\n",
       "    }\n",
       "\n",
       "    .dataframe thead th {\n",
       "        text-align: right;\n",
       "    }\n",
       "</style>\n",
       "<table border=\"1\" class=\"dataframe\">\n",
       "  <thead>\n",
       "    <tr style=\"text-align: right;\">\n",
       "      <th></th>\n",
       "      <th>Review</th>\n",
       "      <th>Sentiment</th>\n",
       "    </tr>\n",
       "  </thead>\n",
       "  <tbody>\n",
       "    <tr>\n",
       "      <th>0</th>\n",
       "      <td>good interesting</td>\n",
       "      <td>3</td>\n",
       "    </tr>\n",
       "    <tr>\n",
       "      <th>1</th>\n",
       "      <td>class helpful currently st...</td>\n",
       "      <td>3</td>\n",
       "    </tr>\n",
       "    <tr>\n",
       "      <th>2</th>\n",
       "      <td>like prof ta helpful discu...</td>\n",
       "      <td>3</td>\n",
       "    </tr>\n",
       "    <tr>\n",
       "      <th>3</th>\n",
       "      <td>easy follow includes lot b...</td>\n",
       "      <td>3</td>\n",
       "    </tr>\n",
       "    <tr>\n",
       "      <th>4</th>\n",
       "      <td>really nice teacher could ...</td>\n",
       "      <td>3</td>\n",
       "    </tr>\n",
       "    <tr>\n",
       "      <th>5</th>\n",
       "      <td>great course recommend esp...</td>\n",
       "      <td>3</td>\n",
       "    </tr>\n",
       "    <tr>\n",
       "      <th>6</th>\n",
       "      <td>one useful course management</td>\n",
       "      <td>3</td>\n",
       "    </tr>\n",
       "    <tr>\n",
       "      <th>7</th>\n",
       "      <td>disappointed name misleadi...</td>\n",
       "      <td>2</td>\n",
       "    </tr>\n",
       "    <tr>\n",
       "      <th>8</th>\n",
       "      <td>super content definitely c...</td>\n",
       "      <td>3</td>\n",
       "    </tr>\n",
       "    <tr>\n",
       "      <th>9</th>\n",
       "      <td>one excellent course cours...</td>\n",
       "      <td>3</td>\n",
       "    </tr>\n",
       "    <tr>\n",
       "      <th>10</th>\n",
       "      <td>reason apply_neg course_ne...</td>\n",
       "      <td>3</td>\n",
       "    </tr>\n",
       "    <tr>\n",
       "      <th>11</th>\n",
       "      <td>excellent course teacher c...</td>\n",
       "      <td>3</td>\n",
       "    </tr>\n",
       "    <tr>\n",
       "      <th>12</th>\n",
       "      <td>good course cio non techni...</td>\n",
       "      <td>3</td>\n",
       "    </tr>\n",
       "    <tr>\n",
       "      <th>13</th>\n",
       "      <td>good content course settin...</td>\n",
       "      <td>2</td>\n",
       "    </tr>\n",
       "    <tr>\n",
       "      <th>14</th>\n",
       "      <td>structured approach thank ...</td>\n",
       "      <td>3</td>\n",
       "    </tr>\n",
       "    <tr>\n",
       "      <th>15</th>\n",
       "      <td>program demystifies evolvi...</td>\n",
       "      <td>3</td>\n",
       "    </tr>\n",
       "    <tr>\n",
       "      <th>16</th>\n",
       "      <td>relevant useful course des...</td>\n",
       "      <td>3</td>\n",
       "    </tr>\n",
       "    <tr>\n",
       "      <th>17</th>\n",
       "      <td>course say_neg anything_ne...</td>\n",
       "      <td>1</td>\n",
       "    </tr>\n",
       "    <tr>\n",
       "      <th>18</th>\n",
       "      <td>video presented french cou...</td>\n",
       "      <td>3</td>\n",
       "    </tr>\n",
       "    <tr>\n",
       "      <th>19</th>\n",
       "      <td>course content quite good ...</td>\n",
       "      <td>2</td>\n",
       "    </tr>\n",
       "  </tbody>\n",
       "</table>\n",
       "</div>"
      ],
      "text/plain": [
       "                           Review  Sentiment\n",
       "0                good interesting          3\n",
       "1   class helpful currently st...          3\n",
       "2   like prof ta helpful discu...          3\n",
       "3   easy follow includes lot b...          3\n",
       "4   really nice teacher could ...          3\n",
       "5   great course recommend esp...          3\n",
       "6    one useful course management          3\n",
       "7   disappointed name misleadi...          2\n",
       "8   super content definitely c...          3\n",
       "9   one excellent course cours...          3\n",
       "10  reason apply_neg course_ne...          3\n",
       "11  excellent course teacher c...          3\n",
       "12  good course cio non techni...          3\n",
       "13  good content course settin...          2\n",
       "14  structured approach thank ...          3\n",
       "15  program demystifies evolvi...          3\n",
       "16  relevant useful course des...          3\n",
       "17  course say_neg anything_ne...          1\n",
       "18  video presented french cou...          3\n",
       "19  course content quite good ...          2"
      ]
     },
     "execution_count": 119,
     "metadata": {},
     "output_type": "execute_result"
    }
   ],
   "source": [
    "df_clean.head(20)"
   ]
  },
  {
   "attachments": {},
   "cell_type": "markdown",
   "metadata": {},
   "source": [
    "## Clean Text"
   ]
  },
  {
   "attachments": {},
   "cell_type": "markdown",
   "metadata": {},
   "source": [
    "Next, we clean the data applying the following techniques (TODO: add info):"
   ]
  },
  {
   "cell_type": "code",
   "execution_count": 114,
   "metadata": {},
   "outputs": [],
   "source": [
    "# Text Cleaning\n",
    "#english_words = set(nltk.corpus.words.words())\n",
    "emojis = [\n",
    "        #HAPPY\n",
    "        \":-)\",\n",
    "        \":)\",\n",
    "        \";)\",\n",
    "        \":o)\",\n",
    "        \":]\",\n",
    "        \":3\",\n",
    "        \":c)\",\n",
    "        \":>\",\n",
    "        \"=]\",\n",
    "        \"8)\",\n",
    "        \"=)\",\n",
    "        \":}\",\n",
    "        \":^)\",\n",
    "        \":-D\",\n",
    "        \":D\",\n",
    "        \"8-D\",\n",
    "        \"8D\",\n",
    "        \"x-D\",\n",
    "        \"xD\",\n",
    "        \"X-D\",\n",
    "        \"XD\",\n",
    "        \"=-D\",\n",
    "        \"=D\",\n",
    "        \"=-3\",\n",
    "        \"=3\",\n",
    "        \":-))\",\n",
    "        \":'-)\",\n",
    "        \":')\",\n",
    "        \":*\",\n",
    "        \":^*\",\n",
    "        \">:P\",\n",
    "        \":-P\",\n",
    "        \":P\",\n",
    "        \"X-P\",\n",
    "        \"x-p\",\n",
    "        \"xp\",\n",
    "        \"XP\",\n",
    "        \":-p\",\n",
    "        \":p\",\n",
    "        \"=p\",\n",
    "        \":-b\",\n",
    "        \":b\",\n",
    "        \">:)\",\n",
    "        \">;)\",\n",
    "        \">:-)\",\n",
    "        \"<3\",\n",
    "        # SAD\n",
    "        \":L\",\n",
    "        \":-/\",\n",
    "        \">:/\",\n",
    "        \":S\",\n",
    "        \">:[\",\n",
    "        \":@\",\n",
    "        \":-(\",\n",
    "        \":[\",\n",
    "        \":-||\",\n",
    "        \"=L\",\n",
    "        \":<\",\n",
    "        \":-[\",\n",
    "        \":-<\",\n",
    "        \"=\\\\\",\n",
    "        \"=/\",\n",
    "        \">:(\",\n",
    "        \":(\",\n",
    "        \">.<\",\n",
    "        \":'-(\",\n",
    "        \":'(\",\n",
    "        \":\\\\\",\n",
    "        \":-c\",\n",
    "        \":c\",\n",
    "        \":{\",\n",
    "        \">:\\\\\",\n",
    "        \";(\",\n",
    "    ]"
   ]
  },
  {
   "cell_type": "code",
   "execution_count": 115,
   "metadata": {},
   "outputs": [
    {
     "data": {
      "text/html": [
       "<div>\n",
       "<style scoped>\n",
       "    .dataframe tbody tr th:only-of-type {\n",
       "        vertical-align: middle;\n",
       "    }\n",
       "\n",
       "    .dataframe tbody tr th {\n",
       "        vertical-align: top;\n",
       "    }\n",
       "\n",
       "    .dataframe thead th {\n",
       "        text-align: right;\n",
       "    }\n",
       "</style>\n",
       "<table border=\"1\" class=\"dataframe\">\n",
       "  <thead>\n",
       "    <tr style=\"text-align: right;\">\n",
       "      <th></th>\n",
       "      <th>Review</th>\n",
       "      <th>Sentiment</th>\n",
       "    </tr>\n",
       "  </thead>\n",
       "  <tbody>\n",
       "    <tr>\n",
       "      <th>0</th>\n",
       "      <td>good and interesting</td>\n",
       "      <td>3</td>\n",
       "    </tr>\n",
       "    <tr>\n",
       "      <th>1</th>\n",
       "      <td>this class is very helpful...</td>\n",
       "      <td>3</td>\n",
       "    </tr>\n",
       "    <tr>\n",
       "      <th>2</th>\n",
       "      <td>like!prof and tas are help...</td>\n",
       "      <td>3</td>\n",
       "    </tr>\n",
       "    <tr>\n",
       "      <th>3</th>\n",
       "      <td>easy to follow and include...</td>\n",
       "      <td>3</td>\n",
       "    </tr>\n",
       "    <tr>\n",
       "      <th>4</th>\n",
       "      <td>really nice teacher!i coul...</td>\n",
       "      <td>3</td>\n",
       "    </tr>\n",
       "  </tbody>\n",
       "</table>\n",
       "</div>"
      ],
      "text/plain": [
       "                          Review  Sentiment\n",
       "0           good and interesting          3\n",
       "1  this class is very helpful...          3\n",
       "2  like!prof and tas are help...          3\n",
       "3  easy to follow and include...          3\n",
       "4  really nice teacher!i coul...          3"
      ]
     },
     "execution_count": 115,
     "metadata": {},
     "output_type": "execute_result"
    }
   ],
   "source": [
    "# 1) Lowercase\n",
    "df['Review'] = df['Review'].str.lower()\n",
    "df.head()"
   ]
  },
  {
   "cell_type": "code",
   "execution_count": 116,
   "metadata": {},
   "outputs": [
    {
     "name": "stdout",
     "output_type": "stream",
     "text": [
      "                               Review  Sentiment\n",
      "0                good and interesting          3\n",
      "1       this class is very helpful...          3\n",
      "2       like!prof and tas are help...          3\n",
      "3       easy to follow and include...          3\n",
      "4       really nice teacher!i coul...          3\n",
      "...                               ...        ...\n",
      "107013  trendy topic with talks fr...          3\n",
      "107014  wonderful! simple and clea...          3\n",
      "107015  an interesting and fun cou...          3\n",
      "107016  very broad perspective, up...          3\n",
      "107017  an informative course on t...          3\n",
      "\n",
      "[107018 rows x 2 columns]\n"
     ]
    }
   ],
   "source": [
    "# 2) Replace contractions with their standard full forms\n",
    "contraction_mapping = {\n",
    "        \"isn't\": \"is not\",\n",
    "        \"aren't\": \"are not\",\n",
    "        \"don't\": \"do not\",\n",
    "        \"doesn't\": \"does not\",\n",
    "        \"wasn't\": \"was not\",\n",
    "        \"weren't\": \"were not\",\n",
    "        \"didn't\": \"did not\",\n",
    "        \"haven't\": \"have not\",\n",
    "        \"hasn't\": \"has not\",\n",
    "        \"hadn't\": \"had not\",\n",
    "        \"won't\": \"will not\",\n",
    "        \"can't\": \"cannot\",\n",
    "        \"couldn't\": \"could not\",\n",
    "        \"shouldn't\": \"should not\",\n",
    "        \"wouldn't\": \"would not\",\n",
    "        \"mightn't\": \"might not\",\n",
    "        \"mustn't\": \"must not\",\n",
    "        }\n",
    "\n",
    "for contraction, standard in contraction_mapping.items():\n",
    "    df['Review'] = df['Review'].str.replace(contraction, standard)\n",
    "\n",
    "print(df)"
   ]
  },
  {
   "cell_type": "code",
   "execution_count": 107,
   "metadata": {},
   "outputs": [
    {
     "name": "stderr",
     "output_type": "stream",
     "text": [
      "/tmp/ipykernel_2722236/1580789109.py:3: FutureWarning: The default value of regex will change from True to False in a future version.\n",
      "  df['Review'] = df['Review'].str.replace(pattern, ' ')\n"
     ]
    },
    {
     "name": "stdout",
     "output_type": "stream",
     "text": [
      "                               Review  Sentiment\n",
      "0                good and interesting          3\n",
      "1       this class is very helpful...          3\n",
      "2       like prof and tas are help...          3\n",
      "3       easy to follow and include...          3\n",
      "4       really nice teacher i coul...          3\n",
      "...                               ...        ...\n",
      "107013  trendy topic with talks fr...          3\n",
      "107014  wonderful! simple and clea...          3\n",
      "107015  an interesting and fun cou...          3\n",
      "107016  very broad perspective, up...          3\n",
      "107017  an informative course on t...          3\n",
      "\n",
      "[107018 rows x 2 columns]\n"
     ]
    }
   ],
   "source": [
    "# 3) Remove punctuation in between words e.g. \"course.sometimes\", \"i'll\" and replace with space\n",
    "pattern = r'(?<=\\w)[^\\w\\s]+(?=\\w)'\n",
    "df['Review'] = df['Review'].str.replace(pattern, ' ')\n",
    "print(df)"
   ]
  },
  {
   "cell_type": "code",
   "execution_count": 108,
   "metadata": {},
   "outputs": [
    {
     "data": {
      "text/html": [
       "<div>\n",
       "<style scoped>\n",
       "    .dataframe tbody tr th:only-of-type {\n",
       "        vertical-align: middle;\n",
       "    }\n",
       "\n",
       "    .dataframe tbody tr th {\n",
       "        vertical-align: top;\n",
       "    }\n",
       "\n",
       "    .dataframe thead th {\n",
       "        text-align: right;\n",
       "    }\n",
       "</style>\n",
       "<table border=\"1\" class=\"dataframe\">\n",
       "  <thead>\n",
       "    <tr style=\"text-align: right;\">\n",
       "      <th></th>\n",
       "      <th>Review</th>\n",
       "      <th>Sentiment</th>\n",
       "    </tr>\n",
       "  </thead>\n",
       "  <tbody>\n",
       "    <tr>\n",
       "      <th>0</th>\n",
       "      <td>[good, and, interesting]</td>\n",
       "      <td>3</td>\n",
       "    </tr>\n",
       "    <tr>\n",
       "      <th>1</th>\n",
       "      <td>[this, class, is, very, he...</td>\n",
       "      <td>3</td>\n",
       "    </tr>\n",
       "    <tr>\n",
       "      <th>2</th>\n",
       "      <td>[like, prof, and, tas, are...</td>\n",
       "      <td>3</td>\n",
       "    </tr>\n",
       "    <tr>\n",
       "      <th>3</th>\n",
       "      <td>[easy, to, follow, and, in...</td>\n",
       "      <td>3</td>\n",
       "    </tr>\n",
       "    <tr>\n",
       "      <th>4</th>\n",
       "      <td>[really, nice, teacher, i,...</td>\n",
       "      <td>3</td>\n",
       "    </tr>\n",
       "  </tbody>\n",
       "</table>\n",
       "</div>"
      ],
      "text/plain": [
       "                          Review  Sentiment\n",
       "0       [good, and, interesting]          3\n",
       "1  [this, class, is, very, he...          3\n",
       "2  [like, prof, and, tas, are...          3\n",
       "3  [easy, to, follow, and, in...          3\n",
       "4  [really, nice, teacher, i,...          3"
      ]
     },
     "execution_count": 108,
     "metadata": {},
     "output_type": "execute_result"
    }
   ],
   "source": [
    "# 4) Tokenize text into individual words (removes all extra spaces \\s)\n",
    "tokenizer = TweetTokenizer()\n",
    "df['Review'] = df['Review'].apply(tokenizer.tokenize)\n",
    "df.head()"
   ]
  },
  {
   "cell_type": "code",
   "execution_count": 109,
   "metadata": {},
   "outputs": [
    {
     "ename": "KeyboardInterrupt",
     "evalue": "",
     "output_type": "error",
     "traceback": [
      "\u001b[0;31m---------------------------------------------------------------------------\u001b[0m",
      "\u001b[0;31mKeyboardInterrupt\u001b[0m                         Traceback (most recent call last)",
      "Cell \u001b[0;32mIn[109], line 3\u001b[0m\n\u001b[1;32m      1\u001b[0m \u001b[39m# 5) Remove punctuation first in between words (typo), and then all punctuation and numerals except for tokenized emojis\u001b[39;00m\n\u001b[1;32m      2\u001b[0m pattern \u001b[39m=\u001b[39m \u001b[39mr\u001b[39m\u001b[39m\"\u001b[39m\u001b[39m[^\u001b[39m\u001b[39m\\\u001b[39m\u001b[39mw\u001b[39m\u001b[39m\\\u001b[39m\u001b[39ms\u001b[39m\u001b[39m\"\u001b[39m \u001b[39m+\u001b[39m \u001b[39m\"\u001b[39m\u001b[39m\"\u001b[39m\u001b[39m.\u001b[39mjoin(re\u001b[39m.\u001b[39mescape(e) \u001b[39mfor\u001b[39;00m e \u001b[39min\u001b[39;00m emojis \u001b[39m+\u001b[39m \u001b[39mlist\u001b[39m(emoji\u001b[39m.\u001b[39mEMOJI_DATA\u001b[39m.\u001b[39mkeys())) \u001b[39m+\u001b[39m \u001b[39m\"\u001b[39m\u001b[39m]|[\u001b[39m\u001b[39m\\\u001b[39m\u001b[39md]+\u001b[39m\u001b[39m\"\u001b[39m \u001b[39m# match non-emoji special characters\u001b[39;00m\n\u001b[0;32m----> 3\u001b[0m df[\u001b[39m'\u001b[39m\u001b[39mReview\u001b[39m\u001b[39m'\u001b[39m] \u001b[39m=\u001b[39m df[\u001b[39m'\u001b[39;49m\u001b[39mReview\u001b[39;49m\u001b[39m'\u001b[39;49m]\u001b[39m.\u001b[39;49mapply(\u001b[39mlambda\u001b[39;49;00m tokens: [token \u001b[39mfor\u001b[39;49;00m token \u001b[39min\u001b[39;49;00m tokens \u001b[39mif\u001b[39;49;00m \u001b[39mnot\u001b[39;49;00m re\u001b[39m.\u001b[39;49mmatch(pattern, token)])\n\u001b[1;32m      4\u001b[0m \u001b[39mprint\u001b[39m(df)\n",
      "File \u001b[0;32m/cvmfs/hpc.rug.nl/versions/2023.01/rocky8/x86_64/intel/icelake/software/SciPy-bundle/2022.05-foss-2022a/lib/python3.10/site-packages/pandas/core/series.py:4433\u001b[0m, in \u001b[0;36mSeries.apply\u001b[0;34m(self, func, convert_dtype, args, **kwargs)\u001b[0m\n\u001b[1;32m   4323\u001b[0m \u001b[39mdef\u001b[39;00m \u001b[39mapply\u001b[39m(\n\u001b[1;32m   4324\u001b[0m     \u001b[39mself\u001b[39m,\n\u001b[1;32m   4325\u001b[0m     func: AggFuncType,\n\u001b[0;32m   (...)\u001b[0m\n\u001b[1;32m   4328\u001b[0m     \u001b[39m*\u001b[39m\u001b[39m*\u001b[39mkwargs,\n\u001b[1;32m   4329\u001b[0m ) \u001b[39m-\u001b[39m\u001b[39m>\u001b[39m DataFrame \u001b[39m|\u001b[39m Series:\n\u001b[1;32m   4330\u001b[0m \u001b[39m    \u001b[39m\u001b[39m\"\"\"\u001b[39;00m\n\u001b[1;32m   4331\u001b[0m \u001b[39m    Invoke function on values of Series.\u001b[39;00m\n\u001b[1;32m   4332\u001b[0m \n\u001b[0;32m   (...)\u001b[0m\n\u001b[1;32m   4431\u001b[0m \u001b[39m    dtype: float64\u001b[39;00m\n\u001b[1;32m   4432\u001b[0m \u001b[39m    \"\"\"\u001b[39;00m\n\u001b[0;32m-> 4433\u001b[0m     \u001b[39mreturn\u001b[39;00m SeriesApply(\u001b[39mself\u001b[39;49m, func, convert_dtype, args, kwargs)\u001b[39m.\u001b[39;49mapply()\n",
      "File \u001b[0;32m/cvmfs/hpc.rug.nl/versions/2023.01/rocky8/x86_64/intel/icelake/software/SciPy-bundle/2022.05-foss-2022a/lib/python3.10/site-packages/pandas/core/apply.py:1082\u001b[0m, in \u001b[0;36mSeriesApply.apply\u001b[0;34m(self)\u001b[0m\n\u001b[1;32m   1078\u001b[0m \u001b[39mif\u001b[39;00m \u001b[39misinstance\u001b[39m(\u001b[39mself\u001b[39m\u001b[39m.\u001b[39mf, \u001b[39mstr\u001b[39m):\n\u001b[1;32m   1079\u001b[0m     \u001b[39m# if we are a string, try to dispatch\u001b[39;00m\n\u001b[1;32m   1080\u001b[0m     \u001b[39mreturn\u001b[39;00m \u001b[39mself\u001b[39m\u001b[39m.\u001b[39mapply_str()\n\u001b[0;32m-> 1082\u001b[0m \u001b[39mreturn\u001b[39;00m \u001b[39mself\u001b[39;49m\u001b[39m.\u001b[39;49mapply_standard()\n",
      "File \u001b[0;32m/cvmfs/hpc.rug.nl/versions/2023.01/rocky8/x86_64/intel/icelake/software/SciPy-bundle/2022.05-foss-2022a/lib/python3.10/site-packages/pandas/core/apply.py:1137\u001b[0m, in \u001b[0;36mSeriesApply.apply_standard\u001b[0;34m(self)\u001b[0m\n\u001b[1;32m   1131\u001b[0m         values \u001b[39m=\u001b[39m obj\u001b[39m.\u001b[39mastype(\u001b[39mobject\u001b[39m)\u001b[39m.\u001b[39m_values\n\u001b[1;32m   1132\u001b[0m         \u001b[39m# error: Argument 2 to \"map_infer\" has incompatible type\u001b[39;00m\n\u001b[1;32m   1133\u001b[0m         \u001b[39m# \"Union[Callable[..., Any], str, List[Union[Callable[..., Any], str]],\u001b[39;00m\n\u001b[1;32m   1134\u001b[0m         \u001b[39m# Dict[Hashable, Union[Union[Callable[..., Any], str],\u001b[39;00m\n\u001b[1;32m   1135\u001b[0m         \u001b[39m# List[Union[Callable[..., Any], str]]]]]\"; expected\u001b[39;00m\n\u001b[1;32m   1136\u001b[0m         \u001b[39m# \"Callable[[Any], Any]\"\u001b[39;00m\n\u001b[0;32m-> 1137\u001b[0m         mapped \u001b[39m=\u001b[39m lib\u001b[39m.\u001b[39;49mmap_infer(\n\u001b[1;32m   1138\u001b[0m             values,\n\u001b[1;32m   1139\u001b[0m             f,  \u001b[39m# type: ignore[arg-type]\u001b[39;49;00m\n\u001b[1;32m   1140\u001b[0m             convert\u001b[39m=\u001b[39;49m\u001b[39mself\u001b[39;49m\u001b[39m.\u001b[39;49mconvert_dtype,\n\u001b[1;32m   1141\u001b[0m         )\n\u001b[1;32m   1143\u001b[0m \u001b[39mif\u001b[39;00m \u001b[39mlen\u001b[39m(mapped) \u001b[39mand\u001b[39;00m \u001b[39misinstance\u001b[39m(mapped[\u001b[39m0\u001b[39m], ABCSeries):\n\u001b[1;32m   1144\u001b[0m     \u001b[39m# GH#43986 Need to do list(mapped) in order to get treated as nested\u001b[39;00m\n\u001b[1;32m   1145\u001b[0m     \u001b[39m#  See also GH#25959 regarding EA support\u001b[39;00m\n\u001b[1;32m   1146\u001b[0m     \u001b[39mreturn\u001b[39;00m obj\u001b[39m.\u001b[39m_constructor_expanddim(\u001b[39mlist\u001b[39m(mapped), index\u001b[39m=\u001b[39mobj\u001b[39m.\u001b[39mindex)\n",
      "File \u001b[0;32m/cvmfs/hpc.rug.nl/versions/2023.01/rocky8/x86_64/intel/icelake/software/SciPy-bundle/2022.05-foss-2022a/lib/python3.10/site-packages/pandas/_libs/lib.pyx:2870\u001b[0m, in \u001b[0;36mpandas._libs.lib.map_infer\u001b[0;34m()\u001b[0m\n",
      "Cell \u001b[0;32mIn[109], line 3\u001b[0m, in \u001b[0;36m<lambda>\u001b[0;34m(tokens)\u001b[0m\n\u001b[1;32m      1\u001b[0m \u001b[39m# 5) Remove punctuation first in between words (typo), and then all punctuation and numerals except for tokenized emojis\u001b[39;00m\n\u001b[1;32m      2\u001b[0m pattern \u001b[39m=\u001b[39m \u001b[39mr\u001b[39m\u001b[39m\"\u001b[39m\u001b[39m[^\u001b[39m\u001b[39m\\\u001b[39m\u001b[39mw\u001b[39m\u001b[39m\\\u001b[39m\u001b[39ms\u001b[39m\u001b[39m\"\u001b[39m \u001b[39m+\u001b[39m \u001b[39m\"\u001b[39m\u001b[39m\"\u001b[39m\u001b[39m.\u001b[39mjoin(re\u001b[39m.\u001b[39mescape(e) \u001b[39mfor\u001b[39;00m e \u001b[39min\u001b[39;00m emojis \u001b[39m+\u001b[39m \u001b[39mlist\u001b[39m(emoji\u001b[39m.\u001b[39mEMOJI_DATA\u001b[39m.\u001b[39mkeys())) \u001b[39m+\u001b[39m \u001b[39m\"\u001b[39m\u001b[39m]|[\u001b[39m\u001b[39m\\\u001b[39m\u001b[39md]+\u001b[39m\u001b[39m\"\u001b[39m \u001b[39m# match non-emoji special characters\u001b[39;00m\n\u001b[0;32m----> 3\u001b[0m df[\u001b[39m'\u001b[39m\u001b[39mReview\u001b[39m\u001b[39m'\u001b[39m] \u001b[39m=\u001b[39m df[\u001b[39m'\u001b[39m\u001b[39mReview\u001b[39m\u001b[39m'\u001b[39m]\u001b[39m.\u001b[39mapply(\u001b[39mlambda\u001b[39;00m tokens: [token \u001b[39mfor\u001b[39;00m token \u001b[39min\u001b[39;00m tokens \u001b[39mif\u001b[39;00m \u001b[39mnot\u001b[39;00m re\u001b[39m.\u001b[39mmatch(pattern, token)])\n\u001b[1;32m      4\u001b[0m \u001b[39mprint\u001b[39m(df)\n",
      "Cell \u001b[0;32mIn[109], line 3\u001b[0m, in \u001b[0;36m<listcomp>\u001b[0;34m(.0)\u001b[0m\n\u001b[1;32m      1\u001b[0m \u001b[39m# 5) Remove punctuation first in between words (typo), and then all punctuation and numerals except for tokenized emojis\u001b[39;00m\n\u001b[1;32m      2\u001b[0m pattern \u001b[39m=\u001b[39m \u001b[39mr\u001b[39m\u001b[39m\"\u001b[39m\u001b[39m[^\u001b[39m\u001b[39m\\\u001b[39m\u001b[39mw\u001b[39m\u001b[39m\\\u001b[39m\u001b[39ms\u001b[39m\u001b[39m\"\u001b[39m \u001b[39m+\u001b[39m \u001b[39m\"\u001b[39m\u001b[39m\"\u001b[39m\u001b[39m.\u001b[39mjoin(re\u001b[39m.\u001b[39mescape(e) \u001b[39mfor\u001b[39;00m e \u001b[39min\u001b[39;00m emojis \u001b[39m+\u001b[39m \u001b[39mlist\u001b[39m(emoji\u001b[39m.\u001b[39mEMOJI_DATA\u001b[39m.\u001b[39mkeys())) \u001b[39m+\u001b[39m \u001b[39m\"\u001b[39m\u001b[39m]|[\u001b[39m\u001b[39m\\\u001b[39m\u001b[39md]+\u001b[39m\u001b[39m\"\u001b[39m \u001b[39m# match non-emoji special characters\u001b[39;00m\n\u001b[0;32m----> 3\u001b[0m df[\u001b[39m'\u001b[39m\u001b[39mReview\u001b[39m\u001b[39m'\u001b[39m] \u001b[39m=\u001b[39m df[\u001b[39m'\u001b[39m\u001b[39mReview\u001b[39m\u001b[39m'\u001b[39m]\u001b[39m.\u001b[39mapply(\u001b[39mlambda\u001b[39;00m tokens: [token \u001b[39mfor\u001b[39;00m token \u001b[39min\u001b[39;00m tokens \u001b[39mif\u001b[39;00m \u001b[39mnot\u001b[39;00m re\u001b[39m.\u001b[39;49mmatch(pattern, token)])\n\u001b[1;32m      4\u001b[0m \u001b[39mprint\u001b[39m(df)\n",
      "File \u001b[0;32m/cvmfs/hpc.rug.nl/versions/2023.01/rocky8/x86_64/amd/zen3/software/Python/3.10.8-GCCcore-12.2.0/lib/python3.10/re.py:190\u001b[0m, in \u001b[0;36mmatch\u001b[0;34m(pattern, string, flags)\u001b[0m\n\u001b[1;32m    187\u001b[0m \u001b[39mdef\u001b[39;00m \u001b[39mmatch\u001b[39m(pattern, string, flags\u001b[39m=\u001b[39m\u001b[39m0\u001b[39m):\n\u001b[1;32m    188\u001b[0m \u001b[39m    \u001b[39m\u001b[39m\"\"\"Try to apply the pattern at the start of the string, returning\u001b[39;00m\n\u001b[1;32m    189\u001b[0m \u001b[39m    a Match object, or None if no match was found.\"\"\"\u001b[39;00m\n\u001b[0;32m--> 190\u001b[0m     \u001b[39mreturn\u001b[39;00m _compile(pattern, flags)\u001b[39m.\u001b[39mmatch(string)\n",
      "\u001b[0;31mKeyboardInterrupt\u001b[0m: "
     ]
    }
   ],
   "source": [
    "# 5) Remove punctuation first in between words (typo), and then all punctuation and numerals except for tokenized emojis\n",
    "pattern = r\"[^\\w\\s\" + \"\".join(re.escape(e) for e in emojis + list(emoji.EMOJI_DATA.keys())) + \"]|[\\d]+\" # match non-emoji special characters\n",
    "df['Review'] = df['Review'].apply(lambda tokens: [token for token in tokens if not re.match(pattern, token)])\n",
    "print(df)"
   ]
  },
  {
   "cell_type": "code",
   "execution_count": null,
   "metadata": {},
   "outputs": [
    {
     "name": "stdout",
     "output_type": "stream",
     "text": [
      "                               Review  Sentiment\n",
      "0            [good, and, interesting]          3\n",
      "1       [this, class, is, very, he...          3\n",
      "2       [like, prof, and, tas, are...          3\n",
      "3       [easy, to, follow, and, in...          3\n",
      "4       [really, nice, teacher, co...          3\n",
      "...                               ...        ...\n",
      "107013  [trendy, topic, with, talk...          3\n",
      "107014  [wonderful, simple, and, c...          3\n",
      "107015  [an, interesting, and, fun...          3\n",
      "107016  [very, broad, perspective,...          3\n",
      "107017  [an, informative, course, ...          3\n",
      "\n",
      "[107018 rows x 2 columns]\n"
     ]
    }
   ],
   "source": [
    "# 6) Remove single characters\n",
    "df['Review'] = df['Review'].apply(lambda tokens: [word for word in tokens if len(word) > 1])\n",
    "print(df)"
   ]
  },
  {
   "cell_type": "code",
   "execution_count": null,
   "metadata": {},
   "outputs": [
    {
     "data": {
      "text/plain": [
       "'\\n# 7) Correct Spelling\\n# Note: also removes \\'...\\' that was not removed before\\ndef correct_spelling(tokens):\\n    corrected_tokens = []\\n    for token in tokens:\\n        if token in emojis or token in emoji.EMOJI_DATA.keys():\\n            corrected_tokens.append(token)  # If token is an emoji, add it to the corrected tokens\\n        else:\\n            corrected_token = spell_checker.correction(token)\\n            if corrected_token is not None:\\n                corrected_tokens.append(corrected_token)\\n                \\n    return corrected_tokens\\n\\nspell_checker = SpellChecker()\\n#df[\\'Review\\'] = df[\\'Review\\'].apply(lambda x: list(tqdm(correct_spelling(x), leave=False)))\\n# Apply correct_spelling function using tqdm\\nfor i, row in tqdm(df.iterrows(), total=len(df)):\\n    df.at[i, \\'Review\\'] = correct_spelling(row[\\'Review\\'])\\n    print(\"Processed row:\", i)\\n    \\nprint(df)\\n'"
      ]
     },
     "execution_count": 20,
     "metadata": {},
     "output_type": "execute_result"
    }
   ],
   "source": [
    "'''\n",
    "# 7) Correct Spelling\n",
    "# Note: also removes '...' that was not removed before\n",
    "def correct_spelling(tokens):\n",
    "    corrected_tokens = []\n",
    "    for token in tokens:\n",
    "        if token in emojis or token in emoji.EMOJI_DATA.keys():\n",
    "            corrected_tokens.append(token)  # If token is an emoji, add it to the corrected tokens\n",
    "        else:\n",
    "            corrected_token = spell_checker.correction(token)\n",
    "            if corrected_token is not None:\n",
    "                corrected_tokens.append(corrected_token)\n",
    "                \n",
    "    return corrected_tokens\n",
    "\n",
    "spell_checker = SpellChecker()\n",
    "#df['Review'] = df['Review'].apply(lambda x: list(tqdm(correct_spelling(x), leave=False)))\n",
    "# Apply correct_spelling function using tqdm\n",
    "for i, row in tqdm(df.iterrows(), total=len(df)):\n",
    "    df.at[i, 'Review'] = correct_spelling(row['Review'])\n",
    "    print(\"Processed row:\", i)\n",
    "    \n",
    "print(df)\n",
    "'''"
   ]
  },
  {
   "cell_type": "code",
   "execution_count": null,
   "metadata": {},
   "outputs": [
    {
     "data": {
      "text/plain": [
       "\"\\n# Correct Spelling\\n# Note: also removes '...' that was not removed before\\ndef correct_spelling(tokens):\\n    corrected_tokens = []\\n    for token in tokens:\\n        if token in emojis or token in emoji.EMOJI_DATA.keys():\\n            corrected_tokens.append(token)  # If token is an emoji, add it to the corrected tokens\\n        else:\\n            corrected_token = spell_checker.correction(token)\\n            if corrected_token is not None:\\n                corrected_tokens.append(corrected_token)\\n                \\n    return corrected_tokens \\n\\nspell_checker = SpellChecker()\\n\\n# Vectorizing the correct_spelling function \\nvectorized_correct_spelling = np.vectorize(correct_spelling)\\n\\n# Passing the dataframe column array into the vectorized function\\ndf['Review'] = vectorized_correct_spelling(df['Review'].values)\\n\\nprint(df)\\n\""
      ]
     },
     "execution_count": 21,
     "metadata": {},
     "output_type": "execute_result"
    }
   ],
   "source": [
    "'''\n",
    "# Correct Spelling\n",
    "# Note: also removes '...' that was not removed before\n",
    "def correct_spelling(tokens):\n",
    "    corrected_tokens = []\n",
    "    for token in tokens:\n",
    "        if token in emojis or token in emoji.EMOJI_DATA.keys():\n",
    "            corrected_tokens.append(token)  # If token is an emoji, add it to the corrected tokens\n",
    "        else:\n",
    "            corrected_token = spell_checker.correction(token)\n",
    "            if corrected_token is not None:\n",
    "                corrected_tokens.append(corrected_token)\n",
    "                \n",
    "    return corrected_tokens \n",
    "\n",
    "spell_checker = SpellChecker()\n",
    "\n",
    "# Vectorizing the correct_spelling function \n",
    "vectorized_correct_spelling = np.vectorize(correct_spelling)\n",
    "\n",
    "# Passing the dataframe column array into the vectorized function\n",
    "df['Review'] = vectorized_correct_spelling(df['Review'].values)\n",
    "\n",
    "print(df)\n",
    "'''\n"
   ]
  },
  {
   "cell_type": "code",
   "execution_count": null,
   "metadata": {},
   "outputs": [],
   "source": [
    "# TODO: note to self (to be added to word-doc): If you check token by token, it also removes english words"
   ]
  },
  {
   "cell_type": "code",
   "execution_count": null,
   "metadata": {},
   "outputs": [
    {
     "name": "stdout",
     "output_type": "stream",
     "text": [
      "                               Review  Sentiment\n",
      "0            [good, and, interesting]          3\n",
      "1       [this, class, is, very, he...          3\n",
      "2       [like, prof, and, tas, are...          3\n",
      "3       [easy, to, follow, and, in...          3\n",
      "4       [really, nice, teacher, co...          3\n",
      "...                               ...        ...\n",
      "107013  [trendy, topic, with, talk...          3\n",
      "107014  [wonderful, simple, and, c...          3\n",
      "107015  [an, interesting, and, fun...          3\n",
      "107016  [very, broad, perspective,...          3\n",
      "107017  [an, informative, course, ...          3\n",
      "\n",
      "[107018 rows x 2 columns]\n"
     ]
    }
   ],
   "source": [
    "# 8) Perform negation tagging\n",
    "df['Review'] = df['Review'].apply(mark_negation)\n",
    "print(df)"
   ]
  },
  {
   "cell_type": "code",
   "execution_count": null,
   "metadata": {},
   "outputs": [
    {
     "name": "stdout",
     "output_type": "stream",
     "text": [
      "                               Review  Sentiment\n",
      "0                 [good, interesting]          3\n",
      "1       [class, helpful, currently...          3\n",
      "2       [like, prof, tas, helpful,...          3\n",
      "3       [easy, follow, includes, l...          3\n",
      "4       [really, nice, teacher, co...          3\n",
      "...                               ...        ...\n",
      "107013  [trendy, topic, talks, exp...          3\n",
      "107014  [wonderful, simple, clear,...          3\n",
      "107015  [interesting, fun, course,...          3\n",
      "107016  [broad, perspective, date,...          3\n",
      "107017  [informative, course, soci...          3\n",
      "\n",
      "[107018 rows x 2 columns]\n"
     ]
    }
   ],
   "source": [
    "# 9) Remove stopwords --> also removes words like 'not'\n",
    "stop_words = set(stopwords.words('english'))\n",
    "df['Review'] = df['Review'].apply(lambda tokens: [token for token in tokens if token not in stop_words])\n",
    "df['Review'] = df['Review'].apply(lambda tokens: [token for token in tokens if token.split('_')[0] not in stop_words])\n",
    "print(df)"
   ]
  },
  {
   "cell_type": "code",
   "execution_count": null,
   "metadata": {},
   "outputs": [
    {
     "name": "stdout",
     "output_type": "stream",
     "text": [
      "                               Review  Sentiment\n",
      "0                 [good, interesting]          3\n",
      "1       [class, helpful, currently...          3\n",
      "2       [like, prof, ta, helpful, ...          3\n",
      "3       [easy, follow, includes, l...          3\n",
      "4       [really, nice, teacher, co...          3\n",
      "...                               ...        ...\n",
      "107013  [trendy, topic, talk, expe...          3\n",
      "107014  [wonderful, simple, clear,...          3\n",
      "107015  [interesting, fun, course,...          3\n",
      "107016  [broad, perspective, date,...          3\n",
      "107017  [informative, course, soci...          3\n",
      "\n",
      "[107018 rows x 2 columns]\n"
     ]
    }
   ],
   "source": [
    "# 10) Lemmatize words using WordNetLemmatizer (also lemmatizes words removing _NEG)\n",
    "def lemmatize_token(token):\n",
    "    lemmatizer = WordNetLemmatizer()\n",
    "    if \"_NEG\" in token:\n",
    "        word, tag = token.split(\"_NEG\")\n",
    "        return lemmatizer.lemmatize(word) + \"_NEG\"\n",
    "    else:\n",
    "        return lemmatizer.lemmatize(token)\n",
    "\n",
    "df['Review'] = df['Review'].apply(lambda tokens: [lemmatize_token(token) for token in tokens])\n",
    "print(df)"
   ]
  },
  {
   "cell_type": "code",
   "execution_count": null,
   "metadata": {},
   "outputs": [
    {
     "data": {
      "text/html": [
       "<div>\n",
       "<style scoped>\n",
       "    .dataframe tbody tr th:only-of-type {\n",
       "        vertical-align: middle;\n",
       "    }\n",
       "\n",
       "    .dataframe tbody tr th {\n",
       "        vertical-align: top;\n",
       "    }\n",
       "\n",
       "    .dataframe thead th {\n",
       "        text-align: right;\n",
       "    }\n",
       "</style>\n",
       "<table border=\"1\" class=\"dataframe\">\n",
       "  <thead>\n",
       "    <tr style=\"text-align: right;\">\n",
       "      <th></th>\n",
       "      <th>Review</th>\n",
       "      <th>Sentiment</th>\n",
       "    </tr>\n",
       "  </thead>\n",
       "  <tbody>\n",
       "    <tr>\n",
       "      <th>0</th>\n",
       "      <td>good interesting</td>\n",
       "      <td>3</td>\n",
       "    </tr>\n",
       "    <tr>\n",
       "      <th>1</th>\n",
       "      <td>class helpful currently st...</td>\n",
       "      <td>3</td>\n",
       "    </tr>\n",
       "    <tr>\n",
       "      <th>2</th>\n",
       "      <td>like prof ta helpful discu...</td>\n",
       "      <td>3</td>\n",
       "    </tr>\n",
       "    <tr>\n",
       "      <th>3</th>\n",
       "      <td>easy follow includes lot b...</td>\n",
       "      <td>3</td>\n",
       "    </tr>\n",
       "    <tr>\n",
       "      <th>4</th>\n",
       "      <td>really nice teacher could ...</td>\n",
       "      <td>3</td>\n",
       "    </tr>\n",
       "  </tbody>\n",
       "</table>\n",
       "</div>"
      ],
      "text/plain": [
       "                          Review  Sentiment\n",
       "0               good interesting          3\n",
       "1  class helpful currently st...          3\n",
       "2  like prof ta helpful discu...          3\n",
       "3  easy follow includes lot b...          3\n",
       "4  really nice teacher could ...          3"
      ]
     },
     "execution_count": 26,
     "metadata": {},
     "output_type": "execute_result"
    }
   ],
   "source": [
    "# Convert preprocessed tokens back to string\n",
    "df['Review'] = df['Review'].apply(' '.join)\n",
    "df.head()"
   ]
  },
  {
   "attachments": {},
   "cell_type": "markdown",
   "metadata": {},
   "source": [
    "## Data Cleaning after Text Cleaning"
   ]
  },
  {
   "cell_type": "code",
   "execution_count": null,
   "metadata": {},
   "outputs": [
    {
     "name": "stdout",
     "output_type": "stream",
     "text": [
      "Shape before: (107018, 2)\n",
      "Shape after preprocessing, before removing empty rows: (107018, 2)\n",
      "Shape after preprocessing, after removing empty rows: (106988, 2)\n",
      "\n"
     ]
    }
   ],
   "source": [
    "print(f'Shape before: {df_raw.shape}')\n",
    "print(f'Shape after preprocessing, before removing empty rows: {df.shape}')\n",
    "\n",
    "# Remove NaN rows, after cleaning text\n",
    "df = drop_missing(df) \n",
    "print(f'Shape after preprocessing, after removing empty rows: {df.shape}\\n')"
   ]
  },
  {
   "cell_type": "code",
   "execution_count": null,
   "metadata": {},
   "outputs": [],
   "source": [
    "data_file_path = os.path.join(input_folder_path, cleaned_data_filename)\n",
    "df.to_csv(data_file_path, sep=',', index_label='Id')"
   ]
  },
  {
   "attachments": {},
   "cell_type": "markdown",
   "metadata": {},
   "source": [
    "# EDA Functions"
   ]
  },
  {
   "cell_type": "code",
   "execution_count": null,
   "metadata": {},
   "outputs": [],
   "source": [
    "def make_wordcloud(word_counts):\n",
    "    wordcloud = WordCloud().generate_from_frequencies(word_counts)\n",
    "\n",
    "    # Display the generated image:\n",
    "    plt.imshow(wordcloud, interpolation='bilinear')\n",
    "    plt.axis(\"off\")\n",
    "    plt.show()"
   ]
  },
  {
   "cell_type": "code",
   "execution_count": null,
   "metadata": {},
   "outputs": [],
   "source": [
    "def plot_word_freq_most_common(dataset, num_most_common=60):\n",
    "    all_words = [word for review in dataset for word in review.split()]\n",
    "\n",
    "    fdist = FreqDist(all_words)\n",
    "    plt.figure(figsize=(12, 6))\n",
    "    fdist.plot(num_most_common, title=f'Frequency Distribution of Most Common {num_most_common} Tokens')\n",
    "    plt.show()"
   ]
  },
  {
   "cell_type": "code",
   "execution_count": null,
   "metadata": {},
   "outputs": [],
   "source": [
    "def plot_word_freq_cdf(word_counts, max_count):\n",
    "    counts = np.array(list(word_counts.values()))\n",
    "    counts_sorted = np.sort(counts)[::-1] # descending\n",
    "\n",
    "    # Calculate the cumulative sum of the sorted frequencies & normalize\n",
    "    cumu_counts = np.cumsum(counts_sorted)\n",
    "    cdf = cumu_counts / cumu_counts[-1]\n",
    "\n",
    "    # Plot the CDF\n",
    "    plt.figure(figsize=(12, 6))\n",
    "    #plt.plot(counts_sorted, cdf)\n",
    "    plt.plot(np.arange(1, len(cdf)+1), cdf)\n",
    "    plt.xlabel('Word Rank')\n",
    "    plt.ylabel('Cumulative Frequency')\n",
    "    plt.title('CDF of Word Frequencies')\n",
    "    #x_ticks = np.arange(0, max_count, 5000)\n",
    "    #plt.xticks(x_ticks)\n",
    "    plt.grid(True)\n",
    "    plt.show()\n",
    "\n",
    "    return counts_sorted"
   ]
  },
  {
   "cell_type": "code",
   "execution_count": null,
   "metadata": {},
   "outputs": [],
   "source": [
    "def plot_word_freq_hist(word_counts):\n",
    "    # Set up a figure with two subplots side by side\n",
    "    fig, (ax1, ax2) = plt.subplots(1, 2, figsize=(15, 5))\n",
    "\n",
    "    # Plot word frequency distribution with linear scale\n",
    "    ax1.hist(word_counts.values(), bins=range(1, 50), alpha=0.5)\n",
    "    ax1.set_title('Word Frequency Distribution (Linear Scale)')\n",
    "    ax1.set_xlabel('Word Frequency')\n",
    "    ax1.set_ylabel('Number of Words')\n",
    "\n",
    "    # Plot word frequency distribution with logarithmic scale\n",
    "    ax2.hist(word_counts.values(), bins=range(1, 500, 10), alpha=0.5)\n",
    "    ax2.set_yscale('log')\n",
    "    ax2.set_title('Word Frequency Distribution (Logarithmic Scale)')\n",
    "    ax2.set_xlabel('Word Frequency')\n",
    "    ax2.set_ylabel('Number of Words')"
   ]
  },
  {
   "cell_type": "code",
   "execution_count": null,
   "metadata": {},
   "outputs": [],
   "source": [
    "def calculate_word_statistics(word_counts):\n",
    "    freqs = np.array(list(word_counts.values()))\n",
    "\n",
    "    print(\"Mean frequency: \", np.mean(freqs))\n",
    "    print(\"Median frequency: \", np.median(freqs))\n",
    "    print(\"Max frequency: \", max(freqs))\n",
    "    print(\"Min frequency: \", min(freqs))\n",
    "    print(\"Standard deviation: \", np.std(freqs))\n",
    "    print(\"1st quartile: \", np.percentile(freqs, 25))\n",
    "    print(\"3rd quartile: \", np.percentile(freqs, 75))"
   ]
  },
  {
   "attachments": {},
   "cell_type": "markdown",
   "metadata": {},
   "source": [
    "# Preprocess Data"
   ]
  },
  {
   "attachments": {},
   "cell_type": "markdown",
   "metadata": {},
   "source": [
    "First we load cleaned data."
   ]
  },
  {
   "cell_type": "code",
   "execution_count": null,
   "metadata": {},
   "outputs": [],
   "source": [
    "data_file_path = os.path.join(input_folder_path, cleaned_data_filename)\n",
    "df = pd.read_csv(data_file_path)"
   ]
  },
  {
   "attachments": {},
   "cell_type": "markdown",
   "metadata": {},
   "source": [
    "### Split train and test"
   ]
  },
  {
   "cell_type": "code",
   "execution_count": null,
   "metadata": {},
   "outputs": [
    {
     "name": "stdout",
     "output_type": "stream",
     "text": [
      "Data Distribution:\n",
      "* train: 68472\n",
      "* validation: 17118\n",
      "* test: 21398\n",
      "\n",
      "x_train: 73868    friendly beginner without ...\n",
      "78926                good intro course\n",
      "97646    great experience developed...\n",
      "64107         clear enlightening thank\n",
      "61156    detailed informing learned...\n",
      "Name: Review, dtype: object\n"
     ]
    }
   ],
   "source": [
    "# Split dataset into training and test sets\n",
    "x_train, x_test, y_train, y_test = train_test_split(df['Review'], df['Sentiment'], test_size=0.2, random_state=42)\n",
    "# Split the training dataset further into training and validation sets\n",
    "x_train, x_val, y_train, y_val = train_test_split(x_train, y_train, test_size=0.2, random_state=42)\n",
    "\n",
    "print(\"Data Distribution:\\n* train: {}\\n* validation: {}\\n* test: {}\\n\".format(len(x_train), len(x_val), len(x_test)))\n",
    "print(f\"x_train: {x_train.head()}\")"
   ]
  },
  {
   "attachments": {},
   "cell_type": "markdown",
   "metadata": {},
   "source": [
    "### Create & Analyse Vocabulary"
   ]
  },
  {
   "cell_type": "code",
   "execution_count": null,
   "metadata": {},
   "outputs": [
    {
     "name": "stdout",
     "output_type": "stream",
     "text": [
      "50 Most common words: [('course', 50280), ('great', 15535), ('good', 12398), ('really', 7794), ('course_NEG', 7440), ('well', 6376), ('lot', 6260), ('learning', 6205), ('excellent', 5888), ('interesting', 5216), ('thank', 4776), ('learn', 4567), ('useful', 4075), ('would', 4041), ('much', 3952), ('easy', 3869), ('material', 3790), ('way', 3641), ('assignment', 3610), ('thanks', 3577), ('one', 3556), ('understand', 3419), ('like', 3411), ('basic', 3406), ('lecture', 3240), ('video', 3181), ('content', 3177), ('class', 3113), ('professor', 3081), ('best', 3009), ('concept', 3008), ('introduction', 2992), ('learned', 2972), ('time', 2866), ('teacher', 2865), ('helpful', 2790), ('recommend', 2750), ('information', 2661), ('knowledge', 2464), ('programming', 2460), ('nice', 2455), ('enjoyed', 2396), ('work', 2367), ('clear', 2364), ('also', 2278), ('help', 2231), ('instructor', 2222), ('get', 2218), ('make', 2209), ('topic', 2169)]\n",
      "Unfiltered vocab size: 32182\n"
     ]
    }
   ],
   "source": [
    "# Count words to create vocabulary\n",
    "word_freqs = Counter()\n",
    "for review in x_train:\n",
    "    word_freqs.update(review.split())\n",
    "\n",
    "word_freqs_len = len(word_freqs)\n",
    "\n",
    "print(f\"50 Most common words: {word_freqs.most_common(50)}\")\n",
    "print(f\"Unfiltered vocab size: {word_freqs_len}\")"
   ]
  },
  {
   "cell_type": "code",
   "execution_count": null,
   "metadata": {},
   "outputs": [
    {
     "name": "stdout",
     "output_type": "stream",
     "text": [
      "Mean frequency:  28.385339630849543\n",
      "Median frequency:  2.0\n",
      "Max frequency:  50280\n",
      "Min frequency:  1\n",
      "Standard deviation:  349.9173675906158\n",
      "1st quartile:  1.0\n",
      "3rd quartile:  6.0\n"
     ]
    }
   ],
   "source": [
    "calculate_word_statistics(word_freqs)"
   ]
  },
  {
   "cell_type": "code",
   "execution_count": null,
   "metadata": {},
   "outputs": [
    {
     "data": {
      "image/png": "[encoded data removed]",
      "text/plain": [
       "<Figure size 1200x600 with 1 Axes>"
      ]
     },
     "metadata": {},
     "output_type": "display_data"
    },
    {
     "data": {
      "image/png": "[encoded data removed]",
      "text/plain": [
       "<Figure size 1200x600 with 1 Axes>"
      ]
     },
     "metadata": {},
     "output_type": "display_data"
    },
    {
     "data": {
      "image/png": "[encoded data removed]",
      "text/plain": [
       "<Figure size 1500x500 with 2 Axes>"
      ]
     },
     "metadata": {},
     "output_type": "display_data"
    }
   ],
   "source": [
    "#make_wordcloud(word_freqs)\n",
    "plot_word_freq_most_common(x_train, 60) # Zipf's law plot, large number of words have very low frequencies\n",
    "counts_sorted = plot_word_freq_cdf(word_freqs, max(word_freqs.values()))\n",
    "plot_word_freq_hist(word_freqs)"
   ]
  },
  {
   "attachments": {},
   "cell_type": "markdown",
   "metadata": {},
   "source": [
    "Around 90% of the words in the vocabulary occur 700 times or less."
   ]
  },
  {
   "cell_type": "code",
   "execution_count": null,
   "metadata": {},
   "outputs": [
    {
     "name": "stdout",
     "output_type": "stream",
     "text": [
      "Min Freq: 3\n",
      "Max Freq: 1320\n",
      "\n"
     ]
    }
   ],
   "source": [
    "# PROCESSING-CONSTANTS\n",
    "min_rank_cutoff = 100\n",
    "max_rank_cutoff = 12500\n",
    "\n",
    "# Convert the cutoff values in terms of rank to the actual frequency values\n",
    "MIN_FREQ = counts_sorted[max_rank_cutoff - 1]  # -1 since 0-based indexing\n",
    "MAX_FREQ = counts_sorted[min_rank_cutoff - 1]  \n",
    "print(f\"Min Freq: {MIN_FREQ}\\nMax Freq: {MAX_FREQ}\\n\")"
   ]
  },
  {
   "cell_type": "code",
   "execution_count": null,
   "metadata": {},
   "outputs": [
    {
     "name": "stdout",
     "output_type": "stream",
     "text": [
      "Vocabulary size of 32182 reduced to 12656.\n",
      "\n",
      "Vocabulary (first 50 tokens):\n",
      "['friendly', 'without', 'background', 'intro', 'developed', 'efficiently', 'provide', 'valuable', 'tool', 'insight', 'education', 'important', 'phenomenon', 'global', 'community', 'enlightening', 'detailed', 'informing', 'whole', 'contains', 'taught', 'know_NEG', 'programming_NEG', 'knew_NEG', 'vast_NEG', 'majority_NEG', 'material_NEG', 'looking_NEG', 'forward_NEG', 'learn_NEG', 'something_NEG', 'substantially_NEG', 'new_NEG', 'opportunity', 'every', 'math', 'jump', 'wonder', 'self', 'watching', 'lesson', 'platform', 'solving', 'using', 'matlab', 'prepared', 'organizer', 'exploring', 'hope', 'enjoy']\n",
      "Stored 'vocab' (list)\n",
      "Stored 'vocab_size' (int)\n"
     ]
    }
   ],
   "source": [
    "# Filter vocabulary by removing words with frequency less than a set minimum frequency\n",
    "vocab = [token for token, freq in word_freqs.items() if MIN_FREQ <= freq <= MAX_FREQ]\n",
    "vocab_size = len(vocab)\n",
    "print(\"Vocabulary size of {} reduced to {}.\\n\".format(word_freqs_len, vocab_size))\n",
    "print(\"Vocabulary (first 50 tokens):\\n{}\".format(vocab[:50]))\n",
    "%store vocab\n",
    "%store vocab_size"
   ]
  },
  {
   "cell_type": "code",
   "execution_count": null,
   "metadata": {},
   "outputs": [
    {
     "name": "stdout",
     "output_type": "stream",
     "text": [
      "Mean frequency:  44.30728508217446\n",
      "Median frequency:  9.0\n",
      "Max frequency:  1320\n",
      "Min frequency:  3\n",
      "Standard deviation:  119.73993956256689\n",
      "1st quartile:  4.0\n",
      "3rd quartile:  28.0\n"
     ]
    }
   ],
   "source": [
    "filtered_word_freq = {word: word_freqs[word] for word in vocab}\n",
    "calculate_word_statistics(filtered_word_freq)"
   ]
  },
  {
   "cell_type": "code",
   "execution_count": null,
   "metadata": {},
   "outputs": [],
   "source": [
    "# Create the folder if it doesn't exist\n",
    "if not os.path.exists(processed_folder_path):\n",
    "    os.makedirs(processed_folder_path)\n",
    "\n",
    "file_path = os.path.join(processed_folder_path, vocab_filename)\n",
    "with open(file_path, 'w') as file:\n",
    "    file.write('\\n'.join(vocab))"
   ]
  },
  {
   "attachments": {},
   "cell_type": "markdown",
   "metadata": {},
   "source": [
    "### Filter data with vocabulary"
   ]
  },
  {
   "cell_type": "code",
   "execution_count": null,
   "metadata": {},
   "outputs": [
    {
     "ename": "ValueError",
     "evalue": "Length of values (1) does not match length of index (20000)",
     "output_type": "error",
     "traceback": [
      "\u001b[0;31m---------------------------------------------------------------------------\u001b[0m",
      "\u001b[0;31mValueError\u001b[0m                                Traceback (most recent call last)",
      "Cell \u001b[0;32mIn[75], line 12\u001b[0m\n\u001b[1;32m      9\u001b[0m     \u001b[39mreturn\u001b[39;00m filtered_dataset\n\u001b[1;32m     11\u001b[0m \u001b[39m# Filter dataset based on vocabulary\u001b[39;00m\n\u001b[0;32m---> 12\u001b[0m x_train \u001b[39m=\u001b[39m freq_filter_dataset(x_train, \u001b[39m\"\u001b[39;49m\u001b[39mx_train\u001b[39;49m\u001b[39m\"\u001b[39;49m, vocab)\n\u001b[1;32m     13\u001b[0m x_val \u001b[39m=\u001b[39m freq_filter_dataset(x_val, \u001b[39m\"\u001b[39m\u001b[39mx_val\u001b[39m\u001b[39m\"\u001b[39m, vocab)\n\u001b[1;32m     14\u001b[0m x_test \u001b[39m=\u001b[39m freq_filter_dataset(x_test, \u001b[39m\"\u001b[39m\u001b[39mx_test\u001b[39m\u001b[39m\"\u001b[39m, vocab)\n",
      "Cell \u001b[0;32mIn[75], line 7\u001b[0m, in \u001b[0;36mfreq_filter_dataset\u001b[0;34m(docs, filename, vocab)\u001b[0m\n\u001b[1;32m      4\u001b[0m     filtered_text \u001b[39m=\u001b[39m \u001b[39m'\u001b[39m\u001b[39m \u001b[39m\u001b[39m'\u001b[39m\u001b[39m.\u001b[39mjoin([word \u001b[39mfor\u001b[39;00m word \u001b[39min\u001b[39;00m doc\u001b[39m.\u001b[39msplit() \u001b[39mif\u001b[39;00m word \u001b[39min\u001b[39;00m vocab])\n\u001b[1;32m      5\u001b[0m     filtered_dataset\u001b[39m.\u001b[39mappend(filtered_text)\n\u001b[0;32m----> 7\u001b[0m filtered_dataset \u001b[39m=\u001b[39m pd\u001b[39m.\u001b[39;49mSeries(filtered_dataset, index\u001b[39m=\u001b[39;49mdocs\u001b[39m.\u001b[39;49mindex)\n\u001b[1;32m      9\u001b[0m \u001b[39mreturn\u001b[39;00m filtered_dataset\n",
      "File \u001b[0;32m/cvmfs/hpc.rug.nl/versions/2023.01/rocky8/x86_64/intel/icelake/software/SciPy-bundle/2022.05-foss-2022a/lib/python3.10/site-packages/pandas/core/series.py:442\u001b[0m, in \u001b[0;36mSeries.__init__\u001b[0;34m(self, data, index, dtype, name, copy, fastpath)\u001b[0m\n\u001b[1;32m    440\u001b[0m     index \u001b[39m=\u001b[39m default_index(\u001b[39mlen\u001b[39m(data))\n\u001b[1;32m    441\u001b[0m \u001b[39melif\u001b[39;00m is_list_like(data):\n\u001b[0;32m--> 442\u001b[0m     com\u001b[39m.\u001b[39;49mrequire_length_match(data, index)\n\u001b[1;32m    444\u001b[0m \u001b[39m# create/copy the manager\u001b[39;00m\n\u001b[1;32m    445\u001b[0m \u001b[39mif\u001b[39;00m \u001b[39misinstance\u001b[39m(data, (SingleBlockManager, SingleArrayManager)):\n",
      "File \u001b[0;32m/cvmfs/hpc.rug.nl/versions/2023.01/rocky8/x86_64/intel/icelake/software/SciPy-bundle/2022.05-foss-2022a/lib/python3.10/site-packages/pandas/core/common.py:557\u001b[0m, in \u001b[0;36mrequire_length_match\u001b[0;34m(data, index)\u001b[0m\n\u001b[1;32m    553\u001b[0m \u001b[39m\u001b[39m\u001b[39m\"\"\"\u001b[39;00m\n\u001b[1;32m    554\u001b[0m \u001b[39mCheck the length of data matches the length of the index.\u001b[39;00m\n\u001b[1;32m    555\u001b[0m \u001b[39m\"\"\"\u001b[39;00m\n\u001b[1;32m    556\u001b[0m \u001b[39mif\u001b[39;00m \u001b[39mlen\u001b[39m(data) \u001b[39m!=\u001b[39m \u001b[39mlen\u001b[39m(index):\n\u001b[0;32m--> 557\u001b[0m     \u001b[39mraise\u001b[39;00m \u001b[39mValueError\u001b[39;00m(\n\u001b[1;32m    558\u001b[0m         \u001b[39m\"\u001b[39m\u001b[39mLength of values \u001b[39m\u001b[39m\"\u001b[39m\n\u001b[1;32m    559\u001b[0m         \u001b[39mf\u001b[39m\u001b[39m\"\u001b[39m\u001b[39m(\u001b[39m\u001b[39m{\u001b[39;00m\u001b[39mlen\u001b[39m(data)\u001b[39m}\u001b[39;00m\u001b[39m) \u001b[39m\u001b[39m\"\u001b[39m\n\u001b[1;32m    560\u001b[0m         \u001b[39m\"\u001b[39m\u001b[39mdoes not match length of index \u001b[39m\u001b[39m\"\u001b[39m\n\u001b[1;32m    561\u001b[0m         \u001b[39mf\u001b[39m\u001b[39m\"\u001b[39m\u001b[39m(\u001b[39m\u001b[39m{\u001b[39;00m\u001b[39mlen\u001b[39m(index)\u001b[39m}\u001b[39;00m\u001b[39m)\u001b[39m\u001b[39m\"\u001b[39m\n\u001b[1;32m    562\u001b[0m     )\n",
      "\u001b[0;31mValueError\u001b[0m: Length of values (1) does not match length of index (20000)"
     ]
    }
   ],
   "source": [
    "def freq_filter_dataset(docs, filename, vocab):\n",
    "    filtered_dataset = []\n",
    "    for doc in docs:\n",
    "        filtered_text = ' '.join([word for word in doc.split() if word in vocab])\n",
    "        filtered_dataset.append(filtered_text)\n",
    "\n",
    "    filtered_dataset = pd.Series(filtered_dataset, index=docs.index)\n",
    "    \n",
    "    return filtered_dataset\n",
    "\n",
    "# Filter dataset based on vocabulary\n",
    "x_train = freq_filter_dataset(x_train, \"x_train\", vocab)\n",
    "x_val = freq_filter_dataset(x_val, \"x_val\", vocab)\n",
    "x_test = freq_filter_dataset(x_test, \"x_test\", vocab)"
   ]
  },
  {
   "cell_type": "code",
   "execution_count": null,
   "metadata": {},
   "outputs": [
    {
     "name": "stdout",
     "output_type": "stream",
     "text": [
      "Data Distribution:\n",
      "* train: 68472\n",
      "* validation: 17118\n",
      "* test: 21398\n",
      "\n"
     ]
    }
   ],
   "source": [
    "print(\"Data Distribution:\\n* train: {}\\n* validation: {}\\n* test: {}\\n\".format(len(x_train), len(x_val), len(x_test)))"
   ]
  },
  {
   "cell_type": "code",
   "execution_count": null,
   "metadata": {},
   "outputs": [
    {
     "name": "stdout",
     "output_type": "stream",
     "text": [
      "x_train - updated:\n",
      " 73868                       programming\n",
      "78926                                  \n",
      "97646                                  \n",
      "64107                             clear\n",
      "61156               learned information\n",
      "74081                                  \n",
      "56731     knowledge programming enjo...\n",
      "20168                                  \n",
      "25796                                  \n",
      "103631                                 \n",
      "dtype: object\n"
     ]
    }
   ],
   "source": [
    "print(\"x_train - updated:\\n\", x_train.head(10))"
   ]
  },
  {
   "cell_type": "code",
   "execution_count": null,
   "metadata": {},
   "outputs": [],
   "source": [
    "def drop_empty_rows(x, y):\n",
    "    # Merge x and y datasets and drop empty rows\n",
    "    merged = pd.concat([x, y], axis=1)\n",
    "    merged.columns = ['x', 'y']\n",
    "    \n",
    "    merged.replace('', np.nan, inplace=True)\n",
    "    merged.dropna(subset=['x'], inplace=True) # TODO: subset?\n",
    "\n",
    "    # Re-assign X and Y datasets\n",
    "    x_filtered = merged['x']\n",
    "    y_filtered = merged['y']\n",
    "\n",
    "    return x_filtered, y_filtered\n",
    "\n",
    "x_train, y_train = drop_empty_rows(x_train, y_train)\n",
    "x_val, y_val = drop_empty_rows(x_val, y_val)\n",
    "x_test, y_test = drop_empty_rows(x_test, y_test)"
   ]
  },
  {
   "cell_type": "code",
   "execution_count": null,
   "metadata": {},
   "outputs": [
    {
     "name": "stdout",
     "output_type": "stream",
     "text": [
      "Data Distribution:\n",
      "* train: 33237\n",
      "* validation: 8371\n",
      "* test: 10403\n",
      "\n"
     ]
    }
   ],
   "source": [
    "print(\"Data Distribution:\\n* train: {}\\n* validation: {}\\n* test: {}\\n\".format(len(x_train), len(x_val), len(x_test)))"
   ]
  },
  {
   "cell_type": "code",
   "execution_count": null,
   "metadata": {},
   "outputs": [
    {
     "name": "stdout",
     "output_type": "stream",
     "text": [
      "3 (Positive): 30874 reviews\n",
      "2 (Neutral): 1356 reviews\n",
      "1 (Negative): 1007 reviews\n"
     ]
    }
   ],
   "source": [
    "senti_counts = y_train.value_counts()\n",
    "print_senti_counts(senti_counts)"
   ]
  },
  {
   "attachments": {},
   "cell_type": "markdown",
   "metadata": {},
   "source": [
    "# Balance Data"
   ]
  },
  {
   "attachments": {},
   "cell_type": "markdown",
   "metadata": {},
   "source": [
    "We remove positive reviews that have 3 words or less..."
   ]
  },
  {
   "cell_type": "code",
   "execution_count": null,
   "metadata": {},
   "outputs": [],
   "source": [
    "condition = ~((df['Sentiment'] == 3) & (df['Review'].apply(count_words) < 3))\n",
    "df = df[condition]"
   ]
  },
  {
   "cell_type": "code",
   "execution_count": null,
   "metadata": {},
   "outputs": [
    {
     "name": "stdout",
     "output_type": "stream",
     "text": [
      "Dataset length reduced from 107018 to 95814.\n"
     ]
    }
   ],
   "source": [
    "print(f\"Dataset length reduced from {df_raw.shape[0]} to {df.shape[0]}.\")"
   ]
  },
  {
   "cell_type": "code",
   "execution_count": null,
   "metadata": {},
   "outputs": [
    {
     "name": "stdout",
     "output_type": "stream",
     "text": [
      "Counter({3: 10000, 1: 5000, 2: 5000})\n"
     ]
    }
   ],
   "source": [
    "# The \"strategy\" parameter can take a dict, callable, or str as input\n",
    "# You might need to adjust these parameters according to the distribution of your classes\n",
    "over_strategy = {1: 5000, 2: 5000} # Over-sample minority classes 10000\n",
    "under_strategy = {3: 10000} # Under-sample majority classes 40000\n",
    "\n",
    "# Define pipeline\n",
    "over = RandomOverSampler(sampling_strategy=over_strategy)\n",
    "under = RandomUnderSampler(sampling_strategy=under_strategy)\n",
    "pipeline = Pipeline(steps=[('o', over), ('u', under)])\n",
    "\n",
    "# Applying the balancing pipeline to both x and y datasets\n",
    "x_balanced, y_balanced = pipeline.fit_resample(pd.DataFrame(x_train), y_train)\n",
    "\n",
    "# Print out the new class distribution\n",
    "counter = Counter(y_balanced)\n",
    "print(counter)\n",
    "\n",
    "x_train = x_balanced.copy()\n",
    "y_train = y_balanced.copy()\n"
   ]
  },
  {
   "cell_type": "code",
   "execution_count": null,
   "metadata": {},
   "outputs": [
    {
     "name": "stdout",
     "output_type": "stream",
     "text": [
      "(60000, 1) (60000,)\n",
      "                               x\n",
      "0  topic interest however con...\n",
      "1          really_NEG course_NEG\n",
      "2  information going fast fee...\n",
      "3  fast pace make_NEG online_...\n",
      "4  would recommend_NEG one_NE...\n"
     ]
    }
   ],
   "source": [
    "print(x_train.shape, y_train.shape)\n",
    "print(x_train[:5])"
   ]
  },
  {
   "cell_type": "code",
   "execution_count": null,
   "metadata": {},
   "outputs": [
    {
     "data": {
      "image/png": "[encoded data removed]",
      "text/plain": [
       "<Figure size 640x480 with 1 Axes>"
      ]
     },
     "metadata": {},
     "output_type": "display_data"
    },
    {
     "name": "stdout",
     "output_type": "stream",
     "text": [
      "Total word count:  150\n",
      "Average review length: 150.00\n"
     ]
    }
   ],
   "source": [
    "# Print balanced shape of training data\n",
    "senti_counts = y_train.value_counts()\n",
    "plot_senti_counts(senti_counts)\n",
    "\n",
    "total_word_count = x_train.apply(count_words).sum()\n",
    "avg_review_len = x_train.apply(count_words).mean()\n",
    "\n",
    "print(\"Total word count: \", total_word_count)\n",
    "print(f\"Average review length: {avg_review_len:.2f}\")"
   ]
  },
  {
   "cell_type": "code",
   "execution_count": null,
   "metadata": {},
   "outputs": [],
   "source": [
    "def save_data(x, y, filename):\n",
    "    # Save filtered dataset to a csv file\n",
    "\n",
    "    # Merge X and Y datasets\n",
    "    merged_df = pd.concat([x, y], axis=1)\n",
    "    merged_df.columns = ['x', 'y']\n",
    "    file_path = os.path.join(input_folder_path, filename)\n",
    "    merged_df.to_csv(file_path, sep=',', index_label='Id')\n",
    "\n",
    "save_data(x_train, y_train, \"train.csv\")\n",
    "save_data(x_val, y_val, \"val.csv\")\n",
    "save_data(x_test, y_test, \"test.csv\")"
   ]
  },
  {
   "attachments": {},
   "cell_type": "markdown",
   "metadata": {},
   "source": [
    "## EDA on Training Data"
   ]
  },
  {
   "cell_type": "code",
   "execution_count": null,
   "metadata": {},
   "outputs": [
    {
     "name": "stdout",
     "output_type": "stream",
     "text": [
      "<class 'pandas.core.frame.DataFrame'> <class 'pandas.core.series.Series'>\n",
      "Number of one-word lines:  4785\n",
      "       Word Count  Sentiment\n",
      "0              15          1\n",
      "1               2          1\n",
      "2              13          1\n",
      "3              16          1\n",
      "4              28          1\n",
      "...           ...        ...\n",
      "59995           5          3\n",
      "59996          15          3\n",
      "59997           4          3\n",
      "59998           5          3\n",
      "59999           1          3\n",
      "\n",
      "[60000 rows x 2 columns]\n"
     ]
    },
    {
     "data": {
      "image/png": "[encoded data removed]",
      "text/plain": [
       "<Figure size 1200x600 with 1 Axes>"
      ]
     },
     "metadata": {},
     "output_type": "display_data"
    }
   ],
   "source": [
    "def plot_freq_class(x, y):\n",
    "    num_words = x['x'].apply(count_words)\n",
    "    #print(num_words)\n",
    "    one_word_lines = num_words[num_words == 1]\n",
    "\n",
    "    # print the count of one-word lines\n",
    "    print(\"Number of one-word lines: \", len(one_word_lines))\n",
    "\n",
    "    merged_df = pd.DataFrame({'Word Count': num_words, 'Sentiment': y})\n",
    "    print(merged_df)\n",
    "    plt.figure(figsize=(12,6))\n",
    "    sns.boxplot(data=merged_df, x='Sentiment', y='Word Count', order=senti_categories)\n",
    "    plt.xlabel('Class', fontsize=12)\n",
    "    plt.ylabel('Text - Number of words', fontsize=12)\n",
    "    plt.show()\n",
    "\n",
    "print(type(x_train), type(y_train))\n",
    "plot_freq_class(x_train, y_train)"
   ]
  }
 ],
 "metadata": {
  "kernelspec": {
   "display_name": "Python 3 (ipykernel)",
   "language": "python",
   "name": "python3"
  },
  "language_info": {
   "codemirror_mode": {
    "name": "ipython",
    "version": 3
   },
   "file_extension": ".py",
   "mimetype": "text/x-python",
   "name": "python",
   "nbconvert_exporter": "python",
   "pygments_lexer": "ipython3",
   "version": "3.10.8"
  },
  "orig_nbformat": 4
 },
 "nbformat": 4,
 "nbformat_minor": 2
}
